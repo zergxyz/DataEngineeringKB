{
 "cells": [
  {
   "cell_type": "markdown",
   "metadata": {
    "id": "X3HGAvjTFhu5"
   },
   "source": [
    "![JohnSnowLabs](https://sparknlp.org/assets/images/logo.png)"
   ]
  },
  {
   "cell_type": "markdown",
   "metadata": {
    "id": "-68NMdHxJIco"
   },
   "source": [
    "# Spark Setup"
   ]
  },
  {
   "cell_type": "code",
   "execution_count": 5,
   "metadata": {
    "execution": {
     "iopub.execute_input": "2025-06-17T00:12:01.348526Z",
     "iopub.status.busy": "2025-06-17T00:12:01.347805Z",
     "iopub.status.idle": "2025-06-17T00:12:01.362083Z",
     "shell.execute_reply": "2025-06-17T00:12:01.361597Z",
     "shell.execute_reply.started": "2025-06-17T00:12:01.348503Z"
    },
    "id": "h9Mn1PNTNJTq",
    "tags": []
   },
   "outputs": [],
   "source": [
    "import json\n",
    "import os\n",
    "import random\n",
    "\n",
    "license_key = \"cabir/keys/6.0.2.spark_nlp_for_healthcare.json\"\n",
    "with open('/home/jovyan/work/shared/' + license_key) as f:\n",
    "    license_keys = json.load(f)\n",
    "\n",
    "# Defining license key-value pairs as local variables\n",
    "locals().update(license_keys)\n",
    "os.environ.update(license_keys)"
   ]
  },
  {
   "cell_type": "code",
   "execution_count": 2,
   "metadata": {
    "id": "yvHraBK7b-LU"
   },
   "outputs": [],
   "source": [
    "# Installing pyspark and spark-nlp\n",
    "%pip install --upgrade -q pyspark==3.5.0  spark-nlp==$PUBLIC_VERSION\n",
    "\n",
    "# Installing Spark NLP Healthcare\n",
    "%pip install --upgrade -q spark-nlp-jsl==$JSL_VERSION  --extra-index-url https://pypi.johnsnowlabs.com/$SECRET\n",
    "\n",
    "# Installing Spark NLP Display Library for visualization\n",
    "%pip install -q spark-nlp-display"
   ]
  },
  {
   "cell_type": "code",
   "execution_count": 7,
   "metadata": {
    "colab": {
     "base_uri": "https://localhost:8080/",
     "height": 256
    },
    "execution": {
     "iopub.execute_input": "2025-06-17T00:12:46.467060Z",
     "iopub.status.busy": "2025-06-17T00:12:46.466496Z",
     "iopub.status.idle": "2025-06-17T00:12:46.501349Z",
     "shell.execute_reply": "2025-06-17T00:12:46.500714Z",
     "shell.execute_reply.started": "2025-06-17T00:12:46.467031Z"
    },
    "id": "1t5Kp93GcH7z",
    "outputId": "51229d1f-e56c-4fbc-f750-eccd835fec28",
    "tags": []
   },
   "outputs": [
    {
     "name": "stdout",
     "output_type": "stream",
     "text": [
      "Warning::Spark Session already created, some configs may not take.\n",
      "Spark NLP Version : 6.0.2\n",
      "Spark NLP_JSL Version : 6.0.2\n"
     ]
    },
    {
     "data": {
      "text/html": [
       "\n",
       "            <div>\n",
       "                <p><b>SparkSession - in-memory</b></p>\n",
       "                \n",
       "        <div>\n",
       "            <p><b>SparkContext</b></p>\n",
       "\n",
       "            <p><a href=\"http://jupyter-cabir-40johnsnowlabs-2ecom.jupyter-notebooks.notebookhub.svc.cluster.local:4042\">Spark UI</a></p>\n",
       "\n",
       "            <dl>\n",
       "              <dt>Version</dt>\n",
       "                <dd><code>v3.5.0</code></dd>\n",
       "              <dt>Master</dt>\n",
       "                <dd><code>local[*]</code></dd>\n",
       "              <dt>AppName</dt>\n",
       "                <dd><code>Spark NLP Licensed</code></dd>\n",
       "            </dl>\n",
       "        </div>\n",
       "        \n",
       "            </div>\n",
       "        "
      ],
      "text/plain": [
       "<pyspark.sql.session.SparkSession at 0x7f5c52c29e70>"
      ]
     },
     "execution_count": 7,
     "metadata": {},
     "output_type": "execute_result"
    }
   ],
   "source": [
    "import os\n",
    "import json\n",
    "import numpy as np\n",
    "import pandas as pd\n",
    "\n",
    "# pd.set_option(\"display.max_colwidth\", 100)\n",
    "# pd.set_option(\"display.max_colwidth\",0)\n",
    "\n",
    "import sparknlp\n",
    "import sparknlp_jsl\n",
    "\n",
    "from sparknlp.base import *\n",
    "from sparknlp.util import *\n",
    "from sparknlp.annotator import *\n",
    "from sparknlp_jsl.annotator import *\n",
    "\n",
    "from pyspark.sql import SparkSession\n",
    "from pyspark.sql import functions as F\n",
    "from pyspark.ml import Pipeline, PipelineModel\n",
    "\n",
    "import warnings\n",
    "warnings.filterwarnings('ignore')\n",
    "os.environ['TF_CPP_MIN_LOG_LEVEL'] = '3'\n",
    "\n",
    "params = {\"spark.driver.memory\":\"58G\", # Amount of memory to use for the driver process, i.e. where SparkContext is initialized\n",
    "          \"spark.kryoserializer.buffer.max\":\"2000M\", # Maximum allowable size of Kryo serialization buffer, in MiB unless otherwise specified.\n",
    "          \"spark.driver.maxResultSize\":\"2000M\"} # Limit of total size of serialized results of all partitions for each Spark action (e.g. collect) in bytes.\n",
    "                                                # Should be at least 1M, or 0 for unlimited.\n",
    "\n",
    "spark = sparknlp_jsl.start(license_keys['SECRET'],params=params)\n",
    "spark.sparkContext.setLogLevel(\"ERROR\")\n",
    "print (\"Spark NLP Version :\", sparknlp.version())\n",
    "print (\"Spark NLP_JSL Version :\", sparknlp_jsl.version())\n",
    "\n",
    "spark"
   ]
  },
  {
   "cell_type": "markdown",
   "metadata": {
    "execution": {
     "iopub.execute_input": "2025-06-16T23:28:00.195040Z",
     "iopub.status.busy": "2025-06-16T23:28:00.194471Z",
     "iopub.status.idle": "2025-06-16T23:28:00.197856Z",
     "shell.execute_reply": "2025-06-16T23:28:00.197257Z",
     "shell.execute_reply.started": "2025-06-16T23:28:00.195014Z"
    },
    "tags": []
   },
   "source": [
    "# Versions"
   ]
  },
  {
   "cell_type": "code",
   "execution_count": 1,
   "metadata": {
    "execution": {
     "iopub.execute_input": "2025-06-17T00:07:49.810013Z",
     "iopub.status.busy": "2025-06-17T00:07:49.809695Z",
     "iopub.status.idle": "2025-06-17T00:07:50.142127Z",
     "shell.execute_reply": "2025-06-17T00:07:50.141484Z",
     "shell.execute_reply.started": "2025-06-17T00:07:49.809991Z"
    },
    "tags": []
   },
   "outputs": [
    {
     "name": "stdout",
     "output_type": "stream",
     "text": [
      "Python 3.10.9\n"
     ]
    }
   ],
   "source": [
    "!python --version"
   ]
  },
  {
   "cell_type": "code",
   "execution_count": 2,
   "metadata": {
    "execution": {
     "iopub.execute_input": "2025-06-17T00:07:51.327523Z",
     "iopub.status.busy": "2025-06-17T00:07:51.326795Z",
     "iopub.status.idle": "2025-06-17T00:07:51.712103Z",
     "shell.execute_reply": "2025-06-17T00:07:51.711388Z",
     "shell.execute_reply.started": "2025-06-17T00:07:51.327493Z"
    },
    "tags": []
   },
   "outputs": [
    {
     "name": "stdout",
     "output_type": "stream",
     "text": [
      "openjdk version \"11.0.17\" 2022-10-18\n",
      "OpenJDK Runtime Environment (build 11.0.17+8-post-Ubuntu-1ubuntu222.04)\n",
      "OpenJDK 64-Bit Server VM (build 11.0.17+8-post-Ubuntu-1ubuntu222.04, mixed mode, sharing)\n"
     ]
    }
   ],
   "source": [
    "!java -version"
   ]
  },
  {
   "cell_type": "code",
   "execution_count": 3,
   "metadata": {
    "execution": {
     "iopub.execute_input": "2025-06-17T00:07:52.488397Z",
     "iopub.status.busy": "2025-06-17T00:07:52.488063Z",
     "iopub.status.idle": "2025-06-17T00:07:55.194849Z",
     "shell.execute_reply": "2025-06-17T00:07:55.194084Z",
     "shell.execute_reply.started": "2025-06-17T00:07:52.488375Z"
    },
    "tags": []
   },
   "outputs": [
    {
     "name": "stdout",
     "output_type": "stream",
     "text": [
      "Name: tensorflow\n",
      "Version: 2.12.0\n",
      "Summary: TensorFlow is an open source machine learning framework for everyone.\n",
      "Home-page: https://www.tensorflow.org/\n",
      "Author: Google Inc.\n",
      "Author-email: packages@tensorflow.org\n",
      "License: Apache 2.0\n",
      "Location: /home/jovyan/work/shared/venvs/cabir-ds/lib/python3.10/site-packages\n",
      "Requires: absl-py, astunparse, flatbuffers, gast, google-pasta, grpcio, h5py, jax, keras, libclang, numpy, opt-einsum, packaging, protobuf, setuptools, six, tensorboard, tensorflow-estimator, tensorflow-io-gcs-filesystem, termcolor, typing-extensions, wrapt\n",
      "Required-by: \n",
      "Note: you may need to restart the kernel to use updated packages.\n"
     ]
    }
   ],
   "source": [
    "%pip show tensorflow"
   ]
  },
  {
   "cell_type": "markdown",
   "metadata": {
    "id": "IrqrJly9pUnF"
   },
   "source": [
    "# Sample text"
   ]
  },
  {
   "cell_type": "code",
   "execution_count": 8,
   "metadata": {
    "execution": {
     "iopub.execute_input": "2025-06-17T00:12:51.172015Z",
     "iopub.status.busy": "2025-06-17T00:12:51.171547Z",
     "iopub.status.idle": "2025-06-17T00:12:51.175511Z",
     "shell.execute_reply": "2025-06-17T00:12:51.174975Z",
     "shell.execute_reply.started": "2025-06-17T00:12:51.171993Z"
    },
    "id": "iv7L2zs5pTQm",
    "tags": []
   },
   "outputs": [],
   "source": [
    "text = \"\"\"\n",
    "(NOTE) Patient Name: John Lee. MR#: 7789201 Location: LERE Date Reported: 2025-05-12 16:30\n",
    "Specimen #RD23-4897 Clinical History: None Given. CLINICAL INFORMATION: Date of Last Menstrual Period: N/A\n",
    "Electronically Signed Out By Dr. Smith, Dr. Carter, CT(ASCP) Date Reported: 2025-05-12 16:30\n",
    "General Hospital Dr. Fan Gabriel 90210 CPT Code(s) A: 88305\n",
    "\n",
    "General Hospital in New York City Dr. Williams, NYC, NY\n",
    "(212) 555-7890 Patient Name: John Lee Accession #: GH-556672\n",
    "Patient ID #: 7789201 Collected: 2025-05-10 Address:\n",
    "123 Main Street, FALL RIVER\n",
    "NIAGARA FALLS, NY 14304\n",
    "Received: 2025-05-10 Reported: 2025-05-12\n",
    "Soc. Sec. #: XXX-XX-1234 DOB/Age/Sex: 1973 (Age: 52) M\n",
    "Physician(s): Dr. Jameson. Peripheral sequestration, i.e. splenomegaly or hepatomegaly should be excluded to be sure if peripheral sequestration is not present.\n",
    "The following special studies were performed at Barstow Heights Christus Southeast, NY – St Elizabeth; New York City.\n",
    "· Chromosome analysis cytogenetics. (ADDENDUM REPORT TO FOLLOW.)\n",
    "· Leukemic immunophenotyping flow cytometry.\n",
    "\n",
    "...., and there is no evidence of dysplasia.\n",
    "Fr/ap MATERIAL RECEIVED 6 SLIDES LABELED 032-1902, COLLECTED 2025-05-10\n",
    "SPECIMEN SOURCE: GASTRIC, ILEUM AND RANDOM COLON, BIOPSIES\n",
    "REFERRING FACILITY: NY\n",
    "\"\"\""
   ]
  },
  {
   "cell_type": "markdown",
   "metadata": {
    "id": "_jcP8aGExhg1"
   },
   "source": [
    "# Pretrained Pipeline"
   ]
  },
  {
   "cell_type": "code",
   "execution_count": 8,
   "metadata": {
    "colab": {
     "base_uri": "https://localhost:8080/"
    },
    "execution": {
     "iopub.execute_input": "2025-06-16T21:44:58.263000Z",
     "iopub.status.busy": "2025-06-16T21:44:58.262437Z",
     "iopub.status.idle": "2025-06-16T21:45:01.071053Z",
     "shell.execute_reply": "2025-06-16T21:45:01.070312Z",
     "shell.execute_reply.started": "2025-06-16T21:44:58.262979Z"
    },
    "id": "WSRFhyhaxhTP",
    "outputId": "0ab02f9b-cffa-4306-9966-d7ab7db14ad2",
    "tags": []
   },
   "outputs": [
    {
     "name": "stdout",
     "output_type": "stream",
     "text": [
      "clinical_deidentification_docwise_benchmark download started this may take some time.\n",
      "Approx size to download 2.3 GB\n",
      "[OK!]\n"
     ]
    }
   ],
   "source": [
    "from sparknlp.pretrained import PretrainedPipeline\n",
    "\n",
    "deid_pipeline = PretrainedPipeline(\"clinical_deidentification_docwise_benchmark\", \"en\", \"clinical/models\")"
   ]
  },
  {
   "cell_type": "code",
   "execution_count": 9,
   "metadata": {
    "colab": {
     "base_uri": "https://localhost:8080/"
    },
    "execution": {
     "iopub.execute_input": "2025-06-16T21:45:01.073141Z",
     "iopub.status.busy": "2025-06-16T21:45:01.072472Z",
     "iopub.status.idle": "2025-06-16T21:45:01.082571Z",
     "shell.execute_reply": "2025-06-16T21:45:01.082000Z",
     "shell.execute_reply.started": "2025-06-16T21:45:01.073117Z"
    },
    "id": "aW5RVuauxhQq",
    "outputId": "72e9b093-e10d-4a0d-90a3-00b7ae6d4cb3",
    "tags": []
   },
   "outputs": [
    {
     "data": {
      "text/plain": [
       "[DocumentAssembler_ae0f203deedd,\n",
       " InternalDocumentSplitter_cc36578ceda6,\n",
       " REGEX_TOKENIZER_2e85686aea12,\n",
       " WORD_EMBEDDINGS_MODEL_9004b1d00302,\n",
       " MedicalNerModel_1a8637089929,\n",
       " NER_CONVERTER_1aef7e9d2de5,\n",
       " MedicalNerModel_d92d47622e85,\n",
       " MedicalNerModel_32184c1db80b,\n",
       " MedicalNerModel_ada39ac0d359,\n",
       " NER_CONVERTER_a99db4e6a79d,\n",
       " NER_CONVERTER_4a9436714344,\n",
       " NER_CONVERTER_ea6433988e18,\n",
       " PretrainedZeroShotNER_5f30ab9002f1,\n",
       " NER_CONVERTER_c97040caf7b3,\n",
       " MedicalNerModel_b8b167ec3114,\n",
       " NER_CONVERTER_06db473f3215,\n",
       " ContextualEntityRuler_11ff6711ef6b,\n",
       " ChunkMergeModel_95d6827691bb,\n",
       " CONTEXTUAL-PARSER_bf2a6abaf5fa,\n",
       " CONTEXTUAL-PARSER_ff6bad379d91,\n",
       " CONTEXTUAL-PARSER_89341cae7221,\n",
       " CONTEXTUAL-PARSER_c6b9eded8d31,\n",
       " CONTEXTUAL-PARSER_9480c24bd9f8,\n",
       " CONTEXTUAL-PARSER_3886bce391c8,\n",
       " CONTEXTUAL-PARSER_0bb3fb75cd01,\n",
       " ENTITY_EXTRACTOR_6792f2f6e85a,\n",
       " ENTITY_EXTRACTOR_74ace4be4f73,\n",
       " CONTEXTUAL-PARSER_dfb32adc7555,\n",
       " REGEX_MATCHER_5003669d6422,\n",
       " CONTEXTUAL-PARSER_746a25662aa6,\n",
       " CONTEXTUAL-PARSER_079220479a3d,\n",
       " CONTEXTUAL-PARSER_f8b8f9aafb9f,\n",
       " CONTEXTUAL-PARSER_7f824493eafc,\n",
       " REGEX_MATCHER_26934077fe57,\n",
       " REGEX_MATCHER_5fe3de8b5a4e,\n",
       " MERGE_ddff59e8b14a,\n",
       " ChunkMergeModel_50feb5f97568,\n",
       " ContextualEntityRuler_08eeaa89c938,\n",
       " ChunkMergeModel_5a3f1e608447,\n",
       " LightDeIdentification_dd156106d887,\n",
       " LightDeIdentification_acfc9a325ba4]"
      ]
     },
     "execution_count": 9,
     "metadata": {},
     "output_type": "execute_result"
    }
   ],
   "source": [
    "deid_pipeline.model.stages"
   ]
  },
  {
   "cell_type": "markdown",
   "metadata": {
    "id": "VJrzHih_Pcpx"
   },
   "source": [
    "## New Stages"
   ]
  },
  {
   "cell_type": "code",
   "execution_count": 15,
   "metadata": {
    "execution": {
     "iopub.execute_input": "2025-06-16T21:46:22.119578Z",
     "iopub.status.busy": "2025-06-16T21:46:22.119106Z",
     "iopub.status.idle": "2025-06-16T21:46:22.131820Z",
     "shell.execute_reply": "2025-06-16T21:46:22.131330Z",
     "shell.execute_reply.started": "2025-06-16T21:46:22.119557Z"
    },
    "id": "nNNCiHSsPiCS",
    "tags": []
   },
   "outputs": [],
   "source": [
    "document_assembler = DocumentAssembler()\\\n",
    "      .setInputCol(\"text\")\\\n",
    "      .setOutputCol(\"document\")\n",
    "\n",
    "splitter = (\n",
    "            InternalDocumentSplitter()\n",
    "            .setInputCols(\"document\")\n",
    "            .setOutputCol(\"splitter\")\n",
    "            .setSplitMode(\"recursive\")\n",
    "            .setSplitPatterns([\"\\s+\"])  # Token base\n",
    "            .setPatternsAreRegex(True)\n",
    "            .setChunkSize(512)    # 512 Char Lenght\n",
    "            .setChunkOverlap(50)\n",
    "            .setEnableSentenceIncrement(True)  # Like sentenceDetector\n",
    ")\n",
    "\n",
    "tokenizer = (\n",
    "    Tokenizer()\n",
    "    .setInputCols(\"splitter\")\n",
    "    .setOutputCol(\"token\")\n",
    ")"
   ]
  },
  {
   "cell_type": "markdown",
   "metadata": {
    "id": "0IgCKNM6L66B"
   },
   "source": [
    "### **cpt_parser**"
   ]
  },
  {
   "cell_type": "code",
   "execution_count": 16,
   "metadata": {
    "execution": {
     "iopub.execute_input": "2025-06-16T21:46:22.990425Z",
     "iopub.status.busy": "2025-06-16T21:46:22.989844Z",
     "iopub.status.idle": "2025-06-16T21:46:25.009918Z",
     "shell.execute_reply": "2025-06-16T21:46:25.009351Z",
     "shell.execute_reply.started": "2025-06-16T21:46:22.990404Z"
    },
    "id": "3VQhbsv5KHOf",
    "tags": []
   },
   "outputs": [],
   "source": [
    "cpt_rule = {\n",
    "    \"entity\": \"CPT_CODE\",\n",
    "    \"ruleScope\": \"sentence\",\n",
    "    \"regex\": r\"(?:CPT(?: Code\\(s\\)?|#|:)?\\s*:?[\\s#]*)?(\\b88[0-9]{3}\\b)\",\n",
    "    \"matchScope\": \"token\"\n",
    "}\n",
    "\n",
    "with open('cpt.json', 'w') as f:\n",
    "    json.dump(cpt_rule, f)\n",
    "\n",
    "cpt_parser = ContextualParserApproach() \\\n",
    "    .setInputCols([\"splitter\", \"token\"]) \\\n",
    "    .setOutputCol(\"entity_cpt\") \\\n",
    "    .setJsonPath(\"cpt.json\") \\\n",
    "    .setCaseSensitive(False) \\\n",
    "    .setPrefixAndSuffixMatch(False)\n",
    "\n",
    "cpt_parser_pipeline = Pipeline(stages=[\n",
    "    document_assembler,\n",
    "    splitter,\n",
    "    tokenizer,\n",
    "    cpt_parser\n",
    "  ])\n",
    "\n",
    "empty_data = spark.createDataFrame([[\"\"]]).toDF(\"text\")\n",
    "\n",
    "cpt_parser_model = cpt_parser_pipeline.fit(empty_data)\n",
    "cpt_parser_model.stages[-1].write().overwrite().save(\"./parsers/cpt_parser\")\n",
    "\n",
    "cpt_parser = ContextualParserModel.load(\"parsers/cpt_parser\") \\\n",
    "    .setInputCols([\"splitter\", \"token\"])\\\n",
    "    .setOutputCol(\"entity_cpt\")"
   ]
  },
  {
   "cell_type": "code",
   "execution_count": 17,
   "metadata": {
    "colab": {
     "base_uri": "https://localhost:8080/"
    },
    "execution": {
     "iopub.execute_input": "2025-06-16T21:46:27.969837Z",
     "iopub.status.busy": "2025-06-16T21:46:27.969446Z",
     "iopub.status.idle": "2025-06-16T21:46:28.095571Z",
     "shell.execute_reply": "2025-06-16T21:46:28.094827Z",
     "shell.execute_reply.started": "2025-06-16T21:46:27.969817Z"
    },
    "id": "6UVGdrHQoxg_",
    "outputId": "8c48fcff-d0e6-4ae0-914d-b054fe46b86b",
    "tags": []
   },
   "outputs": [
    {
     "data": {
      "text/plain": [
       "['88305']"
      ]
     },
     "execution_count": 17,
     "metadata": {},
     "output_type": "execute_result"
    }
   ],
   "source": [
    "annotations = LightPipeline(cpt_parser_model).annotate(text)\n",
    "\n",
    "annotations[\"entity_cpt\"]"
   ]
  },
  {
   "cell_type": "markdown",
   "metadata": {
    "id": "WgUdx90TL8BJ"
   },
   "source": [
    "### **specimen_parser**"
   ]
  },
  {
   "cell_type": "code",
   "execution_count": 18,
   "metadata": {
    "execution": {
     "iopub.execute_input": "2025-06-16T21:46:29.125574Z",
     "iopub.status.busy": "2025-06-16T21:46:29.124931Z",
     "iopub.status.idle": "2025-06-16T21:46:31.211382Z",
     "shell.execute_reply": "2025-06-16T21:46:31.210701Z",
     "shell.execute_reply.started": "2025-06-16T21:46:29.125553Z"
    },
    "id": "MUWTUwGeKKU7",
    "tags": []
   },
   "outputs": [],
   "source": [
    "with open('specimen.json', 'w') as f:\n",
    "    json.dump({\n",
    "        \"entity\": \"IDNUM\",\n",
    "        \"ruleScope\": \"sentence\",\n",
    "        \"regex\": \"(?:Specimen(?:\\s*(?:ID|Number|Code|#|No\\.?)?:?)?\\s*)?#?[A-Z]{1,5}[0-9]{2,4}-?[0-9]{3,6}\",\n",
    "        \"contextLength\": 25,\n",
    "        \"matchScope\": \"token\"\n",
    "    }, f)\n",
    "\n",
    "specimen_parser = ContextualParserApproach() \\\n",
    "    .setInputCols([\"splitter\", \"token\"]) \\\n",
    "    .setOutputCol(\"entity_specimen\") \\\n",
    "    .setJsonPath(\"specimen.json\") \\\n",
    "    .setCaseSensitive(False) \\\n",
    "    .setPrefixAndSuffixMatch(False)\n",
    "\n",
    "specimen_parser_pipeline = Pipeline(stages=[\n",
    "    document_assembler,\n",
    "    splitter,\n",
    "    tokenizer,\n",
    "    specimen_parser\n",
    "  ])\n",
    "\n",
    "empty_data = spark.createDataFrame([[\"\"]]).toDF(\"text\")\n",
    "\n",
    "specimen_parser_model = specimen_parser_pipeline.fit(empty_data)\n",
    "specimen_parser_model.stages[-1].write().overwrite().save(\"./parsers/specimen_parser\")\n",
    "\n",
    "specimen_parser = ContextualParserModel.load(\"./parsers/specimen_parser\") \\\n",
    "    .setInputCols([\"splitter\", \"token\"])\\\n",
    "    .setOutputCol(\"entity_specimen\")"
   ]
  },
  {
   "cell_type": "code",
   "execution_count": 19,
   "metadata": {
    "colab": {
     "base_uri": "https://localhost:8080/"
    },
    "execution": {
     "iopub.execute_input": "2025-06-16T21:46:31.213120Z",
     "iopub.status.busy": "2025-06-16T21:46:31.212691Z",
     "iopub.status.idle": "2025-06-16T21:46:31.343580Z",
     "shell.execute_reply": "2025-06-16T21:46:31.342995Z",
     "shell.execute_reply.started": "2025-06-16T21:46:31.213096Z"
    },
    "id": "5SpqMsn3pIdM",
    "outputId": "6635c684-b05f-4271-f8c9-29fe074ddefc",
    "tags": []
   },
   "outputs": [
    {
     "data": {
      "text/plain": [
       "['#RD23-4897']"
      ]
     },
     "execution_count": 19,
     "metadata": {},
     "output_type": "execute_result"
    }
   ],
   "source": [
    "annotations = LightPipeline(specimen_parser_model).annotate(text)\n",
    "\n",
    "annotations[\"entity_specimen\"]"
   ]
  },
  {
   "cell_type": "markdown",
   "metadata": {
    "id": "NeWUMrVzM1zh"
   },
   "source": [
    "### **IOBTagger**"
   ]
  },
  {
   "cell_type": "code",
   "execution_count": 20,
   "metadata": {
    "execution": {
     "iopub.execute_input": "2025-06-16T21:46:31.396987Z",
     "iopub.status.busy": "2025-06-16T21:46:31.396725Z",
     "iopub.status.idle": "2025-06-16T21:46:31.403806Z",
     "shell.execute_reply": "2025-06-16T21:46:31.403281Z",
     "shell.execute_reply.started": "2025-06-16T21:46:31.396969Z"
    },
    "id": "70nwb_gNM0eo",
    "tags": []
   },
   "outputs": [],
   "source": [
    "iobTagger = sparknlp_jsl.annotator.IOBTagger()\\\n",
    "  .setInputCols([\"token\", \"ner_chunk\"])\\\n",
    "  .setOutputCol(\"ner_label\")"
   ]
  },
  {
   "cell_type": "markdown",
   "metadata": {
    "id": "ZGZirLuiL993"
   },
   "source": [
    "## **Update Mergers**"
   ]
  },
  {
   "cell_type": "code",
   "execution_count": 21,
   "metadata": {
    "colab": {
     "base_uri": "https://localhost:8080/"
    },
    "execution": {
     "iopub.execute_input": "2025-06-16T21:46:32.294414Z",
     "iopub.status.busy": "2025-06-16T21:46:32.293977Z",
     "iopub.status.idle": "2025-06-16T21:46:32.298574Z",
     "shell.execute_reply": "2025-06-16T21:46:32.297957Z",
     "shell.execute_reply.started": "2025-06-16T21:46:32.294391Z"
    },
    "id": "uBzIpjE4I2ZI",
    "outputId": "16c4d846-aa87-49fe-a48b-6979989c0039",
    "tags": []
   },
   "outputs": [
    {
     "data": {
      "text/plain": [
       "['entity_icd10',\n",
       " 'entity_email',\n",
       " 'entity_ip_address',\n",
       " 'entity_age',\n",
       " 'entity_medicalrecord',\n",
       " 'entity_ssn',\n",
       " 'entity_account',\n",
       " 'entity_vin',\n",
       " 'entity_date',\n",
       " 'entity_phone',\n",
       " 'entity_phone2',\n",
       " 'entity_country',\n",
       " 'entity_state',\n",
       " 'entity_zip',\n",
       " 'entity_plate',\n",
       " 'entity_dln',\n",
       " 'entity_license']"
      ]
     },
     "execution_count": 21,
     "metadata": {},
     "output_type": "execute_result"
    }
   ],
   "source": [
    "merger_input_cols = deid_pipeline.model.stages[35].getInputCols()\n",
    "#merger_input_cols.remove(\"entity_zip\")\n",
    "merger_input_cols"
   ]
  },
  {
   "cell_type": "code",
   "execution_count": 22,
   "metadata": {
    "execution": {
     "iopub.execute_input": "2025-06-16T21:46:32.670217Z",
     "iopub.status.busy": "2025-06-16T21:46:32.669879Z",
     "iopub.status.idle": "2025-06-16T21:46:32.673174Z",
     "shell.execute_reply": "2025-06-16T21:46:32.672524Z",
     "shell.execute_reply.started": "2025-06-16T21:46:32.670201Z"
    },
    "id": "EiR8wYmaKcXE",
    "tags": []
   },
   "outputs": [],
   "source": [
    "merger_input_cols = deid_pipeline.model.stages[35].getInputCols()\n",
    "\n",
    "chunk_merge_rulebase = deid_pipeline.model.stages[35]\\\n",
    "      .setInputCols([\"entity_cpt\", \"entity_specimen\"] + merger_input_cols)"
   ]
  },
  {
   "cell_type": "markdown",
   "metadata": {
    "id": "G0byi4ucTxlS"
   },
   "source": [
    "**black list**"
   ]
  },
  {
   "cell_type": "code",
   "execution_count": 23,
   "metadata": {
    "colab": {
     "base_uri": "https://localhost:8080/"
    },
    "execution": {
     "iopub.execute_input": "2025-06-16T21:46:36.406582Z",
     "iopub.status.busy": "2025-06-16T21:46:36.406080Z",
     "iopub.status.idle": "2025-06-16T21:46:36.410518Z",
     "shell.execute_reply": "2025-06-16T21:46:36.410056Z",
     "shell.execute_reply.started": "2025-06-16T21:46:36.406558Z"
    },
    "id": "xP-TIyzociXP",
    "outputId": "e3cbeb1f-7d0f-494b-b105-f1706ef3a2a0",
    "tags": []
   },
   "outputs": [
    {
     "data": {
      "text/plain": [
       "ChunkMergeModel_5a3f1e608447"
      ]
     },
     "execution_count": 23,
     "metadata": {},
     "output_type": "execute_result"
    }
   ],
   "source": [
    "deid_pipeline.model.stages[38]"
   ]
  },
  {
   "cell_type": "code",
   "execution_count": 24,
   "metadata": {
    "execution": {
     "iopub.execute_input": "2025-06-16T21:46:36.671397Z",
     "iopub.status.busy": "2025-06-16T21:46:36.670939Z",
     "iopub.status.idle": "2025-06-16T21:46:36.673975Z",
     "shell.execute_reply": "2025-06-16T21:46:36.673522Z",
     "shell.execute_reply.started": "2025-06-16T21:46:36.671377Z"
    },
    "id": "4UPGcZ_KXqKk",
    "tags": []
   },
   "outputs": [],
   "source": [
    "deid_pipeline.model.stages[38] = deid_pipeline.model.stages[38]\\\n",
    "                                      .setBlackList(['CPT_CODE'])"
   ]
  },
  {
   "cell_type": "markdown",
   "metadata": {
    "id": "8Q-6gNxRMBnM"
   },
   "source": [
    "## **Stages**"
   ]
  },
  {
   "cell_type": "code",
   "execution_count": 25,
   "metadata": {
    "execution": {
     "iopub.execute_input": "2025-06-16T21:46:37.417628Z",
     "iopub.status.busy": "2025-06-16T21:46:37.417098Z",
     "iopub.status.idle": "2025-06-16T21:46:37.420345Z",
     "shell.execute_reply": "2025-06-16T21:46:37.419882Z",
     "shell.execute_reply.started": "2025-06-16T21:46:37.417606Z"
    },
    "id": "9NF0lSiZJOfS",
    "tags": []
   },
   "outputs": [],
   "source": [
    "deid_pipeline.model.stages = (\n",
    "    deid_pipeline.model.stages[:35]\n",
    "    + [cpt_parser, specimen_parser, chunk_merge_rulebase]\n",
    "    + deid_pipeline.model.stages[36:]\n",
    "    + [iobTagger]\n",
    ")"
   ]
  },
  {
   "cell_type": "code",
   "execution_count": 26,
   "metadata": {
    "colab": {
     "base_uri": "https://localhost:8080/"
    },
    "execution": {
     "iopub.execute_input": "2025-06-16T21:46:39.330863Z",
     "iopub.status.busy": "2025-06-16T21:46:39.330475Z",
     "iopub.status.idle": "2025-06-16T21:46:39.338450Z",
     "shell.execute_reply": "2025-06-16T21:46:39.337966Z",
     "shell.execute_reply.started": "2025-06-16T21:46:39.330844Z"
    },
    "id": "O5rrr5mgJFJa",
    "outputId": "9acc74ab-ea8b-4140-a365-875e777c8947",
    "tags": []
   },
   "outputs": [
    {
     "data": {
      "text/plain": [
       "[DocumentAssembler_ae0f203deedd,\n",
       " InternalDocumentSplitter_cc36578ceda6,\n",
       " REGEX_TOKENIZER_2e85686aea12,\n",
       " WORD_EMBEDDINGS_MODEL_9004b1d00302,\n",
       " MedicalNerModel_1a8637089929,\n",
       " NER_CONVERTER_1aef7e9d2de5,\n",
       " MedicalNerModel_d92d47622e85,\n",
       " MedicalNerModel_32184c1db80b,\n",
       " MedicalNerModel_ada39ac0d359,\n",
       " NER_CONVERTER_a99db4e6a79d,\n",
       " NER_CONVERTER_4a9436714344,\n",
       " NER_CONVERTER_ea6433988e18,\n",
       " PretrainedZeroShotNER_5f30ab9002f1,\n",
       " NER_CONVERTER_c97040caf7b3,\n",
       " MedicalNerModel_b8b167ec3114,\n",
       " NER_CONVERTER_06db473f3215,\n",
       " ContextualEntityRuler_11ff6711ef6b,\n",
       " ChunkMergeModel_95d6827691bb,\n",
       " CONTEXTUAL-PARSER_bf2a6abaf5fa,\n",
       " CONTEXTUAL-PARSER_ff6bad379d91,\n",
       " CONTEXTUAL-PARSER_89341cae7221,\n",
       " CONTEXTUAL-PARSER_c6b9eded8d31,\n",
       " CONTEXTUAL-PARSER_9480c24bd9f8,\n",
       " CONTEXTUAL-PARSER_3886bce391c8,\n",
       " CONTEXTUAL-PARSER_0bb3fb75cd01,\n",
       " ENTITY_EXTRACTOR_6792f2f6e85a,\n",
       " ENTITY_EXTRACTOR_74ace4be4f73,\n",
       " CONTEXTUAL-PARSER_dfb32adc7555,\n",
       " REGEX_MATCHER_5003669d6422,\n",
       " CONTEXTUAL-PARSER_746a25662aa6,\n",
       " CONTEXTUAL-PARSER_079220479a3d,\n",
       " CONTEXTUAL-PARSER_f8b8f9aafb9f,\n",
       " CONTEXTUAL-PARSER_7f824493eafc,\n",
       " REGEX_MATCHER_26934077fe57,\n",
       " REGEX_MATCHER_5fe3de8b5a4e,\n",
       " CONTEXTUAL-PARSER_1543b24b4890,\n",
       " CONTEXTUAL-PARSER_980d396bec6c,\n",
       " MERGE_ddff59e8b14a,\n",
       " ChunkMergeModel_50feb5f97568,\n",
       " ContextualEntityRuler_08eeaa89c938,\n",
       " ChunkMergeModel_5a3f1e608447,\n",
       " LightDeIdentification_dd156106d887,\n",
       " LightDeIdentification_acfc9a325ba4,\n",
       " IOBTagger_0aa1b3937bd8]"
      ]
     },
     "execution_count": 26,
     "metadata": {},
     "output_type": "execute_result"
    }
   ],
   "source": [
    "deid_pipeline.model.stages"
   ]
  },
  {
   "cell_type": "code",
   "execution_count": 27,
   "metadata": {
    "execution": {
     "iopub.execute_input": "2025-06-16T21:46:40.082357Z",
     "iopub.status.busy": "2025-06-16T21:46:40.082003Z",
     "iopub.status.idle": "2025-06-16T21:46:41.820040Z",
     "shell.execute_reply": "2025-06-16T21:46:41.819408Z",
     "shell.execute_reply.started": "2025-06-16T21:46:40.082339Z"
    },
    "id": "hJgTJDpaPBqt",
    "tags": []
   },
   "outputs": [],
   "source": [
    "empty_result = deid_pipeline.transform(spark.createDataFrame([[\"\"]]).toDF(\"text\"))\n",
    "\n",
    "deid_pipeline.model.write().overwrite().save(\"modified_pipeline\")"
   ]
  },
  {
   "cell_type": "code",
   "execution_count": 20,
   "metadata": {
    "execution": {
     "iopub.execute_input": "2025-06-17T00:15:54.452426Z",
     "iopub.status.busy": "2025-06-17T00:15:54.451959Z",
     "iopub.status.idle": "2025-06-17T00:16:09.249422Z",
     "shell.execute_reply": "2025-06-17T00:16:09.248859Z",
     "shell.execute_reply.started": "2025-06-17T00:15:54.452405Z"
    },
    "id": "i9d4ibIOEQkW",
    "tags": []
   },
   "outputs": [],
   "source": [
    "# We are loading the pretrained pipeline using the `from_disk` method.\n",
    "from sparknlp.pretrained import PretrainedPipeline\n",
    "\n",
    "modified_pipeline = PretrainedPipeline.from_disk('modified_pipeline')"
   ]
  },
  {
   "cell_type": "markdown",
   "metadata": {
    "id": "HAQzJ9TkpdEN"
   },
   "source": [
    "## Sample Result"
   ]
  },
  {
   "cell_type": "code",
   "execution_count": 21,
   "metadata": {
    "execution": {
     "iopub.execute_input": "2025-06-17T00:16:09.250640Z",
     "iopub.status.busy": "2025-06-17T00:16:09.250423Z",
     "iopub.status.idle": "2025-06-17T00:16:10.956664Z",
     "shell.execute_reply": "2025-06-17T00:16:10.955954Z",
     "shell.execute_reply.started": "2025-06-17T00:16:09.250623Z"
    },
    "id": "LqxyfjCUEQhf",
    "tags": []
   },
   "outputs": [],
   "source": [
    "samples_df = spark.createDataFrame([[text]]).toDF(\"text\")\n",
    "\n",
    "result = modified_pipeline.transform(samples_df).cache()"
   ]
  },
  {
   "cell_type": "code",
   "execution_count": 22,
   "metadata": {
    "colab": {
     "base_uri": "https://localhost:8080/"
    },
    "execution": {
     "iopub.execute_input": "2025-06-17T00:16:10.958004Z",
     "iopub.status.busy": "2025-06-17T00:16:10.957582Z",
     "iopub.status.idle": "2025-06-17T00:16:18.527274Z",
     "shell.execute_reply": "2025-06-17T00:16:18.526596Z",
     "shell.execute_reply.started": "2025-06-17T00:16:10.957980Z"
    },
    "id": "EyuthziYEQe4",
    "outputId": "79568c07-c6a5-43c1-e28d-d70bcef13817",
    "tags": []
   },
   "outputs": [
    {
     "name": "stderr",
     "output_type": "stream",
     "text": [
      "[Stage 586:=================================================>       (7 + 1) / 8]\r"
     ]
    },
    {
     "name": "stdout",
     "output_type": "stream",
     "text": [
      "Using CPUs\n",
      "+----------------------------------+-----+----+---------+----------+\n",
      "|chunk                             |begin|end |ner_label|confidence|\n",
      "+----------------------------------+-----+----+---------+----------+\n",
      "|John Lee                          |22   |29  |NAME     |0.9999912 |\n",
      "|7789201                           |37   |43  |IDNUM    |0.72      |\n",
      "|LERE                              |55   |58  |LOCATION |0.8618449 |\n",
      "|2025-05-12                        |75   |84  |DATE     |NULL      |\n",
      "|#RD23-4897                        |101  |110 |IDNUM    |0.50      |\n",
      "|Smith                             |232  |236 |NAME     |0.9992543 |\n",
      "|Carter                            |243  |248 |NAME     |0.9988757 |\n",
      "|2025-05-12                        |275  |284 |DATE     |NULL      |\n",
      "|General Hospital                  |292  |307 |LOCATION |0.9980348 |\n",
      "|Fan Gabriel                       |313  |323 |NAME     |0.98504204|\n",
      "|90210                             |325  |329 |IDNUM    |0.5666    |\n",
      "|General Hospital                  |353  |368 |LOCATION |0.9975871 |\n",
      "|New York                          |373  |380 |LOCATION |NULL      |\n",
      "|Williams                          |391  |398 |NAME     |0.9985555 |\n",
      "|NYC                               |401  |403 |LOCATION |0.9912549 |\n",
      "|NY                                |406  |407 |LOCATION |0.9990097 |\n",
      "|(212) 555-7890                    |409  |422 |CONTACT  |0.8675398 |\n",
      "|John Lee                          |438  |445 |NAME     |0.99998415|\n",
      "|GH-556672                         |460  |468 |IDNUM    |0.9447853 |\n",
      "|7789201                           |484  |490 |IDNUM    |0.8814196 |\n",
      "|2025-05-10                        |503  |512 |DATE     |NULL      |\n",
      "|123 Main Street                   |523  |537 |LOCATION |0.99993736|\n",
      "|FALL RIVER                        |540  |549 |LOCATION |0.9853821 |\n",
      "|NIAGARA FALLS                     |551  |563 |LOCATION |0.98888934|\n",
      "|NY                                |566  |567 |LOCATION |0.9999945 |\n",
      "|14304                             |569  |573 |LOCATION |0.73      |\n",
      "|2025-05-10                        |585  |594 |DATE     |NULL      |\n",
      "|2025-05-12                        |606  |615 |DATE     |NULL      |\n",
      "|XXX-XX-1234                       |630  |640 |IDNUM    |0.8158    |\n",
      "|1973                              |655  |658 |DATE     |0.9997588 |\n",
      "|52                                |666  |667 |AGE      |0.99998105|\n",
      "|Jameson                           |690  |696 |NAME     |0.99997807|\n",
      "|Barstow Heights Christus Southeast|881  |914 |LOCATION |0.9896074 |\n",
      "|NY                                |917  |918 |LOCATION |0.9996928 |\n",
      "|St Elizabeth                      |922  |933 |LOCATION |0.9822848 |\n",
      "|New York                          |936  |943 |LOCATION |NULL      |\n",
      "|Chromosome                        |953  |962 |LOCATION |0.6203    |\n",
      "|032-1902                          |1148 |1155|IDNUM    |0.92795694|\n",
      "|2025-05-10                        |1168 |1177|DATE     |NULL      |\n",
      "|NY                                |1258 |1259|LOCATION |0.9999982 |\n",
      "+----------------------------------+-----+----+---------+----------+\n",
      "\n"
     ]
    },
    {
     "name": "stderr",
     "output_type": "stream",
     "text": [
      "                                                                                \r"
     ]
    }
   ],
   "source": [
    "result.select(F.explode(F.arrays_zip(result.ner_chunk.result,\n",
    "                                     result.ner_chunk.begin,\n",
    "                                     result.ner_chunk.end,\n",
    "                                     result.ner_chunk.metadata)).alias(\"cols\")) \\\n",
    "      .select(F.expr(\"cols['0']\").alias(\"chunk\"),\n",
    "              F.expr(\"cols['1']\").alias(\"begin\"),\n",
    "              F.expr(\"cols['2']\").alias(\"end\"),\n",
    "              F.expr(\"cols['3']['entity']\").alias(\"ner_label\"),\n",
    "              F.expr(\"cols['3']['confidence']\").alias(\"confidence\")).show(50,truncate=False)"
   ]
  },
  {
   "cell_type": "code",
   "execution_count": 23,
   "metadata": {
    "execution": {
     "iopub.execute_input": "2025-06-17T00:16:18.528624Z",
     "iopub.status.busy": "2025-06-17T00:16:18.528419Z",
     "iopub.status.idle": "2025-06-17T00:16:18.910088Z",
     "shell.execute_reply": "2025-06-17T00:16:18.909356Z",
     "shell.execute_reply.started": "2025-06-17T00:16:18.528606Z"
    },
    "tags": []
   },
   "outputs": [
    {
     "data": {
      "text/html": [
       "<div>\n",
       "<style scoped>\n",
       "    .dataframe tbody tr th:only-of-type {\n",
       "        vertical-align: middle;\n",
       "    }\n",
       "\n",
       "    .dataframe tbody tr th {\n",
       "        vertical-align: top;\n",
       "    }\n",
       "\n",
       "    .dataframe thead th {\n",
       "        text-align: right;\n",
       "    }\n",
       "</style>\n",
       "<table border=\"1\" class=\"dataframe\">\n",
       "  <thead>\n",
       "    <tr style=\"text-align: right;\">\n",
       "      <th></th>\n",
       "      <th>text</th>\n",
       "      <th>masked_result</th>\n",
       "      <th>obfuscated_result</th>\n",
       "    </tr>\n",
       "  </thead>\n",
       "  <tbody>\n",
       "    <tr>\n",
       "      <th>0</th>\n",
       "      <td>\\n(NOTE) Patient Name: John Lee. MR#: 7789201 Location: LERE Date Reported: 2025-05-12 16:30\\nSpecimen #RD23-4897 Clinical History: None Given. CLINICAL INFORMATION: Date of Last Menstrual Period: N/A\\nElectronically Signed Out By Dr. Smith, Dr. Carter, CT(ASCP) Date Reported: 2025-05-12 16:30\\nGeneral Hospital Dr. Fan Gabriel 90210 CPT Code(s) A: 88305\\n\\nGeneral Hospital in New York City Dr. Williams, NYC, NY\\n(212) 555-7890 Patient Name: John Lee Accession #: GH-556672\\nPatient ID #: 7789201 Collected: 2025-05-10 Address:\\n123 Main Street, FALL RIVER\\nNIAGARA FALLS, NY 14304\\nReceived: 2025-05-10 Reported: 2025-05-12\\nSoc. Sec. #: XXX-XX-1234 DOB/Age/Sex: 1973 (Age: 52) M\\nPhysician(s): Dr. Jameson. Peripheral sequestration, i.e. splenomegaly or hepatomegaly should be excluded to be sure if peripheral sequestration is not present.\\nThe following special studies were performed at Barstow Heights Christus Southeast, NY – St Elizabeth; New York City.\\n· Chromosome analysis cytogene...</td>\n",
       "      <td>[\\n(NOTE) Patient Name: &lt;NAME&gt;. MR#: &lt;IDNUM&gt; Location: &lt;LOCATION&gt; Date Reported: &lt;DATE&gt; 16:30\\nSpecimen &lt;IDNUM&gt; Clinical History: None Given. CLINICAL INFORMATION: Date of Last Menstrual Period: N/A\\nElectronically Signed Out By Dr. &lt;NAME&gt;, Dr. &lt;NAME&gt;, CT(ASCP) Date Reported: &lt;DATE&gt; 16:30\\n&lt;LOCATION&gt; Dr. &lt;NAME&gt; &lt;IDNUM&gt; CPT Code(s) A: 88305\\n\\n&lt;LOCATION&gt; in &lt;LOCATION&gt; City Dr. &lt;NAME&gt;, &lt;LOCATION&gt;, &lt;LOCATION&gt;\\n&lt;CONTACT&gt; Patient Name: &lt;NAME&gt; Accession #: &lt;IDNUM&gt;\\nPatient ID #: &lt;IDNUM&gt; Collected: &lt;DATE&gt; Address:\\n&lt;LOCATION&gt;, &lt;LOCATION&gt;\\n&lt;LOCATION&gt;, &lt;LOCATION&gt; &lt;LOCATION&gt;\\nReceived: &lt;DATE&gt; Reported: &lt;DATE&gt;\\nSoc. Sec. #: &lt;IDNUM&gt; DOB/Age/Sex: &lt;DATE&gt; (Age: &lt;AGE&gt;) M\\nPhysician(s): Dr. &lt;NAME&gt;. Peripheral sequestration, i.e. splenomegaly or hepatomegaly should be excluded to be sure if peripheral sequestration is not present.\\nThe following special studies were performed at &lt;LOCATION&gt;, &lt;LOCATION&gt; – &lt;LOCATION&gt;; &lt;LOCATION&gt; City.\\n· &lt;LOCATION&gt; analysis cytogenetics. (ADDENDUM REPORT TO FOLLOW.)\\n·...</td>\n",
       "      <td>[\\n(NOTE) Patient Name: Gillie Allan. MR#: 0074518 Location: 4500 MEMORIAL DRIVE Date Reported: 2025-06-29 16:30\\nSpecimen #SA52-9740 Clinical History: None Given. CLINICAL INFORMATION: Date of Last Menstrual Period: N/A\\nElectronically Signed Out By Dr. Wanna, Dr. Malvin, CT(ASCP) Date Reported: 2025-06-29 16:30\\n310 Ellis Street Dr. Marcelo Danes 41581 CPT Code(s) A: 88305\\n\\n310 Ellis Street in 2000 Boise Ave City Dr. Duwaine, 427 GUY PARK AVE, 16100 SOUTH FREEWAY\\n(585) 666-0741 Patient Name: Gillie Allan Accession #: PU-663305\\nPatient ID #: 0074518 Collected: 2025-06-27 Address:\\n3255 Independence Street, 302 W MCNEESE ST\\n4101 NW 89TH BLVD, 16100 SOUTH FREEWAY 59 KOCH AVE\\nReceived: 2025-06-27 Reported: 2025-06-29\\nSoc. Sec. #: WWW-WW-8529 DOB/Age/Sex: 1974 (Age: 44) M\\nPhysician(s): Dr. Marchelle. Peripheral sequestration, i.e. splenomegaly or hepatomegaly should be excluded to be sure if peripheral sequestration is not present.\\nThe following special studies were performed...</td>\n",
       "    </tr>\n",
       "  </tbody>\n",
       "</table>\n",
       "</div>"
      ],
      "text/plain": [
       "                                                                                                                                                                                                                                                                                                                                                                                                                                                                                                                                                                                                                                                                                                                                                                                                                                                                                                                                                                                                                                      text  \\\n",
       "0  \\n(NOTE) Patient Name: John Lee. MR#: 7789201 Location: LERE Date Reported: 2025-05-12 16:30\\nSpecimen #RD23-4897 Clinical History: None Given. CLINICAL INFORMATION: Date of Last Menstrual Period: N/A\\nElectronically Signed Out By Dr. Smith, Dr. Carter, CT(ASCP) Date Reported: 2025-05-12 16:30\\nGeneral Hospital Dr. Fan Gabriel 90210 CPT Code(s) A: 88305\\n\\nGeneral Hospital in New York City Dr. Williams, NYC, NY\\n(212) 555-7890 Patient Name: John Lee Accession #: GH-556672\\nPatient ID #: 7789201 Collected: 2025-05-10 Address:\\n123 Main Street, FALL RIVER\\nNIAGARA FALLS, NY 14304\\nReceived: 2025-05-10 Reported: 2025-05-12\\nSoc. Sec. #: XXX-XX-1234 DOB/Age/Sex: 1973 (Age: 52) M\\nPhysician(s): Dr. Jameson. Peripheral sequestration, i.e. splenomegaly or hepatomegaly should be excluded to be sure if peripheral sequestration is not present.\\nThe following special studies were performed at Barstow Heights Christus Southeast, NY – St Elizabeth; New York City.\\n· Chromosome analysis cytogene...   \n",
       "\n",
       "                                                                                                                                                                                                                                                                                                                                                                                                                                                                                                                                                                                                                                                                                                                                                                                                                                                                                                                                                                                                                             masked_result  \\\n",
       "0  [\\n(NOTE) Patient Name: <NAME>. MR#: <IDNUM> Location: <LOCATION> Date Reported: <DATE> 16:30\\nSpecimen <IDNUM> Clinical History: None Given. CLINICAL INFORMATION: Date of Last Menstrual Period: N/A\\nElectronically Signed Out By Dr. <NAME>, Dr. <NAME>, CT(ASCP) Date Reported: <DATE> 16:30\\n<LOCATION> Dr. <NAME> <IDNUM> CPT Code(s) A: 88305\\n\\n<LOCATION> in <LOCATION> City Dr. <NAME>, <LOCATION>, <LOCATION>\\n<CONTACT> Patient Name: <NAME> Accession #: <IDNUM>\\nPatient ID #: <IDNUM> Collected: <DATE> Address:\\n<LOCATION>, <LOCATION>\\n<LOCATION>, <LOCATION> <LOCATION>\\nReceived: <DATE> Reported: <DATE>\\nSoc. Sec. #: <IDNUM> DOB/Age/Sex: <DATE> (Age: <AGE>) M\\nPhysician(s): Dr. <NAME>. Peripheral sequestration, i.e. splenomegaly or hepatomegaly should be excluded to be sure if peripheral sequestration is not present.\\nThe following special studies were performed at <LOCATION>, <LOCATION> – <LOCATION>; <LOCATION> City.\\n· <LOCATION> analysis cytogenetics. (ADDENDUM REPORT TO FOLLOW.)\\n·...   \n",
       "\n",
       "                                                                                                                                                                                                                                                                                                                                                                                                                                                                                                                                                                                                                                                                                                                                                                                                                                                                                                                                                                                                                         obfuscated_result  \n",
       "0  [\\n(NOTE) Patient Name: Gillie Allan. MR#: 0074518 Location: 4500 MEMORIAL DRIVE Date Reported: 2025-06-29 16:30\\nSpecimen #SA52-9740 Clinical History: None Given. CLINICAL INFORMATION: Date of Last Menstrual Period: N/A\\nElectronically Signed Out By Dr. Wanna, Dr. Malvin, CT(ASCP) Date Reported: 2025-06-29 16:30\\n310 Ellis Street Dr. Marcelo Danes 41581 CPT Code(s) A: 88305\\n\\n310 Ellis Street in 2000 Boise Ave City Dr. Duwaine, 427 GUY PARK AVE, 16100 SOUTH FREEWAY\\n(585) 666-0741 Patient Name: Gillie Allan Accession #: PU-663305\\nPatient ID #: 0074518 Collected: 2025-06-27 Address:\\n3255 Independence Street, 302 W MCNEESE ST\\n4101 NW 89TH BLVD, 16100 SOUTH FREEWAY 59 KOCH AVE\\nReceived: 2025-06-27 Reported: 2025-06-29\\nSoc. Sec. #: WWW-WW-8529 DOB/Age/Sex: 1974 (Age: 44) M\\nPhysician(s): Dr. Marchelle. Peripheral sequestration, i.e. splenomegaly or hepatomegaly should be excluded to be sure if peripheral sequestration is not present.\\nThe following special studies were performed...  "
      ]
     },
     "execution_count": 23,
     "metadata": {},
     "output_type": "execute_result"
    }
   ],
   "source": [
    "pd.set_option(\"display.max_colwidth\", 1000)\n",
    "# pd.set_option(\"display.max_colwidth\",0)\n",
    "\n",
    "\n",
    "result_df = result.selectExpr(\"text\",\n",
    "                              \"mask_entity.result as masked_result\",\n",
    "                              \"obfuscated.result as obfuscated_result\").toPandas()\n",
    "result_df"
   ]
  },
  {
   "cell_type": "markdown",
   "metadata": {
    "id": "-ind-7mAhQu8"
   },
   "source": [
    "## Dataset"
   ]
  },
  {
   "cell_type": "code",
   "execution_count": 31,
   "metadata": {
    "execution": {
     "iopub.execute_input": "2025-06-16T21:48:23.869651Z",
     "iopub.status.busy": "2025-06-16T21:48:23.869433Z",
     "iopub.status.idle": "2025-06-16T21:48:24.440828Z",
     "shell.execute_reply": "2025-06-16T21:48:24.440055Z",
     "shell.execute_reply.started": "2025-06-16T21:48:23.869634Z"
    },
    "id": "f6CWDkiRhNzJ",
    "tags": []
   },
   "outputs": [],
   "source": [
    "# !wget -q https://github.com/JohnSnowLabs/spark-nlp-workshop/raw/master/tutorials/academic/NER_Benchmarks/ner_cloud_benchmark_text_df.xlsx\n",
    "# text_df = pd.read_excel(\"ner_cloud_benchmark_text_df.xlsx\")\n",
    "# #text_df.head(2)\n",
    "# input_spark_df = spark.createDataFrame(text_df)"
   ]
  },
  {
   "cell_type": "code",
   "execution_count": 131,
   "metadata": {
    "execution": {
     "iopub.execute_input": "2025-06-16T23:15:03.813398Z",
     "iopub.status.busy": "2025-06-16T23:15:03.812714Z",
     "iopub.status.idle": "2025-06-16T23:15:05.471134Z",
     "shell.execute_reply": "2025-06-16T23:15:05.470526Z",
     "shell.execute_reply.started": "2025-06-16T23:15:03.813371Z"
    },
    "id": "EQGRxAU9hNxo",
    "tags": []
   },
   "outputs": [
    {
     "name": "stdout",
     "output_type": "stream",
     "text": [
      "+------+--------------------+--------------------+--------------------+--------------------+--------------------+--------------------+\n",
      "|doc_id|                text|            document|            sentence|               token|                 pos|               label|\n",
      "+------+--------------------+--------------------+--------------------+--------------------+--------------------+--------------------+\n",
      "|     X|EU rejects German...|[{document, 0, 47...|[{document, 0, 47...|[{token, 0, 1, EU...|[{pos, 0, 1, NNP,...|[{named_entity, 0...|\n",
      "|     X|     Peter Blackburn|[{document, 0, 14...|[{document, 0, 14...|[{token, 0, 4, Pe...|[{pos, 0, 4, NNP,...|[{named_entity, 0...|\n",
      "+------+--------------------+--------------------+--------------------+--------------------+--------------------+--------------------+\n",
      "only showing top 2 rows\n",
      "\n"
     ]
    },
    {
     "data": {
      "text/plain": [
       "14041"
      ]
     },
     "execution_count": 131,
     "metadata": {},
     "output_type": "execute_result"
    }
   ],
   "source": [
    "# !wget -q https://raw.githubusercontent.com/JohnSnowLabs/spark-nlp-workshop/refs/heads/master/data/ner/eng.train -O eng.train\n",
    "\n",
    "from sparknlp.training import CoNLL\n",
    "data_conll = CoNLL(includeDocId=True,explodeSentences=True).readDataset(spark, \"./eng.train\")\n",
    "data_conll.show(2)\n",
    "data_conll.count()\n"
   ]
  },
  {
   "cell_type": "code",
   "execution_count": 132,
   "metadata": {
    "colab": {
     "base_uri": "https://localhost:8080/"
    },
    "execution": {
     "iopub.execute_input": "2025-06-16T23:15:12.983597Z",
     "iopub.status.busy": "2025-06-16T23:15:12.983063Z",
     "iopub.status.idle": "2025-06-16T23:15:13.110949Z",
     "shell.execute_reply": "2025-06-16T23:15:13.110186Z",
     "shell.execute_reply.started": "2025-06-16T23:15:12.983574Z"
    },
    "id": "aKfQgtJuhNuu",
    "outputId": "d80555a2-b103-4515-d2eb-5194030d5e7d",
    "tags": []
   },
   "outputs": [
    {
     "name": "stdout",
     "output_type": "stream",
     "text": [
      "+------+------------------------------------------------+\n",
      "|doc_id|                                            text|\n",
      "+------+------------------------------------------------+\n",
      "|     X|EU rejects German call to boycott British lamb .|\n",
      "|     X|                                 Peter Blackburn|\n",
      "+------+------------------------------------------------+\n",
      "only showing top 2 rows\n",
      "\n"
     ]
    }
   ],
   "source": [
    "input_spark_df = data_conll.select(\"doc_id\", \"text\")\n",
    "input_spark_df.show(2, truncate=50)"
   ]
  },
  {
   "cell_type": "code",
   "execution_count": 133,
   "metadata": {
    "colab": {
     "base_uri": "https://localhost:8080/"
    },
    "execution": {
     "iopub.execute_input": "2025-06-16T23:15:22.443526Z",
     "iopub.status.busy": "2025-06-16T23:15:22.442957Z",
     "iopub.status.idle": "2025-06-16T23:15:23.893542Z",
     "shell.execute_reply": "2025-06-16T23:15:23.892882Z",
     "shell.execute_reply.started": "2025-06-16T23:15:22.443500Z"
    },
    "id": "ydWkvgRMEQZr",
    "outputId": "2147019b-9c81-4052-d468-1547093eb498",
    "tags": []
   },
   "outputs": [
    {
     "data": {
      "text/plain": [
       "['doc_id',\n",
       " 'text',\n",
       " 'document',\n",
       " 'splitter',\n",
       " 'token',\n",
       " 'embeddings',\n",
       " 'ner_clinical_large',\n",
       " 'ner_chunk_clinical_large',\n",
       " 'ner_deid_generic_docwise',\n",
       " 'ner_deid_docwise_subentity',\n",
       " 'ner_deid_generic_docwise_merged_conll',\n",
       " 'ner_chunk_generic_docwise',\n",
       " 'ner_chunk_subentity_docwise',\n",
       " 'ner_chunk_merged_docwise',\n",
       " 'ner_zero_shot',\n",
       " 'ner_chunk_zero_shot_raw',\n",
       " 'ner_deid_subentity_docwise_new',\n",
       " 'ner_chunk_subentity_docwise_new_chunk',\n",
       " 'ner_chunk_zero_shot',\n",
       " 'deid_merged_ner_chunk',\n",
       " 'entity_icd10',\n",
       " 'entity_ssn',\n",
       " 'entity_account',\n",
       " 'entity_dln',\n",
       " 'entity_plate',\n",
       " 'entity_vin',\n",
       " 'entity_license',\n",
       " 'entity_country',\n",
       " 'entity_state',\n",
       " 'entity_age',\n",
       " 'entity_date',\n",
       " 'entity_phone',\n",
       " 'entity_phone2',\n",
       " 'entity_zip',\n",
       " 'entity_medicalrecord',\n",
       " 'entity_email',\n",
       " 'entity_ip_address',\n",
       " 'entity_cpt',\n",
       " 'entity_specimen',\n",
       " 'deid_merged_ner_rulebased',\n",
       " 'ner_chunk_raw',\n",
       " 'ner_chunk_processed',\n",
       " 'ner_chunk',\n",
       " 'mask_entity',\n",
       " 'obfuscated',\n",
       " 'ner_label']"
      ]
     },
     "execution_count": 133,
     "metadata": {},
     "output_type": "execute_result"
    }
   ],
   "source": [
    "results = modified_pipeline.transform(input_spark_df)\n",
    "results.columns"
   ]
  },
  {
   "cell_type": "code",
   "execution_count": 134,
   "metadata": {
    "execution": {
     "iopub.execute_input": "2025-06-16T23:15:25.007524Z",
     "iopub.status.busy": "2025-06-16T23:15:25.007009Z",
     "iopub.status.idle": "2025-06-16T23:15:25.032131Z",
     "shell.execute_reply": "2025-06-16T23:15:25.031567Z",
     "shell.execute_reply.started": "2025-06-16T23:15:25.007503Z"
    },
    "id": "0StaNylajdk6",
    "tags": []
   },
   "outputs": [],
   "source": [
    "result_df = results.select('doc_id','text','document','splitter',\n",
    "                          'token',\"embeddings\", 'ner_label')"
   ]
  },
  {
   "cell_type": "code",
   "execution_count": 135,
   "metadata": {
    "colab": {
     "base_uri": "https://localhost:8080/"
    },
    "execution": {
     "iopub.execute_input": "2025-06-16T23:15:26.713965Z",
     "iopub.status.busy": "2025-06-16T23:15:26.713427Z",
     "iopub.status.idle": "2025-06-16T23:15:29.778718Z",
     "shell.execute_reply": "2025-06-16T23:15:29.778045Z",
     "shell.execute_reply.started": "2025-06-16T23:15:26.713942Z"
    },
    "id": "BBYlSWtYkhDa",
    "outputId": "a5ba5ba7-644b-4ae3-b81f-4ae2af2f5a3c",
    "tags": []
   },
   "outputs": [
    {
     "name": "stderr",
     "output_type": "stream",
     "text": [
      "[Stage 1012:>                                                       (0 + 1) / 1]\r"
     ]
    },
    {
     "name": "stdout",
     "output_type": "stream",
     "text": [
      "+------+----------------------------------------+----------------------------------------+----------------------------------------+----------------------------------------+----------------------------------------+----------------------------------------+\n",
      "|doc_id|                                    text|                                document|                                splitter|                                   token|                              embeddings|                               ner_label|\n",
      "+------+----------------------------------------+----------------------------------------+----------------------------------------+----------------------------------------+----------------------------------------+----------------------------------------+\n",
      "|     X|EU rejects German call to boycott Bri...|[{document, 0, 47, EU rejects German ...|[{document, 0, 48, EU rejects German ...|[{token, 0, 1, EU, {sentence -> 0}, [...|[{word_embeddings, 0, 1, EU, {isOOV -...|[{named_entity, 0, 1, B-LOCATION, {wo...|\n",
      "|     X|                         Peter Blackburn|[{document, 0, 14, Peter Blackburn, {...|[{document, 0, 15, Peter Blackburn, {...|[{token, 0, 4, Peter, {sentence -> 0}...|[{word_embeddings, 0, 4, Peter, {isOO...|[{named_entity, 0, 4, B-NAME, {word -...|\n",
      "+------+----------------------------------------+----------------------------------------+----------------------------------------+----------------------------------------+----------------------------------------+----------------------------------------+\n",
      "only showing top 2 rows\n",
      "\n"
     ]
    },
    {
     "name": "stderr",
     "output_type": "stream",
     "text": [
      "                                                                                \r"
     ]
    }
   ],
   "source": [
    "result_df.show(2, truncate=40)"
   ]
  },
  {
   "cell_type": "code",
   "execution_count": 136,
   "metadata": {
    "colab": {
     "base_uri": "https://localhost:8080/"
    },
    "execution": {
     "iopub.execute_input": "2025-06-16T23:15:43.814245Z",
     "iopub.status.busy": "2025-06-16T23:15:43.813633Z",
     "iopub.status.idle": "2025-06-16T23:27:59.964730Z",
     "shell.execute_reply": "2025-06-16T23:27:59.964017Z",
     "shell.execute_reply.started": "2025-06-16T23:15:43.814221Z"
    },
    "id": "Q0BanBaWj3m2",
    "outputId": "d3cafa4d-5113-4ad3-ff40-e3e694cbcdb3",
    "tags": []
   },
   "outputs": [
    {
     "name": "stderr",
     "output_type": "stream",
     "text": [
      "                                                                                \r"
     ]
    },
    {
     "name": "stdout",
     "output_type": "stream",
     "text": [
      "CPU times: user 122 ms, sys: 29.1 ms, total: 151 ms\n",
      "Wall time: 12min 16s\n"
     ]
    }
   ],
   "source": [
    "%%time\n",
    "\n",
    "n_partitions = 48 \n",
    "\n",
    "# WRITING THE DATA\n",
    "result_df.repartition(n_partitions).write.mode(\"overwrite\").format(\"parquet\")\\\n",
    "    .save(f\"./data/result_df_{n_partitions}.parquet\")\n",
    "\n",
    "# READING THE DATA\n",
    "result_df = spark.read \\\n",
    "    .parquet(f\"./data/result_df_{n_partitions}.parquet\")\\\n",
    "    .repartition(n_partitions)"
   ]
  },
  {
   "cell_type": "markdown",
   "metadata": {
    "id": "fhc2OSHTkY92"
   },
   "source": [
    "# NER Training"
   ]
  },
  {
   "cell_type": "code",
   "execution_count": 140,
   "metadata": {
    "execution": {
     "iopub.execute_input": "2025-06-16T23:29:18.236659Z",
     "iopub.status.busy": "2025-06-16T23:29:18.236263Z",
     "iopub.status.idle": "2025-06-16T23:29:18.374636Z",
     "shell.execute_reply": "2025-06-16T23:29:18.374005Z",
     "shell.execute_reply.started": "2025-06-16T23:29:18.236636Z"
    },
    "tags": []
   },
   "outputs": [
    {
     "data": {
      "text/plain": [
       "14041"
      ]
     },
     "execution_count": 140,
     "metadata": {},
     "output_type": "execute_result"
    }
   ],
   "source": [
    "result_df.count()"
   ]
  },
  {
   "cell_type": "code",
   "execution_count": 141,
   "metadata": {
    "execution": {
     "iopub.execute_input": "2025-06-16T23:29:22.127987Z",
     "iopub.status.busy": "2025-06-16T23:29:22.127500Z",
     "iopub.status.idle": "2025-06-16T23:29:22.134972Z",
     "shell.execute_reply": "2025-06-16T23:29:22.134340Z",
     "shell.execute_reply.started": "2025-06-16T23:29:22.127965Z"
    },
    "tags": []
   },
   "outputs": [],
   "source": [
    "(train_df, test_df) = result_df.randomSplit([0.8, 0.2], seed = 42)"
   ]
  },
  {
   "cell_type": "code",
   "execution_count": 142,
   "metadata": {
    "execution": {
     "iopub.execute_input": "2025-06-16T23:29:26.698773Z",
     "iopub.status.busy": "2025-06-16T23:29:26.698442Z",
     "iopub.status.idle": "2025-06-16T23:29:31.253351Z",
     "shell.execute_reply": "2025-06-16T23:29:31.252744Z",
     "shell.execute_reply.started": "2025-06-16T23:29:26.698754Z"
    },
    "tags": []
   },
   "outputs": [
    {
     "name": "stderr",
     "output_type": "stream",
     "text": [
      "                                                                                \r"
     ]
    }
   ],
   "source": [
    "test_df.repartition(n_partitions).write.mode(\"overwrite\").format(\"parquet\")\\\n",
    "    .save(f\"./data/test_df.parquet\")"
   ]
  },
  {
   "cell_type": "markdown",
   "metadata": {},
   "source": [
    "## NERDL Graph\n",
    "\n",
    "We will use `TFGraphBuilder` annotator which can be used to create graphs in the model training pipeline. `TFGraphBuilder` inspects the data and creates the proper graph if a suitable version of TensorFlow is available. The graph is stored in the defined folder and loaded by the `MedicalNerApproach` annotator."
   ]
  },
  {
   "cell_type": "code",
   "execution_count": null,
   "metadata": {
    "tags": []
   },
   "outputs": [],
   "source": [
    "%pip install -q tensorflow==2.12.0\n",
    "%pip install -q tensorflow-addons"
   ]
  },
  {
   "cell_type": "code",
   "execution_count": 143,
   "metadata": {
    "execution": {
     "iopub.execute_input": "2025-06-16T23:29:37.953334Z",
     "iopub.status.busy": "2025-06-16T23:29:37.952768Z",
     "iopub.status.idle": "2025-06-16T23:29:37.957022Z",
     "shell.execute_reply": "2025-06-16T23:29:37.956332Z",
     "shell.execute_reply.started": "2025-06-16T23:29:37.953314Z"
    },
    "tags": []
   },
   "outputs": [],
   "source": [
    "from sparknlp_jsl.annotator import TFGraphBuilder\n",
    "\n",
    "graph_folder_path = \"medical_ner_graphs\"\n",
    "\n",
    "ner_graph_builder = TFGraphBuilder()\\\n",
    "    .setModelName(\"ner_dl\")\\\n",
    "    .setInputCols([\"splitter\", \"token\", \"embeddings\"]) \\\n",
    "    .setLabelColumn(\"ner_label\")\\\n",
    "    .setGraphFolder(graph_folder_path)\\\n",
    "    .setGraphFile(\"auto\")\\\n",
    "    .setHiddenUnitsNumber(50)\\\n",
    "    .setIsLicensed(True) # False -> if you want to use TFGraphBuilder with NerDLApproach"
   ]
  },
  {
   "cell_type": "code",
   "execution_count": 144,
   "metadata": {
    "execution": {
     "iopub.execute_input": "2025-06-16T23:29:45.548330Z",
     "iopub.status.busy": "2025-06-16T23:29:45.547984Z",
     "iopub.status.idle": "2025-06-16T23:29:45.557493Z",
     "shell.execute_reply": "2025-06-16T23:29:45.556961Z",
     "shell.execute_reply.started": "2025-06-16T23:29:45.548307Z"
    },
    "tags": []
   },
   "outputs": [],
   "source": [
    "nerTagger = MedicalNerApproach()\\\n",
    "    .setInputCols([\"splitter\", \"token\", \"embeddings\"])\\\n",
    "    .setLabelColumn(\"ner_label\")\\\n",
    "    .setOutputCol(\"ner\")\\\n",
    "    .setMaxEpochs(30)\\\n",
    "    .setBatchSize(8)\\\n",
    "    .setRandomSeed(0)\\\n",
    "    .setVerbose(1)\\\n",
    "    .setValidationSplit(0.2)\\\n",
    "    .setEvaluationLogExtended(True) \\\n",
    "    .setEnableOutputLogs(True)\\\n",
    "    .setIncludeConfidence(True)\\\n",
    "    .setOutputLogsPath('ner_logs')\\\n",
    "    .setEarlyStoppingCriterion(0.01)\\\n",
    "    .setEarlyStoppingPatience(5)\\\n",
    "    .setGraphFolder(graph_folder_path)\\\n",
    "    .setUseBestModel(False)\\\n",
    "    #.setTestDataset(\"./data/test_df.parquet\")\\\n",
    "    #.setEnableMemoryOptimizer(True) #>> if you have a limited memory and a large conll file, you can set this True to train batch by batch\n",
    "    #.setDatasetInfo(\"NCBI_sample_short dataset\") #You can add details regarding the dataset\n",
    "\n",
    "ner_pipeline = Pipeline(\n",
    "    stages=[\n",
    "          ner_graph_builder,\n",
    "          nerTagger\n",
    " ])"
   ]
  },
  {
   "cell_type": "code",
   "execution_count": 145,
   "metadata": {
    "execution": {
     "iopub.execute_input": "2025-06-16T23:29:47.245990Z",
     "iopub.status.busy": "2025-06-16T23:29:47.245343Z",
     "iopub.status.idle": "2025-06-16T23:43:51.037465Z",
     "shell.execute_reply": "2025-06-16T23:43:51.036833Z",
     "shell.execute_reply.started": "2025-06-16T23:29:47.245967Z"
    },
    "scrolled": true,
    "tags": []
   },
   "outputs": [
    {
     "name": "stderr",
     "output_type": "stream",
     "text": [
      "                                                                                \r"
     ]
    },
    {
     "name": "stdout",
     "output_type": "stream",
     "text": [
      "TF Graph Builder configuration:\n",
      "Model name: ner_dl\n",
      "Graph folder: medical_ner_graphs\n",
      "Graph file name: auto\n",
      "Build params: {'ntags': 13, 'embeddings_dim': 200, 'nchars': 85, 'is_medical': True, 'lstm_size': 50}\n",
      "ner_dl graph exported to medical_ner_graphs/blstm_13_200_50_85.pb\n",
      "Training started - total epochs: 30 - lr: 0.001 - batch size: 8 - labels: 13 - chars: 84 - training examples: 11190\n"
     ]
    },
    {
     "name": "stderr",
     "output_type": "stream",
     "text": [
      "                                                                                \r"
     ]
    },
    {
     "name": "stdout",
     "output_type": "stream",
     "text": [
      "Epoch 1/30 started, lr: 0.001, dataset size: 11190\n"
     ]
    },
    {
     "name": "stderr",
     "output_type": "stream",
     "text": [
      "                                                                                \r"
     ]
    },
    {
     "name": "stdout",
     "output_type": "stream",
     "text": [
      "Epoch 1/30 - 26.58s - total training loss: 6000.8135 - avg training loss: 5.372259 - batches: 1117\n",
      "Quality on validation dataset (20.0%), validation examples = 2238\n",
      "time to finish evaluation: 2.07s\n",
      "Total validation loss: 923.2025\tAvg validation loss: 3.2280\n",
      "label\t tp\t fp\t fn\t prec\t rec\t f1\n",
      "I-NAME\t 663\t 115\t 195\t 0.8521851\t 0.77272725\t 0.81051344\n",
      "I-CONTACT\t 0\t 0\t 58\t 0.0\t 0.0\t 0.0\n",
      "I-AGE\t 0\t 0\t 3\t 0.0\t 0.0\t 0.0\n",
      "I-IDNUM\t 0\t 0\t 5\t 0.0\t 0.0\t 0.0\n",
      "B-DATE\t 597\t 19\t 126\t 0.96915585\t 0.82572615\t 0.8917102\n",
      "I-DATE\t 57\t 6\t 53\t 0.9047619\t 0.5181818\t 0.6589595\n",
      "I-LOCATION\t 221\t 67\t 535\t 0.7673611\t 0.29232803\t 0.4233716\n",
      "B-NAME\t 751\t 233\t 243\t 0.76321137\t 0.7555332\t 0.75935286\n",
      "B-AGE\t 18\t 13\t 95\t 0.58064514\t 0.15929204\t 0.25\n",
      "B-LOCATION\t 1485\t 242\t 663\t 0.85987264\t 0.6913408\t 0.7664516\n",
      "B-IDNUM\t 0\t 0\t 26\t 0.0\t 0.0\t 0.0\n",
      "B-CONTACT\t 1\t 1\t 65\t 0.5\t 0.015151516\t 0.029411767\n",
      "tp: 3793 fp: 696 fn: 2067 labels: 12\n",
      "Macro-average\t prec: 0.51643276, rec: 0.33585677, f1: 0.40701526\n",
      "Micro-average\t prec: 0.8449543, rec: 0.6472696, f1: 0.7330177\n",
      "Epoch 2/30 started, lr: 9.950249E-4, dataset size: 11190\n"
     ]
    },
    {
     "name": "stderr",
     "output_type": "stream",
     "text": [
      "                                                                                \r"
     ]
    },
    {
     "name": "stdout",
     "output_type": "stream",
     "text": [
      "Epoch 2/30 - 24.92s - total training loss: 3631.148 - avg training loss: 3.250804 - batches: 1117\n",
      "Quality on validation dataset (20.0%), validation examples = 2238\n",
      "time to finish evaluation: 1.77s\n",
      "Total validation loss: 723.8810\tAvg validation loss: 2.5311\n",
      "label\t tp\t fp\t fn\t prec\t rec\t f1\n",
      "I-NAME\t 698\t 103\t 160\t 0.8714107\t 0.81351984\t 0.8414708\n",
      "I-CONTACT\t 29\t 31\t 29\t 0.48333332\t 0.5\t 0.4915254\n",
      "I-AGE\t 0\t 0\t 3\t 0.0\t 0.0\t 0.0\n",
      "I-IDNUM\t 0\t 0\t 5\t 0.0\t 0.0\t 0.0\n",
      "B-DATE\t 634\t 58\t 89\t 0.91618496\t 0.8769018\t 0.8961131\n",
      "I-DATE\t 74\t 10\t 36\t 0.88095236\t 0.6727273\t 0.7628866\n",
      "I-LOCATION\t 348\t 132\t 408\t 0.725\t 0.46031746\t 0.5631068\n",
      "B-NAME\t 776\t 179\t 218\t 0.81256545\t 0.7806841\t 0.7963058\n",
      "B-AGE\t 46\t 36\t 67\t 0.5609756\t 0.40707964\t 0.47179487\n",
      "B-LOCATION\t 1598\t 259\t 550\t 0.86052775\t 0.74394786\t 0.79800254\n",
      "B-IDNUM\t 0\t 1\t 26\t 0.0\t 0.0\t 0.0\n",
      "B-CONTACT\t 18\t 34\t 48\t 0.34615386\t 0.27272728\t 0.30508476\n",
      "tp: 4221 fp: 843 fn: 1639 labels: 12\n",
      "Macro-average\t prec: 0.538092, rec: 0.4606588, f1: 0.4963737\n",
      "Micro-average\t prec: 0.8335308, rec: 0.7203072, f1: 0.77279377\n",
      "Epoch 3/30 started, lr: 9.90099E-4, dataset size: 11190\n"
     ]
    },
    {
     "name": "stderr",
     "output_type": "stream",
     "text": [
      "                                                                                \r"
     ]
    },
    {
     "name": "stdout",
     "output_type": "stream",
     "text": [
      "Epoch 3/30 - 25.26s - total training loss: 3031.2466 - avg training loss: 2.7137392 - batches: 1117\n",
      "Quality on validation dataset (20.0%), validation examples = 2238\n",
      "time to finish evaluation: 1.78s\n",
      "Total validation loss: 637.5287\tAvg validation loss: 2.2291\n",
      "label\t tp\t fp\t fn\t prec\t rec\t f1\n",
      "I-NAME\t 712\t 118\t 146\t 0.8578313\t 0.82983685\t 0.8436019\n",
      "I-CONTACT\t 34\t 40\t 24\t 0.45945945\t 0.5862069\t 0.51515156\n",
      "I-AGE\t 0\t 1\t 3\t 0.0\t 0.0\t 0.0\n",
      "I-IDNUM\t 0\t 0\t 5\t 0.0\t 0.0\t 0.0\n",
      "B-DATE\t 657\t 92\t 66\t 0.87716955\t 0.9087137\t 0.8926631\n",
      "I-DATE\t 86\t 10\t 24\t 0.8958333\t 0.7818182\t 0.83495146\n",
      "I-LOCATION\t 347\t 98\t 409\t 0.77977526\t 0.45899472\t 0.5778518\n",
      "B-NAME\t 799\t 180\t 195\t 0.8161389\t 0.80382293\t 0.80993414\n",
      "B-AGE\t 57\t 33\t 56\t 0.6333333\t 0.50442475\t 0.56157637\n",
      "B-LOCATION\t 1589\t 232\t 559\t 0.87259746\t 0.7397579\t 0.80070543\n",
      "B-IDNUM\t 0\t 2\t 26\t 0.0\t 0.0\t 0.0\n",
      "B-CONTACT\t 19\t 28\t 47\t 0.40425533\t 0.28787878\t 0.33628318\n",
      "tp: 4300 fp: 834 fn: 1560 labels: 12\n",
      "Macro-average\t prec: 0.5496995, rec: 0.4917879, f1: 0.51913357\n",
      "Micro-average\t prec: 0.83755356, rec: 0.7337884, f1: 0.7822448\n",
      "Epoch 4/30 started, lr: 9.852217E-4, dataset size: 11190\n"
     ]
    },
    {
     "name": "stderr",
     "output_type": "stream",
     "text": [
      "                                                                                \r"
     ]
    },
    {
     "name": "stdout",
     "output_type": "stream",
     "text": [
      "Epoch 4/30 - 25.38s - total training loss: 2695.8843 - avg training loss: 2.4135044 - batches: 1117\n",
      "Quality on validation dataset (20.0%), validation examples = 2238\n",
      "time to finish evaluation: 2.08s\n",
      "Total validation loss: 587.0292\tAvg validation loss: 2.0525\n",
      "label\t tp\t fp\t fn\t prec\t rec\t f1\n",
      "I-NAME\t 698\t 90\t 160\t 0.88578683\t 0.81351984\t 0.84811664\n",
      "I-CONTACT\t 43\t 30\t 15\t 0.5890411\t 0.7413793\t 0.65648854\n",
      "I-AGE\t 0\t 0\t 3\t 0.0\t 0.0\t 0.0\n",
      "I-IDNUM\t 0\t 0\t 5\t 0.0\t 0.0\t 0.0\n",
      "B-DATE\t 662\t 87\t 61\t 0.88384515\t 0.9156293\t 0.89945656\n",
      "I-DATE\t 88\t 15\t 22\t 0.8543689\t 0.8\t 0.82629114\n",
      "I-LOCATION\t 417\t 212\t 339\t 0.6629571\t 0.5515873\t 0.6021661\n",
      "B-NAME\t 795\t 163\t 199\t 0.82985383\t 0.7997988\t 0.81454915\n",
      "B-AGE\t 53\t 22\t 60\t 0.70666665\t 0.46902654\t 0.5638298\n",
      "B-LOCATION\t 1550\t 195\t 598\t 0.88825214\t 0.7216015\t 0.79630107\n",
      "B-IDNUM\t 1\t 2\t 25\t 0.33333334\t 0.03846154\t 0.068965524\n",
      "B-CONTACT\t 23\t 40\t 43\t 0.36507937\t 0.34848484\t 0.35658914\n",
      "tp: 4330 fp: 856 fn: 1530 labels: 12\n",
      "Macro-average\t prec: 0.58326536, rec: 0.51662415, f1: 0.5479259\n",
      "Micro-average\t prec: 0.8349402, rec: 0.7389079, f1: 0.78399426\n",
      "Epoch 5/30 started, lr: 9.803922E-4, dataset size: 11190\n"
     ]
    },
    {
     "name": "stderr",
     "output_type": "stream",
     "text": [
      "                                                                                \r"
     ]
    },
    {
     "name": "stdout",
     "output_type": "stream",
     "text": [
      "Epoch 5/30 - 26.19s - total training loss: 2471.7085 - avg training loss: 2.2128098 - batches: 1117\n",
      "Quality on validation dataset (20.0%), validation examples = 2238\n",
      "time to finish evaluation: 1.87s\n",
      "Total validation loss: 560.2350\tAvg validation loss: 1.9589\n",
      "label\t tp\t fp\t fn\t prec\t rec\t f1\n",
      "I-NAME\t 718\t 97\t 140\t 0.8809816\t 0.83682984\t 0.85833836\n",
      "I-CONTACT\t 42\t 13\t 16\t 0.76363635\t 0.7241379\t 0.74336284\n",
      "I-AGE\t 2\t 8\t 1\t 0.2\t 0.6666667\t 0.30769232\n",
      "I-IDNUM\t 0\t 0\t 5\t 0.0\t 0.0\t 0.0\n",
      "B-DATE\t 647\t 52\t 76\t 0.92560804\t 0.89488244\t 0.90998596\n",
      "I-DATE\t 90\t 14\t 20\t 0.86538464\t 0.8181818\t 0.8411215\n",
      "I-LOCATION\t 395\t 141\t 361\t 0.7369403\t 0.52248675\t 0.61145514\n",
      "B-NAME\t 820\t 192\t 174\t 0.8102767\t 0.8249497\t 0.8175473\n",
      "B-AGE\t 58\t 33\t 55\t 0.63736266\t 0.5132743\t 0.5686275\n",
      "B-LOCATION\t 1723\t 297\t 425\t 0.8529703\t 0.80214155\t 0.8267755\n",
      "B-IDNUM\t 4\t 5\t 22\t 0.44444445\t 0.15384616\t 0.22857143\n",
      "B-CONTACT\t 23\t 23\t 43\t 0.5\t 0.34848484\t 0.41071427\n",
      "tp: 4522 fp: 875 fn: 1338 labels: 12\n",
      "Macro-average\t prec: 0.6348004, rec: 0.5921568, f1: 0.61273754\n",
      "Micro-average\t prec: 0.83787286, rec: 0.77167237, f1: 0.80341125\n",
      "Epoch 6/30 started, lr: 9.756098E-4, dataset size: 11190\n"
     ]
    },
    {
     "name": "stderr",
     "output_type": "stream",
     "text": [
      "                                                                                \r"
     ]
    },
    {
     "name": "stdout",
     "output_type": "stream",
     "text": [
      "Epoch 6/30 - 25.38s - total training loss: 2302.556 - avg training loss: 2.0613751 - batches: 1117\n",
      "Quality on validation dataset (20.0%), validation examples = 2238\n",
      "time to finish evaluation: 1.78s\n",
      "Total validation loss: 541.1011\tAvg validation loss: 1.8920\n",
      "label\t tp\t fp\t fn\t prec\t rec\t f1\n",
      "I-NAME\t 736\t 114\t 122\t 0.86588234\t 0.8578088\t 0.8618266\n",
      "I-CONTACT\t 36\t 8\t 22\t 0.8181818\t 0.62068963\t 0.7058823\n",
      "I-AGE\t 0\t 1\t 3\t 0.0\t 0.0\t 0.0\n",
      "I-IDNUM\t 0\t 3\t 5\t 0.0\t 0.0\t 0.0\n",
      "B-DATE\t 653\t 61\t 70\t 0.9145658\t 0.9031812\t 0.90883785\n",
      "I-DATE\t 88\t 11\t 22\t 0.8888889\t 0.8\t 0.84210527\n",
      "I-LOCATION\t 365\t 114\t 391\t 0.7620042\t 0.48280424\t 0.5910931\n",
      "B-NAME\t 832\t 191\t 162\t 0.81329423\t 0.8370221\t 0.8249876\n",
      "B-AGE\t 56\t 24\t 57\t 0.7\t 0.49557522\t 0.5803108\n",
      "B-LOCATION\t 1712\t 264\t 436\t 0.8663968\t 0.7970205\t 0.8302619\n",
      "B-IDNUM\t 1\t 3\t 25\t 0.25\t 0.03846154\t 0.06666667\n",
      "B-CONTACT\t 25\t 24\t 41\t 0.5102041\t 0.37878788\t 0.4347826\n",
      "tp: 4504 fp: 818 fn: 1356 labels: 12\n",
      "Macro-average\t prec: 0.6157849, rec: 0.51761264, f1: 0.562447\n",
      "Micro-average\t prec: 0.8462984, rec: 0.7686007, f1: 0.8055804\n",
      "Epoch 7/30 started, lr: 9.7087387E-4, dataset size: 11190\n"
     ]
    },
    {
     "name": "stderr",
     "output_type": "stream",
     "text": [
      "                                                                                \r"
     ]
    },
    {
     "name": "stdout",
     "output_type": "stream",
     "text": [
      "Epoch 7/30 - 25.34s - total training loss: 2185.92 - avg training loss: 1.956956 - batches: 1117\n",
      "Quality on validation dataset (20.0%), validation examples = 2238\n",
      "time to finish evaluation: 1.76s\n",
      "Total validation loss: 517.6503\tAvg validation loss: 1.8100\n",
      "label\t tp\t fp\t fn\t prec\t rec\t f1\n",
      "I-NAME\t 742\t 112\t 116\t 0.86885244\t 0.8648019\t 0.8668224\n",
      "I-CONTACT\t 43\t 29\t 15\t 0.5972222\t 0.7413793\t 0.6615384\n",
      "I-AGE\t 2\t 4\t 1\t 0.33333334\t 0.6666667\t 0.44444448\n",
      "I-IDNUM\t 0\t 2\t 5\t 0.0\t 0.0\t 0.0\n",
      "B-DATE\t 653\t 50\t 70\t 0.9288762\t 0.9031812\t 0.9158485\n",
      "I-DATE\t 91\t 10\t 19\t 0.9009901\t 0.8272727\t 0.8625592\n",
      "I-LOCATION\t 370\t 109\t 386\t 0.7724426\t 0.489418\t 0.59919024\n",
      "B-NAME\t 838\t 193\t 156\t 0.8128031\t 0.84305835\t 0.82765436\n",
      "B-AGE\t 60\t 28\t 53\t 0.6818182\t 0.53097343\t 0.5970149\n",
      "B-LOCATION\t 1742\t 273\t 406\t 0.86451614\t 0.81098694\t 0.83689654\n",
      "B-IDNUM\t 2\t 1\t 24\t 0.6666667\t 0.07692308\t 0.13793105\n",
      "B-CONTACT\t 29\t 48\t 37\t 0.37662336\t 0.43939394\t 0.4055944\n",
      "tp: 4572 fp: 859 fn: 1288 labels: 12\n",
      "Macro-average\t prec: 0.6503454, rec: 0.59950465, f1: 0.62389094\n",
      "Micro-average\t prec: 0.8418339, rec: 0.7802048, f1: 0.8098486\n",
      "Epoch 8/30 started, lr: 9.6618367E-4, dataset size: 11190\n"
     ]
    },
    {
     "name": "stderr",
     "output_type": "stream",
     "text": [
      "                                                                                \r"
     ]
    },
    {
     "name": "stdout",
     "output_type": "stream",
     "text": [
      "Epoch 8/30 - 25.08s - total training loss: 2070.598 - avg training loss: 1.8537134 - batches: 1117\n",
      "Quality on validation dataset (20.0%), validation examples = 2238\n",
      "time to finish evaluation: 1.74s\n",
      "Total validation loss: 506.5224\tAvg validation loss: 1.7711\n",
      "label\t tp\t fp\t fn\t prec\t rec\t f1\n",
      "I-NAME\t 721\t 89\t 137\t 0.8901235\t 0.84032637\t 0.8645084\n",
      "I-CONTACT\t 35\t 4\t 23\t 0.8974359\t 0.6034483\t 0.72164947\n",
      "I-AGE\t 3\t 8\t 0\t 0.27272728\t 1.0\t 0.42857146\n",
      "I-IDNUM\t 0\t 10\t 5\t 0.0\t 0.0\t 0.0\n",
      "B-DATE\t 656\t 64\t 67\t 0.9111111\t 0.9073306\t 0.90921694\n",
      "I-DATE\t 89\t 9\t 21\t 0.90816325\t 0.8090909\t 0.8557692\n",
      "I-LOCATION\t 401\t 136\t 355\t 0.7467412\t 0.5304233\t 0.620263\n",
      "B-NAME\t 829\t 178\t 165\t 0.82323736\t 0.83400404\t 0.82858574\n",
      "B-AGE\t 52\t 18\t 61\t 0.74285716\t 0.460177\t 0.568306\n",
      "B-LOCATION\t 1781\t 324\t 367\t 0.8460808\t 0.8291434\t 0.83752644\n",
      "B-IDNUM\t 3\t 6\t 23\t 0.33333334\t 0.115384616\t 0.17142858\n",
      "B-CONTACT\t 24\t 22\t 42\t 0.5217391\t 0.36363637\t 0.42857143\n",
      "tp: 4594 fp: 868 fn: 1266 labels: 12\n",
      "Macro-average\t prec: 0.65779585, rec: 0.6077471, f1: 0.6317818\n",
      "Micro-average\t prec: 0.8410838, rec: 0.78395903, f1: 0.81151736\n",
      "Epoch 9/30 started, lr: 9.615385E-4, dataset size: 11190\n"
     ]
    },
    {
     "name": "stderr",
     "output_type": "stream",
     "text": [
      "                                                                                \r"
     ]
    },
    {
     "name": "stdout",
     "output_type": "stream",
     "text": [
      "Epoch 9/30 - 24.75s - total training loss: 1988.499 - avg training loss: 1.780214 - batches: 1117\n",
      "Quality on validation dataset (20.0%), validation examples = 2238\n",
      "time to finish evaluation: 1.74s\n",
      "Total validation loss: 502.7877\tAvg validation loss: 1.7580\n",
      "label\t tp\t fp\t fn\t prec\t rec\t f1\n",
      "I-NAME\t 757\t 127\t 101\t 0.85633487\t 0.8822844\t 0.86911595\n",
      "I-CONTACT\t 46\t 24\t 12\t 0.6571429\t 0.79310346\t 0.71875006\n",
      "I-AGE\t 2\t 3\t 1\t 0.4\t 0.6666667\t 0.5\n",
      "I-IDNUM\t 0\t 5\t 5\t 0.0\t 0.0\t 0.0\n",
      "B-DATE\t 650\t 63\t 73\t 0.91164094\t 0.8990318\t 0.90529245\n",
      "I-DATE\t 89\t 8\t 21\t 0.91752577\t 0.8090909\t 0.85990345\n",
      "I-LOCATION\t 391\t 93\t 365\t 0.80785125\t 0.51719576\t 0.63064516\n",
      "B-NAME\t 843\t 188\t 151\t 0.81765276\t 0.8480885\t 0.8325926\n",
      "B-AGE\t 68\t 30\t 45\t 0.6938776\t 0.6017699\t 0.6445498\n",
      "B-LOCATION\t 1756\t 267\t 392\t 0.8680178\t 0.81750464\t 0.8420043\n",
      "B-IDNUM\t 2\t 3\t 24\t 0.4\t 0.07692308\t 0.12903227\n",
      "B-CONTACT\t 33\t 44\t 33\t 0.42857143\t 0.5\t 0.46153846\n",
      "tp: 4637 fp: 855 fn: 1223 labels: 12\n",
      "Macro-average\t prec: 0.64655125, rec: 0.61763823, f1: 0.6317641\n",
      "Micro-average\t prec: 0.844319, rec: 0.7912969, f1: 0.81694853\n",
      "Epoch 10/30 started, lr: 9.569379E-4, dataset size: 11190\n"
     ]
    },
    {
     "name": "stderr",
     "output_type": "stream",
     "text": [
      "                                                                                \r"
     ]
    },
    {
     "name": "stdout",
     "output_type": "stream",
     "text": [
      "Epoch 10/30 - 24.99s - total training loss: 1934.6532 - avg training loss: 1.7320082 - batches: 1117\n",
      "Quality on validation dataset (20.0%), validation examples = 2238\n",
      "time to finish evaluation: 1.79s\n",
      "Total validation loss: 507.3811\tAvg validation loss: 1.7741\n",
      "label\t tp\t fp\t fn\t prec\t rec\t f1\n",
      "I-NAME\t 725\t 96\t 133\t 0.88306946\t 0.84498835\t 0.86360925\n",
      "I-CONTACT\t 27\t 0\t 31\t 1.0\t 0.46551725\t 0.63529414\n",
      "I-AGE\t 3\t 6\t 0\t 0.33333334\t 1.0\t 0.5\n",
      "I-IDNUM\t 0\t 3\t 5\t 0.0\t 0.0\t 0.0\n",
      "B-DATE\t 664\t 76\t 59\t 0.8972973\t 0.9183956\t 0.9077239\n",
      "I-DATE\t 92\t 13\t 18\t 0.8761905\t 0.8363636\t 0.8558139\n",
      "I-LOCATION\t 417\t 129\t 339\t 0.76373625\t 0.5515873\t 0.64055294\n",
      "B-NAME\t 836\t 198\t 158\t 0.80851066\t 0.8410463\t 0.82445765\n",
      "B-AGE\t 70\t 26\t 43\t 0.7291667\t 0.61946905\t 0.6698565\n",
      "B-LOCATION\t 1779\t 309\t 369\t 0.8520115\t 0.82821226\t 0.8399434\n",
      "B-IDNUM\t 3\t 4\t 23\t 0.42857143\t 0.115384616\t 0.18181819\n",
      "B-CONTACT\t 23\t 22\t 43\t 0.51111114\t 0.34848484\t 0.4144144\n",
      "tp: 4639 fp: 882 fn: 1221 labels: 12\n",
      "Macro-average\t prec: 0.6735832, rec: 0.6141208, f1: 0.6424791\n",
      "Micro-average\t prec: 0.8402463, rec: 0.7916382, f1: 0.8152183\n",
      "Epoch 11/30 started, lr: 9.5238106E-4, dataset size: 11190\n"
     ]
    },
    {
     "name": "stderr",
     "output_type": "stream",
     "text": [
      "                                                                                \r"
     ]
    },
    {
     "name": "stdout",
     "output_type": "stream",
     "text": [
      "Epoch 11/30 - 26.59s - total training loss: 1846.9413 - avg training loss: 1.6534837 - batches: 1117\n",
      "Quality on validation dataset (20.0%), validation examples = 2238\n",
      "time to finish evaluation: 1.80s\n",
      "Total validation loss: 503.6275\tAvg validation loss: 1.7609\n",
      "label\t tp\t fp\t fn\t prec\t rec\t f1\n",
      "I-NAME\t 697\t 75\t 161\t 0.90284973\t 0.8123543\t 0.8552148\n",
      "I-CONTACT\t 44\t 15\t 14\t 0.7457627\t 0.7586207\t 0.75213677\n",
      "I-AGE\t 2\t 5\t 1\t 0.2857143\t 0.6666667\t 0.4\n",
      "I-IDNUM\t 0\t 3\t 5\t 0.0\t 0.0\t 0.0\n",
      "B-DATE\t 648\t 58\t 75\t 0.91784704\t 0.89626557\t 0.9069279\n",
      "I-DATE\t 90\t 12\t 20\t 0.88235295\t 0.8181818\t 0.8490566\n",
      "I-LOCATION\t 412\t 134\t 344\t 0.75457877\t 0.54497355\t 0.6328725\n",
      "B-NAME\t 777\t 119\t 217\t 0.8671875\t 0.7816901\t 0.8222222\n",
      "B-AGE\t 63\t 27\t 50\t 0.7\t 0.5575221\t 0.62068963\n",
      "B-LOCATION\t 1748\t 235\t 400\t 0.8814927\t 0.81378025\t 0.84628415\n",
      "B-IDNUM\t 2\t 4\t 24\t 0.33333334\t 0.07692308\t 0.12500001\n",
      "B-CONTACT\t 29\t 24\t 37\t 0.5471698\t 0.43939394\t 0.48739496\n",
      "tp: 4512 fp: 711 fn: 1348 labels: 12\n",
      "Macro-average\t prec: 0.651524, rec: 0.5971977, f1: 0.62317914\n",
      "Micro-average\t prec: 0.86387134, rec: 0.7699659, f1: 0.81422\n",
      "Epoch 12/30 started, lr: 9.478674E-4, dataset size: 11190\n"
     ]
    },
    {
     "name": "stderr",
     "output_type": "stream",
     "text": [
      "                                                                                \r"
     ]
    },
    {
     "name": "stdout",
     "output_type": "stream",
     "text": [
      "Epoch 12/30 - 25.28s - total training loss: 1803.9219 - avg training loss: 1.6149703 - batches: 1117\n",
      "Quality on validation dataset (20.0%), validation examples = 2238\n",
      "time to finish evaluation: 1.76s\n",
      "Total validation loss: 491.9632\tAvg validation loss: 1.7202\n",
      "label\t tp\t fp\t fn\t prec\t rec\t f1\n",
      "I-NAME\t 741\t 106\t 117\t 0.8748524\t 0.8636364\t 0.8692082\n",
      "I-CONTACT\t 38\t 5\t 20\t 0.88372093\t 0.6551724\t 0.75247526\n",
      "I-AGE\t 2\t 6\t 1\t 0.25\t 0.6666667\t 0.36363637\n",
      "I-IDNUM\t 1\t 12\t 4\t 0.07692308\t 0.2\t 0.11111111\n",
      "B-DATE\t 670\t 92\t 53\t 0.87926507\t 0.92669433\t 0.90235686\n",
      "I-DATE\t 92\t 14\t 18\t 0.8679245\t 0.8363636\t 0.8518518\n",
      "I-LOCATION\t 428\t 152\t 328\t 0.737931\t 0.56613755\t 0.6407185\n",
      "B-NAME\t 816\t 137\t 178\t 0.85624343\t 0.82092553\t 0.8382126\n",
      "B-AGE\t 66\t 18\t 47\t 0.78571427\t 0.5840708\t 0.67005074\n",
      "B-LOCATION\t 1753\t 268\t 395\t 0.86739236\t 0.816108\t 0.8409691\n",
      "B-IDNUM\t 4\t 7\t 22\t 0.36363637\t 0.15384616\t 0.21621622\n",
      "B-CONTACT\t 26\t 29\t 40\t 0.47272727\t 0.3939394\t 0.42975208\n",
      "tp: 4637 fp: 846 fn: 1223 labels: 12\n",
      "Macro-average\t prec: 0.65969425, rec: 0.6236301, f1: 0.6411555\n",
      "Micro-average\t prec: 0.8457049, rec: 0.7912969, f1: 0.8175968\n",
      "Epoch 13/30 started, lr: 9.433963E-4, dataset size: 11190\n"
     ]
    },
    {
     "name": "stderr",
     "output_type": "stream",
     "text": [
      "                                                                                \r"
     ]
    },
    {
     "name": "stdout",
     "output_type": "stream",
     "text": [
      "Epoch 13/30 - 25.22s - total training loss: 1735.0734 - avg training loss: 1.5533334 - batches: 1117\n",
      "Quality on validation dataset (20.0%), validation examples = 2238\n",
      "time to finish evaluation: 1.78s\n",
      "Total validation loss: 494.6951\tAvg validation loss: 1.7297\n",
      "label\t tp\t fp\t fn\t prec\t rec\t f1\n",
      "I-NAME\t 766\t 140\t 92\t 0.8454746\t 0.89277387\t 0.8684807\n",
      "I-CONTACT\t 50\t 25\t 8\t 0.6666667\t 0.86206895\t 0.7518797\n",
      "I-AGE\t 2\t 5\t 1\t 0.2857143\t 0.6666667\t 0.4\n",
      "I-IDNUM\t 0\t 3\t 5\t 0.0\t 0.0\t 0.0\n",
      "B-DATE\t 661\t 60\t 62\t 0.91678226\t 0.9142462\t 0.91551244\n",
      "I-DATE\t 88\t 9\t 22\t 0.9072165\t 0.8\t 0.85024154\n",
      "I-LOCATION\t 387\t 115\t 369\t 0.77091634\t 0.5119048\t 0.6152623\n",
      "B-NAME\t 840\t 177\t 154\t 0.8259587\t 0.8450704\t 0.8354053\n",
      "B-AGE\t 58\t 21\t 55\t 0.73417723\t 0.5132743\t 0.6041666\n",
      "B-LOCATION\t 1720\t 245\t 428\t 0.87531805\t 0.8007449\t 0.8363725\n",
      "B-IDNUM\t 4\t 15\t 22\t 0.21052632\t 0.15384616\t 0.17777777\n",
      "B-CONTACT\t 31\t 28\t 35\t 0.5254237\t 0.46969697\t 0.496\n",
      "tp: 4607 fp: 843 fn: 1253 labels: 12\n",
      "Macro-average\t prec: 0.6303479, rec: 0.6191911, f1: 0.6247197\n",
      "Micro-average\t prec: 0.8453211, rec: 0.78617746, f1: 0.8146773\n",
      "Epoch 14/30 started, lr: 9.389671E-4, dataset size: 11190\n"
     ]
    },
    {
     "name": "stderr",
     "output_type": "stream",
     "text": [
      "                                                                                \r"
     ]
    },
    {
     "name": "stdout",
     "output_type": "stream",
     "text": [
      "Epoch 14/30 - 25.31s - total training loss: 1691.0828 - avg training loss: 1.5139506 - batches: 1117\n",
      "Quality on validation dataset (20.0%), validation examples = 2238\n",
      "time to finish evaluation: 1.76s\n",
      "Total validation loss: 506.0290\tAvg validation loss: 1.7693\n",
      "label\t tp\t fp\t fn\t prec\t rec\t f1\n",
      "I-NAME\t 729\t 91\t 129\t 0.8890244\t 0.8496503\t 0.86889154\n",
      "I-CONTACT\t 33\t 5\t 25\t 0.8684211\t 0.5689655\t 0.6875\n",
      "I-AGE\t 2\t 6\t 1\t 0.25\t 0.6666667\t 0.36363637\n",
      "I-IDNUM\t 1\t 7\t 4\t 0.125\t 0.2\t 0.15384616\n",
      "B-DATE\t 666\t 69\t 57\t 0.90612245\t 0.92116183\t 0.9135802\n",
      "I-DATE\t 90\t 9\t 20\t 0.90909094\t 0.8181818\t 0.861244\n",
      "I-LOCATION\t 378\t 83\t 378\t 0.8199566\t 0.5\t 0.62119967\n",
      "B-NAME\t 834\t 188\t 160\t 0.81604695\t 0.8390342\t 0.82738096\n",
      "B-AGE\t 64\t 16\t 49\t 0.8\t 0.5663717\t 0.6632125\n",
      "B-LOCATION\t 1763\t 276\t 385\t 0.8646395\t 0.8207635\t 0.84213036\n",
      "B-IDNUM\t 6\t 10\t 20\t 0.375\t 0.23076923\t 0.2857143\n",
      "B-CONTACT\t 28\t 34\t 38\t 0.4516129\t 0.42424244\t 0.4375\n",
      "tp: 4594 fp: 794 fn: 1266 labels: 12\n",
      "Macro-average\t prec: 0.6729095, rec: 0.6171506, f1: 0.6438251\n",
      "Micro-average\t prec: 0.8526355, rec: 0.78395903, f1: 0.8168563\n",
      "Epoch 15/30 started, lr: 9.345794E-4, dataset size: 11190\n"
     ]
    },
    {
     "name": "stderr",
     "output_type": "stream",
     "text": [
      "                                                                                \r"
     ]
    },
    {
     "name": "stdout",
     "output_type": "stream",
     "text": [
      "Epoch 15/30 - 25.66s - total training loss: 1641.4646 - avg training loss: 1.4695296 - batches: 1117\n",
      "Quality on validation dataset (20.0%), validation examples = 2238\n",
      "time to finish evaluation: 1.78s\n",
      "Total validation loss: 493.5042\tAvg validation loss: 1.7255\n",
      "label\t tp\t fp\t fn\t prec\t rec\t f1\n",
      "I-NAME\t 736\t 106\t 122\t 0.87410927\t 0.8578088\t 0.86588234\n",
      "I-CONTACT\t 43\t 10\t 15\t 0.8113208\t 0.7413793\t 0.77477485\n",
      "I-AGE\t 2\t 4\t 1\t 0.33333334\t 0.6666667\t 0.44444448\n",
      "I-IDNUM\t 1\t 17\t 4\t 0.055555556\t 0.2\t 0.086956516\n",
      "B-DATE\t 662\t 60\t 61\t 0.91689754\t 0.9156293\t 0.916263\n",
      "I-DATE\t 92\t 18\t 18\t 0.8363636\t 0.8363636\t 0.8363636\n",
      "I-LOCATION\t 388\t 109\t 368\t 0.7806841\t 0.5132275\t 0.6193136\n",
      "B-NAME\t 843\t 195\t 151\t 0.81213874\t 0.8480885\t 0.8297244\n",
      "B-AGE\t 72\t 23\t 41\t 0.75789475\t 0.63716817\t 0.6923077\n",
      "B-LOCATION\t 1735\t 232\t 413\t 0.8820539\t 0.8077281\t 0.8432564\n",
      "B-IDNUM\t 4\t 13\t 22\t 0.23529412\t 0.15384616\t 0.18604651\n",
      "B-CONTACT\t 34\t 44\t 32\t 0.43589744\t 0.5151515\t 0.4722222\n",
      "tp: 4612 fp: 831 fn: 1248 labels: 12\n",
      "Macro-average\t prec: 0.6442952, rec: 0.6410881, f1: 0.6426877\n",
      "Micro-average\t prec: 0.8473268, rec: 0.7870307, f1: 0.8160665\n",
      "Epoch 16/30 started, lr: 9.302326E-4, dataset size: 11190\n"
     ]
    },
    {
     "name": "stderr",
     "output_type": "stream",
     "text": [
      "                                                                                \r"
     ]
    },
    {
     "name": "stdout",
     "output_type": "stream",
     "text": [
      "Epoch 16/30 - 25.00s - total training loss: 1598.9236 - avg training loss: 1.4314445 - batches: 1117\n",
      "Quality on validation dataset (20.0%), validation examples = 2238\n",
      "time to finish evaluation: 1.78s\n",
      "Total validation loss: 482.6834\tAvg validation loss: 1.6877\n",
      "label\t tp\t fp\t fn\t prec\t rec\t f1\n",
      "I-NAME\t 759\t 126\t 99\t 0.8576271\t 0.88461536\t 0.8709122\n",
      "I-CONTACT\t 49\t 24\t 9\t 0.6712329\t 0.8448276\t 0.74809164\n",
      "I-AGE\t 2\t 8\t 1\t 0.2\t 0.6666667\t 0.30769232\n",
      "I-IDNUM\t 0\t 5\t 5\t 0.0\t 0.0\t 0.0\n",
      "B-DATE\t 666\t 76\t 57\t 0.8975741\t 0.92116183\t 0.90921503\n",
      "I-DATE\t 92\t 7\t 18\t 0.9292929\t 0.8363636\t 0.88038284\n",
      "I-LOCATION\t 439\t 220\t 317\t 0.6661608\t 0.5806878\t 0.62049466\n",
      "B-NAME\t 843\t 193\t 151\t 0.8137066\t 0.8480885\t 0.83054185\n",
      "B-AGE\t 71\t 30\t 42\t 0.7029703\t 0.6283186\t 0.66355145\n",
      "B-LOCATION\t 1742\t 260\t 406\t 0.8701299\t 0.81098694\t 0.8395181\n",
      "B-IDNUM\t 4\t 8\t 22\t 0.33333334\t 0.15384616\t 0.21052632\n",
      "B-CONTACT\t 30\t 33\t 36\t 0.47619048\t 0.45454547\t 0.4651163\n",
      "tp: 4697 fp: 990 fn: 1163 labels: 12\n",
      "Macro-average\t prec: 0.61818486, rec: 0.63584244, f1: 0.6268893\n",
      "Micro-average\t prec: 0.82591873, rec: 0.80153584, f1: 0.81354463\n",
      "Epoch 17/30 started, lr: 9.259259E-4, dataset size: 11190\n"
     ]
    },
    {
     "name": "stderr",
     "output_type": "stream",
     "text": [
      "                                                                                \r"
     ]
    },
    {
     "name": "stdout",
     "output_type": "stream",
     "text": [
      "Epoch 17/30 - 25.15s - total training loss: 1569.9241 - avg training loss: 1.4054826 - batches: 1117\n",
      "Quality on validation dataset (20.0%), validation examples = 2238\n",
      "time to finish evaluation: 1.74s\n",
      "Total validation loss: 498.1250\tAvg validation loss: 1.7417\n",
      "label\t tp\t fp\t fn\t prec\t rec\t f1\n",
      "I-NAME\t 711\t 81\t 147\t 0.89772725\t 0.82867134\t 0.8618182\n",
      "I-CONTACT\t 45\t 6\t 13\t 0.88235295\t 0.7758621\t 0.82568806\n",
      "I-AGE\t 2\t 5\t 1\t 0.2857143\t 0.6666667\t 0.4\n",
      "I-IDNUM\t 0\t 4\t 5\t 0.0\t 0.0\t 0.0\n",
      "B-DATE\t 676\t 92\t 47\t 0.8802083\t 0.9349931\t 0.906774\n",
      "I-DATE\t 93\t 13\t 17\t 0.8773585\t 0.8454546\t 0.8611111\n",
      "I-LOCATION\t 389\t 94\t 367\t 0.805383\t 0.51455027\t 0.62792575\n",
      "B-NAME\t 798\t 139\t 196\t 0.85165423\t 0.8028169\t 0.8265148\n",
      "B-AGE\t 55\t 11\t 58\t 0.8333333\t 0.48672566\t 0.61452514\n",
      "B-LOCATION\t 1747\t 233\t 401\t 0.8823232\t 0.81331474\t 0.84641474\n",
      "B-IDNUM\t 2\t 6\t 24\t 0.25\t 0.07692308\t 0.11764707\n",
      "B-CONTACT\t 29\t 25\t 37\t 0.537037\t 0.43939394\t 0.48333332\n",
      "tp: 4547 fp: 709 fn: 1313 labels: 12\n",
      "Macro-average\t prec: 0.66525763, rec: 0.59878105, f1: 0.6302713\n",
      "Micro-average\t prec: 0.8651065, rec: 0.7759386, f1: 0.81810004\n",
      "Epoch 18/30 started, lr: 9.21659E-4, dataset size: 11190\n"
     ]
    },
    {
     "name": "stderr",
     "output_type": "stream",
     "text": [
      "                                                                                \r"
     ]
    },
    {
     "name": "stdout",
     "output_type": "stream",
     "text": [
      "Epoch 18/30 - 25.49s - total training loss: 1517.5596 - avg training loss: 1.358603 - batches: 1117\n",
      "Quality on validation dataset (20.0%), validation examples = 2238\n",
      "time to finish evaluation: 1.79s\n",
      "Total validation loss: 493.3323\tAvg validation loss: 1.7249\n",
      "label\t tp\t fp\t fn\t prec\t rec\t f1\n",
      "I-NAME\t 736\t 118\t 122\t 0.8618267\t 0.8578088\t 0.8598131\n",
      "I-CONTACT\t 42\t 5\t 16\t 0.89361703\t 0.7241379\t 0.79999995\n",
      "I-AGE\t 0\t 3\t 3\t 0.0\t 0.0\t 0.0\n",
      "I-IDNUM\t 1\t 4\t 4\t 0.2\t 0.2\t 0.20000002\n",
      "B-DATE\t 658\t 58\t 65\t 0.9189944\t 0.9100968\t 0.91452396\n",
      "I-DATE\t 92\t 6\t 18\t 0.93877554\t 0.8363636\t 0.88461536\n",
      "I-LOCATION\t 398\t 132\t 358\t 0.7509434\t 0.52645504\t 0.61897355\n",
      "B-NAME\t 790\t 130\t 204\t 0.8586956\t 0.79476863\t 0.8254963\n",
      "B-AGE\t 60\t 14\t 53\t 0.8108108\t 0.53097343\t 0.6417112\n",
      "B-LOCATION\t 1718\t 241\t 430\t 0.87697804\t 0.7998138\t 0.83662033\n",
      "B-IDNUM\t 6\t 8\t 20\t 0.42857143\t 0.23076923\t 0.29999998\n",
      "B-CONTACT\t 27\t 27\t 39\t 0.5\t 0.4090909\t 0.45000002\n",
      "tp: 4528 fp: 746 fn: 1332 labels: 12\n",
      "Macro-average\t prec: 0.66993445, rec: 0.5683565, f1: 0.6149792\n",
      "Micro-average\t prec: 0.8585514, rec: 0.77269626, f1: 0.8133645\n",
      "Epoch 19/30 started, lr: 9.174312E-4, dataset size: 11190\n"
     ]
    },
    {
     "name": "stderr",
     "output_type": "stream",
     "text": [
      "                                                                                \r"
     ]
    },
    {
     "name": "stdout",
     "output_type": "stream",
     "text": [
      "Epoch 19/30 - 25.42s - total training loss: 1514.4695 - avg training loss: 1.3558366 - batches: 1117\n",
      "Quality on validation dataset (20.0%), validation examples = 2238\n",
      "time to finish evaluation: 1.79s\n",
      "Total validation loss: 504.7399\tAvg validation loss: 1.7648\n",
      "label\t tp\t fp\t fn\t prec\t rec\t f1\n",
      "I-NAME\t 732\t 83\t 126\t 0.8981595\t 0.85314685\t 0.87507474\n",
      "I-CONTACT\t 52\t 28\t 6\t 0.65\t 0.8965517\t 0.7536232\n",
      "I-AGE\t 3\t 7\t 0\t 0.3\t 1.0\t 0.4615385\n",
      "I-IDNUM\t 0\t 4\t 5\t 0.0\t 0.0\t 0.0\n",
      "B-DATE\t 674\t 85\t 49\t 0.88801056\t 0.93222684\t 0.90958166\n",
      "I-DATE\t 92\t 13\t 18\t 0.8761905\t 0.8363636\t 0.8558139\n",
      "I-LOCATION\t 411\t 121\t 345\t 0.77255636\t 0.5436508\t 0.63819873\n",
      "B-NAME\t 825\t 155\t 169\t 0.84183675\t 0.8299799\t 0.83586633\n",
      "B-AGE\t 75\t 34\t 38\t 0.6880734\t 0.6637168\t 0.6756757\n",
      "B-LOCATION\t 1800\t 323\t 348\t 0.8478568\t 0.83798885\t 0.842894\n",
      "B-IDNUM\t 5\t 13\t 21\t 0.2777778\t 0.1923077\t 0.22727273\n",
      "B-CONTACT\t 38\t 41\t 28\t 0.48101267\t 0.57575756\t 0.524138\n",
      "tp: 4707 fp: 907 fn: 1153 labels: 12\n",
      "Macro-average\t prec: 0.62678957, rec: 0.6801409, f1: 0.6523763\n",
      "Micro-average\t prec: 0.83843964, rec: 0.8032423, f1: 0.8204637\n",
      "Epoch 20/30 started, lr: 9.1324205E-4, dataset size: 11190\n"
     ]
    },
    {
     "name": "stderr",
     "output_type": "stream",
     "text": [
      "                                                                                \r"
     ]
    },
    {
     "name": "stdout",
     "output_type": "stream",
     "text": [
      "Epoch 20/30 - 25.55s - total training loss: 1484.1133 - avg training loss: 1.32866 - batches: 1117\n",
      "Quality on validation dataset (20.0%), validation examples = 2238\n",
      "time to finish evaluation: 1.72s\n",
      "Total validation loss: 495.7651\tAvg validation loss: 1.7334\n",
      "label\t tp\t fp\t fn\t prec\t rec\t f1\n",
      "I-NAME\t 744\t 97\t 114\t 0.88466114\t 0.86713284\t 0.8758093\n",
      "I-CONTACT\t 48\t 19\t 10\t 0.7164179\t 0.82758623\t 0.76799995\n",
      "I-AGE\t 2\t 6\t 1\t 0.25\t 0.6666667\t 0.36363637\n",
      "I-IDNUM\t 1\t 9\t 4\t 0.1\t 0.2\t 0.13333334\n",
      "B-DATE\t 662\t 58\t 61\t 0.91944444\t 0.9156293\t 0.917533\n",
      "I-DATE\t 92\t 12\t 18\t 0.88461536\t 0.8363636\t 0.8598131\n",
      "I-LOCATION\t 435\t 158\t 321\t 0.7335582\t 0.57539684\t 0.6449222\n",
      "B-NAME\t 848\t 191\t 146\t 0.8161694\t 0.8531187\t 0.8342351\n",
      "B-AGE\t 73\t 29\t 40\t 0.71568626\t 0.6460177\t 0.67906976\n",
      "B-LOCATION\t 1793\t 274\t 355\t 0.86744076\t 0.83472997\t 0.850771\n",
      "B-IDNUM\t 4\t 9\t 22\t 0.30769232\t 0.15384616\t 0.20512821\n",
      "B-CONTACT\t 36\t 58\t 30\t 0.38297874\t 0.54545456\t 0.45000002\n",
      "tp: 4738 fp: 920 fn: 1122 labels: 12\n",
      "Macro-average\t prec: 0.6315554, rec: 0.6601619, f1: 0.64554185\n",
      "Micro-average\t prec: 0.83739835, rec: 0.8085324, f1: 0.82271224\n",
      "Epoch 21/30 started, lr: 9.090909E-4, dataset size: 11190\n"
     ]
    },
    {
     "name": "stderr",
     "output_type": "stream",
     "text": [
      "                                                                                \r"
     ]
    },
    {
     "name": "stdout",
     "output_type": "stream",
     "text": [
      "Epoch 21/30 - 25.63s - total training loss: 1445.0181 - avg training loss: 1.2936598 - batches: 1117\n",
      "Quality on validation dataset (20.0%), validation examples = 2238\n",
      "time to finish evaluation: 1.86s\n",
      "Total validation loss: 500.0023\tAvg validation loss: 1.7483\n",
      "label\t tp\t fp\t fn\t prec\t rec\t f1\n",
      "I-NAME\t 724\t 79\t 134\t 0.90161896\t 0.84382284\t 0.871764\n",
      "I-CONTACT\t 49\t 10\t 9\t 0.8305085\t 0.8448276\t 0.83760685\n",
      "I-AGE\t 2\t 3\t 1\t 0.4\t 0.6666667\t 0.5\n",
      "I-IDNUM\t 1\t 3\t 4\t 0.25\t 0.2\t 0.22222224\n",
      "B-DATE\t 657\t 51\t 66\t 0.9279661\t 0.9087137\t 0.918239\n",
      "I-DATE\t 91\t 14\t 19\t 0.8666667\t 0.8272727\t 0.84651154\n",
      "I-LOCATION\t 422\t 172\t 334\t 0.7104377\t 0.5582011\t 0.6251852\n",
      "B-NAME\t 825\t 163\t 169\t 0.83502024\t 0.8299799\t 0.8324924\n",
      "B-AGE\t 68\t 23\t 45\t 0.74725276\t 0.6017699\t 0.66666675\n",
      "B-LOCATION\t 1796\t 302\t 352\t 0.8560534\t 0.8361266\t 0.8459727\n",
      "B-IDNUM\t 4\t 12\t 22\t 0.25\t 0.15384616\t 0.19047621\n",
      "B-CONTACT\t 31\t 28\t 35\t 0.5254237\t 0.46969697\t 0.496\n",
      "tp: 4670 fp: 860 fn: 1190 labels: 12\n",
      "Macro-average\t prec: 0.67507905, rec: 0.64507705, f1: 0.6597371\n",
      "Micro-average\t prec: 0.8444846, rec: 0.79692835, f1: 0.8200176\n",
      "Epoch 22/30 started, lr: 9.049774E-4, dataset size: 11190\n"
     ]
    },
    {
     "name": "stderr",
     "output_type": "stream",
     "text": [
      "                                                                                \r"
     ]
    },
    {
     "name": "stdout",
     "output_type": "stream",
     "text": [
      "Epoch 22/30 - 26.02s - total training loss: 1402.4447 - avg training loss: 1.2555459 - batches: 1117\n",
      "Quality on validation dataset (20.0%), validation examples = 2238\n",
      "time to finish evaluation: 1.84s\n",
      "Total validation loss: 493.1565\tAvg validation loss: 1.7243\n",
      "label\t tp\t fp\t fn\t prec\t rec\t f1\n",
      "I-NAME\t 751\t 101\t 107\t 0.8814554\t 0.87529135\t 0.8783626\n",
      "I-CONTACT\t 47\t 17\t 11\t 0.734375\t 0.8103448\t 0.7704918\n",
      "I-AGE\t 2\t 5\t 1\t 0.2857143\t 0.6666667\t 0.4\n",
      "I-IDNUM\t 1\t 7\t 4\t 0.125\t 0.2\t 0.15384616\n",
      "B-DATE\t 664\t 66\t 59\t 0.90958905\t 0.9183956\t 0.9139711\n",
      "I-DATE\t 92\t 9\t 18\t 0.9108911\t 0.8363636\t 0.8720379\n",
      "I-LOCATION\t 401\t 110\t 355\t 0.7847358\t 0.5304233\t 0.6329913\n",
      "B-NAME\t 847\t 160\t 147\t 0.8411122\t 0.85211265\t 0.8465767\n",
      "B-AGE\t 60\t 12\t 53\t 0.8333333\t 0.53097343\t 0.6486487\n",
      "B-LOCATION\t 1773\t 256\t 375\t 0.8738295\t 0.825419\t 0.8489346\n",
      "B-IDNUM\t 3\t 7\t 23\t 0.3\t 0.115384616\t 0.16666667\n",
      "B-CONTACT\t 33\t 26\t 33\t 0.55932206\t 0.5\t 0.528\n",
      "tp: 4674 fp: 776 fn: 1186 labels: 12\n",
      "Macro-average\t prec: 0.6699465, rec: 0.63844794, f1: 0.6538181\n",
      "Micro-average\t prec: 0.8576147, rec: 0.79761094, f1: 0.8265252\n",
      "Epoch 23/30 started, lr: 9.009009E-4, dataset size: 11190\n"
     ]
    },
    {
     "name": "stderr",
     "output_type": "stream",
     "text": [
      "                                                                                \r"
     ]
    },
    {
     "name": "stdout",
     "output_type": "stream",
     "text": [
      "Epoch 23/30 - 26.49s - total training loss: 1380.7888 - avg training loss: 1.2361583 - batches: 1117\n",
      "Quality on validation dataset (20.0%), validation examples = 2238\n",
      "time to finish evaluation: 1.89s\n",
      "Total validation loss: 492.8770\tAvg validation loss: 1.7233\n",
      "label\t tp\t fp\t fn\t prec\t rec\t f1\n",
      "I-NAME\t 722\t 85\t 136\t 0.8946716\t 0.8414918\t 0.8672673\n",
      "I-CONTACT\t 48\t 15\t 10\t 0.7619048\t 0.82758623\t 0.7933885\n",
      "I-AGE\t 2\t 5\t 1\t 0.2857143\t 0.6666667\t 0.4\n",
      "I-IDNUM\t 4\t 11\t 1\t 0.26666668\t 0.8\t 0.4\n",
      "B-DATE\t 670\t 68\t 53\t 0.9078591\t 0.92669433\t 0.91718\n",
      "I-DATE\t 91\t 3\t 19\t 0.9680851\t 0.8272727\t 0.8921569\n",
      "I-LOCATION\t 399\t 82\t 357\t 0.82952183\t 0.5277778\t 0.6451092\n",
      "B-NAME\t 807\t 138\t 187\t 0.85396826\t 0.81187123\t 0.83238786\n",
      "B-AGE\t 75\t 20\t 38\t 0.7894737\t 0.6637168\t 0.7211538\n",
      "B-LOCATION\t 1716\t 201\t 432\t 0.8951487\t 0.79888266\t 0.8442804\n",
      "B-IDNUM\t 6\t 20\t 20\t 0.23076923\t 0.23076923\t 0.23076923\n",
      "B-CONTACT\t 34\t 30\t 32\t 0.53125\t 0.5151515\t 0.52307695\n",
      "tp: 4574 fp: 678 fn: 1286 labels: 12\n",
      "Macro-average\t prec: 0.68458605, rec: 0.7031567, f1: 0.69374716\n",
      "Micro-average\t prec: 0.8709063, rec: 0.78054607, f1: 0.82325417\n",
      "Epoch 24/30 started, lr: 8.96861E-4, dataset size: 11190\n"
     ]
    },
    {
     "name": "stderr",
     "output_type": "stream",
     "text": [
      "                                                                                \r"
     ]
    },
    {
     "name": "stdout",
     "output_type": "stream",
     "text": [
      "Epoch 24/30 - 26.08s - total training loss: 1335.1971 - avg training loss: 1.1953421 - batches: 1117\n",
      "Quality on validation dataset (20.0%), validation examples = 2238\n",
      "time to finish evaluation: 1.88s\n",
      "Total validation loss: 503.0075\tAvg validation loss: 1.7588\n",
      "label\t tp\t fp\t fn\t prec\t rec\t f1\n",
      "I-NAME\t 738\t 89\t 120\t 0.8923821\t 0.86013985\t 0.8759644\n",
      "I-CONTACT\t 45\t 8\t 13\t 0.8490566\t 0.7758621\t 0.8108108\n",
      "I-AGE\t 2\t 7\t 1\t 0.22222222\t 0.6666667\t 0.33333334\n",
      "I-IDNUM\t 3\t 6\t 2\t 0.33333334\t 0.6\t 0.42857143\n",
      "B-DATE\t 661\t 54\t 62\t 0.92447555\t 0.9142462\t 0.91933244\n",
      "I-DATE\t 92\t 13\t 18\t 0.8761905\t 0.8363636\t 0.8558139\n",
      "I-LOCATION\t 433\t 147\t 323\t 0.74655175\t 0.57275134\t 0.6482037\n",
      "B-NAME\t 831\t 146\t 163\t 0.85056293\t 0.8360161\t 0.8432268\n",
      "B-AGE\t 77\t 38\t 36\t 0.6695652\t 0.6814159\t 0.6754386\n",
      "B-LOCATION\t 1746\t 235\t 402\t 0.88137305\t 0.81284916\t 0.84572536\n",
      "B-IDNUM\t 4\t 12\t 22\t 0.25\t 0.15384616\t 0.19047621\n",
      "B-CONTACT\t 35\t 29\t 31\t 0.546875\t 0.530303\t 0.5384615\n",
      "tp: 4667 fp: 784 fn: 1193 labels: 12\n",
      "Macro-average\t prec: 0.6702158, rec: 0.68670505, f1: 0.6783602\n",
      "Micro-average\t prec: 0.85617316, rec: 0.7964164, f1: 0.8252144\n",
      "Epoch 25/30 started, lr: 8.928572E-4, dataset size: 11190\n"
     ]
    },
    {
     "name": "stderr",
     "output_type": "stream",
     "text": [
      "                                                                                \r"
     ]
    },
    {
     "name": "stdout",
     "output_type": "stream",
     "text": [
      "Epoch 25/30 - 26.94s - total training loss: 1299.8882 - avg training loss: 1.1637316 - batches: 1117\n",
      "Quality on validation dataset (20.0%), validation examples = 2238\n",
      "time to finish evaluation: 1.87s\n",
      "Total validation loss: 520.1693\tAvg validation loss: 1.8188\n",
      "label\t tp\t fp\t fn\t prec\t rec\t f1\n",
      "I-NAME\t 720\t 78\t 138\t 0.90225565\t 0.83916086\t 0.8695653\n",
      "I-CONTACT\t 47\t 18\t 11\t 0.72307694\t 0.8103448\t 0.7642277\n",
      "I-AGE\t 1\t 4\t 2\t 0.2\t 0.33333334\t 0.25\n",
      "I-IDNUM\t 1\t 10\t 4\t 0.09090909\t 0.2\t 0.125\n",
      "B-DATE\t 669\t 76\t 54\t 0.8979866\t 0.9253112\t 0.9114442\n",
      "I-DATE\t 91\t 3\t 19\t 0.9680851\t 0.8272727\t 0.8921569\n",
      "I-LOCATION\t 400\t 89\t 356\t 0.8179959\t 0.52910054\t 0.6425703\n",
      "B-NAME\t 814\t 146\t 180\t 0.84791666\t 0.81891346\t 0.8331628\n",
      "B-AGE\t 71\t 20\t 42\t 0.7802198\t 0.6283186\t 0.6960785\n",
      "B-LOCATION\t 1779\t 281\t 369\t 0.8635922\t 0.82821226\t 0.84553236\n",
      "B-IDNUM\t 4\t 9\t 22\t 0.30769232\t 0.15384616\t 0.20512821\n",
      "B-CONTACT\t 37\t 38\t 29\t 0.49333334\t 0.56060606\t 0.5248228\n",
      "tp: 4634 fp: 772 fn: 1226 labels: 12\n",
      "Macro-average\t prec: 0.6577553, rec: 0.6212017, f1: 0.6389561\n",
      "Micro-average\t prec: 0.85719573, rec: 0.79078496, f1: 0.8226523\n",
      "Epoch 26/30 started, lr: 8.8888896E-4, dataset size: 11190\n"
     ]
    },
    {
     "name": "stderr",
     "output_type": "stream",
     "text": [
      "                                                                                \r"
     ]
    },
    {
     "name": "stdout",
     "output_type": "stream",
     "text": [
      "Epoch 26/30 - 26.06s - total training loss: 1283.1296 - avg training loss: 1.1487284 - batches: 1117\n",
      "Quality on validation dataset (20.0%), validation examples = 2238\n",
      "time to finish evaluation: 1.84s\n",
      "Total validation loss: 516.2067\tAvg validation loss: 1.8049\n",
      "label\t tp\t fp\t fn\t prec\t rec\t f1\n",
      "I-NAME\t 743\t 107\t 115\t 0.8741177\t 0.8659674\t 0.8700234\n",
      "I-CONTACT\t 47\t 17\t 11\t 0.734375\t 0.8103448\t 0.7704918\n",
      "I-AGE\t 3\t 8\t 0\t 0.27272728\t 1.0\t 0.42857146\n",
      "I-IDNUM\t 0\t 7\t 5\t 0.0\t 0.0\t 0.0\n",
      "B-DATE\t 666\t 61\t 57\t 0.9160935\t 0.92116183\t 0.9186207\n",
      "I-DATE\t 94\t 11\t 16\t 0.8952381\t 0.8545455\t 0.8744187\n",
      "I-LOCATION\t 473\t 252\t 283\t 0.6524138\t 0.6256614\t 0.6387575\n",
      "B-NAME\t 827\t 171\t 167\t 0.8286573\t 0.831992\t 0.8303213\n",
      "B-AGE\t 68\t 22\t 45\t 0.75555557\t 0.6017699\t 0.6699507\n",
      "B-LOCATION\t 1828\t 366\t 320\t 0.8331814\t 0.8510242\t 0.8420083\n",
      "B-IDNUM\t 4\t 7\t 22\t 0.36363637\t 0.15384616\t 0.21621622\n",
      "B-CONTACT\t 36\t 28\t 30\t 0.5625\t 0.54545456\t 0.5538462\n",
      "tp: 4789 fp: 1057 fn: 1071 labels: 12\n",
      "Macro-average\t prec: 0.640708, rec: 0.671814, f1: 0.65589243\n",
      "Micro-average\t prec: 0.8191926, rec: 0.81723547, f1: 0.8182128\n",
      "Epoch 27/30 started, lr: 8.849558E-4, dataset size: 11190\n"
     ]
    },
    {
     "name": "stderr",
     "output_type": "stream",
     "text": [
      "                                                                                \r"
     ]
    },
    {
     "name": "stdout",
     "output_type": "stream",
     "text": [
      "Epoch 27/30 - 27.00s - total training loss: 1269.74 - avg training loss: 1.1367413 - batches: 1117\n",
      "Quality on validation dataset (20.0%), validation examples = 2238\n",
      "time to finish evaluation: 1.87s\n",
      "Total validation loss: 514.8259\tAvg validation loss: 1.8001\n",
      "label\t tp\t fp\t fn\t prec\t rec\t f1\n",
      "I-NAME\t 749\t 122\t 109\t 0.8599311\t 0.8729604\t 0.8663967\n",
      "I-CONTACT\t 48\t 25\t 10\t 0.65753424\t 0.82758623\t 0.7328244\n",
      "I-AGE\t 0\t 1\t 3\t 0.0\t 0.0\t 0.0\n",
      "I-IDNUM\t 4\t 9\t 1\t 0.30769232\t 0.8\t 0.44444445\n",
      "B-DATE\t 668\t 63\t 55\t 0.9138167\t 0.9239281\t 0.91884464\n",
      "I-DATE\t 91\t 6\t 19\t 0.9381443\t 0.8272727\t 0.87922704\n",
      "I-LOCATION\t 442\t 174\t 314\t 0.71753246\t 0.58465606\t 0.6443149\n",
      "B-NAME\t 838\t 172\t 156\t 0.829703\t 0.84305835\t 0.8363274\n",
      "B-AGE\t 56\t 15\t 57\t 0.7887324\t 0.49557522\t 0.6086957\n",
      "B-LOCATION\t 1779\t 293\t 369\t 0.8585907\t 0.82821226\t 0.84312797\n",
      "B-IDNUM\t 8\t 15\t 18\t 0.3478261\t 0.30769232\t 0.32653064\n",
      "B-CONTACT\t 38\t 44\t 28\t 0.46341464\t 0.57575756\t 0.5135135\n",
      "tp: 4721 fp: 939 fn: 1139 labels: 12\n",
      "Macro-average\t prec: 0.6402432, rec: 0.657225, f1: 0.64862293\n",
      "Micro-average\t prec: 0.83409894, rec: 0.8056314, f1: 0.81961805\n",
      "Epoch 28/30 started, lr: 8.810573E-4, dataset size: 11190\n"
     ]
    },
    {
     "name": "stderr",
     "output_type": "stream",
     "text": [
      "                                                                                \r"
     ]
    },
    {
     "name": "stdout",
     "output_type": "stream",
     "text": [
      "Epoch 28/30 - 25.87s - total training loss: 1245.6982 - avg training loss: 1.1152178 - batches: 1117\n",
      "Quality on validation dataset (20.0%), validation examples = 2238\n",
      "time to finish evaluation: 1.92s\n",
      "Total validation loss: 515.7788\tAvg validation loss: 1.8034\n",
      "label\t tp\t fp\t fn\t prec\t rec\t f1\n",
      "I-NAME\t 758\t 138\t 100\t 0.84598213\t 0.8834499\t 0.8643101\n",
      "I-CONTACT\t 52\t 26\t 6\t 0.6666667\t 0.8965517\t 0.76470596\n",
      "I-AGE\t 1\t 2\t 2\t 0.33333334\t 0.33333334\t 0.33333334\n",
      "I-IDNUM\t 4\t 17\t 1\t 0.1904762\t 0.8\t 0.30769232\n",
      "B-DATE\t 676\t 79\t 47\t 0.8953642\t 0.9349931\t 0.9147496\n",
      "I-DATE\t 94\t 11\t 16\t 0.8952381\t 0.8545455\t 0.8744187\n",
      "I-LOCATION\t 404\t 132\t 352\t 0.75373137\t 0.5343915\t 0.625387\n",
      "B-NAME\t 819\t 161\t 175\t 0.8357143\t 0.8239437\t 0.8297872\n",
      "B-AGE\t 63\t 14\t 50\t 0.8181818\t 0.5575221\t 0.6631579\n",
      "B-LOCATION\t 1763\t 279\t 385\t 0.8633692\t 0.8207635\t 0.8415274\n",
      "B-IDNUM\t 12\t 19\t 14\t 0.38709676\t 0.46153846\t 0.42105266\n",
      "B-CONTACT\t 40\t 43\t 26\t 0.48192772\t 0.6060606\t 0.53691274\n",
      "tp: 4686 fp: 921 fn: 1174 labels: 12\n",
      "Macro-average\t prec: 0.66392356, rec: 0.7089245, f1: 0.68568647\n",
      "Micro-average\t prec: 0.83574104, rec: 0.7996587, f1: 0.8173018\n",
      "Epoch 29/30 started, lr: 8.7719306E-4, dataset size: 11190\n"
     ]
    },
    {
     "name": "stderr",
     "output_type": "stream",
     "text": [
      "                                                                                \r"
     ]
    },
    {
     "name": "stdout",
     "output_type": "stream",
     "text": [
      "Epoch 29/30 - 26.33s - total training loss: 1222.2452 - avg training loss: 1.0942214 - batches: 1117\n",
      "Quality on validation dataset (20.0%), validation examples = 2238\n",
      "time to finish evaluation: 1.82s\n",
      "Total validation loss: 524.0858\tAvg validation loss: 1.8325\n",
      "label\t tp\t fp\t fn\t prec\t rec\t f1\n",
      "I-NAME\t 746\t 117\t 112\t 0.86442643\t 0.86946386\t 0.8669379\n",
      "I-CONTACT\t 49\t 30\t 9\t 0.62025315\t 0.8448276\t 0.71532845\n",
      "I-AGE\t 0\t 2\t 3\t 0.0\t 0.0\t 0.0\n",
      "I-IDNUM\t 0\t 4\t 5\t 0.0\t 0.0\t 0.0\n",
      "B-DATE\t 668\t 55\t 55\t 0.9239281\t 0.9239281\t 0.9239281\n",
      "I-DATE\t 91\t 9\t 19\t 0.91\t 0.8272727\t 0.8666666\n",
      "I-LOCATION\t 432\t 167\t 324\t 0.721202\t 0.5714286\t 0.6376384\n",
      "B-NAME\t 822\t 160\t 172\t 0.8370672\t 0.82696176\t 0.8319838\n",
      "B-AGE\t 66\t 21\t 47\t 0.7586207\t 0.5840708\t 0.66\n",
      "B-LOCATION\t 1743\t 260\t 405\t 0.87019473\t 0.8114525\t 0.8397976\n",
      "B-IDNUM\t 5\t 23\t 21\t 0.17857143\t 0.1923077\t 0.1851852\n",
      "B-CONTACT\t 32\t 44\t 34\t 0.42105263\t 0.4848485\t 0.45070425\n",
      "tp: 4654 fp: 892 fn: 1206 labels: 12\n",
      "Macro-average\t prec: 0.5921097, rec: 0.57804686, f1: 0.5849938\n",
      "Micro-average\t prec: 0.83916336, rec: 0.794198, f1: 0.81606174\n",
      "Epoch 30/30 started, lr: 8.733625E-4, dataset size: 11190\n"
     ]
    },
    {
     "name": "stderr",
     "output_type": "stream",
     "text": [
      "                                                                                \r"
     ]
    },
    {
     "name": "stdout",
     "output_type": "stream",
     "text": [
      "Epoch 30/30 - 25.80s - total training loss: 1198.5831 - avg training loss: 1.0730377 - batches: 1117\n",
      "Quality on validation dataset (20.0%), validation examples = 2238\n",
      "time to finish evaluation: 1.83s\n",
      "Total validation loss: 529.5698\tAvg validation loss: 1.8516\n",
      "label\t tp\t fp\t fn\t prec\t rec\t f1\n",
      "I-NAME\t 751\t 111\t 107\t 0.8712297\t 0.87529135\t 0.8732558\n",
      "I-CONTACT\t 43\t 20\t 15\t 0.6825397\t 0.7413793\t 0.7107439\n",
      "I-AGE\t 1\t 6\t 2\t 0.14285715\t 0.33333334\t 0.2\n",
      "I-IDNUM\t 0\t 4\t 5\t 0.0\t 0.0\t 0.0\n",
      "B-DATE\t 670\t 60\t 53\t 0.91780823\t 0.92669433\t 0.9222299\n",
      "I-DATE\t 89\t 10\t 21\t 0.8989899\t 0.8090909\t 0.85167474\n",
      "I-LOCATION\t 436\t 189\t 320\t 0.6976\t 0.5767196\t 0.63142645\n",
      "B-NAME\t 841\t 167\t 153\t 0.8343254\t 0.8460765\t 0.84015983\n",
      "B-AGE\t 75\t 26\t 38\t 0.7425743\t 0.6637168\t 0.7009346\n",
      "B-LOCATION\t 1796\t 337\t 352\t 0.84200656\t 0.8361266\t 0.8390563\n",
      "B-IDNUM\t 3\t 11\t 23\t 0.21428572\t 0.115384616\t 0.14999999\n",
      "B-CONTACT\t 31\t 44\t 35\t 0.41333333\t 0.46969697\t 0.4397163\n",
      "tp: 4736 fp: 985 fn: 1124 labels: 12\n",
      "Macro-average\t prec: 0.6047959, rec: 0.59945923, f1: 0.60211575\n",
      "Micro-average\t prec: 0.8278273, rec: 0.8081911, f1: 0.81789136\n",
      "CPU times: user 4.82 s, sys: 152 ms, total: 4.97 s\n",
      "Wall time: 14min 3s\n"
     ]
    }
   ],
   "source": [
    "%%time\n",
    "ner_model = ner_pipeline.fit(train_df)"
   ]
  },
  {
   "cell_type": "code",
   "execution_count": 146,
   "metadata": {
    "execution": {
     "iopub.execute_input": "2025-06-16T23:43:51.039000Z",
     "iopub.status.busy": "2025-06-16T23:43:51.038623Z",
     "iopub.status.idle": "2025-06-16T23:43:51.065661Z",
     "shell.execute_reply": "2025-06-16T23:43:51.064949Z",
     "shell.execute_reply.started": "2025-06-16T23:43:51.038979Z"
    },
    "tags": []
   },
   "outputs": [
    {
     "data": {
      "text/plain": [
       "{'I-NAME': 4341, 'I-CONTACT': 205, 'I-AGE': 36, 'I-IDNUM': 63, 'B-DATE': 3513, 'I-DATE': 490, 'I-LOCATION': 3780, 'B-NAME': 5133, 'B-AGE': 589, 'B-LOCATION': 10578, 'B-IDNUM': 160, 'O': 136507, 'B-CONTACT': 311}"
      ]
     },
     "execution_count": 146,
     "metadata": {},
     "output_type": "execute_result"
    }
   ],
   "source": [
    "ner_model.stages[-1].getTrainingClassDistribution()"
   ]
  },
  {
   "cell_type": "code",
   "execution_count": 150,
   "metadata": {
    "execution": {
     "iopub.execute_input": "2025-06-16T23:43:57.909048Z",
     "iopub.status.busy": "2025-06-16T23:43:57.908816Z",
     "iopub.status.idle": "2025-06-16T23:43:59.542212Z",
     "shell.execute_reply": "2025-06-16T23:43:59.541623Z",
     "shell.execute_reply.started": "2025-06-16T23:43:57.909030Z"
    },
    "tags": []
   },
   "outputs": [],
   "source": [
    "ner_model.stages[-1].write().overwrite().save('models/new_NER_model')"
   ]
  },
  {
   "cell_type": "code",
   "execution_count": null,
   "metadata": {
    "scrolled": true,
    "tags": []
   },
   "outputs": [],
   "source": [
    "import os\n",
    "log_file= os.listdir(\"ner_logs\")[0]\n",
    "\n",
    "with open (f\"./ner_logs/{log_file}\") as f:\n",
    "    print(f.read())"
   ]
  },
  {
   "cell_type": "markdown",
   "metadata": {},
   "source": [
    "## Evaluate your model"
   ]
  },
  {
   "cell_type": "code",
   "execution_count": 147,
   "metadata": {
    "execution": {
     "iopub.execute_input": "2025-06-16T23:43:51.067066Z",
     "iopub.status.busy": "2025-06-16T23:43:51.066595Z",
     "iopub.status.idle": "2025-06-16T23:43:51.190582Z",
     "shell.execute_reply": "2025-06-16T23:43:51.189911Z",
     "shell.execute_reply.started": "2025-06-16T23:43:51.067045Z"
    },
    "tags": []
   },
   "outputs": [],
   "source": [
    "pred_df = ner_model.stages[-1].transform(test_df).cache()"
   ]
  },
  {
   "cell_type": "code",
   "execution_count": 148,
   "metadata": {
    "execution": {
     "iopub.execute_input": "2025-06-16T23:43:51.192359Z",
     "iopub.status.busy": "2025-06-16T23:43:51.191934Z",
     "iopub.status.idle": "2025-06-16T23:43:57.044698Z",
     "shell.execute_reply": "2025-06-16T23:43:57.043977Z",
     "shell.execute_reply.started": "2025-06-16T23:43:51.192338Z"
    },
    "tags": []
   },
   "outputs": [
    {
     "name": "stderr",
     "output_type": "stream",
     "text": [
      "                                                                                \r"
     ]
    },
    {
     "name": "stdout",
     "output_type": "stream",
     "text": [
      "+------+--------------------+--------------------+--------------------+--------------------+--------------------+--------------------+--------------------+\n",
      "|doc_id|                text|            document|            splitter|               token|          embeddings|           ner_label|                 ner|\n",
      "+------+--------------------+--------------------+--------------------+--------------------+--------------------+--------------------+--------------------+\n",
      "|     X|\" Bankruptcy is a...|[{document, 0, 13...|[{document, 0, 13...|[{token, 0, 0, \",...|[{word_embeddings...|[{named_entity, 0...|[{named_entity, 0...|\n",
      "|     X|\" I have my own c...|[{document, 0, 57...|[{document, 0, 58...|[{token, 0, 0, \",...|[{word_embeddings...|[{named_entity, 0...|[{named_entity, 0...|\n",
      "|     X|\" Indian fisherme...|[{document, 0, 12...|[{document, 0, 12...|[{token, 0, 0, \",...|[{word_embeddings...|[{named_entity, 0...|[{named_entity, 0...|\n",
      "|     X|\" The first half ...|[{document, 0, 20...|[{document, 0, 20...|[{token, 0, 0, \",...|[{word_embeddings...|[{named_entity, 0...|[{named_entity, 0...|\n",
      "|     X|\" We do n't feel ...|[{document, 0, 93...|[{document, 0, 94...|[{token, 0, 0, \",...|[{word_embeddings...|[{named_entity, 0...|[{named_entity, 0...|\n",
      "|     X|( Germany ) , Ale...|[{document, 0, 66...|[{document, 0, 67...|[{token, 0, 0, (,...|[{word_embeddings...|[{named_entity, 0...|[{named_entity, 0...|\n",
      "|     X|+5 Sigeki Maruyam...|[{document, 0, 38...|[{document, 0, 39...|[{token, 0, 1, +5...|[{word_embeddings...|[{named_entity, 0...|[{named_entity, 0...|\n",
      "|     X|-- Hong Kong news...|[{document, 0, 38...|[{document, 0, 39...|[{token, 0, 1, --...|[{word_embeddings...|[{named_entity, 0...|[{named_entity, 0...|\n",
      "|     X|2. Marcus Gronhol...|[{document, 0, 48...|[{document, 0, 49...|[{token, 0, 0, 2,...|[{word_embeddings...|[{named_entity, 0...|[{named_entity, 0...|\n",
      "|     X|2. Tom Pukstys ( ...|[{document, 0, 28...|[{document, 0, 29...|[{token, 0, 0, 2,...|[{word_embeddings...|[{named_entity, 0...|[{named_entity, 0...|\n",
      "|     X|       2000 - - 605M|[{document, 0, 12...|[{document, 0, 13...|[{token, 0, 3, 20...|[{word_embeddings...|[{named_entity, 0...|[{named_entity, 0...|\n",
      "|     X|3. Paul Koech ( K...|[{document, 0, 31...|[{document, 0, 32...|[{token, 0, 0, 3,...|[{word_embeddings...|[{named_entity, 0...|[{named_entity, 0...|\n",
      "|     X|4. Frederic Viall...|[{document, 0, 35...|[{document, 0, 36...|[{token, 0, 0, 4,...|[{word_embeddings...|[{named_entity, 0...|[{named_entity, 0...|\n",
      "|     X|7. Ingrid Haringa...|[{document, 0, 35...|[{document, 0, 36...|[{token, 0, 0, 7,...|[{word_embeddings...|[{named_entity, 0...|[{named_entity, 0...|\n",
      "|     X|A spokeswoman dec...|[{document, 0, 57...|[{document, 0, 58...|[{token, 0, 0, A,...|[{word_embeddings...|[{named_entity, 0...|[{named_entity, 0...|\n",
      "|     X|According to Midd...|[{document, 0, 16...|[{document, 0, 16...|[{token, 0, 8, Ac...|[{word_embeddings...|[{named_entity, 0...|[{named_entity, 0...|\n",
      "|     X|At issue was a Ma...|[{document, 0, 22...|[{document, 0, 22...|[{token, 0, 1, At...|[{word_embeddings...|[{named_entity, 0...|[{named_entity, 0...|\n",
      "|     X|Carl Suneson ( Sp...|[{document, 0, 30...|[{document, 0, 31...|[{token, 0, 3, Ca...|[{word_embeddings...|[{named_entity, 0...|[{named_entity, 0...|\n",
      "|     X|Edberg , competin...|[{document, 0, 22...|[{document, 0, 22...|[{token, 0, 5, Ed...|[{word_embeddings...|[{named_entity, 0...|[{named_entity, 0...|\n",
      "|     X|Exiled Bosnians p...|[{document, 0, 47...|[{document, 0, 48...|[{token, 0, 5, Ex...|[{word_embeddings...|[{named_entity, 0...|[{named_entity, 0...|\n",
      "+------+--------------------+--------------------+--------------------+--------------------+--------------------+--------------------+--------------------+\n",
      "only showing top 20 rows\n",
      "\n"
     ]
    }
   ],
   "source": [
    "pred_df.show()"
   ]
  },
  {
   "cell_type": "code",
   "execution_count": 151,
   "metadata": {
    "execution": {
     "iopub.execute_input": "2025-06-16T23:44:07.812939Z",
     "iopub.status.busy": "2025-06-16T23:44:07.812321Z",
     "iopub.status.idle": "2025-06-16T23:44:08.074638Z",
     "shell.execute_reply": "2025-06-16T23:44:08.074131Z",
     "shell.execute_reply.started": "2025-06-16T23:44:07.812902Z"
    },
    "tags": []
   },
   "outputs": [
    {
     "data": {
      "text/html": [
       "<div>\n",
       "<style scoped>\n",
       "    .dataframe tbody tr th:only-of-type {\n",
       "        vertical-align: middle;\n",
       "    }\n",
       "\n",
       "    .dataframe tbody tr th {\n",
       "        vertical-align: top;\n",
       "    }\n",
       "\n",
       "    .dataframe thead th {\n",
       "        text-align: right;\n",
       "    }\n",
       "</style>\n",
       "<table border=\"1\" class=\"dataframe\">\n",
       "  <thead>\n",
       "    <tr style=\"text-align: right;\">\n",
       "      <th></th>\n",
       "      <th>token</th>\n",
       "      <th>begin</th>\n",
       "      <th>end</th>\n",
       "      <th>gtruth</th>\n",
       "      <th>prediction</th>\n",
       "    </tr>\n",
       "  </thead>\n",
       "  <tbody>\n",
       "    <tr>\n",
       "      <th>0</th>\n",
       "      <td>\"</td>\n",
       "      <td>0</td>\n",
       "      <td>0</td>\n",
       "      <td>O</td>\n",
       "      <td>O</td>\n",
       "    </tr>\n",
       "    <tr>\n",
       "      <th>1</th>\n",
       "      <td>Bankruptcy</td>\n",
       "      <td>2</td>\n",
       "      <td>11</td>\n",
       "      <td>B-NAME</td>\n",
       "      <td>B-NAME</td>\n",
       "    </tr>\n",
       "    <tr>\n",
       "      <th>2</th>\n",
       "      <td>is</td>\n",
       "      <td>13</td>\n",
       "      <td>14</td>\n",
       "      <td>O</td>\n",
       "      <td>O</td>\n",
       "    </tr>\n",
       "    <tr>\n",
       "      <th>3</th>\n",
       "      <td>always</td>\n",
       "      <td>16</td>\n",
       "      <td>21</td>\n",
       "      <td>O</td>\n",
       "      <td>O</td>\n",
       "    </tr>\n",
       "    <tr>\n",
       "      <th>4</th>\n",
       "      <td>possible</td>\n",
       "      <td>23</td>\n",
       "      <td>30</td>\n",
       "      <td>O</td>\n",
       "      <td>O</td>\n",
       "    </tr>\n",
       "    <tr>\n",
       "      <th>...</th>\n",
       "      <td>...</td>\n",
       "      <td>...</td>\n",
       "      <td>...</td>\n",
       "      <td>...</td>\n",
       "      <td>...</td>\n",
       "    </tr>\n",
       "    <tr>\n",
       "      <th>40252</th>\n",
       "      <td>Wednesday</td>\n",
       "      <td>21</td>\n",
       "      <td>29</td>\n",
       "      <td>B-DATE</td>\n",
       "      <td>B-DATE</td>\n",
       "    </tr>\n",
       "    <tr>\n",
       "      <th>40253</th>\n",
       "      <td>(</td>\n",
       "      <td>31</td>\n",
       "      <td>31</td>\n",
       "      <td>O</td>\n",
       "      <td>O</td>\n",
       "    </tr>\n",
       "    <tr>\n",
       "      <th>40254</th>\n",
       "      <td>prefix</td>\n",
       "      <td>33</td>\n",
       "      <td>38</td>\n",
       "      <td>O</td>\n",
       "      <td>O</td>\n",
       "    </tr>\n",
       "    <tr>\n",
       "      <th>40255</th>\n",
       "      <td>number</td>\n",
       "      <td>40</td>\n",
       "      <td>45</td>\n",
       "      <td>O</td>\n",
       "      <td>O</td>\n",
       "    </tr>\n",
       "    <tr>\n",
       "      <th>40256</th>\n",
       "      <td>denotes</td>\n",
       "      <td>47</td>\n",
       "      <td>53</td>\n",
       "      <td>O</td>\n",
       "      <td>O</td>\n",
       "    </tr>\n",
       "  </tbody>\n",
       "</table>\n",
       "<p>40257 rows × 5 columns</p>\n",
       "</div>"
      ],
      "text/plain": [
       "            token  begin  end  gtruth prediction\n",
       "0               \"      0    0       O          O\n",
       "1      Bankruptcy      2   11  B-NAME     B-NAME\n",
       "2              is     13   14       O          O\n",
       "3          always     16   21       O          O\n",
       "4        possible     23   30       O          O\n",
       "...           ...    ...  ...     ...        ...\n",
       "40252   Wednesday     21   29  B-DATE     B-DATE\n",
       "40253           (     31   31       O          O\n",
       "40254      prefix     33   38       O          O\n",
       "40255      number     40   45       O          O\n",
       "40256     denotes     47   53       O          O\n",
       "\n",
       "[40257 rows x 5 columns]"
      ]
     },
     "execution_count": 151,
     "metadata": {},
     "output_type": "execute_result"
    }
   ],
   "source": [
    "from pyspark.sql import functions as F\n",
    "\n",
    "pred_token_df = pred_df.select(F.explode(F.arrays_zip(pred_df.ner_label.metadata,\n",
    "                                                  pred_df.ner_label.begin,\n",
    "                                                  pred_df.ner_label.end,\n",
    "                                                  pred_df.ner_label.result,\n",
    "                                                  pred_df.ner.result)).alias(\"cols\")) \\\n",
    "          .select(F.expr(\"cols['0']['word']\").alias(\"token\"),\n",
    "                  F.expr(\"cols['1']\").alias(\"begin\"),\n",
    "                  F.expr(\"cols['2']\").alias(\"end\"),\n",
    "                  F.expr(\"cols['3']\").alias(\"gtruth\"),\n",
    "                  F.expr(\"cols['4']\").alias(\"prediction\"))\\\n",
    "          .toPandas()\n",
    "\n",
    "pred_token_df"
   ]
  },
  {
   "cell_type": "code",
   "execution_count": 153,
   "metadata": {
    "execution": {
     "iopub.execute_input": "2025-06-16T23:44:09.490230Z",
     "iopub.status.busy": "2025-06-16T23:44:09.489470Z",
     "iopub.status.idle": "2025-06-16T23:44:10.427814Z",
     "shell.execute_reply": "2025-06-16T23:44:10.427202Z",
     "shell.execute_reply.started": "2025-06-16T23:44:09.490198Z"
    },
    "scrolled": true,
    "tags": []
   },
   "outputs": [
    {
     "name": "stdout",
     "output_type": "stream",
     "text": [
      "+--------+------+-----+-----+------+---------+------+------+\n",
      "|  entity|    tp|   fp|   fn| total|precision|recall|    f1|\n",
      "+--------+------+-----+-----+------+---------+------+------+\n",
      "| CONTACT|  42.0| 30.0| 29.0|  71.0|   0.5833|0.5915|0.5874|\n",
      "|    NAME|1149.0|143.0|162.0|1311.0|   0.8893|0.8764|0.8828|\n",
      "|    DATE| 809.0| 29.0| 68.0| 877.0|   0.9654|0.9225|0.9434|\n",
      "|   IDNUM|  18.0|  8.0| 20.0|  38.0|   0.6923|0.4737|0.5625|\n",
      "|LOCATION|2260.0|310.0|325.0|2585.0|   0.8794|0.8743|0.8768|\n",
      "|     AGE| 133.0| 32.0| 23.0| 156.0|   0.8061|0.8526|0.8287|\n",
      "+--------+------+-----+-----+------+---------+------+------+\n",
      "\n",
      "+-----------------+\n",
      "|            macro|\n",
      "+-----------------+\n",
      "|0.780276564367539|\n",
      "+-----------------+\n",
      "\n",
      "None\n",
      "+------------------+\n",
      "|             micro|\n",
      "+------------------+\n",
      "|0.8820389851678987|\n",
      "+------------------+\n",
      "\n",
      "None\n"
     ]
    }
   ],
   "source": [
    "from sparknlp_jsl.eval import NerDLMetrics\n",
    "import pyspark.sql.functions as F\n",
    "\n",
    "evaler = NerDLMetrics(mode=\"full_chunk\")\n",
    "\n",
    "eval_result = evaler.computeMetricsFromDF(pred_df.select(\"ner_label\",\"ner\"), \n",
    "                                          prediction_col=\"ner\", \n",
    "                                          label_col=\"ner_label\", \n",
    "                                          drop_o = True, case_sensitive = True).cache()\n",
    "\n",
    "eval_result.withColumn(\"precision\", F.round(eval_result[\"precision\"],4))\\\n",
    "           .withColumn(\"recall\", F.round(eval_result[\"recall\"],4))\\\n",
    "           .withColumn(\"f1\", F.round(eval_result[\"f1\"],4)).show(100)\n",
    "\n",
    "print(eval_result.selectExpr(\"avg(f1) as macro\").show())\n",
    "print (eval_result.selectExpr(\"sum(f1*total) as sumprod\",\"sum(total) as sumtotal\").selectExpr(\"sumprod/sumtotal as micro\").show())"
   ]
  },
  {
   "cell_type": "code",
   "execution_count": null,
   "metadata": {},
   "outputs": [],
   "source": []
  },
  {
   "cell_type": "code",
   "execution_count": 154,
   "metadata": {
    "execution": {
     "iopub.execute_input": "2025-06-16T23:44:12.172748Z",
     "iopub.status.busy": "2025-06-16T23:44:12.172078Z",
     "iopub.status.idle": "2025-06-16T23:44:12.982719Z",
     "shell.execute_reply": "2025-06-16T23:44:12.982134Z",
     "shell.execute_reply.started": "2025-06-16T23:44:12.172724Z"
    },
    "tags": []
   },
   "outputs": [
    {
     "name": "stdout",
     "output_type": "stream",
     "text": [
      "+--------+------+-----+-----+------+---------+------+------+\n",
      "|  entity|    tp|   fp|   fn| total|precision|recall|    f1|\n",
      "+--------+------+-----+-----+------+---------+------+------+\n",
      "|     AGE| 138.0| 31.0| 23.0| 161.0|   0.8166|0.8571|0.8364|\n",
      "| CONTACT| 106.0| 36.0| 24.0| 130.0|   0.7465|0.8154|0.7794|\n",
      "|    DATE| 934.0| 24.0| 66.0|1000.0|   0.9749| 0.934| 0.954|\n",
      "|   IDNUM|  25.0| 11.0| 22.0|  47.0|   0.6944|0.5319|0.6024|\n",
      "|LOCATION|3140.0|330.0|392.0|3532.0|   0.9049| 0.889|0.8969|\n",
      "|    NAME|2181.0|171.0|185.0|2366.0|   0.9273|0.9218|0.9245|\n",
      "+--------+------+-----+-----+------+---------+------+------+\n",
      "\n",
      "partial_chunk_per_token\n",
      "+------------------+\n",
      "|             macro|\n",
      "+------------------+\n",
      "|0.8322751118663967|\n",
      "+------------------+\n",
      "\n",
      "None\n",
      "+------------------+\n",
      "|             micro|\n",
      "+------------------+\n",
      "|0.9084578982865754|\n",
      "+------------------+\n",
      "\n",
      "None\n"
     ]
    }
   ],
   "source": [
    "evaler = NerDLMetrics(mode=\"partial_chunk_per_token\")\n",
    "eval_result_partial = evaler.computeMetricsFromDF(pred_df.select(\"ner_label\",\"ner\"), prediction_col=\"ner\", label_col=\"ner_label\", drop_o = True, case_sensitive = True).cache()\n",
    "\n",
    "eval_result_partial.withColumn(\"precision\", F.round(eval_result_partial[\"precision\"],4))\\\n",
    "           .withColumn(\"recall\", F.round(eval_result_partial[\"recall\"],4))\\\n",
    "           .withColumn(\"f1\", F.round(eval_result_partial[\"f1\"],4)).sort(\"entity\").show(100)\n",
    "df_partial=eval_result_partial.toPandas()\n",
    "print(\"partial_chunk_per_token\")\n",
    "print(eval_result_partial.selectExpr(\"avg(f1) as macro\").show())\n",
    "print (eval_result_partial.selectExpr(\"sum(f1*total) as sumprod\",\"sum(total) as sumtotal\").selectExpr(\"sumprod/sumtotal as micro\").show())"
   ]
  },
  {
   "cell_type": "code",
   "execution_count": null,
   "metadata": {},
   "outputs": [],
   "source": []
  },
  {
   "cell_type": "markdown",
   "metadata": {},
   "source": [
    "# Create New Pipeline"
   ]
  },
  {
   "cell_type": "code",
   "execution_count": null,
   "metadata": {},
   "outputs": [],
   "source": []
  },
  {
   "cell_type": "code",
   "execution_count": 180,
   "metadata": {
    "execution": {
     "iopub.execute_input": "2025-06-16T23:58:48.026941Z",
     "iopub.status.busy": "2025-06-16T23:58:48.026492Z",
     "iopub.status.idle": "2025-06-16T23:59:00.873302Z",
     "shell.execute_reply": "2025-06-16T23:59:00.872615Z",
     "shell.execute_reply.started": "2025-06-16T23:58:48.026922Z"
    },
    "tags": []
   },
   "outputs": [],
   "source": [
    "# We are loading the pretrained pipeline using the `from_disk` method.\n",
    "from sparknlp.pretrained import PretrainedPipeline\n",
    "\n",
    "modified_pipeline = PretrainedPipeline.from_disk('modified_pipeline')"
   ]
  },
  {
   "cell_type": "code",
   "execution_count": 181,
   "metadata": {
    "execution": {
     "iopub.execute_input": "2025-06-16T23:59:00.875029Z",
     "iopub.status.busy": "2025-06-16T23:59:00.874418Z",
     "iopub.status.idle": "2025-06-16T23:59:00.883159Z",
     "shell.execute_reply": "2025-06-16T23:59:00.882567Z",
     "shell.execute_reply.started": "2025-06-16T23:59:00.875011Z"
    },
    "tags": []
   },
   "outputs": [
    {
     "data": {
      "text/plain": [
       "[DocumentAssembler_ae0f203deedd,\n",
       " InternalDocumentSplitter_cc36578ceda6,\n",
       " REGEX_TOKENIZER_2e85686aea12,\n",
       " WORD_EMBEDDINGS_MODEL_9004b1d00302,\n",
       " MedicalNerModel_1a8637089929,\n",
       " NER_CONVERTER_1aef7e9d2de5,\n",
       " MedicalNerModel_d92d47622e85,\n",
       " MedicalNerModel_32184c1db80b,\n",
       " MedicalNerModel_ada39ac0d359,\n",
       " NER_CONVERTER_a99db4e6a79d,\n",
       " NER_CONVERTER_4a9436714344,\n",
       " NER_CONVERTER_ea6433988e18,\n",
       " PretrainedZeroShotNER_5f30ab9002f1,\n",
       " NER_CONVERTER_c97040caf7b3,\n",
       " MedicalNerModel_b8b167ec3114,\n",
       " NER_CONVERTER_06db473f3215,\n",
       " ContextualEntityRuler_11ff6711ef6b,\n",
       " ChunkMergeModel_95d6827691bb,\n",
       " CONTEXTUAL-PARSER_bf2a6abaf5fa,\n",
       " CONTEXTUAL-PARSER_ff6bad379d91,\n",
       " CONTEXTUAL-PARSER_89341cae7221,\n",
       " CONTEXTUAL-PARSER_c6b9eded8d31,\n",
       " CONTEXTUAL-PARSER_9480c24bd9f8,\n",
       " CONTEXTUAL-PARSER_3886bce391c8,\n",
       " CONTEXTUAL-PARSER_0bb3fb75cd01,\n",
       " ENTITY_EXTRACTOR_6792f2f6e85a,\n",
       " ENTITY_EXTRACTOR_74ace4be4f73,\n",
       " CONTEXTUAL-PARSER_dfb32adc7555,\n",
       " REGEX_MATCHER_5003669d6422,\n",
       " CONTEXTUAL-PARSER_746a25662aa6,\n",
       " CONTEXTUAL-PARSER_079220479a3d,\n",
       " CONTEXTUAL-PARSER_f8b8f9aafb9f,\n",
       " CONTEXTUAL-PARSER_7f824493eafc,\n",
       " REGEX_MATCHER_26934077fe57,\n",
       " REGEX_MATCHER_5fe3de8b5a4e,\n",
       " CONTEXTUAL-PARSER_1543b24b4890,\n",
       " CONTEXTUAL-PARSER_980d396bec6c,\n",
       " MERGE_ddff59e8b14a,\n",
       " ChunkMergeModel_50feb5f97568,\n",
       " ContextualEntityRuler_08eeaa89c938,\n",
       " ChunkMergeModel_5a3f1e608447,\n",
       " LightDeIdentification_dd156106d887,\n",
       " LightDeIdentification_acfc9a325ba4,\n",
       " IOBTagger_0aa1b3937bd8]"
      ]
     },
     "execution_count": 181,
     "metadata": {},
     "output_type": "execute_result"
    }
   ],
   "source": [
    "modified_pipeline.model.stages"
   ]
  },
  {
   "cell_type": "markdown",
   "metadata": {},
   "source": [
    "## New Stages"
   ]
  },
  {
   "cell_type": "code",
   "execution_count": 179,
   "metadata": {
    "execution": {
     "iopub.execute_input": "2025-06-16T23:58:43.075450Z",
     "iopub.status.busy": "2025-06-16T23:58:43.075037Z",
     "iopub.status.idle": "2025-06-16T23:58:46.323574Z",
     "shell.execute_reply": "2025-06-16T23:58:46.322912Z",
     "shell.execute_reply.started": "2025-06-16T23:58:43.075424Z"
    },
    "tags": []
   },
   "outputs": [
    {
     "name": "stdout",
     "output_type": "stream",
     "text": [
      "ner_deid_subentity_docwise download started this may take some time.\n",
      "[OK!]\n"
     ]
    }
   ],
   "source": [
    "ner_deid_new = MedicalNerModel.load(\"models/new_NER_model\")\\\n",
    "    .setInputCols([\"splitter\", \"token\", \"embeddings\"])\\\n",
    "    .setOutputCol(\"ner_deid_new\")\n",
    "\n",
    "ner_deid_new_converter = NerConverter()\\\n",
    "      .setInputCols([\"splitter\", \"token\", \"ner_deid_new\"])\\\n",
    "      .setOutputCol(\"ner_chunk_new\")\n",
    "\n",
    "ner_deid = MedicalNerModel.pretrained(\"ner_deid_subentity_docwise\", \"en\", \"clinical/models\")  \\\n",
    "      .setInputCols([\"splitter\", \"token\", \"embeddings\"]) \\\n",
    "      .setOutputCol(\"ner_deid_subentity_docwise\")\n",
    "\n",
    "ner_deid_converter = NerConverter()\\\n",
    "      .setInputCols([\"splitter\", \"token\", \"ner_deid_subentity_docwise\"])\\\n",
    "      .setOutputCol(\"ner_chunk_subentity_docwise\")\n",
    "\n",
    "chunk_merge_ner = ChunkMergeModel()\\\n",
    "    .setInputCols(\"ner_chunk_new\", # New Trained Model\n",
    "                  \"ner_chunk_subentity_docwise\")\\\n",
    "    .setOutputCol(\"deid_merged_ner_chunk\")\\\n",
    "    .setOrderingFeatures([\"ChunkLength\",\"ChunkBegin\"])\\\n",
    "    .setMergeOverlapping(True)\\\n",
    "    .setResetSentenceIndices(True)\n"
   ]
  },
  {
   "cell_type": "markdown",
   "metadata": {},
   "source": [
    "## **Update Stages**"
   ]
  },
  {
   "cell_type": "code",
   "execution_count": 182,
   "metadata": {
    "execution": {
     "iopub.execute_input": "2025-06-16T23:59:00.884168Z",
     "iopub.status.busy": "2025-06-16T23:59:00.883926Z",
     "iopub.status.idle": "2025-06-16T23:59:00.965747Z",
     "shell.execute_reply": "2025-06-16T23:59:00.965026Z",
     "shell.execute_reply.started": "2025-06-16T23:59:00.884150Z"
    },
    "tags": []
   },
   "outputs": [],
   "source": [
    "modified_pipeline.model.stages = (\n",
    "    modified_pipeline.model.stages[:4]\n",
    "    + [ner_deid_new, \n",
    "       ner_deid_new_converter,\n",
    "       ner_deid, \n",
    "       ner_deid_converter,\n",
    "       chunk_merge_ner]\n",
    "    + modified_pipeline.model.stages[18:]\n",
    "\n",
    ")"
   ]
  },
  {
   "cell_type": "code",
   "execution_count": 183,
   "metadata": {
    "execution": {
     "iopub.execute_input": "2025-06-16T23:59:00.967484Z",
     "iopub.status.busy": "2025-06-16T23:59:00.966993Z",
     "iopub.status.idle": "2025-06-16T23:59:01.056636Z",
     "shell.execute_reply": "2025-06-16T23:59:01.055802Z",
     "shell.execute_reply.started": "2025-06-16T23:59:00.967467Z"
    },
    "tags": []
   },
   "outputs": [
    {
     "data": {
      "text/plain": [
       "[DocumentAssembler_ae0f203deedd,\n",
       " InternalDocumentSplitter_cc36578ceda6,\n",
       " REGEX_TOKENIZER_2e85686aea12,\n",
       " WORD_EMBEDDINGS_MODEL_9004b1d00302,\n",
       " MedicalNerModel_f3c446a6c387,\n",
       " NerConverter_e2443d1f19ec,\n",
       " MedicalNerModel_32184c1db80b,\n",
       " NerConverter_0e94e14fb143,\n",
       " ChunkMergeModel_15094e842f96,\n",
       " CONTEXTUAL-PARSER_bf2a6abaf5fa,\n",
       " CONTEXTUAL-PARSER_ff6bad379d91,\n",
       " CONTEXTUAL-PARSER_89341cae7221,\n",
       " CONTEXTUAL-PARSER_c6b9eded8d31,\n",
       " CONTEXTUAL-PARSER_9480c24bd9f8,\n",
       " CONTEXTUAL-PARSER_3886bce391c8,\n",
       " CONTEXTUAL-PARSER_0bb3fb75cd01,\n",
       " ENTITY_EXTRACTOR_6792f2f6e85a,\n",
       " ENTITY_EXTRACTOR_74ace4be4f73,\n",
       " CONTEXTUAL-PARSER_dfb32adc7555,\n",
       " REGEX_MATCHER_5003669d6422,\n",
       " CONTEXTUAL-PARSER_746a25662aa6,\n",
       " CONTEXTUAL-PARSER_079220479a3d,\n",
       " CONTEXTUAL-PARSER_f8b8f9aafb9f,\n",
       " CONTEXTUAL-PARSER_7f824493eafc,\n",
       " REGEX_MATCHER_26934077fe57,\n",
       " REGEX_MATCHER_5fe3de8b5a4e,\n",
       " CONTEXTUAL-PARSER_1543b24b4890,\n",
       " CONTEXTUAL-PARSER_980d396bec6c,\n",
       " MERGE_ddff59e8b14a,\n",
       " ChunkMergeModel_50feb5f97568,\n",
       " ContextualEntityRuler_08eeaa89c938,\n",
       " ChunkMergeModel_5a3f1e608447,\n",
       " LightDeIdentification_dd156106d887,\n",
       " LightDeIdentification_acfc9a325ba4,\n",
       " IOBTagger_0aa1b3937bd8]"
      ]
     },
     "execution_count": 183,
     "metadata": {},
     "output_type": "execute_result"
    }
   ],
   "source": [
    "modified_pipeline.model.stages"
   ]
  },
  {
   "cell_type": "code",
   "execution_count": 185,
   "metadata": {
    "execution": {
     "iopub.execute_input": "2025-06-16T23:59:41.170719Z",
     "iopub.status.busy": "2025-06-16T23:59:41.170058Z",
     "iopub.status.idle": "2025-06-17T00:00:38.055612Z",
     "shell.execute_reply": "2025-06-17T00:00:38.054912Z",
     "shell.execute_reply.started": "2025-06-16T23:59:41.170690Z"
    },
    "tags": []
   },
   "outputs": [],
   "source": [
    "empty_result = modified_pipeline.transform(spark.createDataFrame([[\"\"]]).toDF(\"text\"))\n",
    "\n",
    "modified_pipeline.model.write().overwrite().save(\"new_pipeline\")"
   ]
  },
  {
   "cell_type": "code",
   "execution_count": 11,
   "metadata": {
    "execution": {
     "iopub.execute_input": "2025-06-17T00:13:27.354779Z",
     "iopub.status.busy": "2025-06-17T00:13:27.354302Z",
     "iopub.status.idle": "2025-06-17T00:13:33.858149Z",
     "shell.execute_reply": "2025-06-17T00:13:33.857571Z",
     "shell.execute_reply.started": "2025-06-17T00:13:27.354757Z"
    },
    "tags": []
   },
   "outputs": [],
   "source": [
    "from sparknlp.pretrained import PretrainedPipeline\n",
    "\n",
    "new_pipeline = PretrainedPipeline.from_disk('new_pipeline')"
   ]
  },
  {
   "cell_type": "markdown",
   "metadata": {},
   "source": [
    "## Sample Result"
   ]
  },
  {
   "cell_type": "code",
   "execution_count": 10,
   "metadata": {
    "execution": {
     "iopub.execute_input": "2025-06-17T00:13:23.578639Z",
     "iopub.status.busy": "2025-06-17T00:13:23.578341Z",
     "iopub.status.idle": "2025-06-17T00:13:27.353080Z",
     "shell.execute_reply": "2025-06-17T00:13:27.352379Z",
     "shell.execute_reply.started": "2025-06-17T00:13:23.578621Z"
    },
    "tags": []
   },
   "outputs": [],
   "source": [
    "samples_df = spark.createDataFrame([[text]]).toDF(\"text\")\n",
    "\n",
    "result = new_pipeline.transform(samples_df).cache()"
   ]
  },
  {
   "cell_type": "code",
   "execution_count": 12,
   "metadata": {
    "execution": {
     "iopub.execute_input": "2025-06-17T00:13:34.088252Z",
     "iopub.status.busy": "2025-06-17T00:13:34.087700Z",
     "iopub.status.idle": "2025-06-17T00:13:40.860852Z",
     "shell.execute_reply": "2025-06-17T00:13:40.860179Z",
     "shell.execute_reply.started": "2025-06-17T00:13:34.088229Z"
    },
    "tags": []
   },
   "outputs": [
    {
     "name": "stderr",
     "output_type": "stream",
     "text": [
      "[Stage 358:=================================================>       (7 + 1) / 8]\r"
     ]
    },
    {
     "name": "stdout",
     "output_type": "stream",
     "text": [
      "+----------------------------------+-----+----+---------+----------+\n",
      "|chunk                             |begin|end |ner_label|confidence|\n",
      "+----------------------------------+-----+----+---------+----------+\n",
      "|John Lee                          |22   |29  |NAME     |0.83455   |\n",
      "|7789201                           |37   |43  |IDNUM    |0.72      |\n",
      "|2025-05-12                        |75   |84  |DATE     |NULL      |\n",
      "|#RD23-4897                        |101  |110 |IDNUM    |0.50      |\n",
      "|Smith                             |232  |236 |NAME     |0.6658    |\n",
      "|Carter                            |243  |248 |NAME     |0.9997    |\n",
      "|2025-05-12                        |275  |284 |DATE     |NULL      |\n",
      "|Fan Gabriel                       |313  |323 |NAME     |0.7408    |\n",
      "|90210                             |325  |329 |IDNUM    |0.3806    |\n",
      "|New York                          |373  |380 |LOCATION |NULL      |\n",
      "|Williams                          |391  |398 |LOCATION |0.3922    |\n",
      "|NYC                               |401  |403 |LOCATION |0.971     |\n",
      "|NY                                |406  |407 |LOCATION |0.9822    |\n",
      "|(212) 555-7890                    |409  |422 |CONTACT  |0.701625  |\n",
      "|John Lee                          |438  |445 |NAME     |0.96134996|\n",
      "|GH-556672                         |460  |468 |IDNUM    |0.9092    |\n",
      "|7789201                           |484  |490 |IDNUM    |0.7057    |\n",
      "|2025-05-10                        |503  |512 |DATE     |NULL      |\n",
      "|123 Main Street                   |523  |537 |LOCATION |0.63063335|\n",
      "|RIVER\\nNIAGARA FALLS              |545  |563 |LOCATION |0.6623667 |\n",
      "|NY                                |566  |567 |LOCATION |0.9996    |\n",
      "|14304                             |569  |573 |LOCATION |0.73      |\n",
      "|2025-05-10                        |585  |594 |DATE     |NULL      |\n",
      "|2025-05-12                        |606  |615 |DATE     |NULL      |\n",
      "|1973                              |655  |658 |DATE     |0.9993    |\n",
      "|52                                |666  |667 |AGE      |0.9956    |\n",
      "|M\\nPhysician(s                    |670  |682 |NAME     |0.7414    |\n",
      "|Jameson                           |690  |696 |NAME     |0.9998    |\n",
      "|Barstow Heights Christus Southeast|881  |914 |LOCATION |0.4909    |\n",
      "|NY                                |917  |918 |LOCATION |0.5242    |\n",
      "|St Elizabeth                      |922  |933 |LOCATION |0.71415   |\n",
      "|New York                          |936  |943 |LOCATION |NULL      |\n",
      "|COLLECTED                         |1158 |1166|LOCATION |0.8902    |\n",
      "|2025-05-10                        |1168 |1177|DATE     |NULL      |\n",
      "|ILEUM                             |1205 |1209|LOCATION |0.8323    |\n",
      "|NY                                |1258 |1259|LOCATION |0.6775    |\n",
      "+----------------------------------+-----+----+---------+----------+\n",
      "\n"
     ]
    },
    {
     "name": "stderr",
     "output_type": "stream",
     "text": [
      "                                                                                \r"
     ]
    }
   ],
   "source": [
    "result.select(F.explode(F.arrays_zip(result.ner_chunk.result,\n",
    "                                     result.ner_chunk.begin,\n",
    "                                     result.ner_chunk.end,\n",
    "                                     result.ner_chunk.metadata)).alias(\"cols\")) \\\n",
    "      .select(F.expr(\"cols['0']\").alias(\"chunk\"),\n",
    "              F.expr(\"cols['1']\").alias(\"begin\"),\n",
    "              F.expr(\"cols['2']\").alias(\"end\"),\n",
    "              F.expr(\"cols['3']['entity']\").alias(\"ner_label\"),\n",
    "              F.expr(\"cols['3']['confidence']\").alias(\"confidence\")).show(50,truncate=False)"
   ]
  },
  {
   "cell_type": "code",
   "execution_count": 19,
   "metadata": {
    "execution": {
     "iopub.execute_input": "2025-06-17T00:15:10.843008Z",
     "iopub.status.busy": "2025-06-17T00:15:10.842356Z",
     "iopub.status.idle": "2025-06-17T00:15:11.025180Z",
     "shell.execute_reply": "2025-06-17T00:15:11.024602Z",
     "shell.execute_reply.started": "2025-06-17T00:15:10.842981Z"
    },
    "tags": []
   },
   "outputs": [
    {
     "data": {
      "text/html": [
       "<div>\n",
       "<style scoped>\n",
       "    .dataframe tbody tr th:only-of-type {\n",
       "        vertical-align: middle;\n",
       "    }\n",
       "\n",
       "    .dataframe tbody tr th {\n",
       "        vertical-align: top;\n",
       "    }\n",
       "\n",
       "    .dataframe thead th {\n",
       "        text-align: right;\n",
       "    }\n",
       "</style>\n",
       "<table border=\"1\" class=\"dataframe\">\n",
       "  <thead>\n",
       "    <tr style=\"text-align: right;\">\n",
       "      <th></th>\n",
       "      <th>text</th>\n",
       "      <th>masked_result</th>\n",
       "      <th>obfuscated_result</th>\n",
       "    </tr>\n",
       "  </thead>\n",
       "  <tbody>\n",
       "    <tr>\n",
       "      <th>0</th>\n",
       "      <td>\\n(NOTE) Patient Name: John Lee. MR#: 7789201 Location: LERE Date Reported: 2025-05-12 16:30\\nSpecimen #RD23-4897 Clinical History: None Given. CLINICAL INFORMATION: Date of Last Menstrual Period: N/A\\nElectronically Signed Out By Dr. Smith, Dr. Carter, CT(ASCP) Date Reported: 2025-05-12 16:30\\nGeneral Hospital Dr. Fan Gabriel 90210 CPT Code(s) A: 88305\\n\\nGeneral Hospital in New York City Dr. Williams, NYC, NY\\n(212) 555-7890 Patient Name: John Lee Accession #: GH-556672\\nPatient ID #: 7789201 Collected: 2025-05-10 Address:\\n123 Main Street, FALL RIVER\\nNIAGARA FALLS, NY 14304\\nReceived: 2025-05-10 Reported: 2025-05-12\\nSoc. Sec. #: XXX-XX-1234 DOB/Age/Sex: 1973 (Age: 52) M\\nPhysician(s): Dr. Jameson. Peripheral sequestration, i.e. splenomegaly or hepatomegaly should be excluded to be sure if peripheral sequestration is not present.\\nThe following special studies were performed at Barstow Heights Christus Southeast, NY – St Elizabeth; New York City.\\n· Chromosome analysis cytogene...</td>\n",
       "      <td>[\\n(NOTE) Patient Name: &lt;NAME&gt;. MR#: &lt;IDNUM&gt; Location: LERE Date Reported: &lt;DATE&gt; 16:30\\nSpecimen &lt;IDNUM&gt; Clinical History: None Given. CLINICAL INFORMATION: Date of Last Menstrual Period: N/A\\nElectronically Signed Out By Dr. &lt;NAME&gt;, Dr. &lt;NAME&gt;, CT(ASCP) Date Reported: &lt;DATE&gt; 16:30\\nGeneral Hospital Dr. &lt;NAME&gt; &lt;IDNUM&gt; CPT Code(s) A: 88305\\n\\nGeneral Hospital in &lt;LOCATION&gt; City Dr. &lt;LOCATION&gt;, &lt;LOCATION&gt;, &lt;LOCATION&gt;\\n&lt;CONTACT&gt; Patient Name: &lt;NAME&gt; Accession #: &lt;IDNUM&gt;\\nPatient ID #: &lt;IDNUM&gt; Collected: &lt;DATE&gt; Address:\\n&lt;LOCATION&gt;, FALL &lt;LOCATION&gt;, &lt;LOCATION&gt; &lt;LOCATION&gt;\\nReceived: &lt;DATE&gt; Reported: &lt;DATE&gt;\\nSoc. Sec. #: XXX-XX-1234 DOB/Age/Sex: &lt;DATE&gt; (Age: &lt;AGE&gt;) &lt;NAME&gt;): Dr. &lt;NAME&gt;. Peripheral sequestration, i.e. splenomegaly or hepatomegaly should be excluded to be sure if peripheral sequestration is not present.\\nThe following special studies were performed at &lt;LOCATION&gt;, &lt;LOCATION&gt; – &lt;LOCATION&gt;; &lt;LOCATION&gt; City.\\n· Chromosome analysis cytogenetics. (ADDENDUM REPORT TO FOLLOW.)\\n· ...</td>\n",
       "      <td>[\\n(NOTE) Patient Name: Gillie Allan. MR#: 0074518 Location: LERE Date Reported: 2025-06-29 16:30\\nSpecimen #SA52-9740 Clinical History: None Given. CLINICAL INFORMATION: Date of Last Menstrual Period: N/A\\nElectronically Signed Out By Dr. Wanna, Dr. Malvin, CT(ASCP) Date Reported: 2025-06-29 16:30\\nGeneral Hospital Dr. Marcelo Danes 41581 CPT Code(s) A: 88305\\n\\nGeneral Hospital in 2000 Boise Ave City Dr. 2601 Fox Run Parkway, 427 GUY PARK AVE, 16100 SOUTH FREEWAY\\n(585) 666-0741 Patient Name: Gillie Allan Accession #: PU-663305\\nPatient ID #: 0074518 Collected: 2025-06-27 Address:\\n3255 Independence Street, FALL 401 BICENTENNIAL WAY, 16100 SOUTH FREEWAY 59 KOCH AVE\\nReceived: 2025-06-27 Reported: 2025-06-29\\nSoc. Sec. #: XXX-XX-1234 DOB/Age/Sex: 1974 (Age: 44) TERETHA Sol): Dr. Marchelle. Peripheral sequestration, i.e. splenomegaly or hepatomegaly should be excluded to be sure if peripheral sequestration is not present.\\nThe following special studies were performed at 103 North S...</td>\n",
       "    </tr>\n",
       "  </tbody>\n",
       "</table>\n",
       "</div>"
      ],
      "text/plain": [
       "                                                                                                                                                                                                                                                                                                                                                                                                                                                                                                                                                                                                                                                                                                                                                                                                                                                                                                                                                                                                                                      text  \\\n",
       "0  \\n(NOTE) Patient Name: John Lee. MR#: 7789201 Location: LERE Date Reported: 2025-05-12 16:30\\nSpecimen #RD23-4897 Clinical History: None Given. CLINICAL INFORMATION: Date of Last Menstrual Period: N/A\\nElectronically Signed Out By Dr. Smith, Dr. Carter, CT(ASCP) Date Reported: 2025-05-12 16:30\\nGeneral Hospital Dr. Fan Gabriel 90210 CPT Code(s) A: 88305\\n\\nGeneral Hospital in New York City Dr. Williams, NYC, NY\\n(212) 555-7890 Patient Name: John Lee Accession #: GH-556672\\nPatient ID #: 7789201 Collected: 2025-05-10 Address:\\n123 Main Street, FALL RIVER\\nNIAGARA FALLS, NY 14304\\nReceived: 2025-05-10 Reported: 2025-05-12\\nSoc. Sec. #: XXX-XX-1234 DOB/Age/Sex: 1973 (Age: 52) M\\nPhysician(s): Dr. Jameson. Peripheral sequestration, i.e. splenomegaly or hepatomegaly should be excluded to be sure if peripheral sequestration is not present.\\nThe following special studies were performed at Barstow Heights Christus Southeast, NY – St Elizabeth; New York City.\\n· Chromosome analysis cytogene...   \n",
       "\n",
       "                                                                                                                                                                                                                                                                                                                                                                                                                                                                                                                                                                                                                                                                                                                                                                                                                                                                                                                                                                                                                             masked_result  \\\n",
       "0  [\\n(NOTE) Patient Name: <NAME>. MR#: <IDNUM> Location: LERE Date Reported: <DATE> 16:30\\nSpecimen <IDNUM> Clinical History: None Given. CLINICAL INFORMATION: Date of Last Menstrual Period: N/A\\nElectronically Signed Out By Dr. <NAME>, Dr. <NAME>, CT(ASCP) Date Reported: <DATE> 16:30\\nGeneral Hospital Dr. <NAME> <IDNUM> CPT Code(s) A: 88305\\n\\nGeneral Hospital in <LOCATION> City Dr. <LOCATION>, <LOCATION>, <LOCATION>\\n<CONTACT> Patient Name: <NAME> Accession #: <IDNUM>\\nPatient ID #: <IDNUM> Collected: <DATE> Address:\\n<LOCATION>, FALL <LOCATION>, <LOCATION> <LOCATION>\\nReceived: <DATE> Reported: <DATE>\\nSoc. Sec. #: XXX-XX-1234 DOB/Age/Sex: <DATE> (Age: <AGE>) <NAME>): Dr. <NAME>. Peripheral sequestration, i.e. splenomegaly or hepatomegaly should be excluded to be sure if peripheral sequestration is not present.\\nThe following special studies were performed at <LOCATION>, <LOCATION> – <LOCATION>; <LOCATION> City.\\n· Chromosome analysis cytogenetics. (ADDENDUM REPORT TO FOLLOW.)\\n· ...   \n",
       "\n",
       "                                                                                                                                                                                                                                                                                                                                                                                                                                                                                                                                                                                                                                                                                                                                                                                                                                                                                                                                                                                                                         obfuscated_result  \n",
       "0  [\\n(NOTE) Patient Name: Gillie Allan. MR#: 0074518 Location: LERE Date Reported: 2025-06-29 16:30\\nSpecimen #SA52-9740 Clinical History: None Given. CLINICAL INFORMATION: Date of Last Menstrual Period: N/A\\nElectronically Signed Out By Dr. Wanna, Dr. Malvin, CT(ASCP) Date Reported: 2025-06-29 16:30\\nGeneral Hospital Dr. Marcelo Danes 41581 CPT Code(s) A: 88305\\n\\nGeneral Hospital in 2000 Boise Ave City Dr. 2601 Fox Run Parkway, 427 GUY PARK AVE, 16100 SOUTH FREEWAY\\n(585) 666-0741 Patient Name: Gillie Allan Accession #: PU-663305\\nPatient ID #: 0074518 Collected: 2025-06-27 Address:\\n3255 Independence Street, FALL 401 BICENTENNIAL WAY, 16100 SOUTH FREEWAY 59 KOCH AVE\\nReceived: 2025-06-27 Reported: 2025-06-29\\nSoc. Sec. #: XXX-XX-1234 DOB/Age/Sex: 1974 (Age: 44) TERETHA Sol): Dr. Marchelle. Peripheral sequestration, i.e. splenomegaly or hepatomegaly should be excluded to be sure if peripheral sequestration is not present.\\nThe following special studies were performed at 103 North S...  "
      ]
     },
     "execution_count": 19,
     "metadata": {},
     "output_type": "execute_result"
    }
   ],
   "source": [
    "pd.set_option(\"display.max_colwidth\", 1000)\n",
    "# pd.set_option(\"display.max_colwidth\",0)\n",
    "\n",
    "\n",
    "result_df = result.selectExpr(\"text\",\"mask_entity.result as masked_result\",\"obfuscated.result as obfuscated_result\").toPandas()\n",
    "result_df"
   ]
  },
  {
   "cell_type": "code",
   "execution_count": null,
   "metadata": {},
   "outputs": [],
   "source": []
  }
 ],
 "metadata": {
  "colab": {
   "provenance": [],
   "toc_visible": true
  },
  "kernelspec": {
   "display_name": "cabir-ds",
   "language": "python",
   "name": "cabir-ds"
  },
  "language_info": {
   "codemirror_mode": {
    "name": "ipython",
    "version": 3
   },
   "file_extension": ".py",
   "mimetype": "text/x-python",
   "name": "python",
   "nbconvert_exporter": "python",
   "pygments_lexer": "ipython3",
   "version": "3.10.9"
  }
 },
 "nbformat": 4,
 "nbformat_minor": 4
}
