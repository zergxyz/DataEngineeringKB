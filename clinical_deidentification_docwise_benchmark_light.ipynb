{
  "cells": [
    {
      "cell_type": "code",
      "execution_count": null,
      "metadata": {
        "id": "tQLe_InJtnzA"
      },
      "outputs": [],
      "source": [
        "import json\n",
        "import os\n",
        "\n",
        "from google.colab import files\n",
        "\n",
        "if 'spark_jsl.json' not in os.listdir():\n",
        "  license_keys = files.upload()\n",
        "  os.rename(list(license_keys.keys())[0], 'spark_jsl.json')\n",
        "\n",
        "with open('spark_jsl.json') as f:\n",
        "    license_keys = json.load(f)\n",
        "\n",
        "# Defining license key-value pairs as local variables\n",
        "locals().update(license_keys)\n",
        "os.environ.update(license_keys)"
      ]
    },
    {
      "cell_type": "code",
      "execution_count": null,
      "metadata": {
        "id": "JGkYS4CGtN87"
      },
      "outputs": [],
      "source": [
        "\n",
        "# Installing pyspark and spark-nlp\n",
        "! pip install --upgrade -q pyspark==3.5.0  spark-nlp==$PUBLIC_VERSION\n",
        "\n",
        "# Installing Spark NLP Healthcare\n",
        "! pip install --upgrade -q spark-nlp-jsl==$JSL_VERSION  --extra-index-url https://pypi.johnsnowlabs.com/$SECRET\n",
        "\n",
        "# Installing Spark NLP Display Library for visualization\n",
        "! pip install -q spark-nlp-display"
      ]
    },
    {
      "cell_type": "code",
      "execution_count": 3,
      "metadata": {
        "colab": {
          "base_uri": "https://localhost:8080/",
          "height": 254
        },
        "id": "iUNHVaSdL0tO",
        "outputId": "8403f6f7-4d64-44c7-be42-af3edfcf16fe"
      },
      "outputs": [
        {
          "output_type": "stream",
          "name": "stdout",
          "text": [
            "Spark NLP Version : 6.0.2\n",
            "Spark NLP_JSL Version : 6.0.2\n"
          ]
        },
        {
          "output_type": "execute_result",
          "data": {
            "text/plain": [
              "<pyspark.sql.session.SparkSession at 0x7b0e50691fd0>"
            ],
            "text/html": [
              "\n",
              "            <div>\n",
              "                <p><b>SparkSession - in-memory</b></p>\n",
              "                \n",
              "        <div>\n",
              "            <p><b>SparkContext</b></p>\n",
              "\n",
              "            <p><a href=\"http://519d27902d4a:4040\">Spark UI</a></p>\n",
              "\n",
              "            <dl>\n",
              "              <dt>Version</dt>\n",
              "                <dd><code>v3.5.0</code></dd>\n",
              "              <dt>Master</dt>\n",
              "                <dd><code>local[*]</code></dd>\n",
              "              <dt>AppName</dt>\n",
              "                <dd><code>Spark NLP Licensed</code></dd>\n",
              "            </dl>\n",
              "        </div>\n",
              "        \n",
              "            </div>\n",
              "        "
            ]
          },
          "metadata": {},
          "execution_count": 3
        }
      ],
      "source": [
        "import json\n",
        "import os\n",
        "\n",
        "import sparknlp\n",
        "import sparknlp_jsl\n",
        "\n",
        "from sparknlp.base import *\n",
        "from sparknlp.util import *\n",
        "from sparknlp.annotator import *\n",
        "from sparknlp_jsl.annotator import *\n",
        "from sparknlp_jsl.pipeline_tracer import PipelineTracer\n",
        "from sparknlp_jsl.pipeline_output_parser import PipelineOutputParser\n",
        "\n",
        "from pyspark.sql import functions as F\n",
        "from pyspark.sql import SparkSession\n",
        "from pyspark.ml import Pipeline, PipelineModel\n",
        "\n",
        "import pandas as pd\n",
        "pd.set_option('display.max_columns', None)\n",
        "pd.set_option('display.expand_frame_repr', False)\n",
        "pd.set_option('max_colwidth', None)\n",
        "\n",
        "import string\n",
        "import numpy as np\n",
        "\n",
        "\n",
        "params = {\"spark.driver.memory\":\"16G\",\n",
        "          \"spark.kryoserializer.buffer.max\":\"2000M\",\n",
        "          \"spark.driver.maxResultSize\":\"2000M\"}\n",
        "\n",
        "spark = sparknlp_jsl.start(secret = license_keys[\"SECRET\"], params=params)\n",
        "\n",
        "print (\"Spark NLP Version :\", sparknlp.version())\n",
        "print (\"Spark NLP_JSL Version :\", sparknlp_jsl.version())\n",
        "\n",
        "spark"
      ]
    },
    {
      "cell_type": "markdown",
      "metadata": {
        "id": "oLUhi2LVvE8M",
        "tags": []
      },
      "source": [
        "## Pipeline Start"
      ]
    },
    {
      "cell_type": "code",
      "execution_count": 4,
      "metadata": {
        "execution": {
          "iopub.execute_input": "2025-01-24T17:38:59.491973Z",
          "iopub.status.busy": "2025-01-24T17:38:59.491409Z",
          "iopub.status.idle": "2025-01-24T17:38:59.577933Z",
          "shell.execute_reply": "2025-01-24T17:38:59.577407Z",
          "shell.execute_reply.started": "2025-01-24T17:38:59.491951Z"
        },
        "id": "df3fjQw2vE8N",
        "tags": []
      },
      "outputs": [],
      "source": [
        "documentAssembler = DocumentAssembler()\\\n",
        "      .setInputCol(\"text\")\\\n",
        "      .setOutputCol(\"document\")\n",
        "\n",
        "splitter = (\n",
        "            InternalDocumentSplitter()\n",
        "            .setInputCols(\"document\")\n",
        "            .setOutputCol(\"splitter\")\n",
        "            .setSplitMode(\"recursive\")\n",
        "            .setSplitPatterns([\"\\s+\"])  # Token base\n",
        "            .setPatternsAreRegex(True)\n",
        "            .setChunkSize(512)    # 512 Char Lenght\n",
        "            .setChunkOverlap(50)\n",
        "            .setEnableSentenceIncrement(True)  # Like sentenceDetector\n",
        ")\n",
        "\n",
        "tokenizer = (\n",
        "    Tokenizer()\n",
        "    .setInputCols(\"splitter\")\n",
        "    .setOutputCol(\"token\")\n",
        ")"
      ]
    },
    {
      "cell_type": "code",
      "execution_count": 5,
      "metadata": {
        "execution": {
          "iopub.execute_input": "2025-01-24T17:38:59.860533Z",
          "iopub.status.busy": "2025-01-24T17:38:59.860112Z",
          "iopub.status.idle": "2025-01-24T17:38:59.863559Z",
          "shell.execute_reply": "2025-01-24T17:38:59.863058Z",
          "shell.execute_reply.started": "2025-01-24T17:38:59.860508Z"
        },
        "id": "0kauhw0S81Jn",
        "tags": []
      },
      "outputs": [],
      "source": [
        "full_example = \"\"\"\n",
        "A . Record date: 2093-01-13, date: 2093-01-13, DATE: 2093-01-13, David Hale, M.D. IP: 203.120.223.13. ID: 1231511863, Des Moines AL 50129-4444, The driver's license no: A334455B. the SSN:324598674 and e-mail: hale@gmail.com. Name : Hendrickson, Ora MR. # 719435 Date : 01/13/93. PCP : Oliveira, 25 years-old. Record date : 2079-11-09, Cocke County Baptist Hospital. 0295 Keats Street. Phone (302) 786-5227.\n",
        "Mine is SSN#332255677, The other is ssN: 333-44-6666. the rest ssn:  212-33-4444. his is sSN : 345-33-5666, HER is ssn 332233445.\n",
        "me again ssn 223344556, Their SSN: 234-44-3333. MY dln# D08954796. your DLN : AB773955A. \\\n",
        "Social Security no: 445-66-4432. Patient's VIN : 1HGBH41JXMN109286. Molina Cortes, Alvaro, MD. MRN: 1482926 from GE Healthcare.\n",
        "His personal IP: 2001:db8:85a3:8d3:1319:8a2e:370:7348. the patient's ssns: 333224444. my account number is 123456789. your routing 44334456.\n",
        "account#3344556677. his bank no: 334455667788. Patient's Vehicle Identifiers: 1HGBH41JXMN109286. my VIN# 1dddd41JXMN109286. our vehicle id no: 1HGBH41JXMN109286.\n",
        "his aba is 3445-6543-2. sample bankrouting: 23443245. \\\n",
        "\"\"\""
      ]
    },
    {
      "cell_type": "code",
      "execution_count": 6,
      "metadata": {
        "colab": {
          "base_uri": "https://localhost:8080/"
        },
        "execution": {
          "iopub.execute_input": "2025-01-24T17:39:00.251443Z",
          "iopub.status.busy": "2025-01-24T17:39:00.251056Z",
          "iopub.status.idle": "2025-01-24T17:39:05.362404Z",
          "shell.execute_reply": "2025-01-24T17:39:05.361703Z",
          "shell.execute_reply.started": "2025-01-24T17:39:00.251422Z"
        },
        "id": "sulXByuA8eu7",
        "outputId": "b8274d29-bde8-480a-ab91-6befb4c8bea8",
        "tags": []
      },
      "outputs": [
        {
          "output_type": "stream",
          "name": "stdout",
          "text": [
            "+------------------------------------------------------------------------------------------------------------------------------------------------------------------------------------------------------------------------------------------------------------------------------------------------------------------------------------------------------------------------------------------------------------------------------------------------------------------------------------------------------------------------------------------------------------------------------------------------------------------------------------------+\n",
            "|s                                                                                                                                                                                                                                                                                                                                                                                                                                                                                                                                                                                                                                         |\n",
            "+------------------------------------------------------------------------------------------------------------------------------------------------------------------------------------------------------------------------------------------------------------------------------------------------------------------------------------------------------------------------------------------------------------------------------------------------------------------------------------------------------------------------------------------------------------------------------------------------------------------------------------------+\n",
            "|{document, 1, 502, A . Record date: 2093-01-13, date: 2093-01-13, DATE: 2093-01-13, David Hale, M.D. IP: 203.120.223.13. ID: 1231511863, Des Moines AL 50129-4444, The driver's license no: A334455B. the SSN:324598674 and e-mail: hale@gmail.com. Name : Hendrickson, Ora MR. # 719435 Date : 01/13/93. PCP : Oliveira, 25 years-old. Record date : 2079-11-09, Cocke County Baptist Hospital. 0295 Keats Street. Phone (302) 786-5227.\\nMine is SSN#332255677, The other is ssN: 333-44-6666. the rest ssn:  212-33-4444. his is sSN :, {sentence -> 0, document -> 0, uuid -> 8aff7be7-302e-4fa4-b802-4e18733d4f08}, []}              |\n",
            "|{document, 462, 973, the rest ssn:  212-33-4444. his is sSN : 345-33-5666, HER is ssn 332233445.\\nme again ssn 223344556, Their SSN: 234-44-3333. MY dln# D08954796. your DLN : AB773955A. Social Security no: 445-66-4432. Patient's VIN : 1HGBH41JXMN109286. Molina Cortes, Alvaro, MD. MRN: 1482926 from GE Healthcare.\\nHis personal IP: 2001:db8:85a3:8d3:1319:8a2e:370:7348. the patient's ssns: 333224444. my account number is 123456789. your routing 44334456.\\naccount#3344556677. his bank no: 334455667788. Patient's Vehicle Identifiers:, {sentence -> 1, document -> 1, uuid -> fa984afc-e1b1-4052-8a91-d1dbdaac26bf}, []}|\n",
            "|{document, 925, 1111, no: 334455667788. Patient's Vehicle Identifiers: 1HGBH41JXMN109286. my VIN# 1dddd41JXMN109286. our vehicle id no: 1HGBH41JXMN109286.\\nhis aba is 3445-6543-2. sample bankrouting: 23443245., {sentence -> 2, document -> 2, uuid -> 2a553a7c-fd64-4977-b704-0e5642600a1b}, []}                                                                                                                                                                                                                                                                                                                                      |\n",
            "+------------------------------------------------------------------------------------------------------------------------------------------------------------------------------------------------------------------------------------------------------------------------------------------------------------------------------------------------------------------------------------------------------------------------------------------------------------------------------------------------------------------------------------------------------------------------------------------------------------------------------------------+\n",
            "\n"
          ]
        }
      ],
      "source": [
        "nlp = Pipeline(stages=[documentAssembler,splitter,tokenizer])\n",
        "nlp.fit(spark.createDataFrame([['']]).toDF(\"text\")).transform(spark.createDataFrame([[full_example]]).toDF(\"text\")).selectExpr(\"explode(splitter) as s\").show(n=50,truncate=False)"
      ]
    },
    {
      "cell_type": "code",
      "execution_count": 7,
      "metadata": {
        "execution": {
          "iopub.execute_input": "2025-01-24T17:39:05.363825Z",
          "iopub.status.busy": "2025-01-24T17:39:05.363568Z",
          "iopub.status.idle": "2025-01-24T17:39:05.369718Z",
          "shell.execute_reply": "2025-01-24T17:39:05.369085Z",
          "shell.execute_reply.started": "2025-01-24T17:39:05.363805Z"
        },
        "id": "gYdIZ4KH7gp5",
        "tags": []
      },
      "outputs": [],
      "source": [
        "def write_rule(file_path, rules):\n",
        "\n",
        "    prefix_rule = \"(?i)(?<=((({})[^a-z0-9]{})))\"\n",
        "    prefix_rule_init = \"(?i)(?<=(({})))\"\n",
        "    suffix_rule = \"(?i)(?=(([^a-z0-9]{}({}))))\"\n",
        "    suffix_rule_init = \"(?i)(?=(({})))\"\n",
        "    with open(file_path, 'w') as f:\n",
        "\n",
        "        for label in list(rules.keys()):\n",
        "            if len(rules[label]['prefix'])>0:\n",
        "                rule = prefix_rule_init.format(\"|\".join(rules[label]['prefix'])) + rules[label]['rule'] + f\"~{label}\"\n",
        "                f.write(rule)\n",
        "                f.write('\\n')\n",
        "                for i in range(1,rules[label]['contextLength']):\n",
        "                    rule = prefix_rule.format(\"|\".join(rules[label]['prefix']),'{'+str(i)+'}') + rules[label]['rule'] + f\"~{label}\"\n",
        "                    f.write(rule)\n",
        "                    f.write('\\n')\n",
        "            try:\n",
        "\n",
        "                if len(rules[label]['suffix'])>0:\n",
        "                    rule = suffix_rule_init.format(\"|\".join(rules[label]['suffix'])) + rules[label]['rule'] + f\"~{label}\"\n",
        "                    f.write(rule)\n",
        "                    f.write('\\n')\n",
        "                    for i in range(1,rules[label]['contextLength']):\n",
        "                        rule = rules[label]['rule'] + suffix_rule.format('{'+str(i)+'}', \"|\".join(rules[label]['suffix'])) + f\"~{label}\"\n",
        "                        f.write(rule)\n",
        "                        f.write('\\n')\n",
        "            except:\n",
        "                continue"
      ]
    },
    {
      "cell_type": "markdown",
      "metadata": {
        "id": "tlSThujPxxCv",
        "jp-MarkdownHeadingCollapsed": true,
        "tags": []
      },
      "source": [
        "## ICD10_CODE"
      ]
    },
    {
      "cell_type": "code",
      "execution_count": 8,
      "metadata": {
        "colab": {
          "base_uri": "https://localhost:8080/"
        },
        "execution": {
          "iopub.execute_input": "2024-12-11T18:14:07.235951Z",
          "iopub.status.busy": "2024-12-11T18:14:07.235432Z",
          "iopub.status.idle": "2024-12-11T18:14:11.508316Z",
          "shell.execute_reply": "2024-12-11T18:14:11.507013Z",
          "shell.execute_reply.started": "2024-12-11T18:14:07.235909Z"
        },
        "id": "OrmJ_ttMxukS",
        "outputId": "ddd1c8f2-8359-4832-9414-88f20d8e9e4e",
        "tags": []
      },
      "outputs": [
        {
          "output_type": "stream",
          "name": "stdout",
          "text": [
            "['J41', 'F33', 'T41.2', 'K41.456', 'X41.4X5S']\n"
          ]
        }
      ],
      "source": [
        "icd = {\n",
        "    \"entity\": \"ICD10_CODE\",\n",
        "    \"ruleScope\": \"sentence\",\n",
        "    \"regex\":\"^[A-Z]\\d{2}(.[A-Z0-9]{1,4})?$\",\n",
        "    \"matchScope\": \"token\"\n",
        "}\n",
        "\n",
        "with open('icd10.json', 'w') as f:\n",
        "    json.dump(icd, f)\n",
        "\n",
        "icd_parser = ContextualParserApproach()\\\n",
        "    .setInputCols([\"splitter\", \"token\"])\\\n",
        "    .setOutputCol(\"entity_icd10\")\\\n",
        "    .setJsonPath(\"icd10.json\")\\\n",
        "    .setCaseSensitive(True)\\\n",
        "    .setPrefixAndSuffixMatch(False)\n",
        "\n",
        "icd_parser_pipeline = Pipeline(\n",
        "    stages=[\n",
        "        documentAssembler,\n",
        "        splitter,\n",
        "        tokenizer,\n",
        "        icd_parser\n",
        "])\n",
        "\n",
        "empty_data = spark.createDataFrame([[\"\"]]).toDF(\"text\")\n",
        "icd_parser_model = icd_parser_pipeline.fit(empty_data)\n",
        "icd_parser_model.stages[-1].write().overwrite().save(\"parser/icd10_parser\")\n",
        "\n",
        "icd_lp = LightPipeline(icd_parser_model)\n",
        "\n",
        "example_text = \"\"\"  Patient hat einen Infekt der oberen Atemweg\n",
        "(J41) F33 A444 (T41.2) (K41.456) (X41.4X5S)\n",
        "(m41.54)  (XJ41.4X56) (C414.46XS) (414.46XS) (414 46XS) (41K.46XS)\"\"\"\n",
        "res = icd_lp.fullAnnotate(example_text)\n",
        "print([a.result for a in res[0]['entity_icd10']])"
      ]
    },
    {
      "cell_type": "markdown",
      "metadata": {
        "id": "BijsHcG-LpTu",
        "jp-MarkdownHeadingCollapsed": true,
        "tags": []
      },
      "source": [
        "## SSN"
      ]
    },
    {
      "cell_type": "code",
      "execution_count": 9,
      "metadata": {
        "colab": {
          "base_uri": "https://localhost:8080/"
        },
        "execution": {
          "iopub.execute_input": "2024-12-04T07:52:04.131233Z",
          "iopub.status.busy": "2024-12-04T07:52:04.130135Z",
          "iopub.status.idle": "2024-12-04T07:52:06.356756Z",
          "shell.execute_reply": "2024-12-04T07:52:06.355725Z",
          "shell.execute_reply.started": "2024-12-04T07:52:04.131196Z"
        },
        "id": "dJUT47g0vE8O",
        "outputId": "8b17ac9c-220d-4dc0-f208-05119ad32d6f",
        "tags": []
      },
      "outputs": [
        {
          "output_type": "execute_result",
          "data": {
            "text/plain": [
              "['023-92-7136']"
            ]
          },
          "metadata": {},
          "execution_count": 9
        }
      ],
      "source": [
        "ssn = {\n",
        "    \"entity\": \"SSN\",\n",
        "    \"ruleScope\": \"document\",\n",
        "    \"regex\": \"\\d{3}.?\\d{2}.?\\d{4}\",\n",
        "    \"matchScope\": \"sub-token\",\n",
        "    \"prefix\": [\"social\", \"security\", \"ss#\", \"ssn\",\"(SSN)\",\n",
        "              \"ssid\", \"ss #\", \"ssn #\", \"SSA Number\",\"SSN\",\n",
        "               \"Soc Sec\",\"SSNS\", \"SSN#\" ],\n",
        "\n",
        "    \"contextLength\": 50\n",
        "}\n",
        "\n",
        "with open('ssn.json', 'w') as f:\n",
        "    json.dump(ssn, f)\n",
        "\n",
        "ssn_parser = ContextualParserApproach()\\\n",
        "    .setInputCols([\"splitter\", \"token\"])\\\n",
        "    .setOutputCol(\"entity_ssn\")\\\n",
        "    .setJsonPath(\"ssn.json\")\\\n",
        "    .setCaseSensitive(False) \\\n",
        "    .setPrefixAndSuffixMatch(False)\\\n",
        "    .setShortestContextMatch(False)\\\n",
        "    .setOptionalContextRules(False)\\\n",
        "    .setCompleteContextMatch(True)\n",
        "\n",
        "ssn_parser_pipeline = Pipeline(stages=[\n",
        "    documentAssembler,\n",
        "    splitter,\n",
        "    tokenizer,\n",
        "    ssn_parser\n",
        "])\n",
        "\n",
        "empty_data = spark.createDataFrame([[\"\"]]).toDF(\"text\")\n",
        "\n",
        "ssn_parser_model = ssn_parser_pipeline.fit(empty_data)\n",
        "ssn_parser_model.stages[-1].write().overwrite().save(\"parser/ssn_parser\")\n",
        "\n",
        "txt = \"\"\"San Diego, CA, USA. Email: medunites@firsthospital.com\n",
        "Patient John Davies, 62 y.o. ssn: 023-92-7136 was discharged after 12 hours of monitoring without any signs of internal damage.\n",
        "TSICU Admission 65332 on 24/06/2019 by ambulance VIN 4Y1SL65848Z411439\"\"\"\n",
        "\n",
        "LightPipeline(ssn_parser_model).annotate(txt)[\"entity_ssn\"]"
      ]
    },
    {
      "cell_type": "code",
      "execution_count": 10,
      "metadata": {
        "colab": {
          "base_uri": "https://localhost:8080/"
        },
        "execution": {
          "iopub.execute_input": "2024-12-04T07:52:06.359637Z",
          "iopub.status.busy": "2024-12-04T07:52:06.359007Z",
          "iopub.status.idle": "2024-12-04T07:52:07.740103Z",
          "shell.execute_reply": "2024-12-04T07:52:07.738558Z",
          "shell.execute_reply.started": "2024-12-04T07:52:06.359609Z"
        },
        "id": "W2eziJzIN4x4",
        "outputId": "ab28078e-87b0-4164-9486-602a5b9fd74a",
        "tags": []
      },
      "outputs": [
        {
          "output_type": "stream",
          "name": "stdout",
          "text": [
            "+------------------------------------------------------------------------------------------------------------------+-------------------------------------------------------------------------------------------------+-------------+\n",
            "|result                                                                                                            |result                                                                                           |result       |\n",
            "+------------------------------------------------------------------------------------------------------------------+-------------------------------------------------------------------------------------------------+-------------+\n",
            "|[Please, provide, your, Social, Security, Number, SSN, as, part, of, the, application, process, :, 123-45-6789, .]|[Please provide your Social Security Number SSN as part of the application process: 123-45-6789.]|[123-45-6789]|\n",
            "|[To, verify, your, identity, ,, we, require, your, SSN, :, anc, 987-65-4321, .]                                   |[To verify your identity, we require your SSN: anc 987-65-4321.]                                 |[987-65-4321]|\n",
            "|[For, security, reasons, ,, enter, your, SSN, in, the, format, 123.45.6789, .]                                    |[For security reasons, enter your SSN in the format 123.45.6789.]                                |[123.45.6789]|\n",
            "|[Your, SSN, should, be, submitted, as, follows, :, 123, 45, 6789, .]                                              |[Your SSN should be submitted as follows: 123 45 6789.]                                          |[123 45 6789]|\n",
            "|[Ensure, you, input, your, SSN, correctly, :, 456-78-9123, .]                                                     |[Ensure you input your SSN correctly: 456-78-9123.]                                              |[456-78-9123]|\n",
            "|[For, the, background, check, ,, please, use, the, following, SSN, :, 789-12-3456, .]                             |[For the background check, please use the following SSN: 789-12-3456.]                           |[789-12-3456]|\n",
            "|[Your, Social, Security, Number, is, needed, :, 321-54-9876, .]                                                   |[Your Social Security Number is needed: 321-54-9876.]                                            |[321-54-9876]|\n",
            "|[SSN, must, be, provided, in, the, following, format, :, 654-32-1987, .]                                          |[SSN must be provided in the following format: 654-32-1987.]                                     |[654-32-1987]|\n",
            "|[Please, confirm, your, SSN, :, 159-75-2468, .]                                                                   |[Please confirm your SSN: 159-75-2468.]                                                          |[159-75-2468]|\n",
            "|[For, identity, verification, ,, input, your, SSN, as, 753.14.2689, .]                                            |[For identity verification, input your SSN as 753.14.2689.]                                      |[753.14.2689]|\n",
            "|[Enter, your, SSN, here, :, 147-25-3698, .]                                                                       |[Enter your SSN here: 147-25-3698.]                                                              |[147-25-3698]|\n",
            "|[We, require, your, SSN, for, processing, :, 258-69-7410, .]                                                      |[We require your SSN for processing: 258-69-7410.]                                               |[258-69-7410]|\n",
            "|[Provide, your, Social, Security, Number, :, 369.87.4521, .]                                                      |[Provide your Social Security Number: 369.87.4521.]                                              |[369.87.4521]|\n",
            "|[Submit, your, SSN, in, this, format, :, 123, 45, 6789, .]                                                        |[Submit your SSN in this format: 123 45 6789.]                                                   |[123 45 6789]|\n",
            "|[Ensure, your, SSN, is, correct, :, 654-32-1987, .]                                                               |[Ensure your SSN is correct: 654-32-1987.]                                                       |[654-32-1987]|\n",
            "|[To, complete, your, registration, ,, enter, your, SSN, :, 789-12-3456, .]                                        |[To complete your registration, enter your SSN: 789-12-3456.]                                    |[789-12-3456]|\n",
            "|[Your, SSN, should, be, written, as, follows, :, 321-54-9876, .]                                                  |[Your SSN should be written as follows: 321-54-9876.]                                            |[321-54-9876]|\n",
            "|[For, security, purposes, ,, use, the, SSN, format, :, 456, 78, 9123, .]                                          |[For security purposes, use the SSN format: 456 78 9123.]                                        |[456 78 9123]|\n",
            "|[Verify, your, identity, with, your, SSN, :, 987.65.4321, .]                                                      |[Verify your identity with your SSN: 987.65.4321.]                                               |[987.65.4321]|\n",
            "|[Your, Social, Security, Number, (, SSN, ), must, be, provided, :, 123-45-6789, .]                                |[Your Social Security Number (SSN) must be provided: 123-45-6789.]                               |[123-45-6789]|\n",
            "+------------------------------------------------------------------------------------------------------------------+-------------------------------------------------------------------------------------------------+-------------+\n",
            "\n"
          ]
        }
      ],
      "source": [
        "test= [\n",
        "    ['Please provide your Social Security Number SSN as part of the application process: 123-45-6789.', 'SSN', '123-45-6789'],\n",
        "    ['To verify your identity, we require your SSN: anc 987-65-4321.', 'SSN', '987-65-4321'],\n",
        "    ['For security reasons, enter your SSN in the format 123.45.6789.', 'SSN', '123.45.6789'],\n",
        "    ['Your SSN should be submitted as follows: 123 45 6789.', 'SSN', '123 45 6789'],\n",
        "    ['Ensure you input your SSN correctly: 456-78-9123.', 'SSN', '456-78-9123'],\n",
        "    ['For the background check, please use the following SSN: 789-12-3456.', 'SSN', '789-12-3456'],\n",
        "    ['Your Social Security Number is needed: 321-54-9876.', 'SSN', '321-54-9876'],\n",
        "    ['SSN must be provided in the following format: 654-32-1987.', 'SSN', '654-32-1987'],\n",
        "    ['Please confirm your SSN: 159-75-2468.', 'SSN', '159-75-2468'],\n",
        "    ['For identity verification, input your SSN as 753.14.2689.', 'SSN', '753.14.2689'],\n",
        "    ['Enter your SSN here: 147-25-3698.', 'SSN', '147-25-3698'],\n",
        "    ['We require your SSN for processing: 258-69-7410.', 'SSN', '258-69-7410'],\n",
        "    ['Provide your Social Security Number: 369.87.4521.', 'SSN', '369.87.4521'],\n",
        "    ['Submit your SSN in this format: 123 45 6789.', 'SSN', '123 45 6789'],\n",
        "    ['Ensure your SSN is correct: 654-32-1987.', 'SSN', '654-32-1987'],\n",
        "    ['To complete your registration, enter your SSN: 789-12-3456.', 'SSN', '789-12-3456'],\n",
        "    ['Your SSN should be written as follows: 321-54-9876.', 'SSN', '321-54-9876'],\n",
        "    ['For security purposes, use the SSN format: 456 78 9123.', 'SSN', '456 78 9123'],\n",
        "    ['Verify your identity with your SSN: 987.65.4321.', 'SSN', '987.65.4321'],\n",
        "    ['Your Social Security Number (SSN) must be provided: 123-45-6789.', 'SSN', '123-45-6789']\n",
        "]\n",
        "\n",
        "ssn_parser_model.transform(spark.createDataFrame(test, ['text']))\\\n",
        "                .select(\"token.result\",\"document.result\",\"entity_ssn.result\")\\\n",
        "                .show(truncate=False)"
      ]
    },
    {
      "cell_type": "markdown",
      "metadata": {
        "id": "GHDn-HL7LpTv",
        "jp-MarkdownHeadingCollapsed": true,
        "tags": []
      },
      "source": [
        "## ACCOUNT"
      ]
    },
    {
      "cell_type": "code",
      "execution_count": 11,
      "metadata": {
        "colab": {
          "base_uri": "https://localhost:8080/"
        },
        "execution": {
          "iopub.execute_input": "2024-12-04T07:52:07.742896Z",
          "iopub.status.busy": "2024-12-04T07:52:07.742118Z",
          "iopub.status.idle": "2024-12-04T07:52:09.589940Z",
          "shell.execute_reply": "2024-12-04T07:52:09.588781Z",
          "shell.execute_reply.started": "2024-12-04T07:52:07.742854Z"
        },
        "id": "zyELvFGnvE8Q",
        "outputId": "a4681c74-7e51-449f-afe4-f3c542b4e110",
        "tags": []
      },
      "outputs": [
        {
          "output_type": "execute_result",
          "data": {
            "text/plain": [
              "['1234567890120', '123567']"
            ]
          },
          "metadata": {},
          "execution_count": 11
        }
      ],
      "source": [
        "account = {\n",
        "    \"entity\": \"ACCOUNT\",\n",
        "    \"ruleScope\": \"document\",\n",
        "    \"regex\": \"\\d{6,17}|\\d{3}.?\\d{4}.?\\d\",\n",
        "    \"matchScope\": \"sub-token\",\n",
        "    \"prefix\": [\"check\", \"checking\", \"account\", \"acct\", \"routing\",\"acc\"\n",
        "              , \"save\", \"saving\", \"debit\", \"bank\", \"aba\", \"aba routing\",\n",
        "              \"abarouting\", \"association\", \"bankrouting\",\"routing number\"],\n",
        "    \"contextLength\": 50\n",
        "}\n",
        "\n",
        "with open('account.json', 'w') as f:\n",
        "    json.dump(account, f)\n",
        "\n",
        "account_parser = ContextualParserApproach() \\\n",
        "    .setInputCols([\"splitter\", \"token\"]) \\\n",
        "    .setOutputCol(\"entity_account\") \\\n",
        "    .setJsonPath(\"account.json\") \\\n",
        "    .setCaseSensitive(False) \\\n",
        "    .setPrefixAndSuffixMatch(False)\\\n",
        "    .setShortestContextMatch(False)\\\n",
        "    .setOptionalContextRules(False)\\\n",
        "    .setCompleteContextMatch(True)\n",
        "\n",
        "account_parser_pipeline = Pipeline(stages=[\n",
        "    documentAssembler,\n",
        "    splitter,\n",
        "    tokenizer,\n",
        "    account_parser\n",
        "])\n",
        "\n",
        "empty_data = spark.createDataFrame([[\"\"]]).toDF(\"text\")\n",
        "\n",
        "account_parser_model = account_parser_pipeline.fit(empty_data)\n",
        "\n",
        "account_parser_model.stages[-1].write().overwrite().save(\"parser/account_parser\")\n",
        "\n",
        "txt = \"\"\"Name : Hendrickson, Ora, Record date: 2093-01-13, # 719435.\n",
        "Dr. John Green, ID: 1231511863, IP 203.120.223.13. account: 1234567890120 route number: 123567\n",
        "He is a 60-year-old male was admitted to the Day Hospital for cystectomy on 01/13/93.\n",
        "Patient's VIN : 1HGBH41JXMN109286, SSN #333-44-6666, Driver's license no:A334455B.\n",
        "Phone (302) 786-5227, 0295 Keats Street, San Francisco, E-MAIL: smith@gmail.com.\"\"\"\n",
        "\n",
        "LightPipeline(account_parser_model).annotate(txt)[\"entity_account\"]"
      ]
    },
    {
      "cell_type": "code",
      "execution_count": 12,
      "metadata": {
        "colab": {
          "base_uri": "https://localhost:8080/"
        },
        "execution": {
          "iopub.execute_input": "2024-12-04T07:52:09.594840Z",
          "iopub.status.busy": "2024-12-04T07:52:09.594269Z",
          "iopub.status.idle": "2024-12-04T07:52:10.702700Z",
          "shell.execute_reply": "2024-12-04T07:52:10.701234Z",
          "shell.execute_reply.started": "2024-12-04T07:52:09.594813Z"
        },
        "id": "Xg0t3vuUAb97",
        "outputId": "469a13a9-4815-47b6-94a6-4973cc6d515d",
        "tags": []
      },
      "outputs": [
        {
          "output_type": "stream",
          "name": "stdout",
          "text": [
            "+----------------------------------------------------------------------------------------+-------------------------------------------------------------------------+----------------+\n",
            "|result                                                                                  |result                                                                   |result          |\n",
            "+----------------------------------------------------------------------------------------+-------------------------------------------------------------------------+----------------+\n",
            "|[Please, use, acct#, 1234567890, for, all, future, transactions, .]                     |[Please use acct# 1234567890 for all future transactions.]               |[1234567890]    |\n",
            "|[Your, new, account, number, is, 987654321, ., Make, sure, to, update, your, records, .]|[Your new account number is 987654321. Make sure to update your records.]|[987654321]     |\n",
            "|[The, transfer, was, made, to, Acct, ., 1111-2222-3333, .]                              |[The transfer was made to Acct. 1111-2222-3333.]                         |[111-2222-3]    |\n",
            "|[For, payment, ,, use, account, no, ., 0000, 1234, 5678, 9012, .]                       |[For payment, use account no. 0000 1234 5678 9012.]                      |[]              |\n",
            "|[Account, #9876-543210-987, is, currently, inactive, .]                                 |[Account #9876-543210-987 is currently inactive.]                        |[876-543210]    |\n",
            "|[The, payment, was, credited, to, account, 1234.5678.9101.1121, .]                      |[The payment was credited to account 1234.5678.9101.1121.]               |[234.5678.9]    |\n",
            "|[Please, deposit, the, funds, into, account, number, 12345-67890, .]                    |[Please deposit the funds into account number 12345-67890.]              |[345-67890]     |\n",
            "|[Account, No, ., 12345678, is, linked, to, your, checking, account, .]                  |[Account No. 12345678 is linked to your checking account.]               |[12345678]      |\n",
            "|[Your, account, 111-222-333333-44, has, been, updated, .]                               |[Your account 111-222-333333-44 has been updated.]                       |[222-333333]    |\n",
            "|[The, account, 5678-123-45678901, is, now, closed, .]                                   |[The account 5678-123-45678901 is now closed.]                           |[123-456789]    |\n",
            "|[Please, use, acc, ., no, ., 87654321, for, future, deposits, .]                        |[Please use acc. no. 87654321 for future deposits.]                      |[87654321]      |\n",
            "|[Your, account, number, 1122-3344-5566-7788, has, been, approved, .]                    |[Your account number 1122-3344-5566-7788 has been approved.]             |[122-3344-5]    |\n",
            "|[For, this, transaction, ,, use, account, ., number, 99999999, .]                       |[For this transaction, use account. number 99999999.]                    |[99999999]      |\n",
            "|[Funds, have, been, transferred, to, account, number, 8888.9999.0000, .]                |[Funds have been transferred to account number 8888.9999.0000.]          |[888.9999.0]    |\n",
            "|[Account, number, 123-4567-8910-1112, is, currently, suspended, .]                      |[Account number 123-4567-8910-1112 is currently suspended.]              |[123-4567-8]    |\n",
            "|[Please, update, your, records, with, account, number, 9876, 5432, 1098, .]             |[Please update your records with account number 9876 5432 1098.]         |[]              |\n",
            "|[For, billing, inquiries, ,, use, account, #123456789012, .]                            |[For billing inquiries, use account #123456789012.]                      |[123456789012]  |\n",
            "|[The, funds, were, transferred, to, Account, ., 123456-7890, .]                         |[The funds were transferred to Account. 123456-7890.]                    |[123456]        |\n",
            "|[Account, number, 7654-321098-765, is, being, reviewed, .]                              |[Account number 7654-321098-765 is being reviewed.]                      |[654-321098]    |\n",
            "|[Please, confirm, your, account, number, 101112-131415, .]                              |[Please confirm your account number 101112-131415.]                      |[101112, 131415]|\n",
            "|[Account, No, :, 1234.5678.9012.3456, .]                                                |[Account No: 1234.5678.9012.3456.]                                       |[234.5678.9]    |\n",
            "|[Account, 123456789-0, has, been, successfully, updated, .]                             |[Account 123456789-0 has been successfully updated.]                     |[123456789]     |\n",
            "|[Please, check, your, account, 12345678-90, for, the, latest, transaction, .]           |[Please check your account 12345678-90 for the latest transaction.]      |[12345678]      |\n",
            "|[The, account, number, 0987, 6543, 2109, 8765, is, incorrect, .]                        |[The account number 0987 6543 2109 8765 is incorrect.]                   |[]              |\n",
            "|[Verify, your, account, number, 54321-09876, before, proceeding, .]                     |[Verify your account number 54321-09876 before proceeding.]              |[321-09876]     |\n",
            "|[The, account, 1111-2222-3333-4444, is, no, longer, active, .]                          |[The account 1111-2222-3333-4444 is no longer active.]                   |[111-2222-3]    |\n",
            "|[Account, #0987654321, has, been, successfully, closed, .]                              |[Account #0987654321 has been successfully closed.]                      |[0987654321]    |\n",
            "|[For, any, questions, ,, refer, to, account, 987-654-3210, .]                           |[For any questions, refer to account 987-654-3210.]                      |[]              |\n",
            "|[Your, account, number, 1234-567-89012345, has, been, updated, .]                       |[Your account number 1234-567-89012345 has been updated.]                |[567-890123]    |\n",
            "|[Funds, were, deposited, to, account, number, 12345678-90, .]                           |[Funds were deposited to account number 12345678-90.]                    |[12345678]      |\n",
            "+----------------------------------------------------------------------------------------+-------------------------------------------------------------------------+----------------+\n",
            "\n"
          ]
        }
      ],
      "source": [
        "# ACCOUNT_NUMBER\n",
        "test=[\n",
        "    ['Please use acct# 1234567890 for all future transactions.', 'ACCOUNT_NUMBER', '1234567890'],\n",
        "    ['Your new account number is 987654321. Make sure to update your records.', 'ACCOUNT_NUMBER', '987654321'],\n",
        "    ['The transfer was made to Acct. 1111-2222-3333.', 'ACCOUNT_NUMBER', '1111-2222-3333'],\n",
        "    ['For payment, use account no. 0000 1234 5678 9012.', 'ACCOUNT_NUMBER', '0000 1234 5678 9012'],\n",
        "    ['Account #9876-543210-987 is currently inactive.', 'ACCOUNT_NUMBER', '9876-543210-987'],\n",
        "    ['The payment was credited to account 1234.5678.9101.1121.', 'ACCOUNT_NUMBER', '1234.5678.9101.1121'],\n",
        "    ['Please deposit the funds into account number 12345-67890.', 'ACCOUNT_NUMBER', '12345-67890'],\n",
        "    ['Account No. 12345678 is linked to your checking account.', 'ACCOUNT_NUMBER', '12345678'],\n",
        "    ['Your account 111-222-333333-44 has been updated.', 'ACCOUNT_NUMBER', '111-222-333333-44'],\n",
        "    ['The account 5678-123-45678901 is now closed.', 'ACCOUNT_NUMBER', '5678-123-45678901'],\n",
        "    ['Please use acc. no. 87654321 for future deposits.', 'ACCOUNT_NUMBER', '87654321'],\n",
        "    ['Your account number 1122-3344-5566-7788 has been approved.', 'ACCOUNT_NUMBER', '1122-3344-5566-7788'],\n",
        "    ['For this transaction, use account. number 99999999.', 'ACCOUNT_NUMBER', '99999999'],\n",
        "    ['Funds have been transferred to account number 8888.9999.0000.', 'ACCOUNT_NUMBER', '8888.9999.0000'],\n",
        "    ['Account number 123-4567-8910-1112 is currently suspended.', 'ACCOUNT_NUMBER', '123-4567-8910-1112'],\n",
        "    ['Please update your records with account number 9876 5432 1098.', 'ACCOUNT_NUMBER', '9876 5432 1098'],\n",
        "    ['For billing inquiries, use account #123456789012.', 'ACCOUNT_NUMBER', '123456789012'],\n",
        "    ['The funds were transferred to Account. 123456-7890.', 'ACCOUNT_NUMBER', '123456-7890'],\n",
        "    ['Account number 7654-321098-765 is being reviewed.', 'ACCOUNT_NUMBER', '7654-321098-765'],\n",
        "    ['Please confirm your account number 101112-131415.', 'ACCOUNT_NUMBER', '101112-131415'],\n",
        "    ['Account No: 1234.5678.9012.3456.', 'ACCOUNT_NUMBER', '1234.5678.9012.3456'],\n",
        "    ['Account 123456789-0 has been successfully updated.', 'ACCOUNT_NUMBER', '123456789-0'],\n",
        "    ['Please check your account 12345678-90 for the latest transaction.', 'ACCOUNT_NUMBER', '12345678-90'],\n",
        "    ['The account number 0987 6543 2109 8765 is incorrect.', 'ACCOUNT_NUMBER', '0987 6543 2109 8765'],\n",
        "    ['Verify your account number 54321-09876 before proceeding.', 'ACCOUNT_NUMBER', '54321-09876'],\n",
        "    ['The account 1111-2222-3333-4444 is no longer active.', 'ACCOUNT_NUMBER', '1111-2222-3333-4444'],\n",
        "    ['Account #0987654321 has been successfully closed.', 'ACCOUNT_NUMBER', '0987654321'],\n",
        "    ['For any questions, refer to account 987-654-3210.', 'ACCOUNT_NUMBER', '987-654-3210'],\n",
        "    ['Your account number 1234-567-89012345 has been updated.', 'ACCOUNT_NUMBER', '1234-567-89012345'],\n",
        "    ['Funds were deposited to account number 12345678-90.', 'ACCOUNT_NUMBER', '12345678-90'],\n",
        "]\n",
        "\n",
        "account_parser_model.transform(spark.createDataFrame(test, ['text']))\\\n",
        "                    .select(\"token.result\",\"document.result\",\"entity_account.result\")\\\n",
        "                    .show(n=50,truncate=False)"
      ]
    },
    {
      "cell_type": "markdown",
      "metadata": {
        "id": "QGc5uvnWLpTx",
        "jp-MarkdownHeadingCollapsed": true,
        "tags": []
      },
      "source": [
        "## DLN"
      ]
    },
    {
      "cell_type": "code",
      "execution_count": 13,
      "metadata": {
        "colab": {
          "base_uri": "https://localhost:8080/"
        },
        "execution": {
          "iopub.execute_input": "2024-12-04T07:52:10.705458Z",
          "iopub.status.busy": "2024-12-04T07:52:10.704861Z",
          "iopub.status.idle": "2024-12-04T07:52:12.559167Z",
          "shell.execute_reply": "2024-12-04T07:52:12.557808Z",
          "shell.execute_reply.started": "2024-12-04T07:52:10.705425Z"
        },
        "id": "Rnq6bkGavE8S",
        "outputId": "bdc3fa2b-8f7b-46cf-fe89-25076cfccd34",
        "tags": []
      },
      "outputs": [
        {
          "output_type": "execute_result",
          "data": {
            "text/plain": [
              "['A334455B', '12345678', 'B324567', 'bs34df45', '302', '786-5227']"
            ]
          },
          "metadata": {},
          "execution_count": 13
        }
      ],
      "source": [
        "dln = {\n",
        "  \"entity\": \"DLN\",\n",
        "  \"ruleScope\": \"sentence\",\n",
        "  \"regex\": \"\\S+\\d\\S+\",    # UPDATE REGEX\n",
        "  \"matchScope\": \"token\",\n",
        "  \"prefix\": ['DL', 'DLS', 'CDL', 'CDLS',\n",
        "             'CDL#', 'CDLS#', 'LIC',\n",
        "             'DLN', \"DRIVER\", \"Driving\", \"Drive\", \"Driver's\",\n",
        "             \"Drivers'\", \"Drivers\",\n",
        "             \"DriverLic\",\"DriverLicense\"\n",
        "],\n",
        "\n",
        "\"contextLength\": 30\n",
        "\n",
        "} # AB773955A\n",
        "\n",
        "\n",
        "with open('dln.json', 'w') as f:\n",
        "    json.dump(dln, f)\n",
        "\n",
        "dln_parser = ContextualParserApproach() \\\n",
        "        .setInputCols([\"splitter\", \"token\"]) \\\n",
        "        .setOutputCol(\"entity_dln\") \\\n",
        "        .setJsonPath(\"dln.json\") \\\n",
        "        .setCaseSensitive(False) \\\n",
        "        .setPrefixAndSuffixMatch(False)\\\n",
        "        .setShortestContextMatch(False)\\\n",
        "        .setOptionalContextRules(False)\\\n",
        "        .setCompleteContextMatch(True)\n",
        "\n",
        "dln_parser_pipeline = Pipeline(stages=[\n",
        "    documentAssembler,\n",
        "    splitter,\n",
        "    tokenizer,\n",
        "    dln_parser\n",
        "])\n",
        "\n",
        "empty_data = spark.createDataFrame([[\"\"]]).toDF(\"text\")\n",
        "\n",
        "dln_parser_model = dln_parser_pipeline.fit(empty_data)\n",
        "dln_parser_model.stages[-1].write().overwrite().save(\"parser/dln_parser\")\n",
        "\n",
        "\n",
        "txt = \"\"\"Name : Hendrickson, Ora, Record date: 2093-01-13, # 719435.\n",
        "Dr. John Green, ID: 1231511863, IP 203.120.223.13.\n",
        "He is a 60-year-old male was admitted to the Day Hospital for cystectomy on 01/13/93.\n",
        "Patient's VIN : 1HGBH41JXMN109286, SSN #333-44-6666, Driver's license no: A334455B. Driver's license# 12345678. MY DL# B324567 CDL bs34df45\n",
        "Phone (302) 786-5227, 0295 Keats Street, San Francisco, E-MAIL: smith@gmail.com.\"\"\"\n",
        "\n",
        "LightPipeline(dln_parser_model).annotate(txt)[\"entity_dln\"]"
      ]
    },
    {
      "cell_type": "code",
      "execution_count": 14,
      "metadata": {
        "colab": {
          "base_uri": "https://localhost:8080/"
        },
        "execution": {
          "iopub.execute_input": "2024-12-04T07:52:12.562101Z",
          "iopub.status.busy": "2024-12-04T07:52:12.561212Z",
          "iopub.status.idle": "2024-12-04T07:52:13.518828Z",
          "shell.execute_reply": "2024-12-04T07:52:13.517136Z",
          "shell.execute_reply.started": "2024-12-04T07:52:12.562070Z"
        },
        "id": "JU8QeOPeXhoU",
        "outputId": "4be8c32a-8152-4847-b913-f3cc8a7ab32b",
        "tags": []
      },
      "outputs": [
        {
          "output_type": "stream",
          "name": "stdout",
          "text": [
            "+----------------------------------------------------------------------------------+------------------------------------------------------------------------+------------------+\n",
            "|result                                                                            |result                                                                  |result            |\n",
            "+----------------------------------------------------------------------------------+------------------------------------------------------------------------+------------------+\n",
            "|[Please, present, your, driver's, license, number, AB1234567, at, the, counter, .]|[Please present your driver's license number AB1234567 at the counter.] |[AB1234567]       |\n",
            "|[Your, dl#, 9876543210, has, been, renewed, .]                                    |[Your dl# 9876543210 has been renewed.]                                 |[9876543210]      |\n",
            "|[Driver's, license, number, B123-456-789, is, required, for, this, transaction, .]|[Driver's license number B123-456-789 is required for this transaction.]|[B123-456-789]    |\n",
            "|[Kindly, update, your, records, with, driver's, license, #C123, 456, 7890, .]     |[Kindly update your records with driver's license #C123 456 7890.]      |[#C123, 456, 7890]|\n",
            "|[The, DriverLicense, D1234-5678-9012, was, issued, in, California, .]             |[The DriverLicense D1234-5678-9012 was issued in California.]           |[D1234-5678-9012] |\n",
            "|[Please, verify, LIC#, 123456789, before, processing, .]                          |[Please verify LIC# 123456789 before processing.]                       |[123456789]       |\n",
            "|[Your, new, driver's, license, number, is, E123-4567-8901, .]                     |[Your new driver's license number is E123-4567-8901.]                   |[E123-4567-8901]  |\n",
            "|[Driver's, license, 1122-3344-5566, is, currently, valid, .]                      |[Driver's license 1122-3344-5566 is currently valid.]                   |[1122-3344-5566]  |\n",
            "|[Please, update, your, driver's, license, to, F98765432, .]                       |[Please update your driver's license to F98765432.]                     |[F98765432]       |\n",
            "|[Your, driver's, license, number, 765-432-1098, is, ready, for, pickup, .]        |[Your driver's license number 765-432-1098 is ready for pickup.]        |[765-432-1098]    |\n",
            "|[Driver's, license, number, ABC-12-34-56, is, not, valid, .]                      |[Driver's license number ABC-12-34-56 is not valid.]                    |[ABC-12-34-56]    |\n",
            "|[The, driver's, license, 1234, 5678, 901, was, rejected, .]                       |[The driver's license 1234 5678 901 was rejected.]                      |[1234, 5678, 901] |\n",
            "|[Driver's, license, number, XYZ12345678901, is, too, long, .]                     |[Driver's license number XYZ12345678901 is too long.]                   |[XYZ12345678901]  |\n",
            "|[The, format, AB-1234567890, for, a, driver's, license, is, incorrect, .]         |[The format AB-1234567890 for a driver's license is incorrect.]         |[]                |\n",
            "|[Your, driver's, license, number, 12345-678, is, incomplete, .]                   |[Your driver's license number 12345-678 is incomplete.]                 |[12345-678]       |\n",
            "|[Driver's, license, number, ABC-12-34-56, is, not, valid, .]                      |[Driver's license number ABC-12-34-56 is not valid.]                    |[ABC-12-34-56]    |\n",
            "|[The, driver's, license, 1234, 5678, 901, was, rejected, .]                       |[The driver's license 1234 5678 901 was rejected.]                      |[1234, 5678, 901] |\n",
            "|[Driver's, license, number, XYZ12345678901, is, too, long, .]                     |[Driver's license number XYZ12345678901 is too long.]                   |[XYZ12345678901]  |\n",
            "|[The, format, AB-1234567890, for, a, driver's, license, is, incorrect, .]         |[The format AB-1234567890 for a driver's license is incorrect.]         |[]                |\n",
            "|[Your, driver's, license, number, 12345-678, is, incomplete, .]                   |[Your driver's license number 12345-678 is incomplete.]                 |[12345-678]       |\n",
            "+----------------------------------------------------------------------------------+------------------------------------------------------------------------+------------------+\n",
            "\n"
          ]
        }
      ],
      "source": [
        "# DRIVER_LICENSE\n",
        "test=[\n",
        "      [\"Please present your driver's license number AB1234567 at the counter.\", 'DRIVER_LICENSE', 'AB1234567'],\n",
        "      [\"Your dl# 9876543210 has been renewed.\", 'DRIVER_LICENSE', '9876543210'],\n",
        "      [\"Driver's license number B123-456-789 is required for this transaction.\", 'DRIVER_LICENSE', 'B123-456-789'],\n",
        "      [\"Kindly update your records with driver's license #C123 456 7890.\", 'DRIVER_LICENSE', 'C123 456 7890'],\n",
        "      [\"The DriverLicense D1234-5678-9012 was issued in California.\", 'DRIVER_LICENSE', 'D1234-5678-9012'],\n",
        "      [\"Please verify LIC# 123456789 before processing.\", 'DRIVER_LICENSE', '123456789'],\n",
        "      [\"Your new driver's license number is E123-4567-8901.\", 'DRIVER_LICENSE', 'E123-4567-8901'],\n",
        "      [\"Driver's license 1122-3344-5566 is currently valid.\", 'DRIVER_LICENSE', '1122-3344-5566'],\n",
        "      [\"Please update your driver's license to F98765432.\", 'DRIVER_LICENSE', 'F98765432'],\n",
        "      [\"Your driver's license number 765-432-1098 is ready for pickup.\", 'DRIVER_LICENSE', '765-432-1098'],\n",
        "      [\"Driver's license number ABC-12-34-56 is not valid.\", 'DRIVER_LICENSE', 'ABC-12-34-56'],\n",
        "      [\"The driver's license 1234 5678 901 was rejected.\", 'DRIVER_LICENSE', '1234 5678 901'],\n",
        "      [\"Driver's license number XYZ12345678901 is too long.\", 'DRIVER_LICENSE', 'XYZ12345678901'],\n",
        "      [\"The format AB-1234567890 for a driver's license is incorrect.\", 'DRIVER_LICENSE', 'AB-1234567890'],\n",
        "      [\"Your driver's license number 12345-678 is incomplete.\", 'DRIVER_LICENSE', '12345-678'],\n",
        "      [\"Driver's license number ABC-12-34-56 is not valid.\", 'DRIVER_LICENSE', 'ABC-12-34-56'],\n",
        "      [\"The driver's license 1234 5678 901 was rejected.\", 'DRIVER_LICENSE', '1234 5678 901'],\n",
        "      [\"Driver's license number XYZ12345678901 is too long.\", 'DRIVER_LICENSE', 'XYZ12345678901'],\n",
        "      [\"The format AB-1234567890 for a driver's license is incorrect.\", 'DRIVER_LICENSE', 'AB-1234567890'],\n",
        "      [\"Your driver's license number 12345-678 is incomplete.\", 'DRIVER_LICENSE', '12345-678'],\n",
        "\n",
        "]\n",
        "\n",
        "dln_parser_model.transform(spark.createDataFrame(test, ['text']))\\\n",
        "                .select(\"token.result\",\"document.result\",\"entity_dln.result\")\\\n",
        "                .show(truncate=False)"
      ]
    },
    {
      "cell_type": "markdown",
      "metadata": {
        "id": "bDuDmNd4LpTy",
        "jp-MarkdownHeadingCollapsed": true,
        "tags": []
      },
      "source": [
        "## PLATE"
      ]
    },
    {
      "cell_type": "markdown",
      "metadata": {
        "id": "EbWoIyJ4ktWI"
      },
      "source": [
        "UPDATE RULES"
      ]
    },
    {
      "cell_type": "code",
      "execution_count": 15,
      "metadata": {
        "colab": {
          "base_uri": "https://localhost:8080/"
        },
        "execution": {
          "iopub.execute_input": "2024-12-04T07:52:13.521119Z",
          "iopub.status.busy": "2024-12-04T07:52:13.520314Z",
          "iopub.status.idle": "2024-12-04T07:52:15.231588Z",
          "shell.execute_reply": "2024-12-04T07:52:15.230361Z",
          "shell.execute_reply.started": "2024-12-04T07:52:13.521083Z"
        },
        "id": "CLOt_wSsvE8U",
        "outputId": "2613a692-0776-4150-d9e4-a9c553b59626",
        "tags": []
      },
      "outputs": [
        {
          "output_type": "execute_result",
          "data": {
            "text/plain": [
              "['34NLP34', '25ASD25']"
            ]
          },
          "metadata": {},
          "execution_count": 15
        }
      ],
      "source": [
        "plate = {\n",
        "  \"entity\": \"PLATE\",\n",
        "  \"ruleScope\": \"sentence\",\n",
        "  \"regex\": \"(?=.{5,12}$)\\S+\\d\\S+\",  # UPDATE REGEX\n",
        "  \"matchScope\": \"token\",\n",
        "  \"prefix\": [\"Plate\", \"Plates\", \"Plate#\", \"Lpn\", \"Lpn#\", \"Plate number\"],\n",
        "  \"contextLength\": 15,\n",
        "  \"completeMatchRegex\": \"true\"\n",
        "}\n",
        "\n",
        "with open('plate.json', 'w') as f:\n",
        "    json.dump(plate, f)\n",
        "\n",
        "plate_parser = ContextualParserApproach() \\\n",
        "        .setInputCols([\"splitter\", \"token\"]) \\\n",
        "        .setOutputCol(\"entity_plate\") \\\n",
        "        .setJsonPath(\"plate.json\") \\\n",
        "        .setCaseSensitive(False) \\\n",
        "        .setPrefixAndSuffixMatch(False)\\\n",
        "        .setShortestContextMatch(False)\\\n",
        "        .setOptionalContextRules(False)\\\n",
        "        .setCompleteContextMatch(True)\n",
        "\n",
        "plate_parser_pipeline = Pipeline(stages=[\n",
        "    documentAssembler,\n",
        "    splitter,\n",
        "    tokenizer,\n",
        "    plate_parser\n",
        "])\n",
        "\n",
        "empty_data = spark.createDataFrame([[\"\"]]).toDF(\"text\")\n",
        "\n",
        "plate_parser_model = plate_parser_pipeline.fit(empty_data)\n",
        "plate_parser_model.stages[-1].write().overwrite().save(\"parser/plate_parser\")\n",
        "\n",
        "\n",
        "txt = \"\"\"Name : Hendrickson, Ora, Record date: 2093-01-13, # 719435.\n",
        "Dr. John Green, ID: 1231511863, IP 203.120.223.13.\n",
        "He is a 60-year-old male was admitted to the Day Hospital for cystectomy on 01/13/93.\n",
        "Patient's VIN : 1HGBH41JXMN109286, SSN #333-44-6666, Driver's license no:A334455B, plates 34NLP34. LPN# 25ASD25\n",
        "Phone (302) 786-5227, 0295 Keats Street, San Francisco, E-MAIL: smith@gmail.com.\"\"\"\n",
        "\n",
        "LightPipeline(plate_parser_model).annotate(txt)[\"entity_plate\"]"
      ]
    },
    {
      "cell_type": "code",
      "execution_count": 16,
      "metadata": {
        "colab": {
          "base_uri": "https://localhost:8080/"
        },
        "execution": {
          "iopub.execute_input": "2024-12-04T07:52:15.234195Z",
          "iopub.status.busy": "2024-12-04T07:52:15.233702Z",
          "iopub.status.idle": "2024-12-04T07:52:16.062922Z",
          "shell.execute_reply": "2024-12-04T07:52:16.061432Z",
          "shell.execute_reply.started": "2024-12-04T07:52:15.234139Z"
        },
        "id": "266uqvwSytT1",
        "outputId": "6a69fc08-0b53-4c33-e970-8715ace514c9",
        "tags": []
      },
      "outputs": [
        {
          "output_type": "stream",
          "name": "stdout",
          "text": [
            "+--------------------------------------------------------------------------------+---------------------------------------------------------------------+-------------+\n",
            "|result                                                                          |result                                                               |result       |\n",
            "+--------------------------------------------------------------------------------+---------------------------------------------------------------------+-------------+\n",
            "|[Please, enter, your, vehicle's, plate, number, 34-NLP-34, into, the, system, .]|[Please enter your vehicle's plate number 34-NLP-34 into the system.]|[34-NLP-34]  |\n",
            "|[The, car, with, plate, number, XYZ, 9876, was, reported, stolen, .]            |[The car with plate number XYZ 9876 was reported stolen.]            |[]           |\n",
            "|[Vehicle, plate, number, AB-123-CD, has, been, registered, .]                   |[Vehicle plate number AB-123-CD has been registered.]                |[AB-123-CD]  |\n",
            "|[Your, new, license, plate, number, is, 123-ABC, .]                             |[Your new license plate number is 123-ABC.]                          |[]           |\n",
            "|[The, truck's, plate, number, 1AB234, is, valid, for, another, year, .]         |[The truck's plate number 1AB234 is valid for another year.]         |[1AB234]     |\n",
            "|[Please, verify, the, plate, number, DE, 45, 6789, before, proceeding, .]       |[Please verify the plate number DE 45 6789 before proceeding.]       |[]           |\n",
            "|[Your, license, plate, number, WXYZ-1234, is, ready, for, pickup, .]            |[Your license plate number WXYZ-1234 is ready for pickup.]           |[WXYZ-1234]  |\n",
            "|[The, vehicle, with, plate, number, 123-DEF-456, was, fined, .]                 |[The vehicle with plate number 123-DEF-456 was fined.]               |[123-DEF-456]|\n",
            "|[Check, the, registration, status, of, plate, number, AB, 123, CD, .]           |[Check the registration status of plate number AB 123 CD.]           |[]           |\n",
            "|[The, car's, plate, number, GHI-1234, has, expired, .]                          |[The car's plate number GHI-1234 has expired.]                       |[GHI-1234]   |\n",
            "|[Please, enter, the, plate, number, 1234567, .]                                 |[Please enter the plate number 1234567.]                             |[1234567]    |\n",
            "|[The, vehicle, with, plate, number, ABC-12, was, towed, .]                      |[The vehicle with plate number ABC-12 was towed.]                    |[ABC-12]     |\n",
            "|[Verify, plate, number, AB123, .]                                               |[Verify plate number AB123.]                                         |[AB123]      |\n",
            "|[The, car's, plate, number, XYZ, 9876, 1234, is, not, recognized, .]            |[The car's plate number XYZ 9876 1234 is not recognized.]            |[]           |\n",
            "|[Please, confirm, the, plate, number, 16AC, .]                                  |[Please confirm the plate number 16AC.]                              |[]           |\n",
            "|[The, plate, number, XYABC-123456-ABCEDFD, is, invalid, .]                      |[The plate number XYABC-123456-ABCEDFD is invalid.]                  |[]           |\n",
            "+--------------------------------------------------------------------------------+---------------------------------------------------------------------+-------------+\n",
            "\n"
          ]
        }
      ],
      "source": [
        "# PLATE\n",
        "test=[\n",
        "      [\"Please enter your vehicle's plate number 34-NLP-34 into the system.\", 'PLATE', '34 NLP 34'],\n",
        "      [\"The car with plate number XYZ 9876 was reported stolen.\", 'PLATE', 'XYZ 9876'],\n",
        "      [\"Vehicle plate number AB-123-CD has been registered.\", 'PLATE', 'AB-123-CD'],\n",
        "      [\"Your new license plate number is 123-ABC.\", 'PLATE', '123-ABC'],\n",
        "      [\"The truck's plate number 1AB234 is valid for another year.\", 'PLATE', '1AB234'],\n",
        "      [\"Please verify the plate number DE 45 6789 before proceeding.\", 'PLATE', 'DE 45 6789'],\n",
        "      [\"Your license plate number WXYZ-1234 is ready for pickup.\", 'PLATE', 'WXYZ-1234'],\n",
        "      [\"The vehicle with plate number 123-DEF-456 was fined.\", 'PLATE', '123-DEF-456'],\n",
        "      [\"Check the registration status of plate number AB 123 CD.\", 'PLATE', 'AB 123 CD'],\n",
        "      [\"The car's plate number GHI-1234 has expired.\", 'PLATE', 'GHI-1234'],\n",
        "      [\"Please enter the plate number 1234567.\", 'PLATE', '1234567'],  # Missing letters in US format\n",
        "      [\"The vehicle with plate number ABC-12 was towed.\", 'PLATE', 'ABC-12'],  # Incorrect length\n",
        "      [\"Verify plate number AB123.\", 'PLATE', 'AB123'],  # Too short\n",
        "      [\"The car's plate number XYZ 9876 1234 is not recognized.\", 'PLATE', 'XYZ 9876 1234'],  # Too long\n",
        "      [\"Please confirm the plate number 16AC.\", 'PLATE', '16AC'],  # Incorrect format\n",
        "      [\"The plate number XYABC-123456-ABCEDFD is invalid.\", 'PLATE', 'XYABC-123456-ABCEDFD'],  # Incorrect format for Europe\n",
        "]\n",
        "\n",
        "plate_parser_model.transform(spark.createDataFrame(test, ['text']))\\\n",
        "                  .select(\"token.result\",\"document.result\",\"entity_plate.result\")\\\n",
        "                  .show(truncate=False)"
      ]
    },
    {
      "cell_type": "markdown",
      "metadata": {
        "id": "nK4OJM1DLpTy",
        "jp-MarkdownHeadingCollapsed": true,
        "tags": []
      },
      "source": [
        "## VIN"
      ]
    },
    {
      "cell_type": "code",
      "execution_count": 17,
      "metadata": {
        "colab": {
          "base_uri": "https://localhost:8080/"
        },
        "execution": {
          "iopub.execute_input": "2024-12-04T07:52:16.066259Z",
          "iopub.status.busy": "2024-12-04T07:52:16.065785Z",
          "iopub.status.idle": "2024-12-04T07:52:17.899767Z",
          "shell.execute_reply": "2024-12-04T07:52:17.898686Z",
          "shell.execute_reply.started": "2024-12-04T07:52:16.066221Z"
        },
        "id": "WPYDVW8yvh6p",
        "outputId": "f4f2e914-b064-4a7e-d26a-1de24860ffb0",
        "tags": []
      },
      "outputs": [
        {
          "output_type": "execute_result",
          "data": {
            "text/plain": [
              "['1HGBH41JXMN109286',\n",
              " '4Y1SL65848Z411439',\n",
              " '1HGCM82633A123456',\n",
              " 'JH4KA7560MC012345',\n",
              " '5YJSA1E14HF123456']"
            ]
          },
          "metadata": {},
          "execution_count": 17
        }
      ],
      "source": [
        "vin_cp = {\n",
        "  \"entity\": \"VIN\",\n",
        "  \"ruleScope\": \"sentence\",\n",
        "  \"matchScope\":\"token\",\n",
        "  \"regex\":\"([A-HJ-NPR-Z0-9]{17})|([A-HJ-NPR-Z\\d]{3}[A-HJ-NPR-Z\\d]{5}[A-HJ-NPR-Z\\d]{9})\",\n",
        "  \"prefix\":['VIN', \"vehicle\", 'VIN#', \"veh no\"],   # Why 35?  vehicle identifier number:\n",
        "  \"contextLength\": 35,  # Increased 35, before 15\n",
        "}\n",
        "\n",
        "with open('vin_cp.json', 'w') as f:\n",
        "    json.dump(vin_cp, f)\n",
        "\n",
        "vin_parser = ContextualParserApproach() \\\n",
        "        .setInputCols([\"splitter\", \"token\"]) \\\n",
        "        .setOutputCol(\"entity_vin_code\") \\\n",
        "        .setJsonPath(\"vin_cp.json\") \\\n",
        "        .setCaseSensitive(False) \\\n",
        "        .setPrefixAndSuffixMatch(False)\\\n",
        "        .setShortestContextMatch(False)\\\n",
        "        .setOptionalContextRules(False)\\\n",
        "        .setCompleteContextMatch(True)\n",
        "\n",
        "vin_parser_pipeline = Pipeline(stages=[\n",
        "    documentAssembler,\n",
        "    splitter,\n",
        "    tokenizer,\n",
        "    vin_parser\n",
        "  ])\n",
        "\n",
        "empty_data = spark.createDataFrame([[\"\"]]).toDF(\"text\")\n",
        "vin_parser_model = vin_parser_pipeline.fit(empty_data)\n",
        "vin_parser_model.stages[-1].write().overwrite().save(\"parser/vin_parser\")\n",
        "\n",
        "\n",
        "vin_lp = LightPipeline(vin_parser_model)\n",
        "\n",
        "txt = \"\"\"Name : Hendrickson, Ora, Record date: 2093-01-13, # 719435.\n",
        "Dr. John Green, ID: 1231511863, IP 203.120.223.13.\n",
        "He is a 60-year-old male was admitted to the Day Hospital for cystectomy on 01/13/93.\n",
        "Patient's VIN : 1HGBH41JXMN109286, VIN 4Y1SL65848Z411439, VIN 1HGCM82633A123456 - VIN JH4KA7560MC012345 - VIN 5YJSA1E14HF123456\n",
        "SSN #333-44-6666, Driver's license no:A334455B, plate 34NLP34.\n",
        "Phone (302) 786-5227, 0295 Keats Street, San Francisco, E-MAIL: smith@gmail.com.\"\"\"\n",
        "\n",
        "LightPipeline(vin_parser_model).annotate(txt)[\"entity_vin_code\"]"
      ]
    },
    {
      "cell_type": "code",
      "execution_count": 18,
      "metadata": {
        "colab": {
          "base_uri": "https://localhost:8080/"
        },
        "execution": {
          "iopub.execute_input": "2024-12-04T07:52:17.902651Z",
          "iopub.status.busy": "2024-12-04T07:52:17.901133Z",
          "iopub.status.idle": "2024-12-04T07:52:18.662124Z",
          "shell.execute_reply": "2024-12-04T07:52:18.660657Z",
          "shell.execute_reply.started": "2024-12-04T07:52:17.902613Z"
        },
        "id": "khlNmbvrzXTY",
        "outputId": "9ab9db84-c13a-4889-c63a-6356eb5cfcde",
        "tags": []
      },
      "outputs": [
        {
          "output_type": "stream",
          "name": "stdout",
          "text": [
            "+-------------------------------------------------------------------------------------------+--------------------------------------------------------------------------------+--------------------+\n",
            "|result                                                                                     |result                                                                          |result              |\n",
            "+-------------------------------------------------------------------------------------------+--------------------------------------------------------------------------------+--------------------+\n",
            "|[The, vehicle, with, VIN, 1HGCM82633A004352, has, been, recalled, .]                       |[The vehicle with VIN 1HGCM82633A004352 has been recalled.]                     |[1HGCM82633A004352] |\n",
            "|[Please, check, the, VIN, 1FTFW1EF1EKD21287, before, purchase, .]                          |[Please check the VIN 1FTFW1EF1EKD21287 before purchase.]                       |[1FTFW1EF1EKD21287] |\n",
            "|[The, VIN, JHMFA16586S000000, was, found, in, our, database, .]                            |[The VIN JHMFA16586S000000 was found in our database.]                          |[JHMFA16586S000000] |\n",
            "|[Your, vehicle's, VIN, is, WDBRF61JX5F718236, .]                                           |[Your vehicle's VIN is WDBRF61JX5F718236.]                                      |[WDBRF61JX5F718236] |\n",
            "|[Please, verify, the, VIN, 2GCEK19T4Y1108956, for, accuracy, .]                            |[Please verify the VIN 2GCEK19T4Y1108956 for accuracy.]                         |[2GCEK19T4Y1108956] |\n",
            "|[The, VIN, WP0ZZZ99ZTS392124, is, registered, under, your, name, .]                        |[The VIN WP0ZZZ99ZTS392124 is registered under your name.]                      |[WP0ZZZ99ZTS392124] |\n",
            "|[The, vehicle, identifier, number, WP0ZZZ99ZTS392124, is, registered, under, your, name, .]|[The vehicle identifier number WP0ZZZ99ZTS392124 is registered under your name.]|[WP0ZZZ99ZTS392124] |\n",
            "|[Make, sure, to, provide, the, VIN, 4Y1SL65848Z411439, .]                                  |[Make sure to provide the VIN 4Y1SL65848Z411439.]                               |[4Y1SL65848Z411439] |\n",
            "|[The, car, with, VIN, JT3AC12R8R1009871, has, a, clean, title, .]                          |[The car with VIN JT3AC12R8R1009871 has a clean title.]                         |[JT3AC12R8R1009871] |\n",
            "|[Your, new, vehicle's, VIN, is, VF1BG0E0662484848, .]                                      |[Your new vehicle's VIN is VF1BG0E0662484848.]                                  |[VF1BG0E0662484848] |\n",
            "|[Please, update, your, records, with, VIN, WVGZZZ5NZ6W000001, .]                           |[Please update your records with VIN WVGZZZ5NZ6W000001.]                        |[WVGZZZ5NZ6W000001] |\n",
            "|[The, VIN, 1HGCM82633A00435, is, incomplete, .]                                            |[The VIN 1HGCM82633A00435 is incomplete.]                                       |[]                  |\n",
            "|[VIN, WP0ZZZ99ZTS3921248, is, too, long, .]                                                |[VIN WP0ZZZ99ZTS3921248 is too long.]                                           |[WP0ZZZ99ZTS3921248]|\n",
            "|[VIN, 1FTF1EF1EKD21287, has, a, missing, character, .]                                     |[VIN 1FTF1EF1EKD21287 has a missing character.]                                 |[]                  |\n",
            "|[The, VIN, JHMFA16586S0000O, is, invalid, due, to, the, letter, ', O, '.]                  |[The VIN JHMFA16586S0000O is invalid due to the letter 'O'.]                    |[]                  |\n",
            "|[VIN, 2GCEK19T4Y110895G, contains, an, invalid, character, ', G, '.]                       |[VIN 2GCEK19T4Y110895G contains an invalid character 'G'.]                      |[2GCEK19T4Y110895G] |\n",
            "+-------------------------------------------------------------------------------------------+--------------------------------------------------------------------------------+--------------------+\n",
            "\n"
          ]
        }
      ],
      "source": [
        "test=[\n",
        "      [\"The vehicle with VIN 1HGCM82633A004352 has been recalled.\", 'VIN', '1HGCM82633A004352'],\n",
        "      [\"Please check the VIN 1FTFW1EF1EKD21287 before purchase.\", 'VIN', '1FTFW1EF1EKD21287'],\n",
        "      [\"The VIN JHMFA16586S000000 was found in our database.\", 'VIN', 'JHMFA16586S000000'],\n",
        "      [\"Your vehicle's VIN is WDBRF61JX5F718236.\", 'VIN', 'WDBRF61JX5F718236'],\n",
        "      [\"Please verify the VIN 2GCEK19T4Y1108956 for accuracy.\", 'VIN', '2GCEK19T4Y1108956'],\n",
        "      [\"The VIN WP0ZZZ99ZTS392124 is registered under your name.\", 'VIN', 'WP0ZZZ99ZTS392124'],\n",
        "      [\"The vehicle identifier number WP0ZZZ99ZTS392124 is registered under your name.\", 'VIN', 'WP0ZZZ99ZTS392124'],\n",
        "      [\"Make sure to provide the VIN 4Y1SL65848Z411439.\", 'VIN', '4Y1SL65848Z411439'],\n",
        "      [\"The car with VIN JT3AC12R8R1009871 has a clean title.\", 'VIN', 'JT3AC12R8R1009871'],\n",
        "      [\"Your new vehicle's VIN is VF1BG0E0662484848.\", 'VIN', 'VF1BG0E0662484848'],\n",
        "      [\"Please update your records with VIN WVGZZZ5NZ6W000001.\", 'VIN', 'WVGZZZ5NZ6W000001'],\n",
        "      [\"The VIN 1HGCM82633A00435 is incomplete.\", 'VIN', '1HGCM82633A00435'],  # Only 16 characters\n",
        "      [\"VIN WP0ZZZ99ZTS3921248 is too long.\", 'VIN', 'WP0ZZZ99ZTS3921248'],  # 18 characters\n",
        "      [\"VIN 1FTF1EF1EKD21287 has a missing character.\", 'VIN', '1FTF1EF1EKD21287'],  # Only 16 characters\n",
        "      [\"The VIN JHMFA16586S0000O is invalid due to the letter 'O'.\", 'VIN', 'JHMFA16586S0000O'],  # 'O' is not allowed\n",
        "      [\"VIN 2GCEK19T4Y110895G contains an invalid character 'G'.\", 'VIN', '2GCEK19T4Y110895G'],  # Invalid character\n",
        "  ]\n",
        "\n",
        "vin_parser_model.transform(spark.createDataFrame(test, ['text']))\\\n",
        "                .select(\"token.result\",\"document.result\",\"entity_vin_code.result\")\\\n",
        "                .show(truncate=False)\n"
      ]
    },
    {
      "cell_type": "markdown",
      "metadata": {
        "id": "NjiWfZ0BLpT0",
        "jp-MarkdownHeadingCollapsed": true,
        "tags": []
      },
      "source": [
        "## LICENSE"
      ]
    },
    {
      "cell_type": "code",
      "execution_count": 19,
      "metadata": {
        "colab": {
          "base_uri": "https://localhost:8080/"
        },
        "execution": {
          "iopub.execute_input": "2024-12-04T07:52:18.664336Z",
          "iopub.status.busy": "2024-12-04T07:52:18.663892Z",
          "iopub.status.idle": "2024-12-04T07:52:20.318612Z",
          "shell.execute_reply": "2024-12-04T07:52:20.317554Z",
          "shell.execute_reply.started": "2024-12-04T07:52:18.664298Z"
        },
        "id": "RVd09kvhvE8Y",
        "outputId": "c9ea5556-3b42-4c21-cd7c-3128021a1dbe",
        "tags": []
      },
      "outputs": [
        {
          "output_type": "execute_result",
          "data": {
            "text/plain": [
              "['#333-44-6666', 'A334455B', '34NLP34', '12345As', '12345As']"
            ]
          },
          "metadata": {},
          "execution_count": 19
        }
      ],
      "source": [
        "license = {\n",
        "  \"entity\": \"LICENSE\",\n",
        "  \"ruleScope\": \"sentence\",\n",
        "  \"regex\": \"\\S+\\d\\S+\",   # Search regex,   ChunkMerger set the last\n",
        "  \"matchScope\": \"token\",\n",
        "  \"prefix\": [\"License\", \"Lic\", \"Licence\", \"Lic#\", \"License#\", \"Licence#\", \"Certificate\", \"Cert\", \"Certificate#\", \"Cert#\"],\n",
        "  \"suffix\": [\"License\", \"Lic\", \"Licence\", \"Lic#\", \"License#\", \"Licence#\", \"Certificate\", \"Cert\", \"Certificate#\", \"Cert#\"],\n",
        "  \"contextLength\": 15  #WHy 15? Certificate# =12\n",
        "}\n",
        "\n",
        "with open('license.json', 'w') as f:\n",
        "    json.dump(license, f)\n",
        "\n",
        "license_parser = ContextualParserApproach() \\\n",
        "        .setInputCols([\"splitter\", \"token\"]) \\\n",
        "        .setOutputCol(\"entity_license\") \\\n",
        "        .setJsonPath(\"license.json\") \\\n",
        "        .setCaseSensitive(False) \\\n",
        "        .setPrefixAndSuffixMatch(False)\\\n",
        "        .setShortestContextMatch(False)\\\n",
        "        .setOptionalContextRules(False)\\\n",
        "        .setCompleteContextMatch(True)\n",
        "\n",
        "license_parser_pipeline = Pipeline(stages=[\n",
        "    documentAssembler,\n",
        "    splitter,\n",
        "    tokenizer,\n",
        "    license_parser\n",
        "])\n",
        "\n",
        "empty_data = spark.createDataFrame([[\"\"]]).toDF(\"text\")\n",
        "\n",
        "license_parser_model = license_parser_pipeline.fit(empty_data)\n",
        "license_parser_model.stages[-1].write().overwrite().save(\"parser/license_parser\")\n",
        "\n",
        "txt = \"\"\"Name : Hendrickson, Ora, Record date: 2093-01-13, # 719435.\n",
        "Dr. John Green, ID: 1231511863, IP 203.120.223.13.\n",
        "He is a 60-year-old male was admitted to the Day Hospital for cystectomy on 01/13/93.\n",
        "Patient's VIN : 1HGBH41JXMN109286, VIN 4Y1SL65848Z411439, VIN 1HGCM82633A123456 - VIN JH4KA7560MC012345 - VIN 5YJSA1E14HF123456\n",
        "SSN #333-44-6666, Driver's license no: A334455B, plate 34NLP34. Lic: 12345As. Cert: 12345As\n",
        "Phone (302) 786-5227, 0295 Keats Street, San Francisco, E-MAIL: smith@gmail.com.\"\"\"\n",
        "\n",
        "LightPipeline(license_parser_model).annotate(txt)[\"entity_license\"]"
      ]
    },
    {
      "cell_type": "code",
      "execution_count": 20,
      "metadata": {
        "colab": {
          "base_uri": "https://localhost:8080/"
        },
        "execution": {
          "iopub.execute_input": "2024-12-04T07:52:20.320797Z",
          "iopub.status.busy": "2024-12-04T07:52:20.319946Z",
          "iopub.status.idle": "2024-12-04T07:52:21.083549Z",
          "shell.execute_reply": "2024-12-04T07:52:21.082263Z",
          "shell.execute_reply.started": "2024-12-04T07:52:20.320760Z"
        },
        "id": "g44SbRdQ44WG",
        "outputId": "52e25439-64b5-415f-b3d7-6c3fb353366f",
        "tags": []
      },
      "outputs": [
        {
          "output_type": "stream",
          "name": "stdout",
          "text": [
            "+----------------------------------------------------------------------------------+------------------------------------------------------------------------+----------------------+\n",
            "|result                                                                            |result                                                                  |result                |\n",
            "+----------------------------------------------------------------------------------+------------------------------------------------------------------------+----------------------+\n",
            "|[Please, present, your, driver's, license, number, AB1234567, at, the, counter, .]|[Please present your driver's license number AB1234567 at the counter.] |[AB1234567]           |\n",
            "|[Your, driver's, license, 9876543210, has, been, renewed, .]                      |[Your driver's license 9876543210 has been renewed.]                    |[9876543210]          |\n",
            "|[Driver's, license, number, B123-456-789, is, required, for, this, transaction, .]|[Driver's license number B123-456-789 is required for this transaction.]|[B123-456-789]        |\n",
            "|[Kindly, update, your, records, with, driver's, license, #C123, 456, 7890, .]     |[Kindly update your records with driver's license #C123 456 7890.]      |[#C123, 456]          |\n",
            "|[The, driver's, license, D1234-5678-9012, was, issued, in, California, .]         |[The driver's license D1234-5678-9012 was issued in California.]        |[D1234-5678-9012]     |\n",
            "|[Please, verify, driver's, license, number, 123456789, before, processing, .]     |[Please verify driver's license number 123456789 before processing.]    |[123456789]           |\n",
            "|[Your, new, driver's, license, number, is, E123-4567-8901, .]                     |[Your new driver's license number is E123-4567-8901.]                   |[]                    |\n",
            "|[Driver's, license, 1122-3344-5566, is, currently, valid, .]                      |[Driver's license 1122-3344-5566 is currently valid.]                   |[1122-3344-5566]      |\n",
            "|[Please, update, your, driver's, license, to, F98765432, .]                       |[Please update your driver's license to F98765432.]                     |[F98765432]           |\n",
            "|[Your, driver's, license, number, 765-432-1098, is, ready, for, pickup, .]        |[Your driver's license number 765-432-1098 is ready for pickup.]        |[765-432-1098]        |\n",
            "|[The, license, number, 1234, is, too, short, and, invalid, .]                     |[The license number 1234 is too short and invalid.]                     |[1234]                |\n",
            "|[Driver's, license, 98765432101234567890, is, too, long, and, invalid, .]         |[Driver's license 98765432101234567890 is too long and invalid.]        |[98765432101234567890]|\n",
            "|[The, driver's, license, number, A123456, is, missing, required, digits, .]       |[The driver's license number A123456 is missing required digits.]       |[A123456]             |\n",
            "|[Driver's, license, 1234-56-789, lacks, the, proper, formatting, .]               |[Driver's license 1234-56-789 lacks the proper formatting.]             |[1234-56-789]         |\n",
            "|[License, number, ZXY-987654321, is, not, a, valid, format, .]                    |[License number ZXY-987654321 is not a valid format.]                   |[ZXY-987654321]       |\n",
            "+----------------------------------------------------------------------------------+------------------------------------------------------------------------+----------------------+\n",
            "\n"
          ]
        }
      ],
      "source": [
        "test=[\n",
        "    [\"Please present your driver's license number AB1234567 at the counter.\", 'DRIVER_LICENSE', 'AB1234567'],\n",
        "    [\"Your driver's license 9876543210 has been renewed.\", 'DRIVER_LICENSE', '9876543210'],\n",
        "    [\"Driver's license number B123-456-789 is required for this transaction.\", 'DRIVER_LICENSE', 'B123-456-789'],\n",
        "    [\"Kindly update your records with driver's license #C123 456 7890.\", 'DRIVER_LICENSE', 'C123 456 7890'],\n",
        "    [\"The driver's license D1234-5678-9012 was issued in California.\", 'DRIVER_LICENSE', 'D1234-5678-9012'],\n",
        "    [\"Please verify driver's license number 123456789 before processing.\", 'DRIVER_LICENSE', '123456789'],\n",
        "    [\"Your new driver's license number is E123-4567-8901.\", 'DRIVER_LICENSE', 'E123-4567-8901'],\n",
        "    [\"Driver's license 1122-3344-5566 is currently valid.\", 'DRIVER_LICENSE', '1122-3344-5566'],\n",
        "    [\"Please update your driver's license to F98765432.\", 'DRIVER_LICENSE', 'F98765432'],\n",
        "    [\"Your driver's license number 765-432-1098 is ready for pickup.\", 'DRIVER_LICENSE', '765-432-1098'],\n",
        "    [\"The license number 1234 is too short and invalid.\", 'DRIVER_LICENSE', '1234'],\n",
        "    [\"Driver's license 98765432101234567890 is too long and invalid.\", 'DRIVER_LICENSE', '98765432101234567890'],\n",
        "    [\"The driver's license number A123456 is missing required digits.\", 'DRIVER_LICENSE', 'A123456'],\n",
        "    [\"Driver's license 1234-56-789 lacks the proper formatting.\", 'DRIVER_LICENSE', '1234-56-789'],\n",
        "    [\"License number ZXY-987654321 is not a valid format.\", 'DRIVER_LICENSE', 'ZXY-987654321'],\n",
        "]\n",
        "\n",
        "license_parser_model.transform(spark.createDataFrame(test, ['text']))\\\n",
        "                    .select(\"token.result\",\"document.result\",\"entity_license.result\")\\\n",
        "                    .show(truncate=False)\n"
      ]
    },
    {
      "cell_type": "markdown",
      "metadata": {
        "id": "RfPtc14sLpT2",
        "jp-MarkdownHeadingCollapsed": true,
        "tags": []
      },
      "source": [
        "## AGE"
      ]
    },
    {
      "cell_type": "code",
      "execution_count": 21,
      "metadata": {
        "execution": {
          "iopub.execute_input": "2024-12-04T07:52:21.086608Z",
          "iopub.status.busy": "2024-12-04T07:52:21.086167Z",
          "iopub.status.idle": "2024-12-04T07:52:21.093632Z",
          "shell.execute_reply": "2024-12-04T07:52:21.092340Z",
          "shell.execute_reply.started": "2024-12-04T07:52:21.086568Z"
        },
        "id": "NPz3K57I0Dec",
        "tags": []
      },
      "outputs": [],
      "source": [
        "# old_regex_rule:\"(\\b(\\d{1,2})(\\s?-?1\\/2)?\\b)|(\\b(1\\d{2})(\\s?-?1\\/2)?\\b)\","
      ]
    },
    {
      "cell_type": "code",
      "execution_count": 22,
      "metadata": {
        "execution": {
          "iopub.execute_input": "2025-01-08T10:09:31.765388Z",
          "iopub.status.busy": "2025-01-08T10:09:31.764573Z",
          "iopub.status.idle": "2025-01-08T10:09:31.790655Z",
          "shell.execute_reply": "2025-01-08T10:09:31.789641Z",
          "shell.execute_reply.started": "2025-01-08T10:09:31.765359Z"
        },
        "id": "EUda4LLX2e3h",
        "tags": []
      },
      "outputs": [],
      "source": [
        "age = {\n",
        "  \"entity\": \"AGE\",\n",
        "  \"ruleScope\": \"document\",\n",
        "  \"matchScope\":\"sub-token\",\n",
        "  \"regex\":\"(\\d{1,3})([\\s-]+1/2)?\\s*(-years-old|years-old|years old|-year-old|year-old|year old|-months-old|months-old|months old|-month-old|month-old|month old|-weeks-old|weeks-old|weeks old|-week-old|week-old|week old|-days-old|days-old|days old|-day-old|day-old|day old|years of age|months of age|weeks of age|days of age|old)\",\n",
        "  \"contextLength\": 20, #20\n",
        "  \"contextException\": [\"ago\"],\n",
        "  \"exceptionDistance\": 15\n",
        "}\n",
        "\n",
        "with open('age.json', 'w') as f:\n",
        "    json.dump(age, f)\n",
        "\n",
        "age_parser = ContextualParserApproach() \\\n",
        "        .setInputCols([\"splitter\", \"token\"]) \\\n",
        "        .setOutputCol(\"entity_age\") \\\n",
        "        .setJsonPath(\"age.json\") \\\n",
        "        .setCaseSensitive(False) \\\n",
        "        .setPrefixAndSuffixMatch(False)\\\n",
        "        .setShortestContextMatch(False)\\\n",
        "        .setOptionalContextRules(False)\\\n",
        "        .setCompleteContextMatch(False)"
      ]
    },
    {
      "cell_type": "code",
      "execution_count": 23,
      "metadata": {
        "execution": {
          "iopub.execute_input": "2025-01-08T10:39:02.661092Z",
          "iopub.status.busy": "2025-01-08T10:39:02.660637Z",
          "iopub.status.idle": "2025-01-08T10:39:02.966762Z",
          "shell.execute_reply": "2025-01-08T10:39:02.965745Z",
          "shell.execute_reply.started": "2025-01-08T10:39:02.661064Z"
        },
        "id": "L67ceo0Mup3d",
        "tags": []
      },
      "outputs": [],
      "source": [
        "age_parser_pipeline = Pipeline(stages=[\n",
        "    documentAssembler,\n",
        "    splitter,\n",
        "    tokenizer,\n",
        "    age_parser\n",
        "  ])\n",
        "\n",
        "empty_data = spark.createDataFrame([[\"\"]]).toDF(\"text\")\n",
        "\n",
        "age_parser_model = age_parser_pipeline.fit(empty_data)\n",
        "age_parser_model.stages[-1].write().overwrite().save(\"parser/age_parser\")"
      ]
    },
    {
      "cell_type": "code",
      "execution_count": 24,
      "metadata": {
        "colab": {
          "base_uri": "https://localhost:8080/"
        },
        "execution": {
          "iopub.execute_input": "2024-12-04T07:52:28.715548Z",
          "iopub.status.busy": "2024-12-04T07:52:28.714684Z",
          "iopub.status.idle": "2024-12-04T07:52:29.291693Z",
          "shell.execute_reply": "2024-12-04T07:52:29.290626Z",
          "shell.execute_reply.started": "2024-12-04T07:52:28.715519Z"
        },
        "id": "EjzIV2d4eL8Z",
        "outputId": "15d8755c-06b6-4ffc-ea65-8c2e423188fb",
        "tags": []
      },
      "outputs": [
        {
          "output_type": "execute_result",
          "data": {
            "text/plain": [
              "[Annotation(chunk, 119, 129, 60-year-old, {'field': 'AGE', 'tokenIndex': '29', 'confidence': '0.50', 'ner_source': 'entity_age', 'normalized': '', 'sentence': '0'}, []),\n",
              " Annotation(chunk, 501, 511, 28 year old, {'field': 'AGE', 'tokenIndex': '95', 'confidence': '0.50', 'ner_source': 'entity_age', 'normalized': '', 'sentence': '0'}, []),\n",
              " Annotation(chunk, 501, 511, 28 year old, {'field': 'AGE', 'tokenIndex': '103', 'confidence': '0.50', 'ner_source': 'entity_age', 'normalized': '', 'sentence': '0'}, []),\n",
              " Annotation(chunk, 501, 511, 28 year old, {'field': 'AGE', 'tokenIndex': '5', 'confidence': '0.50', 'ner_source': 'entity_age', 'normalized': '', 'sentence': '1'}, []),\n",
              " Annotation(chunk, 501, 511, 28 year old, {'field': 'AGE', 'tokenIndex': '13', 'confidence': '0.50', 'ner_source': 'entity_age', 'normalized': '', 'sentence': '1'}, []),\n",
              " Annotation(chunk, 657, 668, 5 months old, {'field': 'AGE', 'tokenIndex': '41', 'confidence': '0.50', 'ner_source': 'entity_age', 'normalized': '', 'sentence': '1'}, [])]"
            ]
          },
          "metadata": {},
          "execution_count": 24
        }
      ],
      "source": [
        "txt = \"\"\"Name : Hendrickson, Ora, Record date: 2093-01-13, # 719435.\n",
        "Dr. John Green, ID: 1231511863, IP 203.120.223.13.\n",
        "He is a 60-year-old male was admitted to the Day Hospital for cystectomy on 01/13/93.\n",
        "Patient's VIN : 1HGBH41JXMN109286, VIN 4Y1SL65848Z411439, VIN 1HGCM82633A123456 - VIN JH4KA7560MC012345 - VIN 5YJSA1E14HF123456\n",
        "SSN #333-44-6666, Driver's license no: A334455B, plate 34NLP34. Lic: 12345As. Cert: 12345As\n",
        "Phone (302) 786-5227, 0295 Keats Street, San Francisco, E-MAIL: smith@gmail.com.\n",
        "\n",
        "A 28 year old female with a history of gestational diabetes mellitus diagnosed 8 years ago.\n",
        "3 years ago, he reported an episode of HTG-induced pancreatitis . 5 months old boy with repeated concussions.\n",
        "\"\"\"\n",
        "\n",
        "annotations = LightPipeline(age_parser_model).fullAnnotate(txt)\n",
        "\n",
        "annotations[0][\"entity_age\"]"
      ]
    },
    {
      "cell_type": "code",
      "execution_count": 25,
      "metadata": {
        "colab": {
          "base_uri": "https://localhost:8080/"
        },
        "execution": {
          "iopub.execute_input": "2024-12-04T07:52:29.638347Z",
          "iopub.status.busy": "2024-12-04T07:52:29.637765Z",
          "iopub.status.idle": "2024-12-04T07:52:30.532835Z",
          "shell.execute_reply": "2024-12-04T07:52:30.530094Z",
          "shell.execute_reply.started": "2024-12-04T07:52:29.638319Z"
        },
        "id": "fmzT3mMd67Zk",
        "outputId": "38a10160-8cb7-4451-a9a5-e153e2290eee",
        "tags": []
      },
      "outputs": [
        {
          "output_type": "stream",
          "name": "stdout",
          "text": [
            "+----------------------------------------------------------------------------------------------------------------------------------------------------+\n",
            "|result                                                                                                                                              |\n",
            "+----------------------------------------------------------------------------------------------------------------------------------------------------+\n",
            "|{chunk, 8, 17, 1 year old, {field -> AGE, tokenIndex -> 2, confidence -> 0.50, ner_source -> entity_age, normalized -> , sentence -> 0}, []}        |\n",
            "|{chunk, 44, 54, 70 year old, {field -> AGE, tokenIndex -> 11, confidence -> 0.50, ner_source -> entity_age, normalized -> , sentence -> 0}, []}     |\n",
            "|{chunk, 127, 136, 5-year-old, {field -> AGE, tokenIndex -> 29, confidence -> 0.50, ner_source -> entity_age, normalized -> , sentence -> 0}, []}    |\n",
            "|{chunk, 265, 276, 10 years old, {field -> AGE, tokenIndex -> 53, confidence -> 0.50, ner_source -> entity_age, normalized -> , sentence -> 0}, []}  |\n",
            "|{chunk, 380, 390, 15-year-old, {field -> AGE, tokenIndex -> 74, confidence -> 0.50, ner_source -> entity_age, normalized -> , sentence -> 0}, []}   |\n",
            "|{chunk, 510, 520, 20-year-old, {field -> AGE, tokenIndex -> 14, confidence -> 0.50, ner_source -> entity_age, normalized -> , sentence -> 1}, []}   |\n",
            "|{chunk, 611, 621, 25-year-old, {field -> AGE, tokenIndex -> 29, confidence -> 0.50, ner_source -> entity_age, normalized -> , sentence -> 1}, []}   |\n",
            "|{chunk, 706, 716, 30-year-old, {field -> AGE, tokenIndex -> 46, confidence -> 0.50, ner_source -> entity_age, normalized -> , sentence -> 1}, []}   |\n",
            "|{chunk, 807, 817, 40-year-old, {field -> AGE, tokenIndex -> 64, confidence -> 0.50, ner_source -> entity_age, normalized -> , sentence -> 1}, []}   |\n",
            "|{chunk, 864, 874, 50-year-old, {field -> AGE, tokenIndex -> 74, confidence -> 0.50, ner_source -> entity_age, normalized -> , sentence -> 1}, []}   |\n",
            "|{chunk, 938, 949, 60 years old, {field -> AGE, tokenIndex -> 86, confidence -> 0.50, ner_source -> entity_age, normalized -> , sentence -> 1}, []}  |\n",
            "|{chunk, 938, 949, 60 years old, {field -> AGE, tokenIndex -> 97, confidence -> 0.50, ner_source -> entity_age, normalized -> , sentence -> 1}, []}  |\n",
            "|{chunk, 938, 949, 60 years old, {field -> AGE, tokenIndex -> 4, confidence -> 0.50, ner_source -> entity_age, normalized -> , sentence -> 2}, []}   |\n",
            "|{chunk, 938, 949, 60 years old, {field -> AGE, tokenIndex -> 15, confidence -> 0.50, ner_source -> entity_age, normalized -> , sentence -> 2}, []}  |\n",
            "|{chunk, 1042, 1052, 70-year-old, {field -> AGE, tokenIndex -> 36, confidence -> 0.50, ner_source -> entity_age, normalized -> , sentence -> 2}, []} |\n",
            "|{chunk, 1173, 1184, 100-year-old, {field -> AGE, tokenIndex -> 58, confidence -> 0.50, ner_source -> entity_age, normalized -> , sentence -> 2}, []}|\n",
            "|{chunk, 1282, 1292, 30-year-old, {field -> AGE, tokenIndex -> 77, confidence -> 0.50, ner_source -> entity_age, normalized -> , sentence -> 2}, []} |\n",
            "|{chunk, 1306, 1316, 90-year-old, {field -> AGE, tokenIndex -> 82, confidence -> 0.50, ner_source -> entity_age, normalized -> , sentence -> 2}, []} |\n",
            "+----------------------------------------------------------------------------------------------------------------------------------------------------+\n",
            "\n"
          ]
        }
      ],
      "source": [
        "txt = \"\"\"At just 1 year old, a child is beginning to 70 year old, taking their first steps and saying their first words.\n",
        "In contrast, a 5-year-old is likely running around with boundless energy, attending kindergarten, and learning to read and write.\n",
        "By the time someone is 10 years old, they may have developed hobbies like playing a musical instrument or participating in team sports.\n",
        "A 15-year-old, navigating the challenges of adolescence, often dreams about the future while balancing school and friendships.\n",
        "Many 20-year-olds are stepping into adulthood, pursuing higher education or entering the workforce, while 25-year-olds often reflect\n",
        "on the first quarter of their lives, setting long-term goals. For a 30-year-old, milestones like starting a family or advancing in\n",
        "their career may define this stage. A 40-year-old might focus on stability and family, while a 50-year-old could be planning for\n",
        "retirement or embracing new hobbies. At 60 years old, many celebrate a lifetime of achievements and embrace a slower pace of life.\n",
        "Similarly, a 70-year-old might enjoy spoiling grandchildren or traveling to places they’ve always dreamed of. On the other hand,\n",
        "objects like a 100-year-old oak tree stand as a testament to resilience and time. Whether describing a one-year-old baby, a\n",
        "30-year-old adult, or a 90-year-old senior, each year-old or years-old stage tells a unique story of growth, change, and experience.\n",
        "\"\"\"\n",
        "\n",
        "age_parser_model.transform(spark.createDataFrame([[txt]], ['text']))\\\n",
        "                .selectExpr(\"explode(entity_age) result\")\\\n",
        "                .show(truncate=False)"
      ]
    },
    {
      "cell_type": "code",
      "execution_count": 26,
      "metadata": {
        "colab": {
          "base_uri": "https://localhost:8080/"
        },
        "execution": {
          "iopub.execute_input": "2024-12-04T07:52:31.497483Z",
          "iopub.status.busy": "2024-12-04T07:52:31.496937Z",
          "iopub.status.idle": "2024-12-04T07:52:32.238271Z",
          "shell.execute_reply": "2024-12-04T07:52:32.236901Z",
          "shell.execute_reply.started": "2024-12-04T07:52:31.497456Z"
        },
        "id": "apTLw5M45aOA",
        "outputId": "c8471474-ec1c-41e3-e57a-bd4c60f48d71",
        "tags": []
      },
      "outputs": [
        {
          "output_type": "stream",
          "name": "stdout",
          "text": [
            "+----------------------------------------------------------------------------------------+-------------------------------------------------------------------------+--------------+\n",
            "|result                                                                                  |result                                                                   |result        |\n",
            "+----------------------------------------------------------------------------------------+-------------------------------------------------------------------------+--------------+\n",
            "|[The, user, is, 25, years, old, .]                                                      |[The user is 25 years old.]                                              |[25 years old]|\n",
            "|[She, just, turned, 30, last, week, .]                                                  |[She just turned 30 last week.]                                          |[]            |\n",
            "|[My, grandfather, is, 85, years, old, .]                                                |[My grandfather is 85 years old.]                                        |[85 years old]|\n",
            "|[The, child, is, 7, years, old, .]                                                      |[The child is 7 years old.]                                              |[7 years old] |\n",
            "|[He, is, 18, ,, just, old, enough, to, vote, .]                                         |[He is 18, just old enough to vote.]                                     |[]            |\n",
            "|[At, 45, ,, she, decided, to, start, a, new, career, .]                                 |[At 45, she decided to start a new career.]                              |[]            |\n",
            "|[The, athlete, is, 22, and, in, top, form, .]                                           |[The athlete is 22 and in top form.]                                     |[]            |\n",
            "|[He, reached, the, age, of, 100, last, month, .]                                        |[He reached the age of 100 last month.]                                  |[]            |\n",
            "|[She, is, 16, and, can't, wait, to, drive, .]                                           |[She is 16 and can't wait to drive.]                                     |[]            |\n",
            "|[At, 65, ,, he, decided, to, retire, .]                                                 |[At 65, he decided to retire.]                                           |[]            |\n",
            "|[The, applicant, must, be, at, least, 18, years, old, to, apply, for, this, position, .]|[The applicant must be at least 18 years old to apply for this position.]|[18 years old]|\n",
            "|[Participants, aged, 25, and, older, are, eligible, for, the, program, .]               |[Participants aged 25 and older are eligible for the program.]           |[]            |\n",
            "|[Children, under, the, age, of, 12, are, not, allowed, in, the, facility, .]            |[Children under the age of 12 are not allowed in the facility.]          |[]            |\n",
            "|[She, celebrated, her, 30th, birthday, last, week, .]                                   |[She celebrated her 30th birthday last week.]                            |[]            |\n",
            "|[You, need, to, be, 21, years, old, to, enter, this, club, .]                           |[You need to be 21 years old to enter this club.]                        |[21 years old]|\n",
            "|[Our, senior, members, are, all, over, the, age, of, 65, .]                             |[Our senior members are all over the age of 65.]                         |[]            |\n",
            "|[He, retired, at, the, age, of, 60, .]                                                  |[He retired at the age of 60.]                                           |[]            |\n",
            "|[Only, individuals, between, 18, and, 35, years, old, can, participate, .]              |[Only individuals between 18 and 35 years old can participate.]          |[35 years old]|\n",
            "|[Children, aged, 5, to, 10, can, join, the, junior, program, .]                         |[Children aged 5 to 10 can join the junior program.]                     |[]            |\n",
            "|[The, minimum, age, requirement, for, this, course, is, 16, .]                          |[The minimum age requirement for this course is 16.]                     |[]            |\n",
            "+----------------------------------------------------------------------------------------+-------------------------------------------------------------------------+--------------+\n",
            "only showing top 20 rows\n",
            "\n"
          ]
        }
      ],
      "source": [
        "test = [\n",
        "    [\"The user is 25 years old.\", 'AGE', '25'],\n",
        "    [\"She just turned 30 last week.\", 'AGE', '30'],\n",
        "    [\"My grandfather is 85 years old.\", 'AGE', '85'],\n",
        "    [\"The child is 7 years old.\", 'AGE', '7'],\n",
        "    [\"He is 18, just old enough to vote.\", 'AGE', '18'],\n",
        "    [\"At 45, she decided to start a new career.\", 'AGE', '45'],\n",
        "    [\"The athlete is 22 and in top form.\", 'AGE', '22'],\n",
        "    [\"He reached the age of 100 last month.\", 'AGE', '100'],\n",
        "    [\"She is 16 and can't wait to drive.\", 'AGE', '16'],\n",
        "    [\"At 65, he decided to retire.\", 'AGE', '65'],\n",
        "    ['The applicant must be at least 18 years old to apply for this position.', 'AGE', '18'],\n",
        "    ['Participants aged 25 and older are eligible for the program.', 'AGE', '25'],\n",
        "    ['Children under the age of 12 are not allowed in the facility.', 'AGE', '12'],\n",
        "    ['She celebrated her 30th birthday last week.', 'AGE', '30'],\n",
        "    ['You need to be 21 years old to enter this club.', 'AGE', '21'],\n",
        "    ['Our senior members are all over the age of 65.', 'AGE', '65'],\n",
        "    ['He retired at the age of 60.', 'AGE', '60'],\n",
        "    ['Only individuals between 18 and 35 years old can participate.', 'AGE', '35'],\n",
        "    ['Children aged 5 to 10 can join the junior program.', 'AGE', '5 to 10'],\n",
        "    ['The minimum age requirement for this course is 16.', 'AGE', '16'],\n",
        "    ['At 45 years old, she decided to pursue a new career.', 'AGE', '45'],\n",
        "    ['Babies must be at least 6 months old to be enrolled.', 'AGE', '6'],\n",
        "    ['The event is open to everyone over the age of 50.', 'AGE', '50'],\n",
        "    ['He joined the army at the age of 18.', 'AGE', '18'],\n",
        "    ['Students aged 14 and above can attend the seminar.', 'AGE', '14'],\n",
        "    ['Her daughter turned 8 last month.', 'AGE', '8'],\n",
        "    ['Participants must be at least 30 years of age.', 'AGE', '30'],\n",
        "    ['Children under 7 years old need to be accompanied by an adult.', 'AGE', '7'],\n",
        "    ['He was just 25 when he became a CEO.', 'AGE', '25'],\n",
        "    ['To qualify for the senior discount, you must be 65 or older.', 'AGE', '65'],\n",
        "    [\"The age -5 is not valid.\", 'AGE', '-5'],\n",
        "    [\"Age 200 is unrealistic and invalid.\", 'AGE', '200'],\n",
        "    [\"The input 'twenty' is not a valid age.\", 'AGE', 'twenty'],\n",
        "    [\"Age 0 is invalid; the minimum age should be 1.\", 'AGE', '0'],\n",
        "    [\"999 years old is not a realistic age.\", 'AGE', '999'],\n",
        "]\n",
        "\n",
        "age_parser_model.transform(spark.createDataFrame(test, ['text']))\\\n",
        "                .select(\"token.result\",\"document.result\",\"entity_age.result\")\\\n",
        "                .show(truncate=False)"
      ]
    },
    {
      "cell_type": "markdown",
      "metadata": {
        "id": "wUtDKPyULpT3",
        "jp-MarkdownHeadingCollapsed": true,
        "tags": []
      },
      "source": [
        "## DATE"
      ]
    },
    {
      "cell_type": "code",
      "execution_count": 27,
      "metadata": {
        "execution": {
          "iopub.execute_input": "2024-12-11T18:40:46.170289Z",
          "iopub.status.busy": "2024-12-11T18:40:46.169339Z",
          "iopub.status.idle": "2024-12-11T18:40:46.175377Z",
          "shell.execute_reply": "2024-12-11T18:40:46.174362Z",
          "shell.execute_reply.started": "2024-12-11T18:40:46.170249Z"
        },
        "id": "e6rtUcWSLpT3",
        "tags": [],
        "colab": {
          "base_uri": "https://localhost:8080/",
          "height": 122
        },
        "outputId": "432a9c3b-8213-4d72-9bc1-01cf0dfe2824"
      },
      "outputs": [
        {
          "output_type": "execute_result",
          "data": {
            "text/plain": [
              "'date = \"(?i)((?:(?<!\\\\:)(?<!\\\\:\\\\d)(?<!\\\\d\\\\d)[0-9]{1,4}(?:st|nd|rd|th)?\\\\s(?:of\\\\s)?(?:jan\\\\.?|january|feb\\\\.?|february|mar\\\\.?|march|apr\\\\.?|april|may|jun\\\\.?|june|jul\\\\.?|july|aug\\\\.?|august|sep\\\\.?|september|oct\\\\.?|october|nov\\\\.?|november|dec\\\\.?|december)|(?:jan\\\\.?|january|feb\\\\.?|february|mar\\\\.?|march|apr\\\\.?|april|may|jun\\\\.?|june|jul\\\\.?|july|aug\\\\.?|august|sep\\\\.?|september|oct\\\\.?|october|nov\\\\.?|november|dec\\\\.?|december)\\\\s(?<!\\\\:)(?<!\\\\:\\\\d)[0-3]?\\\\d{1,3}(?:st|nd|rd|th)?)(?:[,\\\\.\\\\!\\\\?;:\\\\-\\\\(\\\\)\\\\[\\\\]\\\\{\\\\}\\\\s]*\\\\s?\\\\d{4})?|[0-3]?\\\\d[-\\\\./][0-3]?\\\\d[-\\\\./]\\\\d{2,4})|(\\\\d{4}[-\\\\./]\\\\d{2}[-\\\\./]\\\\d{2})|(?<=on\\\\s|in\\\\s)(\\\\d{1,2}[-/]\\\\d{2})(?!\\\\d|[-/])|(\\\\d{1,2}(?:jan\\\\.?|january|feb\\\\.?|february|mar\\\\.?|march|apr\\\\.?|april|may|jun\\\\.?|june|jul\\\\.?|july|aug\\\\.?|august|sep\\\\.?|september|oct\\\\.?|october|nov\\\\.?|november|dec\\\\.?|december)\\\\d{4})|(\\\\d{1,2}-[A-Za-z]{3}-\\\\d{4})|(\\\\d{2}-\\\\d{2}-\\\\d{4})# DATE\\n\"\\ndate += \"(?<!\\\\d)(3[01]|[12][0-9]|0?[1-9])\\\\/(0?[1-9]|1[1-2])\\\\/\\\\d{4}(?!\\\\d)# DATE\\n\"\\n#date += \"(?<!\\\\d)(0?[1-9]|1[1-2])\\\\/(3[01]|[12][0-9]|0?[1-9])\\\\/\\\\d{4}(?!\\\\d)# DATE\\n\" Deleted because of duplicate\\ndate += \"(?:3[01]|[12][0-9]|0?[1-9])([-/.])(0?[1-9]|1[1-2])\\\\1\\\\d{4}# DATE\\n\"\\ndate += \"(?:0?[1-9]|1[1-2])([\\\\-\\\\/.])(3[01]|[12][0-9]|0?[1-9])\\\\1\\\\d{4}# DATE\\n\"\\ndate += \"\\\\d{4}([\\\\-\\\\/.])(0?[1-9]|1[1-2])\\\\1(3[01]|[12][0-9]|0?[1-9])# DATE\\n\"\\ndate += \"\\\\d{2}/\\\\d{4}# DATE'"
            ],
            "application/vnd.google.colaboratory.intrinsic+json": {
              "type": "string"
            }
          },
          "metadata": {},
          "execution_count": 27
        }
      ],
      "source": [
        "\"\"\"date = \"(?i)((?:(?<!\\:)(?<!\\:\\d)(?<!\\d\\d)[0-9]{1,4}(?:st|nd|rd|th)?\\s(?:of\\s)?(?:jan\\.?|january|feb\\.?|february|mar\\.?|march|apr\\.?|april|may|jun\\.?|june|jul\\.?|july|aug\\.?|august|sep\\.?|september|oct\\.?|october|nov\\.?|november|dec\\.?|december)|(?:jan\\.?|january|feb\\.?|february|mar\\.?|march|apr\\.?|april|may|jun\\.?|june|jul\\.?|july|aug\\.?|august|sep\\.?|september|oct\\.?|october|nov\\.?|november|dec\\.?|december)\\s(?<!\\:)(?<!\\:\\d)[0-3]?\\d{1,3}(?:st|nd|rd|th)?)(?:[,\\.\\!\\?;:\\-\\(\\)\\[\\]\\{\\}\\s]*\\s?\\d{4})?|[0-3]?\\d[-\\./][0-3]?\\d[-\\./]\\d{2,4})|(\\d{4}[-\\./]\\d{2}[-\\./]\\d{2})|(?<=on\\s|in\\s)(\\d{1,2}[-/]\\d{2})(?!\\d|[-/])|(\\d{1,2}(?:jan\\.?|january|feb\\.?|february|mar\\.?|march|apr\\.?|april|may|jun\\.?|june|jul\\.?|july|aug\\.?|august|sep\\.?|september|oct\\.?|october|nov\\.?|november|dec\\.?|december)\\d{4})|(\\d{1,2}-[A-Za-z]{3}-\\d{4})|(\\d{2}-\\d{2}-\\d{4})# DATE\\n\"\n",
        "date += \"(?<!\\d)(3[01]|[12][0-9]|0?[1-9])\\/(0?[1-9]|1[1-2])\\/\\d{4}(?!\\d)# DATE\\n\"\n",
        "#date += \"(?<!\\d)(0?[1-9]|1[1-2])\\/(3[01]|[12][0-9]|0?[1-9])\\/\\d{4}(?!\\d)# DATE\\n\" Deleted because of duplicate\n",
        "date += \"(?:3[01]|[12][0-9]|0?[1-9])([-/.])(0?[1-9]|1[1-2])\\\\1\\d{4}# DATE\\n\"\n",
        "date += \"(?:0?[1-9]|1[1-2])([\\-\\/.])(3[01]|[12][0-9]|0?[1-9])\\\\1\\d{4}# DATE\\n\"\n",
        "date += \"\\d{4}([\\-\\/.])(0?[1-9]|1[1-2])\\\\1(3[01]|[12][0-9]|0?[1-9])# DATE\\n\"\n",
        "date += \"\\d{2}/\\d{4}# DATE\"\"\""
      ]
    },
    {
      "cell_type": "code",
      "execution_count": 28,
      "metadata": {
        "execution": {
          "iopub.execute_input": "2025-01-22T16:41:09.807690Z",
          "iopub.status.busy": "2025-01-22T16:41:09.807164Z",
          "iopub.status.idle": "2025-01-22T16:41:09.813412Z",
          "shell.execute_reply": "2025-01-22T16:41:09.812263Z",
          "shell.execute_reply.started": "2025-01-22T16:41:09.807663Z"
        },
        "tags": [],
        "id": "t1PYCqqv7_ET"
      },
      "outputs": [],
      "source": [
        "date = \"(?i)(((?:(?<!\\:)(?<!\\:\\d)(?<!\\d\\d)(?<!\\w\\d))(((?:19|20)\\d{2})|(\\d{2})|(\\d{1}))(?:st|nd|rd|th)?\\s(?:of\\s)?(?:january|jan\\.?|february|feb\\.?|march|mar\\.?|april|apr\\.?|may|june|jun\\.?|july|jul\\.?|august|aug\\.?|september|sep\\.?|october|oct\\.?|november|nov\\.?|december|dec\\.?)(?!\\w)|(?:january|jan\\.?|february|feb\\.?|march|mar\\.?|april|apr\\.?|may|june|jun\\.?|july|jul\\.?|august|aug\\.?|september|sep\\.?|october|oct\\.?|november|nov\\.?|december|dec\\.?)\\s(?<!\\:)(?<!\\:\\d)[0-3]?\\d{1,3}(?!\\d)(?:st|nd|rd|th)?)(?:[,\\.\\!\\?;:\\-\\(\\)\\[\\]\\{\\}\\s]*\\s?(?:19|20)\\d{2})?|[0-3]?\\d[-\\./][0-3]?\\d[-\\./]\\d{2,4})|((?:19|20)\\d{2}[-\\./](?:0[1-9]|1[0-9]|2[0-9]|3[01])[-\\./](?:0[1-9]|1[0-9]|2[0-9]|3[01]))|(?<=on\\s|in\\s)(\\d{1,2}[-/](?:0[1-9]|1[0-9]|2[0-9]|3[01]))(?!\\d|[-/])|(\\d{1,2}(?:jan\\.?|january|feb\\.?|february|mar\\.?|march|apr\\.?|april|may|jun\\.?|june|jul\\.?|july|aug\\.?|august|sep\\.?|september|oct\\.?|october|nov\\.?|november|dec\\.?|december)(?:19|20)\\d{2})|(\\d{1,2}-[A-Za-z]{3}-(?:19|20)\\d{2})|((?:0[1-9]|1[0-9]|2[0-9]|3[01])-(?:0[1-9]|1[0-9]|2[0-9]|3[01])-(?:19|20)\\d{2})# DATE\\n\"\n",
        "date += \"(?<!\\d)(3[01]|[12][0-9]|0?[1-9])\\/(0?[1-9]|1[1-2])\\/(?:19|20)\\d{2}(?!\\d)# DATE\\n\"\n",
        "date += \"(?:3[01]|[12][0-9]|0?[1-9])([-/.])(0?[1-9]|1[1-2])\\\\1(?:19|20)\\d{2}# DATE\\n\"\n",
        "date += \"(?:0?[1-9]|1[1-2])([\\-\\/.])(3[01]|[12][0-9]|0?[1-9])\\\\1(?:19|20)\\d{2}# DATE\\n\"\n",
        "date += \"(?:19|20)\\d{2}([\\-\\/.])(0?[1-9]|1[1-2])\\\\1(3[01]|[12][0-9]|0?[1-9])# DATE\\n\"\n",
        "date += \"(?:0[1-9]|1[0-9]|2[0-9]|3[01])/(?:19|20)\\d{2}# DATE\""
      ]
    },
    {
      "cell_type": "code",
      "execution_count": 29,
      "metadata": {
        "execution": {
          "iopub.execute_input": "2025-01-22T16:41:23.543246Z",
          "iopub.status.busy": "2025-01-22T16:41:23.542425Z",
          "iopub.status.idle": "2025-01-22T16:41:29.459636Z",
          "shell.execute_reply": "2025-01-22T16:41:29.458564Z",
          "shell.execute_reply.started": "2025-01-22T16:41:23.543218Z"
        },
        "id": "aD5aHy_ULpT3",
        "tags": []
      },
      "outputs": [],
      "source": [
        "with open('date.txt', 'w') as f:\n",
        "    f.write(date)\n",
        "\n",
        "date_parser = RegexMatcherInternal() \\\n",
        "    .setExternalRules(\"date.txt\",  \"#\") \\\n",
        "    .setInputCols([\"splitter\"]) \\\n",
        "    .setOutputCol(\"entity_date\") \\\n",
        "    .setStrategy(\"MATCH_ALL\")\n",
        "\n",
        "date_parser_pipeline = Pipeline(stages=[\n",
        "    documentAssembler,\n",
        "    splitter,\n",
        "    date_parser\n",
        "])\n",
        "\n",
        "empty_data = spark.createDataFrame([[\"\"]]).toDF(\"text\")\n",
        "date_parser_model = date_parser_pipeline.fit(empty_data)\n",
        "date_parser_model.stages[-1].write().overwrite().save(\"regex_matcher/date_regex_matcher\")\n",
        "\n",
        "date_lp = LightPipeline(date_parser_model)"
      ]
    },
    {
      "cell_type": "code",
      "execution_count": 30,
      "metadata": {
        "colab": {
          "base_uri": "https://localhost:8080/"
        },
        "execution": {
          "iopub.execute_input": "2025-01-22T16:41:33.075241Z",
          "iopub.status.busy": "2025-01-22T16:41:33.074450Z",
          "iopub.status.idle": "2025-01-22T16:41:33.443301Z",
          "shell.execute_reply": "2025-01-22T16:41:33.441971Z",
          "shell.execute_reply.started": "2025-01-22T16:41:33.075214Z"
        },
        "id": "X5CVj3fteSv_",
        "outputId": "91e8be2e-12f7-4395-f2fb-a06e264aa81c",
        "tags": []
      },
      "outputs": [
        {
          "output_type": "execute_result",
          "data": {
            "text/plain": [
              "['2093-01-13', '01/13/93']"
            ]
          },
          "metadata": {},
          "execution_count": 30
        }
      ],
      "source": [
        "txt = \"\"\"Name : Hendrickson, Ora, Record date: 2093-01-13, # 719435.\n",
        "Dr. John Green, ID: 1231511863, IP 203.120.223.13.\n",
        "He is a 60-year-old male was admitted to the Day Hospital for cystectomy on 01/13/93.\n",
        "Patient's VIN : 1HGBH41JXMN109286, VIN 4Y1SL65848Z411439, VIN 1HGCM82633A123456 - VIN JH4KA7560MC012345 - VIN 5YJSA1E14HF123456\n",
        "SSN #333-44-6666, Driver's license no: A334455B, plate 34NLP34. Lic: 12345As. Cert: 12345As\n",
        "Phone (302) 786-5227, 0295 Keats Street, San Francisco, E-MAIL: smith@gmail.com.\"\"\"\n",
        "\n",
        "date_lp.annotate(txt)[\"entity_date\"]"
      ]
    },
    {
      "cell_type": "code",
      "execution_count": 31,
      "metadata": {
        "colab": {
          "base_uri": "https://localhost:8080/"
        },
        "execution": {
          "iopub.execute_input": "2024-12-11T18:40:54.263481Z",
          "iopub.status.busy": "2024-12-11T18:40:54.262638Z",
          "iopub.status.idle": "2024-12-11T18:40:58.261671Z",
          "shell.execute_reply": "2024-12-11T18:40:58.260442Z",
          "shell.execute_reply.started": "2024-12-11T18:40:54.263450Z"
        },
        "id": "1XvnQxHL52NO",
        "outputId": "486dfaf2-12b8-4b5c-c64c-8892bddca9a2",
        "tags": []
      },
      "outputs": [
        {
          "output_type": "stream",
          "name": "stdout",
          "text": [
            "+--------------------------------------------------------------------------------------+----------------------------------+\n",
            "|result                                                                                |result                            |\n",
            "+--------------------------------------------------------------------------------------+----------------------------------+\n",
            "|[The project kickoff meeting is scheduled for 01/15/2024. Please make sure to attend.]|[01/15/2024]                      |\n",
            "|[Our next team outing is on 15 January 2024. Mark your calendars!]                    |[15 January 2024]                 |\n",
            "|[The deadline for the submission of the final report is 2024-01-15.]                  |[2024-01-15]                      |\n",
            "|[Join us for the annual conference from January 15th to January 17th, 2024.]          |[January 15th, January 17th, 2024]|\n",
            "|[The application period opens on 1st Feb 2024 and closes on 15th March 2024.]         |[1st Feb 2024, 15th March 2024]   |\n",
            "|[Our office will be closed on 02/14/2024 for a public holiday.]                       |[02/14/2024]                      |\n",
            "|[The new policy will take effect starting from February 20, 2024.]                    |[February 20, 2024]               |\n",
            "|[The training workshop is scheduled for the week of March 1-7, 2024.]                 |[March 1]                         |\n",
            "|[Please submit your expense reports by 3/15/24.]                                      |[3/15/24]                         |\n",
            "|[The system upgrade is planned for 24th March 2024.]                                  |[24th March 2024]                 |\n",
            "|[Our quarterly review meeting will be held on 04-05-2024.]                            |[04-05-2024]                      |\n",
            "|[The next phase of the project begins on 5th April, 2024.]                            |[5th April, 2024]                 |\n",
            "|[Please note that the final exams are scheduled for May 10th - 12th, 2024.]           |[May 10th]                        |\n",
            "|[Our summer break starts on 06/01/2024 and ends on 07/01/2024.]                       |[06/01/2024, 07/01/2024]          |\n",
            "|[The product launch event is set for June 15, 2024.]                                  |[June 15, 2024]                   |\n",
            "|[We will be celebrating our anniversary on 20th July 2024.]                           |[20th July 2024]                  |\n",
            "|[The next board meeting is on 2024-08-25.]                                            |[2024-08-25]                      |\n",
            "|[Our fiscal year ends on 09/30/2024.]                                                 |[09/30/2024]                      |\n",
            "|[Please join us for the year-end party on December 31, 2024.]                         |[December 31, 2024]               |\n",
            "|[The holiday season begins on 12/24/2024 and extends until 01/01/2025.]               |[12/24/2024, 01/01/2025]          |\n",
            "+--------------------------------------------------------------------------------------+----------------------------------+\n",
            "only showing top 20 rows\n",
            "\n"
          ]
        }
      ],
      "source": [
        "test=[\n",
        "    ['The project kickoff meeting is scheduled for 01/15/2024. Please make sure to attend.', 'DATE', '01/15/2024'],\n",
        "    ['Our next team outing is on 15 January 2024. Mark your calendars!', 'DATE', '15 January 2024'],\n",
        "    ['The deadline for the submission of the final report is 2024-01-15.', 'DATE', '2024-01-15'],\n",
        "    ['Join us for the annual conference from January 15th to January 17th, 2024.', 'DATE', 'January 15th'],\n",
        "    ['The application period opens on 1st Feb 2024 and closes on 15th March 2024.', 'DATE', '1st Feb 2024'],\n",
        "    ['Our office will be closed on 02/14/2024 for a public holiday.', 'DATE', '02/14/2024'],\n",
        "    ['The new policy will take effect starting from February 20, 2024.', 'DATE', 'February 20, 2024'],\n",
        "    ['The training workshop is scheduled for the week of March 1-7, 2024.', 'DATE', 'March 1-7, 2024'],\n",
        "    ['Please submit your expense reports by 3/15/24.', 'DATE', '3/15/24'],\n",
        "    ['The system upgrade is planned for 24th March 2024.', 'DATE', '24th March 2024'],\n",
        "    ['Our quarterly review meeting will be held on 04-05-2024.', 'DATE', '04-05-2024'],\n",
        "    ['The next phase of the project begins on 5th April, 2024.', 'DATE', '5th April, 2024'],\n",
        "    ['Please note that the final exams are scheduled for May 10th - 12th, 2024.', 'DATE', 'May 10th - 12th, 2024'],\n",
        "    ['Our summer break starts on 06/01/2024 and ends on 07/01/2024.', 'DATE', '06/01/2024'],\n",
        "    ['The product launch event is set for June 15, 2024.', 'DATE', 'June 15, 2024'],\n",
        "    ['We will be celebrating our anniversary on 20th July 2024.', 'DATE', '20th July 2024'],\n",
        "    ['The next board meeting is on 2024-08-25.', 'DATE', '2024-08-25'],\n",
        "    ['Our fiscal year ends on 09/30/2024.', 'DATE', '09/30/2024'],\n",
        "    ['Please join us for the year-end party on December 31, 2024.', 'DATE', 'December 31, 2024'],\n",
        "    ['The holiday season begins on 12/24/2024 and extends until 01/01/2025.', 'DATE', '12/24/2024'],\n",
        "    ['The seminar will be held on the 10th of October, 2024.', 'DATE', '10th of October, 2024'],\n",
        "    ['The next release cycle starts on 2024.11.11.', 'DATE', '2024.11.11'],\n",
        "    ['The charity event is scheduled for November 25th, 2024.', 'DATE', 'November 25th, 2024'],\n",
        "    ['Please note that maintenance is scheduled for 12-01-2024.', 'DATE', '12-01-2024'],\n",
        "    ['We will begin our winter session on December 5th, 2024.', 'DATE', 'December 5th, 2024'],\n",
        "    ['Our next town hall meeting is on 13.01.2024.', 'DATE', '13.01.2024'],\n",
        "    ['All submissions are due by 2024/02/10.', 'DATE', '2024/02/10'],\n",
        "    ['The winter break starts on 20-Dec-2024 and ends on 05-Jan-2025.', 'DATE', '20-Dec-2024'],\n",
        "    ['Our annual retreat is planned for January 8th, 2024.', 'DATE', 'January 8th, 2024'],\n",
        "    ['The graduation ceremony will be held on 30 June, 2024.', 'DATE', '30 June, 2024'],\n",
        "    ['Our next quarterly financial review will be on 2024.09.30.', 'DATE', '2024.09.30'],\n",
        "    [\"The project kickoff meeting is scheduled for 01/15/2024.\", 'DATE', '01/15/2024'],\n",
        "    [\"Our next team outing is on 15 January 2024.\", 'DATE', '15 January 2024'],\n",
        "    [\"The deadline for the submission is 2024-01-15.\", 'DATE', '2024-01-15'],\n",
        "    [\"The conference will take place from March 10th to March 12th, 2024.\", 'DATE', 'March 10th'],\n",
        "    [\"The event is scheduled for 25th December 2024.\", 'DATE', '25th December 2024'],\n",
        "    [\"Please submit your reports by 3/15/24.\", 'DATE', '3/15/24'],\n",
        "    [\"The meeting is on February 20, 2024.\", 'DATE', 'February 20, 2024'],\n",
        "    [\"Our annual review is planned for 2024.11.11.\", 'DATE', '2024.11.11'],\n",
        "    [\"The training will be held on 5th April, 2024.\", 'DATE', '5th April, 2024'],\n",
        "    [\"The system upgrade is set for 09/30/2024.\", 'DATE', '09/30/2024'],\n",
        "    [\"The meeting is scheduled for 13/32/2024, which is not a valid date.\", 'DATE', '13/32/2024'],\n",
        "    [\"Please submit your report by 02/30/2024, an impossible date.\", 'DATE', '02/30/2024'],\n",
        "    [\"The event will take place on 2024-00-01, which is invalid.\", 'DATE', '2024-00-01'],\n",
        "    [\"The start date is 2024/13/01, which does not exist.\", 'DATE', '2024/13/01'],\n",
        "    [\"He mentioned the date 31st February 2024, which is not a real date.\", 'DATE', '31st February 2024'],\n",
        "    [\"The project was completed on 2024-11-31, which is incorrect.\", 'DATE', '2024-11-31'],\n",
        "    [\"She said the deadline was 00/15/2024, an invalid date.\", 'DATE', '00/15/2024'],\n",
        "    [\"The contract starts on 2024/02/29, a non-existent date for this year.\", 'DATE', '2024/02/29'],\n",
        "    [\"The report was dated 2024-04-31, but April only has 30 days.\", 'DATE', '2024-04-31'],\n",
        "    [\"The event is scheduled for 2024/15/01, which is not possible.\", 'DATE', '2024/15/01'],\n",
        "]\n",
        "\n",
        "date_parser_model.transform(spark.createDataFrame(test, ['text']))\\\n",
        "                .select(\"document.result\",\"entity_date.result\")\\\n",
        "                .show(truncate=False)"
      ]
    },
    {
      "cell_type": "markdown",
      "metadata": {
        "id": "trmwUyyVLpT4",
        "jp-MarkdownHeadingCollapsed": true,
        "tags": []
      },
      "source": [
        "## PHONE-1"
      ]
    },
    {
      "cell_type": "code",
      "execution_count": 32,
      "metadata": {
        "colab": {
          "base_uri": "https://localhost:8080/"
        },
        "execution": {
          "iopub.execute_input": "2024-12-04T07:52:38.123140Z",
          "iopub.status.busy": "2024-12-04T07:52:38.122357Z",
          "iopub.status.idle": "2024-12-04T07:52:39.685262Z",
          "shell.execute_reply": "2024-12-04T07:52:39.684196Z",
          "shell.execute_reply.started": "2024-12-04T07:52:38.123113Z"
        },
        "id": "eEZjCDSq8s7F",
        "outputId": "8e33fec8-19b3-4691-bc59-e82efac7b8e8",
        "tags": []
      },
      "outputs": [
        {
          "output_type": "execute_result",
          "data": {
            "text/plain": [
              "['(818) 342-7353', '(818) 342-7354', '(818) 342-7353']"
            ]
          },
          "metadata": {},
          "execution_count": 32
        }
      ],
      "source": [
        "#NEED TO IMPROVE\n",
        "phone = {\n",
        "  \"entity\": \"PHONE\",\n",
        "  \"ruleScope\": \"document\",\n",
        "  \"matchScope\":\"sub-token\",\n",
        "  \"regex\":\"(?<!\\d)(\\(\\+1\\)\\s?)?(\\+1\\s?)?(1\\s?)?(001\\s?)?\\(?[1-9]\\d{2}\\)?[\\s.-]?\\d{3}[\\s.-]?\\d{4}(?!\\d)|(?<!\\d)\\+?1\\.?\\-?\\s?\\(?[1-9]\\d{2}\\)?\\.?\\-?\\s?\\d{3}\\.?\\-?\\s?\\d{4}(?!\\d)\",\n",
        "\n",
        "  \"prefix\": [\"Call\", \"Phone\", \"Telefon\", \"Telefon/Phone\",\"dial\",\n",
        "            \"Cell/Mobile\", \"Cell\", \"Tel\", \"Telephone number\",\n",
        "            \"Phone/Mobile\", \"T\", \"Tel.\", \"Tlf.\", \"Fax\",\n",
        "            \"Contact\",\"office number\", \"free number\",\"contact us\",\"reach us\"\n",
        "             ],\n",
        "\n",
        "  \"contextLength\": 60,\n",
        "  \"completeMatchRegex\": \"true\"\n",
        "}\n",
        "\n",
        "with open('phone.json', 'w') as f:\n",
        "    json.dump(phone, f)\n",
        "\n",
        "phone_parser = ContextualParserApproach() \\\n",
        "        .setInputCols([\"splitter\", \"token\"]) \\\n",
        "        .setOutputCol(\"entity_phone\") \\\n",
        "        .setJsonPath(\"phone.json\") \\\n",
        "        .setCaseSensitive(False) \\\n",
        "        .setPrefixAndSuffixMatch(False)\\\n",
        "        .setShortestContextMatch(False)\\\n",
        "        .setOptionalContextRules(False)\\\n",
        "        .setCompleteContextMatch(True)\n",
        "\n",
        "phone_parser_pipeline = Pipeline(stages=[\n",
        "    documentAssembler,\n",
        "    splitter,\n",
        "    tokenizer,\n",
        "    phone_parser\n",
        "])\n",
        "\n",
        "empty_data = spark.createDataFrame([[\"\"]]).toDF(\"text\")\n",
        "\n",
        "phone_parser_model = phone_parser_pipeline.fit(empty_data)\n",
        "phone_parser_model.stages[-1].write().overwrite().save(\"parser/phone_parser\")\n",
        "\n",
        "\n",
        "phone_lp = LightPipeline(phone_parser_model)\n",
        "\n",
        "text = '''Record date :2093-01-13, David Hale, M.D. IP 203.120.223.13.\n",
        "ID: 1231511863, The driver's license no:A334455B and e-mail: hale@gmail.com .\n",
        "PCP : Oliveira, 25 years-old, Jake 5 year old, Record date : 2079-11-09.\n",
        "Cocke County Baptist Hospital , 0295 Keats Street, 12345, TX 55555-4444. Phone: (818) 342-7353 Fax No.: (818) 342-7354, SSN# 332255677, The other is ssN: 333-44-6666.\n",
        "Phone: (818) 342-7353.\\nEmail: medunites@firsthospital.com'''\n",
        "\n",
        "phone_lp.annotate(text)['entity_phone']"
      ]
    },
    {
      "cell_type": "code",
      "execution_count": 33,
      "metadata": {
        "colab": {
          "base_uri": "https://localhost:8080/"
        },
        "execution": {
          "iopub.execute_input": "2024-12-04T07:52:39.688372Z",
          "iopub.status.busy": "2024-12-04T07:52:39.687630Z",
          "iopub.status.idle": "2024-12-04T07:52:40.330510Z",
          "shell.execute_reply": "2024-12-04T07:52:40.329278Z",
          "shell.execute_reply.started": "2024-12-04T07:52:39.688335Z"
        },
        "id": "wGYvYHKl6Xh6",
        "outputId": "14a61c49-280d-41e3-845e-2ee79d3c978c",
        "tags": []
      },
      "outputs": [
        {
          "output_type": "stream",
          "name": "stdout",
          "text": [
            "+------------------------------------------------------------------------------------------------------+----------------------------------------------------------------------------------+-------------------+\n",
            "|result                                                                                                |result                                                                            |result             |\n",
            "+------------------------------------------------------------------------------------------------------+----------------------------------------------------------------------------------+-------------------+\n",
            "|[If, you, have, any, questions, ,, please, contact, our, support, fax, number, (, 555, ), 123-4567, .]|[If you have any questions, please contact our support fax number (555) 123-4567.]|[(555) 123-4567]   |\n",
            "|[For, reservations, ,, call, our, hotline, at, 1-800-987-6543, .]                                     |[For reservations, call our hotline at 1-800-987-6543.]                           |[1-800-987-6543]   |\n",
            "|[Our, customer, service, is, available, 24/7, at, +1-234-567-8901, .]                                 |[Our customer service is available 24/7 at +1-234-567-8901.]                      |[]                 |\n",
            "|[You, can, reach, me, on, my, cell, at, 555.234.5678, during, office, hours, .]                       |[You can reach me on my cell at 555.234.5678 during office hours.]                |[555.234.5678]     |\n",
            "|[For, immediate, assistance, ,, dial, 123-456-7890, .]                                                |[For immediate assistance, dial 123-456-7890.]                                    |[123-456-7890]     |\n",
            "|[To, inquire, about, our, services, ,, call, (, 123)456-7890, .]                                      |[To inquire about our services, call (123)456-7890.]                              |[(123)456-7890]    |\n",
            "|[Our, office, number, is, +44, 20, 7946, 0958, .]                                                     |[Our office number is +44 20 7946 0958.]                                          |[]                 |\n",
            "|[Reach, us, at, our, toll-free, number, :, 800-123-4567, .]                                           |[Reach us at our toll-free number: 800-123-4567.]                                 |[800-123-4567]     |\n",
            "|[Please, contact, John, at, 555-1234, for, further, information, .]                                   |[Please contact John at 555-1234 for further information.]                        |[]                 |\n",
            "|[For, more, details, ,, call, 123.456.7890, .]                                                        |[For more details, call 123.456.7890.]                                            |[123.456.7890]     |\n",
            "|[In, case, of, emergency, ,, contact, us, at, +49, 89, 636-48018, .]                                  |[In case of emergency, contact us at +49 89 636-48018.]                           |[]                 |\n",
            "|[You, can, also, fax, us, at, (, 555, ), 987-6543, .]                                                 |[You can also fax us at (555) 987-6543.]                                          |[(555) 987-6543]   |\n",
            "|[For, support, ,, call, 1.800.234.5678, .]                                                            |[For support, call 1.800.234.5678.]                                               |[1.800.234.5678]   |\n",
            "|[Call, our, main, line, at, +1, (, 123, ), 456-7890, for, inquiries, .]                               |[Call our main line at +1 (123) 456-7890 for inquiries.]                          |[+1 (123) 456-7890]|\n",
            "|[For, appointments, ,, please, call, (, 555, ), 123-4567, ext, ., 89, .]                              |[For appointments, please call (555) 123-4567 ext. 89.]                           |[(555) 123-4567]   |\n",
            "|[Our, contact, number, is, +33, 1, 23, 45, 67, 89, .]                                                 |[Our contact number is +33 1 23 45 67 89.]                                        |[]                 |\n",
            "|[To, speak, with, a, representative, ,, dial, 123-4567, .]                                            |[To speak with a representative, dial 123-4567.]                                  |[]                 |\n",
            "|[For, general, questions, ,, call, our, help, desk, at, 800.123.4567, .]                              |[For general questions, call our help desk at 800.123.4567.]                      |[800.123.4567]     |\n",
            "|[Contact, the, HR, department, at, (, 123, ), 456-7890, for, job, inquiries, .]                       |[Contact the HR department at (123) 456-7890 for job inquiries.]                  |[(123) 456-7890]   |\n",
            "|[To, book, an, appointment, ,, call, our, office, at, 555, 234, 5678, .]                              |[To book an appointment, call our office at 555 234 5678.]                        |[555 234 5678]     |\n",
            "+------------------------------------------------------------------------------------------------------+----------------------------------------------------------------------------------+-------------------+\n",
            "only showing top 20 rows\n",
            "\n"
          ]
        }
      ],
      "source": [
        "test=[\n",
        "    ['If you have any questions, please contact our support fax number (555) 123-4567.', 'PHONE', '(555) 123-4567'],\n",
        "    ['For reservations, call our hotline at 1-800-987-6543.', 'PHONE', '1-800-987-6543'],\n",
        "    ['Our customer service is available 24/7 at +1-234-567-8901.', 'PHONE', '+1-234-567-8901'],\n",
        "    ['You can reach me on my cell at 555.234.5678 during office hours.', 'PHONE', '555.234.5678'],\n",
        "    ['For immediate assistance, dial 123-456-7890.', 'PHONE', '123-456-7890'],\n",
        "    ['To inquire about our services, call (123)456-7890.', 'PHONE', '(123)456-7890'],\n",
        "    ['Our office number is +44 20 7946 0958.', 'PHONE', '+44 20 7946 0958'],\n",
        "    ['Reach us at our toll-free number: 800-123-4567.', 'PHONE', '800-123-4567'],\n",
        "    ['Please contact John at 555-1234 for further information.', 'PHONE', '555-1234'],\n",
        "    ['For more details, call 123.456.7890.', 'PHONE', '123.456.7890'],\n",
        "    ['In case of emergency, contact us at +49 89 636-48018.', 'PHONE', '+49 89 636-48018'],\n",
        "    ['You can also fax us at (555) 987-6543.', 'PHONE', '(555) 987-6543'],\n",
        "    ['For support, call 1.800.234.5678.', 'PHONE', '1.800.234.5678'],\n",
        "    ['Call our main line at +1 (123) 456-7890 for inquiries.', 'PHONE', '+1 (123) 456-7890'],\n",
        "    ['For appointments, please call (555) 123-4567 ext. 89.', 'PHONE', '(555) 123-4567 ext. 89'],\n",
        "    ['Our contact number is +33 1 23 45 67 89.', 'PHONE', '+33 1 23 45 67 89'],\n",
        "    ['To speak with a representative, dial 123-4567.', 'PHONE', '123-4567'],\n",
        "    ['For general questions, call our help desk at 800.123.4567.', 'PHONE', '800.123.4567'],\n",
        "    ['Contact the HR department at (123) 456-7890 for job inquiries.', 'PHONE', '(123) 456-7890'],\n",
        "    ['To book an appointment, call our office at 555 234 5678.', 'PHONE', '555 234 5678'],\n",
        "    ['For sales inquiries, reach us at 1-800-555-1234.', 'PHONE', '1-800-555-1234'],\n",
        "    ['If you have any issues, please call our hotline at 987-654-3210.', 'PHONE', '987-654-3210'],\n",
        "    ['For quick support, dial our customer service at 555.789.1234.', 'PHONE', '555.789.1234'],\n",
        "    ['You can reach our New York office at +1 212-555-6789.', 'PHONE', '+1 212-555-6789'],\n",
        "    ['For immediate assistance, please call (123) 555-6789.', 'PHONE', '(123) 555-6789'],\n",
        "    ['Our helpline is available at 1 (800) 555-6789.', 'PHONE', '1 (800) 555-6789'],\n",
        "    ['Contact our office at +61 3 1234 5678 for international inquiries.', 'PHONE', '+61 3 1234 5678'],\n",
        "    ['Please call our main desk at 123.456.7890 for more details.', 'PHONE', '123.456.7890'],\n",
        "    ['For urgent matters, dial (555) 987-6543.', 'PHONE', '(555) 987-6543'],\n",
        "    ['To reach our support team, call +44 (0)20 1234 5678.', 'PHONE', '+44 (0)20 1234 5678'],\n",
        "    ['You can contact us at 800-987-6543 for further assistance.', 'PHONE', '800-987-6543'],\n",
        "    [\"Please contact us at +1-202-555-0173 for further information.\", 'PHONE', '+1-202-555-0173'],\n",
        "    [\"Call our UK office at +44 20 7946 0958.\", 'PHONE', '+44 20 7946 0958'],\n",
        "    [\"You can reach me at 212-555-1234 during office hours.\", 'PHONE', '212-555-1234'],\n",
        "    [\"For inquiries, dial +49 89 636 48018.\", 'PHONE', '+49 89 636 48018'],\n",
        "    [\"My new number is (415) 555-2671.\", 'PHONE', '(415) 555-2671'],\n",
        "    [\"Please use 030 12345678 to contact our Berlin office.\", 'PHONE', '030 12345678'],\n",
        "    [\"You can reach our support team at +33 1 44 94 56 78.\", 'PHONE', '+33 1 44 94 56 78'],\n",
        "    [\"Call +39 02 12345678 for more details.\", 'PHONE', '+39 02 12345678'],\n",
        "    [\"Our customer service is available at 0800 123 456.\", 'PHONE', '0800 123 456'],\n",
        "    [\"Dial +353 1 234 5678 to connect with our Dublin branch.\", 'PHONE', '+353 1 234 5678'],\n",
        "    [\"Contact us at 12345 for further assistance.\", 'PHONE', '12345'],  # Too short\n",
        "    [\"Reach out at +1-800-555-5555-5555.\", 'PHONE', '+1-800-555-5555-5555'],  # Too many digits\n",
        "    [\"My number is 5551234567890.\", 'PHONE', '5551234567890'],  # Missing separators, too long\n",
        "    [\"Call me at +44 123 4567 8901 234.\", 'PHONE', '+44 123 4567 8901 234'],  # Too many digits\n",
        "    [\"Dial (123) 456-789 for quick support.\", 'PHONE', '(123) 456-789'],  # Too short\n",
        "    [\"My contact number is 555-123456789012.\", 'PHONE', '555-123456789012'],  # Too long\n",
        "    [\"Please use 020-ABCDEFGH.\", 'PHONE', '020-ABCDEFGH'],  # Letters instead of numbers\n",
        "    [\"Reach us at +49-89-123.\", 'PHONE', '+49-89-123'],  # Too short\n",
        "    [\"Call us at 5555-555-5555-555.\", 'PHONE', '5555-555-5555-555'],  # Incorrect grouping\n",
        "    [\"Contact +33 01 23 45 67 890.\", 'PHONE', '+33 01 23 45 67 890'],  # Too long\n",
        "]\n",
        "\n",
        "phone_parser_model.transform(spark.createDataFrame(test, ['text']))\\\n",
        "                  .select(\"token.result\",\"document.result\",\"entity_phone.result\")\\\n",
        "                  .show(truncate=False)"
      ]
    },
    {
      "cell_type": "markdown",
      "metadata": {
        "jp-MarkdownHeadingCollapsed": true,
        "tags": [],
        "id": "nskvBBAe7_EV"
      },
      "source": [
        "## PHONE-2"
      ]
    },
    {
      "cell_type": "code",
      "execution_count": 34,
      "metadata": {
        "execution": {
          "iopub.execute_input": "2025-01-23T19:45:40.201953Z",
          "iopub.status.busy": "2025-01-23T19:45:40.201116Z",
          "iopub.status.idle": "2025-01-23T19:45:42.437619Z",
          "shell.execute_reply": "2025-01-23T19:45:42.436447Z",
          "shell.execute_reply.started": "2025-01-23T19:45:40.201920Z"
        },
        "tags": [],
        "colab": {
          "base_uri": "https://localhost:8080/"
        },
        "id": "logmoUGE7_EV",
        "outputId": "683d625b-0ad1-46c2-f8cf-c5150d177ab1"
      },
      "outputs": [
        {
          "output_type": "execute_result",
          "data": {
            "text/plain": [
              "['203.120.2234', '4342-7353']"
            ]
          },
          "metadata": {},
          "execution_count": 34
        }
      ],
      "source": [
        "phone_extra = {\n",
        "  \"entity\": \"PHONE\",\n",
        "  \"ruleScope\": \"document\",\n",
        "  \"matchScope\":\"sub-token\",\n",
        "  \"regex\":\"(\\d{4}-\\d{4})|(\\d{3}-\\d{3}-\\d{4})|(\\+\\d{11})|(\\d{3}\\.\\d{3}\\.\\d{4})\",\n",
        "\n",
        "  \"prefix\": [\"Content Version\",\n",
        "             \"PROBLEMS OR CONCERNS\",\n",
        "             \"Questions\",\n",
        "             \"Fax :\",\n",
        "             \"Provider Number :\",\n",
        "             \"MAIN\"\n",
        "             ],\n",
        "\n",
        "  \"contextLength\": 45,\n",
        "  \"completeMatchRegex\": \"true\"\n",
        "}\n",
        "\n",
        "with open('phone_extra.json', 'w') as f:\n",
        "    json.dump(phone_extra, f)\n",
        "\n",
        "phone_parser2 = ContextualParserApproach() \\\n",
        "        .setInputCols([\"splitter\", \"token\"]) \\\n",
        "        .setOutputCol(\"entity_phone2\") \\\n",
        "        .setJsonPath(\"phone_extra.json\") \\\n",
        "        .setCaseSensitive(False) \\\n",
        "        .setPrefixAndSuffixMatch(False)\\\n",
        "        .setShortestContextMatch(False)\\\n",
        "        .setOptionalContextRules(False)\\\n",
        "        .setCompleteContextMatch(True)\n",
        "\n",
        "phone_parser_pipeline2 = Pipeline(stages=[\n",
        "    documentAssembler,\n",
        "    splitter,\n",
        "    tokenizer,\n",
        "    phone_parser2\n",
        "])\n",
        "\n",
        "empty_data = spark.createDataFrame([[\"\"]]).toDF(\"text\")\n",
        "\n",
        "phone_parser_model2 = phone_parser_pipeline2.fit(empty_data)\n",
        "phone_parser_model2.stages[-1].write().overwrite().save(\"parser/phone_parser2\")\n",
        "\n",
        "\n",
        "phone_lp = LightPipeline(phone_parser_model2)\n",
        "\n",
        "text = '''Record date :2093-01-13, David Hale, M.D. IP 203.120.2234. Fax : 203.120.2234\n",
        "Fax : 4342-7353.\\nEmail: medunites@firsthospital.com'''\n",
        "\n",
        "phone_lp.annotate(text)['entity_phone2']"
      ]
    },
    {
      "cell_type": "markdown",
      "metadata": {
        "id": "VvqrRg_zLpT8",
        "jp-MarkdownHeadingCollapsed": true,
        "tags": []
      },
      "source": [
        "## MEDICALRECORD"
      ]
    },
    {
      "cell_type": "code",
      "execution_count": 35,
      "metadata": {
        "colab": {
          "base_uri": "https://localhost:8080/"
        },
        "execution": {
          "iopub.execute_input": "2024-12-04T07:52:40.332975Z",
          "iopub.status.busy": "2024-12-04T07:52:40.332464Z",
          "iopub.status.idle": "2024-12-04T07:52:41.930766Z",
          "shell.execute_reply": "2024-12-04T07:52:41.929665Z",
          "shell.execute_reply.started": "2024-12-04T07:52:40.332934Z"
        },
        "id": "koSkSjhxLpT8",
        "outputId": "cd86fe29-0a36-4977-e902-3ad5cc7352b4",
        "tags": []
      },
      "outputs": [
        {
          "output_type": "execute_result",
          "data": {
            "text/plain": [
              "['12332', '1233567']"
            ]
          },
          "metadata": {},
          "execution_count": 35
        }
      ],
      "source": [
        "med_cp = {\n",
        "  \"entity\": \"MEDICALRECORD\",\n",
        "  \"ruleScope\": \"sentence\",\n",
        "  \"matchScope\":\"token\",\n",
        "  \"regex\":\"(^\\d{5,7}$)\",\n",
        "  \"prefix\":['ICU Admission', 'MR', 'MR#', 'MR.', 'MRN', 'MRN#',\n",
        "            'TSICU Admission', 'Medical Record', \"Medical Record Number\"],\n",
        "  \"contextLength\": 25,\n",
        "}\n",
        "\n",
        "with open('med_cp.json', 'w') as f:\n",
        "    json.dump(med_cp, f)\n",
        "\n",
        "med_parser = ContextualParserApproach() \\\n",
        "        .setInputCols([\"splitter\", \"token\"]) \\\n",
        "        .setOutputCol(\"entity_medicalrecord\") \\\n",
        "        .setJsonPath(\"med_cp.json\") \\\n",
        "        .setCaseSensitive(False) \\\n",
        "        .setPrefixAndSuffixMatch(False)\\\n",
        "        .setShortestContextMatch(False)\\\n",
        "        .setOptionalContextRules(False)\\\n",
        "        .setCompleteContextMatch(True)\n",
        "\n",
        "\n",
        "med_parser_pipeline = Pipeline(stages=[\n",
        "    documentAssembler,\n",
        "    splitter,\n",
        "    tokenizer,\n",
        "    med_parser\n",
        "    ])\n",
        "\n",
        "empty_data = spark.createDataFrame([[\"\"]]).toDF(\"text\")\n",
        "med_parser_model = med_parser_pipeline.fit(empty_data)\n",
        "med_parser_model.stages[-1].write().overwrite().save(\"parser/med_parser\")\n",
        "\n",
        "med_lp = LightPipeline(med_parser_model)\n",
        "\n",
        "\n",
        "text = \"\"\"Month DD, YYYY\n",
        "XYZ\n",
        "RE: ABC\n",
        "MEDICAL RECORD#: 12332\n",
        "MRN: 1233567\n",
        "Dear Dr. XYZ:\n",
        "\n",
        "I saw ABC back in Neuro-Oncology Clinic today.\"\"\"\n",
        "\n",
        "res = med_lp.annotate(text)\n",
        "res['entity_medicalrecord']"
      ]
    },
    {
      "cell_type": "markdown",
      "metadata": {
        "id": "9zVHlHihLpT9",
        "jp-MarkdownHeadingCollapsed": true,
        "tags": []
      },
      "source": [
        "## EMAIL"
      ]
    },
    {
      "cell_type": "code",
      "execution_count": 36,
      "metadata": {
        "colab": {
          "base_uri": "https://localhost:8080/"
        },
        "execution": {
          "iopub.execute_input": "2024-12-04T07:52:41.933099Z",
          "iopub.status.busy": "2024-12-04T07:52:41.932613Z",
          "iopub.status.idle": "2024-12-04T07:52:47.171305Z",
          "shell.execute_reply": "2024-12-04T07:52:47.170034Z",
          "shell.execute_reply.started": "2024-12-04T07:52:41.933072Z"
        },
        "id": "OG_ZwQcT_EZb",
        "outputId": "3bf8fb2f-cbf9-4e2f-853b-35faed361c82",
        "scrolled": true,
        "tags": []
      },
      "outputs": [
        {
          "output_type": "stream",
          "name": "stdout",
          "text": [
            "email_matcher download started this may take some time.\n",
            "[OK!]\n"
          ]
        },
        {
          "output_type": "execute_result",
          "data": {
            "text/plain": [
              "['jadjada_adald19@msku.edu.tr',\n",
              " 'afakfl_lakf19@yahoo.com',\n",
              " 'hale@gmail.com',\n",
              " 'afakfl_lakf19@yahoo.com',\n",
              " 'hale@gmail.com']"
            ]
          },
          "metadata": {},
          "execution_count": 36
        }
      ],
      "source": [
        "email_regex_matcher = RegexMatcherInternalModel.pretrained(\"email_matcher\", \"en\", \"clinical/models\")\\\n",
        "    .setInputCols([\"splitter\"]) \\\n",
        "    .setOutputCol(\"entity_email\") \\\n",
        "\n",
        "email_regex_matcher_pipeline = Pipeline(stages=[\n",
        "    documentAssembler,\n",
        "    splitter,\n",
        "    email_regex_matcher\n",
        "    ])\n",
        "\n",
        "empty_data = spark.createDataFrame([[\"\"]]).toDF(\"text\")\n",
        "email_regex_matcher_model = email_regex_matcher_pipeline.fit(empty_data)\n",
        "\n",
        "\n",
        "email_lp = LightPipeline(email_regex_matcher_model)\n",
        "\n",
        "text = \"\"\"ID: 1231511863, The driver's license no:A334455B, the SSN:324598674 and jadjada_adald19@msku.edu.tr, mail: afakfl_lakf19@yahoo.com, e-mail: hale@gmail.com .\n",
        "EMAIL: afakfl_lakf19@yahoo.com, E-mail: hale@gmail.com .\n",
        "\"\"\"\n",
        "\n",
        "email_lp.annotate(text)['entity_email']"
      ]
    },
    {
      "cell_type": "markdown",
      "metadata": {
        "id": "OA9QCnz7T5So",
        "jp-MarkdownHeadingCollapsed": true,
        "tags": []
      },
      "source": [
        "## URL\n"
      ]
    },
    {
      "cell_type": "code",
      "execution_count": 37,
      "metadata": {
        "colab": {
          "base_uri": "https://localhost:8080/"
        },
        "execution": {
          "iopub.execute_input": "2024-12-04T07:52:47.175637Z",
          "iopub.status.busy": "2024-12-04T07:52:47.174652Z",
          "iopub.status.idle": "2024-12-04T07:52:49.891367Z",
          "shell.execute_reply": "2024-12-04T07:52:49.890336Z",
          "shell.execute_reply.started": "2024-12-04T07:52:47.175595Z"
        },
        "id": "1MMH5zI8ULmU",
        "outputId": "ae1a44cf-621d-4af1-bb33-41c310dfc237",
        "tags": []
      },
      "outputs": [
        {
          "output_type": "stream",
          "name": "stdout",
          "text": [
            "url_matcher download started this may take some time.\n",
            "[OK!]\n"
          ]
        },
        {
          "output_type": "execute_result",
          "data": {
            "text/plain": [
              "['www.johnsnowlabs.com',\n",
              " 'http://example.com',\n",
              " 'https://secure.example.com',\n",
              " 'ftp://files.example.com']"
            ]
          },
          "metadata": {},
          "execution_count": 37
        }
      ],
      "source": [
        "url_regex_matcher = RegexMatcherInternalModel.pretrained(\"url_matcher\",\"en\",\"clinical/models\")\\\n",
        "    .setInputCols([\"splitter\"]) \\\n",
        "    .setOutputCol(\"entity_url\")\n",
        "\n",
        "url_regex_matcher_pipeline = Pipeline(stages=[\n",
        "    documentAssembler,\n",
        "    splitter,\n",
        "    url_regex_matcher\n",
        "    ])\n",
        "\n",
        "empty_data = spark.createDataFrame([[\"\"]]).toDF(\"text\")\n",
        "url_regex_matcher_model = url_regex_matcher_pipeline.fit(empty_data)\n",
        "\n",
        "\n",
        "url_lp = LightPipeline(url_regex_matcher_model)\n",
        "\n",
        "text = \"\"\"Name: ID: 1231511863, Driver's License No: A334455B, SSN: 324-59-8674. E-mail: hale@gmail.com.\n",
        "        For more details, visit our website at www.johnsnowlabs.com or check out http://example.com for general info.\n",
        "        For secure access, go to https://secure.example.com. File transfers can be done via ftp://files.example.com.\n",
        "\"\"\"\n",
        "\n",
        "url_lp.annotate(text)['entity_url']"
      ]
    },
    {
      "cell_type": "markdown",
      "metadata": {
        "id": "fdtTacsv-SMv",
        "jp-MarkdownHeadingCollapsed": true,
        "tags": []
      },
      "source": [
        "## IP"
      ]
    },
    {
      "cell_type": "code",
      "execution_count": 38,
      "metadata": {
        "colab": {
          "base_uri": "https://localhost:8080/"
        },
        "execution": {
          "iopub.execute_input": "2024-12-04T07:52:49.894056Z",
          "iopub.status.busy": "2024-12-04T07:52:49.893498Z",
          "iopub.status.idle": "2024-12-04T07:52:52.605154Z",
          "shell.execute_reply": "2024-12-04T07:52:52.604108Z",
          "shell.execute_reply.started": "2024-12-04T07:52:49.894028Z"
        },
        "id": "6qmGT9kP-Uxm",
        "outputId": "8b6486a7-02e9-46d7-91f0-75c8433a563f",
        "tags": []
      },
      "outputs": [
        {
          "output_type": "stream",
          "name": "stdout",
          "text": [
            "ip_matcher download started this may take some time.\n",
            "[OK!]\n"
          ]
        },
        {
          "output_type": "execute_result",
          "data": {
            "text/plain": [
              "['192.168.0.1', '10.0.0.1', '198.51.100.42']"
            ]
          },
          "metadata": {},
          "execution_count": 38
        }
      ],
      "source": [
        "ip_regex_matcher = RegexMatcherInternalModel.pretrained(\"ip_matcher\", \"en\", \"clinical/models\") \\\n",
        "    .setInputCols([\"splitter\"]) \\\n",
        "    .setOutputCol(\"entity_ip\")\n",
        "\n",
        "ip_regex_matcher_pipeline = Pipeline(stages=[\n",
        "    documentAssembler,\n",
        "    splitter,\n",
        "    ip_regex_matcher\n",
        "    ])\n",
        "\n",
        "empty_data = spark.createDataFrame([[\"\"]]).toDF(\"text\")\n",
        "ip_regex_matcher_model = ip_regex_matcher_pipeline.fit(empty_data)\n",
        "\n",
        "\n",
        "ip_lp = LightPipeline(ip_regex_matcher_model)\n",
        "\n",
        "text = \"\"\"Name: ID: 1231511863, Driver's License No: A334455B, SSN: 324-59-8674. E-mail: hale@gmail.com.\n",
        "        Access the router at http://192.168.0.1 for configuration. Please connect to 10.0.0.1 to access the database..\n",
        "        Visit http://198.51.100.42 for more information. File transfers can be done via ftp://files.example.com.\n",
        "\"\"\"\n",
        "\n",
        "ip_lp.annotate(text)['entity_ip']"
      ]
    },
    {
      "cell_type": "markdown",
      "metadata": {
        "id": "64QrKNscLpT7",
        "jp-MarkdownHeadingCollapsed": true,
        "tags": []
      },
      "source": [
        "## ZIP"
      ]
    },
    {
      "cell_type": "code",
      "execution_count": 39,
      "metadata": {
        "colab": {
          "base_uri": "https://localhost:8080/"
        },
        "execution": {
          "iopub.execute_input": "2024-12-04T07:53:03.364183Z",
          "iopub.status.busy": "2024-12-04T07:53:03.363652Z",
          "iopub.status.idle": "2024-12-04T07:53:05.884914Z",
          "shell.execute_reply": "2024-12-04T07:53:05.883808Z",
          "shell.execute_reply.started": "2024-12-04T07:53:03.364157Z"
        },
        "id": "3mw6U0Zki0up",
        "outputId": "e23b674a-2d39-46fb-c136-5d02ebbb2c25",
        "tags": []
      },
      "outputs": [
        {
          "output_type": "stream",
          "name": "stdout",
          "text": [
            "zip_parser download started this may take some time.\n",
            "[OK!]\n"
          ]
        }
      ],
      "source": [
        "zip_parser = ContextualParserModel.pretrained(\"zip_parser\", \"en\", \"clinical/models\") \\\n",
        "    .setInputCols([\"document\", \"token\"]) \\\n",
        "    .setOutputCol(\"entity_zip_code\")"
      ]
    },
    {
      "cell_type": "code",
      "execution_count": 40,
      "metadata": {
        "colab": {
          "base_uri": "https://localhost:8080/"
        },
        "execution": {
          "iopub.execute_input": "2024-12-04T07:53:05.887424Z",
          "iopub.status.busy": "2024-12-04T07:53:05.886502Z",
          "iopub.status.idle": "2024-12-04T07:53:06.332074Z",
          "shell.execute_reply": "2024-12-04T07:53:06.330773Z",
          "shell.execute_reply.started": "2024-12-04T07:53:05.887388Z"
        },
        "id": "bySmaziTLpT7",
        "outputId": "b1b391ed-7ccf-4970-f766-875431ca6e97",
        "scrolled": true,
        "tags": []
      },
      "outputs": [
        {
          "output_type": "execute_result",
          "data": {
            "text/plain": [
              "['20004', '07033', '07033', '54321-4444', '55555-4444', '12345']"
            ]
          },
          "metadata": {},
          "execution_count": 40
        }
      ],
      "source": [
        "\n",
        "zip_regex_matcher_pipeline = Pipeline(stages=[\n",
        "    documentAssembler,\n",
        "    splitter,\n",
        "    tokenizer,\n",
        "    zip_parser\n",
        "    #zip_regex_matcher\n",
        "    ])\n",
        "\n",
        "empty_data = spark.createDataFrame([[\"\"]]).toDF(\"text\")\n",
        "zip_regex_matcher_model = zip_regex_matcher_pipeline.fit(empty_data)\n",
        "\n",
        "\n",
        "zip_lp = LightPipeline(zip_regex_matcher_model)\n",
        "text = \"\"\"\n",
        "Washington, DC 20004\n",
        "Kenilworth, NJ 07033\n",
        "Kenilworth, PENNSYLVANIA 07033\n",
        "AL 123456!, TX 54321-4444, AL :55555-4444, JHBJHBJHB 12345-4444, MK 11111, TX 12345\n",
        "\"\"\"\n",
        "zip_lp.annotate(text)['entity_zip_code']\n"
      ]
    },
    {
      "cell_type": "code",
      "execution_count": 41,
      "metadata": {
        "colab": {
          "base_uri": "https://localhost:8080/"
        },
        "execution": {
          "iopub.execute_input": "2024-12-04T07:53:06.334308Z",
          "iopub.status.busy": "2024-12-04T07:53:06.333710Z",
          "iopub.status.idle": "2024-12-04T07:53:07.247286Z",
          "shell.execute_reply": "2024-12-04T07:53:07.246204Z",
          "shell.execute_reply.started": "2024-12-04T07:53:06.334271Z"
        },
        "id": "7w5C3Sgq7NrR",
        "outputId": "212d4c6a-8563-410c-8626-989b30fc94a3",
        "tags": []
      },
      "outputs": [
        {
          "output_type": "stream",
          "name": "stdout",
          "text": [
            "+----------------------------------------------------------+--------------+\n",
            "|result                                                    |result        |\n",
            "+----------------------------------------------------------+--------------+\n",
            "|[Please send the package to ZIP code AL 90210.]           |[90210]       |\n",
            "|[The delivery address is in the 10001 ZIP code.]          |[10001]       |\n",
            "|[Enter the postal code SW1A 1AA for London.]              |[]            |\n",
            "|[The office is located in ZIP code 75008.]                |[75008]       |\n",
            "|[Please use ZIP code 94105 for the San Francisco branch.] |[94105]       |\n",
            "|[Her address includes the ZIP code 10115.]                |[10115]       |\n",
            "|[Send the mail to ZIP code 30301 in Atlanta.]             |[30301]       |\n",
            "|[The warehouse is located in ZIP code 40000.]             |[40000]       |\n",
            "|[Our Paris office uses the ZIP code 75007.]               |[75007]       |\n",
            "|[Use postal code 12345-6789 for faster delivery.]         |[12345-6789]  |\n",
            "|[The Vienna office has the ZIP code 1010.]                |[]            |\n",
            "|[He lives in an area with the ZIP code 150-0001 in Tokyo.]|[]            |\n",
            "|[Please send the package to ZIP code 1234.]               |[]            |\n",
            "|[The delivery address is in the 123456 ZIP code.]         |[]            |\n",
            "|[Enter the postal code ABCDE for London.]                 |[]            |\n",
            "|[The office is located in ZIP code 99999-999.]            |[]            |\n",
            "|[Please use ZIP code 12345 67890 for the New York branch.]|[12345, 67890]|\n",
            "|[Her address includes the ZIP code 1234-567.]             |[]            |\n",
            "|[Send the mail to ZIP code SW1A-1AA in London.]           |[]            |\n",
            "|[The warehouse is located in ZIP code 40000-12345.]       |[]            |\n",
            "+----------------------------------------------------------+--------------+\n",
            "only showing top 20 rows\n",
            "\n"
          ]
        }
      ],
      "source": [
        "test=[\n",
        "    [\"Please send the package to ZIP code AL 90210.\", \"ZIP\", \"90210\"],\n",
        "    [\"The delivery address is in the 10001 ZIP code.\", \"ZIP\", \"10001\"],\n",
        "    [\"Enter the postal code SW1A 1AA for London.\", \"ZIP\", \"SW1A 1AA\"],\n",
        "    [\"The office is located in ZIP code 75008.\", \"ZIP\", \"75008\"],\n",
        "    [\"Please use ZIP code 94105 for the San Francisco branch.\", \"ZIP\", \"94105\"],\n",
        "    [\"Her address includes the ZIP code 10115.\", \"ZIP\", \"10115\"],\n",
        "    [\"Send the mail to ZIP code 30301 in Atlanta.\", \"ZIP\", \"30301\"],\n",
        "    [\"The warehouse is located in ZIP code 40000.\", \"ZIP\", \"40000\"],\n",
        "    [\"Our Paris office uses the ZIP code 75007.\", \"ZIP\", \"75007\"],\n",
        "    [\"Use postal code 12345-6789 for faster delivery.\", \"ZIP\", \"12345-6789\"],\n",
        "    [\"The Vienna office has the ZIP code 1010.\", \"ZIP\", \"1010\"],\n",
        "    [\"He lives in an area with the ZIP code 150-0001 in Tokyo.\", \"ZIP\", \"150-0001\"],\n",
        "    [\"Please send the package to ZIP code 1234.\", \"ZIP\", \"1234\"],  # Too short for most regions\n",
        "    [\"The delivery address is in the 123456 ZIP code.\", \"ZIP\", \"123456\"],  # Too long for most regions\n",
        "    [\"Enter the postal code ABCDE for London.\", \"ZIP\", \"ABCDE\"],  # Non-numeric characters in a numeric ZIP code region\n",
        "    [\"The office is located in ZIP code 99999-999.\", \"ZIP\", \"99999-999\"],  # Incorrect format for extended US ZIP code\n",
        "    [\"Please use ZIP code 12345 67890 for the New York branch.\", \"ZIP\", \"12345 67890\"],  # Incorrect format with space\n",
        "    [\"Her address includes the ZIP code 1234-567.\", \"ZIP\", \"1234-567\"],  # Incorrect length and format\n",
        "    [\"Send the mail to ZIP code SW1A-1AA in London.\", \"ZIP\", \"SW1A-1AA\"],  # Incorrect format with hyphen\n",
        "    [\"The warehouse is located in ZIP code 40000-12345.\", \"ZIP\", \"40000-12345\"],  # Extended format not valid in Europe\n",
        "    [\"Our Paris office uses the ZIP code 7500.\", \"ZIP\", \"7500\"],  # Too short for France\n",
        "    [\"Use postal code 123456789 for faster delivery.\", \"ZIP\", \"123456789\"],  # Too long for any region\n",
        "    [\"The Vienna office has the ZIP code A-1010.\", \"ZIP\", \"A-1010\"],  # Incorrect prefix for Vienna\n",
        "    [\"He lives in an area with the ZIP code 150-000123 in Tokyo.\", \"ZIP\", \"150-000123\"],  # Too long for Japan\n",
        "\n",
        "]\n",
        "\n",
        "zip_regex_matcher_model.transform(spark.createDataFrame(test, ['text']))\\\n",
        "                        .select(\"document.result\",\"entity_zip_code.result\")\\\n",
        "                        .show(truncate=False)"
      ]
    },
    {
      "cell_type": "markdown",
      "metadata": {
        "id": "XgmWYLHXLpT0",
        "jp-MarkdownHeadingCollapsed": true,
        "tags": []
      },
      "source": [
        "## COUNTRY"
      ]
    },
    {
      "cell_type": "code",
      "execution_count": 42,
      "metadata": {
        "colab": {
          "base_uri": "https://localhost:8080/"
        },
        "execution": {
          "iopub.execute_input": "2024-12-04T07:53:07.258610Z",
          "iopub.status.busy": "2024-12-04T07:53:07.257970Z",
          "iopub.status.idle": "2024-12-04T07:53:10.045219Z",
          "shell.execute_reply": "2024-12-04T07:53:10.044118Z",
          "shell.execute_reply.started": "2024-12-04T07:53:07.258582Z"
        },
        "id": "y9ztEScJSMOO",
        "outputId": "a63a19c2-6492-47d1-c213-d76c6bfcfa55",
        "tags": []
      },
      "outputs": [
        {
          "output_type": "stream",
          "name": "stdout",
          "text": [
            "country_matcher download started this may take some time.\n",
            "[OK!]\n"
          ]
        }
      ],
      "source": [
        "country_matcher = TextMatcherInternalModel.pretrained(\"country_matcher\",\"en\",\"clinical/models\") \\\n",
        "    .setInputCols([\"splitter\", \"token\"])\\\n",
        "    .setOutputCol(\"entity_country\")\\\n",
        "    .setMergeOverlapping(True)\n",
        "\n",
        "pipeline = Pipeline().setStages([\n",
        "    documentAssembler,\n",
        "    splitter,\n",
        "    tokenizer,\n",
        "    country_matcher])\n",
        "\n",
        "empty_data = spark.createDataFrame([[\"\"]]).toDF(\"text\")\n",
        "country_code_model = pipeline.fit(empty_data)\n",
        "# country_code_model.stages[-1].write().overwrite().save(\"matcher/country_matcher\")\n",
        "\n",
        "country_lp = LightPipeline(country_code_model)"
      ]
    },
    {
      "cell_type": "code",
      "execution_count": 43,
      "metadata": {
        "colab": {
          "base_uri": "https://localhost:8080/"
        },
        "execution": {
          "iopub.execute_input": "2024-12-04T07:53:10.050449Z",
          "iopub.status.busy": "2024-12-04T07:53:10.050091Z",
          "iopub.status.idle": "2024-12-04T07:53:11.168293Z",
          "shell.execute_reply": "2024-12-04T07:53:11.166779Z",
          "shell.execute_reply.started": "2024-12-04T07:53:10.050422Z"
        },
        "id": "aCsJydNQLpT1",
        "outputId": "8d57c667-f0aa-4d7c-8590-b78fcd5c24a7",
        "tags": []
      },
      "outputs": [
        {
          "output_type": "stream",
          "name": "stdout",
          "text": [
            "+-------------------+\n",
            "|result             |\n",
            "+-------------------+\n",
            "|United States      |\n",
            "|United Kingdom     |\n",
            "|Côte d’Ivoire      |\n",
            "|São Tomé & Príncipe|\n",
            "|Åland Islands      |\n",
            "|Bahamas            |\n",
            "|USA                |\n",
            "|USA                |\n",
            "|Japan              |\n",
            "|France             |\n",
            "|Australia          |\n",
            "+-------------------+\n",
            "\n"
          ]
        }
      ],
      "source": [
        "text = \"\"\"\n",
        "United States, United Kingdom\n",
        "Côte d’Ivoire\n",
        "São Tomé & Príncipe\n",
        "Åland Islands\n",
        "This is Bahamas and the USAID in the USA here\n",
        "Name: Johnson, Alice, Record date: 2093-03-22, MR: 846275.\n",
        "Dr. Emily Brown, IP 192.168.1.1.\n",
        "She is a 55-year-old female who was admitted to the Global Hospital for hip replacement on 03/22/93.\n",
        "Patient's VIN: 2HGFA165X8H123456, SSN: 444-55-8888, Driver's license no: C789012D.\n",
        "Phone: (212) 555-7890, 4321 Oak Street, New York, USA, E-MAIL: alice.johnson@example.com.\n",
        "Patient has traveled to Japan, France, and Australia in the past year.\"\"\"\n",
        "\n",
        "data = spark.createDataFrame([[text]]).toDF(\"text\")\n",
        "\n",
        "results = pipeline.fit(data).transform(data)\n",
        "\n",
        "results.selectExpr('explode(entity_country) as country')\\\n",
        "      .select(\"country.result\").show(truncate=False)"
      ]
    },
    {
      "cell_type": "markdown",
      "metadata": {
        "id": "PNZadc88cLlm",
        "jp-MarkdownHeadingCollapsed": true,
        "tags": []
      },
      "source": [
        "## STATE"
      ]
    },
    {
      "cell_type": "code",
      "execution_count": 44,
      "metadata": {
        "colab": {
          "base_uri": "https://localhost:8080/"
        },
        "execution": {
          "iopub.execute_input": "2024-12-17T18:53:36.158788Z",
          "iopub.status.busy": "2024-12-17T18:53:36.157737Z",
          "iopub.status.idle": "2024-12-17T18:53:43.698822Z",
          "shell.execute_reply": "2024-12-17T18:53:43.697632Z",
          "shell.execute_reply.started": "2024-12-17T18:53:36.158750Z"
        },
        "id": "2TLYHhyOJIyl",
        "outputId": "3b64396c-9009-41cc-fbbf-ee92cf6f4104",
        "tags": []
      },
      "outputs": [
        {
          "output_type": "stream",
          "name": "stdout",
          "text": [
            "state_matcher download started this may take some time.\n",
            "[OK!]\n"
          ]
        }
      ],
      "source": [
        "state_matcher = TextMatcherInternalModel.pretrained(\"state_matcher\",\"en\",\"clinical/models\") \\\n",
        "    .setInputCols([\"splitter\", \"token\"])\\\n",
        "    .setOutputCol(\"entity_state\")"
      ]
    },
    {
      "cell_type": "code",
      "execution_count": 45,
      "metadata": {
        "execution": {
          "iopub.execute_input": "2024-12-17T18:53:43.701549Z",
          "iopub.status.busy": "2024-12-17T18:53:43.700539Z",
          "iopub.status.idle": "2024-12-17T18:53:47.189442Z",
          "shell.execute_reply": "2024-12-17T18:53:47.187993Z",
          "shell.execute_reply.started": "2024-12-17T18:53:43.701515Z"
        },
        "id": "B3hhcDHEJMSV",
        "tags": []
      },
      "outputs": [],
      "source": [
        "state_mathcer_pipeline = Pipeline().setStages([\n",
        "                  documentAssembler,\n",
        "                  splitter,\n",
        "                  tokenizer,\n",
        "                  state_matcher])\n",
        "\n",
        "data = spark.createDataFrame([[\"\"]]).toDF(\"text\")\n",
        "\n",
        "state_model = state_mathcer_pipeline.fit(data)\n",
        "\n",
        "#state_model.stages[-1].write().overwrite().save(\"matcher/state_matcher\")"
      ]
    },
    {
      "cell_type": "code",
      "execution_count": 46,
      "metadata": {
        "colab": {
          "base_uri": "https://localhost:8080/"
        },
        "execution": {
          "iopub.execute_input": "2024-12-17T18:54:14.435909Z",
          "iopub.status.busy": "2024-12-17T18:54:14.435352Z",
          "iopub.status.idle": "2024-12-17T18:54:14.674998Z",
          "shell.execute_reply": "2024-12-17T18:54:14.673897Z",
          "shell.execute_reply.started": "2024-12-17T18:54:14.435881Z"
        },
        "id": "TURbrib4JOGW",
        "outputId": "f6de9713-fdc6-41f8-ad10-1679dd4d488e",
        "tags": []
      },
      "outputs": [
        {
          "output_type": "execute_result",
          "data": {
            "text/plain": [
              "['California', 'Arizona', 'Maryland']"
            ]
          },
          "metadata": {},
          "execution_count": 46
        }
      ],
      "source": [
        "state_lp = LightPipeline(state_model)\n",
        "\n",
        "text = \"\"\"\n",
        "California is known for its beautiful beaches and vibrant entertainment industry centered.\n",
        "The Grand Canyon in Arizona is one of the most stunning natural landmarks in the world.\n",
        "\n",
        "\n",
        "AL 123456!, TX 54321-4444, AL :55555-4444, JHBJHBJHB 12345-4444, MK 11111, TX 12345\n",
        "\n",
        "'MD Connect Call 11:59pm 2/16/69 from Dr . Hale at Senior Care Clinic Queen Creek , SD regarding Terri Bird .',\n",
        " 'Arroyo Grande , KS , 19741-6273',\n",
        " 'Oroville , AL 89389 48423663',\n",
        " 'Red Springs , WA 77286',\n",
        " 'Lake Pocotopaug , ME 15424',\n",
        " 'Queen Creek , SD 89544',\n",
        " 'Goins is a 27 yo male with history of type I DM formally without regular medical care who was visiting family in Maryland and had sudden witnessed seizure activity in late August .',\n",
        " 'Whitewater , NC 13662 10776605'\n",
        "\"\"\"\n",
        "\n",
        "\n",
        "state_lp.annotate(text)['entity_state']"
      ]
    },
    {
      "cell_type": "code",
      "execution_count": 47,
      "metadata": {
        "colab": {
          "base_uri": "https://localhost:8080/"
        },
        "execution": {
          "iopub.execute_input": "2024-12-04T07:53:22.921663Z",
          "iopub.status.busy": "2024-12-04T07:53:22.921113Z",
          "iopub.status.idle": "2024-12-04T07:53:23.809334Z",
          "shell.execute_reply": "2024-12-04T07:53:23.808357Z",
          "shell.execute_reply.started": "2024-12-04T07:53:22.921628Z"
        },
        "id": "ewuHePF2bpXu",
        "outputId": "419614ed-f9ed-4ded-be66-20c82237efc6",
        "tags": []
      },
      "outputs": [
        {
          "output_type": "stream",
          "name": "stdout",
          "text": [
            "+--------------------------------------------------------------+------------+\n",
            "|result                                                        |result      |\n",
            "+--------------------------------------------------------------+------------+\n",
            "|[Please send the package to the address in CA 90210.]         |[]          |\n",
            "|[Please send the package to the address in California 90210.] |[California]|\n",
            "|[The delivery address is in New York, NY 10001.]              |[New York]  |\n",
            "|[Enter the address for Texas 75008.]                          |[Texas]     |\n",
            "|[The office is located in Florida 94105.]                     |[Florida]   |\n",
            "|[Please use the address in Illinois 10115 for the shipment.]  |[Illinois]  |\n",
            "|[Her address includes the city of Georgia 30301.]             |[Georgia]   |\n",
            "|[Send the mail to the address in Oregon 40000.]               |[Oregon]    |\n",
            "|[Our branch is located in Maine 75007.]                       |[Maine]     |\n",
            "|[Use the address in Arizona 12345-6789 for faster processing.]|[Arizona]   |\n",
            "|[The office in Washington 1010 has all the documents.]        |[Washington]|\n",
            "+--------------------------------------------------------------+------------+\n",
            "\n"
          ]
        }
      ],
      "source": [
        "test = [\n",
        "    [\"Please send the package to the address in CA 90210.\", \"CA\", \"90210\"],\n",
        "    [\"Please send the package to the address in California 90210.\", \"California\", \"90210\"],\n",
        "    [\"The delivery address is in New York, NY 10001.\", \"New York\", \"10001\"],\n",
        "    [\"Enter the address for Texas 75008.\", \"Texas\", \"75008\"],\n",
        "    [\"The office is located in Florida 94105.\", \"Florida\", \"94105\"],\n",
        "    [\"Please use the address in Illinois 10115 for the shipment.\", \"Illinois\", \"10115\"],\n",
        "    [\"Her address includes the city of Georgia 30301.\", \"Georgia\", \"30301\"],\n",
        "    [\"Send the mail to the address in Oregon 40000.\", \"Oregon\", \"40000\"],\n",
        "    [\"Our branch is located in Maine 75007.\", \"Maine\", \"75007\"],\n",
        "    [\"Use the address in Arizona 12345-6789 for faster processing.\", \"Arizona\", \"12345-6789\"],\n",
        "    [\"The office in Washington 1010 has all the documents.\", \"Washington\", \"1010\"]\n",
        "]\n",
        "\n",
        "state_model.transform(spark.createDataFrame(test, ['text']))\\\n",
        "            .select(\"document.result\",\"entity_state.result\").show(truncate=False)"
      ]
    },
    {
      "cell_type": "markdown",
      "metadata": {
        "id": "6GjDJps-BEhO",
        "jp-MarkdownHeadingCollapsed": true,
        "tags": []
      },
      "source": [
        "## CITY"
      ]
    },
    {
      "cell_type": "code",
      "execution_count": 48,
      "metadata": {
        "colab": {
          "base_uri": "https://localhost:8080/"
        },
        "execution": {
          "iopub.execute_input": "2024-12-04T07:53:23.811233Z",
          "iopub.status.busy": "2024-12-04T07:53:23.810871Z",
          "iopub.status.idle": "2024-12-04T07:53:29.892489Z",
          "shell.execute_reply": "2024-12-04T07:53:29.890626Z",
          "shell.execute_reply.started": "2024-12-04T07:53:23.811200Z"
        },
        "id": "q87DmkYlBBUa",
        "outputId": "6d613b06-f1bd-485c-93ea-1e26ad3d964e",
        "tags": []
      },
      "outputs": [
        {
          "output_type": "stream",
          "name": "stdout",
          "text": [
            "city_matcher download started this may take some time.\n",
            "[OK!]\n",
            "+-------------+\n",
            "|       result|\n",
            "+-------------+\n",
            "|   California|\n",
            "| Grand Canyon|\n",
            "|  Queen Creek|\n",
            "|Arroyo Grande|\n",
            "|     Oroville|\n",
            "|  Red Springs|\n",
            "|  Queen Creek|\n",
            "|   Whitewater|\n",
            "|  Los Angeles|\n",
            "|New York City|\n",
            "|        Tokyo|\n",
            "|        Paris|\n",
            "|       Sydney|\n",
            "+-------------+\n",
            "\n"
          ]
        }
      ],
      "source": [
        "city_matcher = TextMatcherInternalModel.pretrained(\"city_matcher\", \"en\", \"clinical/models\") \\\n",
        "    .setInputCols([\"splitter\", \"token\"]) \\\n",
        "    .setOutputCol(\"entity_city\") \\\n",
        "    .setMergeOverlapping(True)\n",
        "\n",
        "\n",
        "regex_pipeline = Pipeline().setStages([\n",
        "    documentAssembler,\n",
        "    splitter,\n",
        "    tokenizer,\n",
        "    city_matcher])\n",
        "\n",
        "text = \"\"\"California is known for its beautiful beaches and vibrant entertainment industry centered.\n",
        "The Grand Canyon in Arizona is one of the most stunning natural landmarks in the world.\n",
        "\n",
        "AL 123456!, TX 54321-4444, AL :55555-4444, JHBJHBJHB 12345-4444, MK 11111, TX 12345\n",
        "'MD Connect Call 11:59pm 2/16/69 from Dr . Hale at Senior Care Clinic Queen Creek , SD regarding Terri Bird .',\n",
        " 'Arroyo Grande , KS , 19741-6273',\n",
        " 'Oroville , AL 89389 48423663',\n",
        " 'Red Springs , WA 77286',\n",
        " 'Lake Pocotopaug , ME 15424',\n",
        " 'Queen Creek , SD 89544',\n",
        " 'Goins is a 27 yo male with history of type I DM formally without regular medical care who was visiting family in Maryland and had sudden witnessed seizure activity in late August .',\n",
        " 'Whitewater , NC 13662 10776605',\n",
        "\n",
        "Name: Johnson, Alice, Record date: 2093-03-22, MR: 846275.\n",
        "Dr. Emily Brown, IP 192.168.1.1.\n",
        "She is a 55-year-old female who was admitted to the Global Hospital in Los Angeles for hip replacement on 03/22/93.\n",
        "Patient's VIN: 2HGFA165X8H123456, SSN: 444-55-8888, Driver's license no: C789012D.\n",
        "Phone: (212) 555-7890, 4321 Oak Street, New York City, USA, E-MAIL: alice.johnson@example.com.\n",
        "Patient has traveled to Tokyo, Paris, and Sydney in the past year.\n",
        "\"\"\"\n",
        "\n",
        "data = spark.createDataFrame([[text]]).toDF(\"text\")\n",
        "\n",
        "result = regex_pipeline.fit(data).transform(data)\n",
        "\n",
        "result.selectExpr(\"explode(entity_city) as entity_city\").selectExpr(\"entity_city.result\").show()"
      ]
    },
    {
      "cell_type": "markdown",
      "metadata": {
        "id": "fmynsgFce0bw",
        "tags": []
      },
      "source": [
        "# Download Models"
      ]
    },
    {
      "cell_type": "markdown",
      "metadata": {
        "id": "GWah-k5efXlN",
        "tags": []
      },
      "source": [
        "## Full Pipeline with `setChunkPrecedence(\"field\")`"
      ]
    },
    {
      "cell_type": "code",
      "execution_count": 49,
      "metadata": {
        "colab": {
          "base_uri": "https://localhost:8080/"
        },
        "execution": {
          "iopub.execute_input": "2025-01-23T19:46:02.067997Z",
          "iopub.status.busy": "2025-01-23T19:46:02.067443Z",
          "iopub.status.idle": "2025-01-23T19:46:50.415701Z",
          "shell.execute_reply": "2025-01-23T19:46:50.414484Z",
          "shell.execute_reply.started": "2025-01-23T19:46:02.067970Z"
        },
        "id": "ig_YKBTgfAvl",
        "outputId": "117acd55-304d-4fcc-a1dc-7a453211e506",
        "scrolled": true,
        "tags": []
      },
      "outputs": [
        {
          "output_type": "stream",
          "name": "stdout",
          "text": [
            "embeddings_clinical download started this may take some time.\n",
            "Approximate size to download 1.6 GB\n",
            "[OK!]\n",
            "ner_clinical_large download started this may take some time.\n",
            "[OK!]\n",
            "ner_deid_generic_docwise download started this may take some time.\n",
            "[OK!]\n",
            "ner_deid_subentity_docwise download started this may take some time.\n",
            "[OK!]\n",
            "ner_deid_subentity_augmented_docwise download started this may take some time.\n",
            "[OK!]\n"
          ]
        }
      ],
      "source": [
        "word_embeddings = WordEmbeddingsModel.pretrained(\"embeddings_clinical\", \"en\", \"clinical/models\") \\\n",
        "    .setInputCols([\"splitter\", \"token\"])\\\n",
        "    .setOutputCol(\"embeddings\")\n",
        "\n",
        "\n",
        "#################### additinal NER Models ####################\n",
        "ner_clinical_large = MedicalNerModel.pretrained(\"ner_clinical_large\", \"en\", \"clinical/models\")  \\\n",
        "    .setInputCols([\"splitter\", \"token\", \"embeddings\"]) \\\n",
        "    .setOutputCol(\"ner_clinical_large\")\n",
        "\n",
        "ner_clinical_large_converter = NerConverterInternal()\\\n",
        "    .setInputCols([\"splitter\", \"token\", \"ner_clinical_large\"])\\\n",
        "    .setOutputCol(\"ner_chunk_clinical_large\")\n",
        "\n",
        "\n",
        "ner_deid_generic_docwise_7Label = MedicalNerModel.pretrained(\"ner_deid_generic_docwise\", \"en\", \"clinical/models\")\\\n",
        "    .setInputCols([\"splitter\", \"token\", \"embeddings\"]) \\\n",
        "    .setOutputCol(\"ner_deid_generic_docwise\")\n",
        "\n",
        "ner_deid_generic_docwise_7Label_converter = NerConverterInternal()\\\n",
        "    .setInputCols([\"splitter\", \"token\", \"ner_deid_generic_docwise\"])\\\n",
        "    .setOutputCol(\"ner_chunk_generic_docwise\")\\\n",
        "    .setBlackList([\"AGE\", \"NAME\"])\n",
        "\n",
        "ner_deid_docwise_subentity_21Label = MedicalNerModel.pretrained(\"ner_deid_subentity_docwise\", \"en\", \"clinical/models\")\\\n",
        "    .setInputCols([\"splitter\", \"token\", \"embeddings\"]) \\\n",
        "    .setOutputCol(\"ner_deid_docwise_subentity\")\n",
        "\n",
        "ner_deid_docwise_subentity_21Label_converter = NerConverterInternal()\\\n",
        "    .setInputCols([\"splitter\", \"token\", \"ner_deid_docwise_subentity\"])\\\n",
        "    .setOutputCol(\"ner_chunk_subentity_docwise\")\\\n",
        "    .setBlackList([\"PHONE\", \"LOCATION\", \"AGE\", \"ORGANIZATION\", 'CITY','COUNTRY','HOSPITAL', 'STATE', 'STREET', 'ZIP', 'IDNUM', 'BIOID','MEDICALRECORD', 'DATE'])\n",
        "\n",
        "ner_deid_generic_docwise_merged_conll = MedicalNerModel.pretrained(\"ner_deid_subentity_augmented_docwise\", \"en\", \"clinical/models\")\\\n",
        "    .setInputCols([\"splitter\", \"token\", \"embeddings\"]) \\\n",
        "    .setOutputCol(\"ner_deid_generic_docwise_merged_conll\")\n",
        "\n",
        "ner_deid_generic_docwise_merged_conll_converter = NerConverterInternal()\\\n",
        "    .setInputCols([\"splitter\", \"token\", \"ner_deid_generic_docwise_merged_conll\"])\\\n",
        "    .setOutputCol(\"ner_chunk_merged_docwise\")\\\n",
        "    .setBlackList([\"AGE\", \"ORGANIZATION\", \"PHONE\", \"DATE\"])\n",
        "\n",
        "\n",
        "\n",
        "chunk_merge_ner = ChunkMergeModel()\\\n",
        "    .setInputCols(\"ner_chunk_merged_docwise\",\n",
        "                  \"ner_chunk_generic_docwise\",\n",
        "                  \"ner_chunk_subentity_docwise\",\n",
        "                  \"ner_chunk_clinical_large\"\n",
        "                 )\\\n",
        "    .setOutputCol(\"deid_merged_ner_chunk\")\\\n",
        "    .setOrderingFeatures([\"ChunkPrecedence\",\"ChunkBegin\"])\\\n",
        "    .setMergeOverlapping(True)\\\n",
        "    .setSelectionStrategy(\"Sequential\")\\\n",
        "    .setBlackList(['USERNAME', 'DEVICE', 'EMAIL', 'PROFESSION'])\\\n",
        "    .setResetSentenceIndices(True)\\\n",
        "\n",
        "\n"
      ]
    },
    {
      "cell_type": "code",
      "execution_count": 50,
      "metadata": {
        "execution": {
          "iopub.execute_input": "2025-01-15T20:23:04.799939Z",
          "iopub.status.busy": "2025-01-15T20:23:04.799128Z",
          "iopub.status.idle": "2025-01-15T20:23:04.838538Z",
          "shell.execute_reply": "2025-01-15T20:23:04.837308Z",
          "shell.execute_reply.started": "2025-01-15T20:23:04.799853Z"
        },
        "jupyter": {
          "outputs_hidden": true
        },
        "tags": [],
        "colab": {
          "base_uri": "https://localhost:8080/"
        },
        "id": "j6w00mxt7_Ec",
        "outputId": "5fa830d9-ee72-4960-90b5-06a7682ea514"
      },
      "outputs": [
        {
          "output_type": "execute_result",
          "data": {
            "text/plain": [
              "['AGE',\n",
              " 'BIOID',\n",
              " 'CITY',\n",
              " 'COUNTRY',\n",
              " 'DATE',\n",
              " 'DEVICE',\n",
              " 'DOCTOR',\n",
              " 'EMAIL',\n",
              " 'FAX',\n",
              " 'HEALTHPLAN',\n",
              " 'HOSPITAL',\n",
              " 'IDNUM',\n",
              " 'LOCATION',\n",
              " 'MEDICALRECORD',\n",
              " 'ORGANIZATION',\n",
              " 'PATIENT',\n",
              " 'PHONE',\n",
              " 'PROFESSION',\n",
              " 'STATE',\n",
              " 'STREET',\n",
              " 'URL',\n",
              " 'USERNAME',\n",
              " 'ZIP']"
            ]
          },
          "metadata": {},
          "execution_count": 50
        }
      ],
      "source": [
        "sorted(set([i.split(\"-\")[1] for i in ner_deid_docwise_subentity_21Label.getClasses() if i!=\"O\"]))"
      ]
    },
    {
      "cell_type": "code",
      "execution_count": 51,
      "metadata": {
        "colab": {
          "base_uri": "https://localhost:8080/"
        },
        "execution": {
          "iopub.execute_input": "2025-01-23T19:46:50.417988Z",
          "iopub.status.busy": "2025-01-23T19:46:50.417579Z",
          "iopub.status.idle": "2025-01-23T19:47:09.521339Z",
          "shell.execute_reply": "2025-01-23T19:47:09.517143Z",
          "shell.execute_reply.started": "2025-01-23T19:46:50.417955Z"
        },
        "id": "CWvSZX0rvE8b",
        "outputId": "f9e42601-ae3b-4872-c21f-6a8955cd33b3",
        "scrolled": true,
        "tags": []
      },
      "outputs": [
        {
          "output_type": "stream",
          "name": "stdout",
          "text": [
            "country_matcher download started this may take some time.\n",
            "[OK!]\n",
            "state_matcher download started this may take some time.\n",
            "[OK!]\n",
            "zip_parser download started this may take some time.\n",
            "[OK!]\n",
            "email_matcher download started this may take some time.\n",
            "[OK!]\n",
            "ip_matcher download started this may take some time.\n",
            "[OK!]\n"
          ]
        }
      ],
      "source": [
        "icd10_parser = ContextualParserModel.load(\"parser/icd10_parser\") \\\n",
        "    .setInputCols([\"splitter\", \"token\"])\\\n",
        "    .setOutputCol(\"entity_icd10\")\n",
        "\n",
        "ssn_parser = ContextualParserModel.load(\"parser/ssn_parser\") \\\n",
        "    .setInputCols([\"splitter\", \"token\"])\\\n",
        "    .setOutputCol(\"entity_ssn\")\n",
        "\n",
        "account_parser = ContextualParserModel.load(\"parser/account_parser\") \\\n",
        "    .setInputCols([\"splitter\", \"token\"])\\\n",
        "    .setOutputCol(\"entity_account\")\n",
        "\n",
        "dln_parser = ContextualParserModel.load(\"parser/dln_parser\") \\\n",
        "    .setInputCols([\"splitter\", \"token\"])\\\n",
        "    .setOutputCol(\"entity_dln\")\n",
        "\n",
        "plate_parser = ContextualParserModel.load(\"parser/plate_parser\") \\\n",
        "    .setInputCols([\"splitter\", \"token\"])\\\n",
        "    .setOutputCol(\"entity_plate\")\n",
        "\n",
        "vin_parser = ContextualParserModel.load(\"parser/vin_parser\") \\\n",
        "    .setInputCols([\"splitter\", \"token\"])\\\n",
        "    .setOutputCol(\"entity_vin\")\n",
        "\n",
        "license_parser = ContextualParserModel.load(\"parser/license_parser\") \\\n",
        "    .setInputCols([\"splitter\", \"token\"])\\\n",
        "    .setOutputCol(\"entity_license\")\n",
        "\n",
        "age_parser = ContextualParserModel.load(\"parser/age_parser\") \\\n",
        "    .setInputCols([\"splitter\", \"token\"])\\\n",
        "    .setOutputCol(\"entity_age\")\n",
        "\n",
        "date_parser = RegexMatcherInternalModel.load(\"regex_matcher/date_regex_matcher\") \\\n",
        "    .setInputCols([\"splitter\"])\\\n",
        "    .setOutputCol(\"entity_date\")\n",
        "\n",
        "phone_parser = ContextualParserModel.load(\"parser/phone_parser\") \\\n",
        "    .setInputCols([\"splitter\", \"token\"])\\\n",
        "    .setOutputCol(\"entity_phone\")\n",
        "\n",
        "phone_parser2 = ContextualParserModel.load(\"parser/phone_parser2\") \\\n",
        "    .setInputCols([\"splitter\", \"token\"])\\\n",
        "    .setOutputCol(\"entity_phone2\")\n",
        "\n",
        "medicalrecord_parser = ContextualParserModel.load(\"parser/med_parser\") \\\n",
        "    .setInputCols([\"splitter\", \"token\"])\\\n",
        "    .setOutputCol(\"entity_medicalrecord\")\n",
        "\n",
        "##################################################\n",
        "\n",
        "country_matcher = TextMatcherInternalModel.pretrained(\"country_matcher\",\"en\",\"clinical/models\")\\\n",
        "    .setInputCols([\"splitter\", \"token\"]) \\\n",
        "    .setOutputCol(\"entity_country\") \\\n",
        "    .setCaseSensitive(False)\n",
        "\n",
        "state_matcher = TextMatcherInternalModel.pretrained(\"state_matcher\",\"en\",\"clinical/models\")\\\n",
        "    .setInputCols([\"splitter\", \"token\"]) \\\n",
        "    .setOutputCol(\"entity_state\")\n",
        "\n",
        "\"\"\"city_matcher = TextMatcherInternalModel.pretrained(\"city_matcher\",\"en\",\"clinical/models\") \\\n",
        "    .setInputCols([\"document\", \"token\"])\\\n",
        "    .setOutputCol(\"entity_city\")\\\n",
        "    .setMergeOverlapping(True)\"\"\"\n",
        "\n",
        "zip_parser = ContextualParserModel.pretrained(\"zip_parser\", \"en\", \"clinical/models\")\\\n",
        "    .setInputCols([\"splitter\", \"token\"]) \\\n",
        "    .setOutputCol(\"entity_zip\")\n",
        "\n",
        "email_regex_matcher = RegexMatcherInternalModel.pretrained(\"email_matcher\", \"en\", \"clinical/models\")\\\n",
        "    .setInputCols([\"splitter\"]) \\\n",
        "    .setOutputCol(\"entity_email\")\n",
        "\n",
        "\"\"\"\n",
        "url_regex_matcher = RegexMatcherInternalModel.pretrained(\"url_matcher\",\"en\",\"clinical/models\") \\\n",
        "    .setInputCols([\"splitter\"]) \\\n",
        "    .setOutputCol(\"entity_url\")\n",
        "\"\"\"\n",
        "\n",
        "ip_regex_matcher = RegexMatcherInternalModel.pretrained(\"ip_matcher\", \"en\", \"clinical/models\") \\\n",
        "    .setInputCols([\"splitter\"]) \\\n",
        "    .setOutputCol(\"entity_ip_address\")\n",
        "\n",
        "#################################################################\n",
        "\n",
        "# Pritirioze these inputCols\n",
        "chunk_merge_rulebase = ChunkMergeApproach()\\\n",
        "    .setInputCols(\"entity_icd10\",\"entity_email\",\"entity_ip_address\",\n",
        "                  \"entity_age\",\"entity_medicalrecord\",\"entity_ssn\",\"entity_account\",\n",
        "                  \"entity_vin\",\"entity_date\",\"entity_phone\",\"entity_phone2\", \"entity_country\",\"entity_state\",\n",
        "                  \"entity_zip\",\"entity_plate\",\"entity_dln\",\"entity_license\")\\\n",
        "    .setOutputCol(\"deid_merged_ner_rulebased\")\\\n",
        "    .setMergeOverlapping(True)\\\n",
        "    .setResetSentenceIndices(True)\\\n",
        "    .setOrderingFeatures([\"ChunkLength\",\"ChunkBegin\"])\n",
        "\n",
        "# entity_city cıkardım, mergerda en sondaydı\n",
        "chunk_merge_final = ChunkMergeModel()\\\n",
        "    .setInputCols(\"deid_merged_ner_rulebased\", \"deid_merged_ner_chunk\")\\\n",
        "    .setOutputCol(\"ner_chunk_raw\")\\\n",
        "    .setMergeOverlapping(True)\\\n",
        "    .setChunkPrecedence(\"field\")\\\n",
        "    .setSelectionStrategy(\"Sequential\") \\\n",
        "    .setBlackList([\"ICD10_CODE\", \"PROBLEM\", \"TEST\", \"TREATMENT\", \"URL\", \"DEVICE\", \"ORGANIZATION\"])\\\n",
        "    .setOrderingFeatures([\"ChunkPrecedence\", \"ChunkBegin\"])\\\n",
        "    .setResetSentenceIndices(True)\\\n",
        "    .setReplaceDict({\"DOCTOR\": \"NAME\",\n",
        "                     \"PATIENT\": \"NAME\",\n",
        "                     \"LICENSE\": \"IDNUM\",\n",
        "                     \"PHONE\": \"CONTACT\",\n",
        "                     \"EMAIL\": \"CONTACT\",\n",
        "                     \"SSN\": \"IDNUM\",\n",
        "                     \"VIN\": \"IDNUM\",\n",
        "                     \"DLN\":\"IDNUM\",\n",
        "                     \"IP\":\"IDNUM\",\n",
        "                     \"ACCOUNT\":\"IDNUM\",\n",
        "                     \"PLATE\":\"IDNUM\",\n",
        "                     \"City\": \"LOCATION\",\n",
        "                     \"LOCATION_OTHER\": \"LOCATION\",\n",
        "                     \"ID\":\"IDNUM\",\n",
        "                     \"MEDICALRECORD\":\"IDNUM\",\n",
        "                     \"CITY\":\"LOCATION\",\n",
        "                     \"STATE\":\"LOCATION\",\n",
        "                     \"ZIP\":\"LOCATION\",\n",
        "                     \"COUNTRY\":\"LOCATION\",\n",
        "                     \"STREET\":\"LOCATION\",\n",
        "                     \"HOSPITAL\":\"LOCATION\",\n",
        "                     \"LOCATION-OTHER\":\"LOCATION\"\n",
        "                    })"
      ]
    },
    {
      "cell_type": "markdown",
      "metadata": {
        "id": "xDL-v1nbLpUA",
        "tags": []
      },
      "source": [
        "## Pipeline Fitting"
      ]
    },
    {
      "cell_type": "code",
      "execution_count": 52,
      "metadata": {
        "execution": {
          "iopub.execute_input": "2025-01-23T19:47:09.523696Z",
          "iopub.status.busy": "2025-01-23T19:47:09.523023Z",
          "iopub.status.idle": "2025-01-23T19:47:09.560691Z",
          "shell.execute_reply": "2025-01-23T19:47:09.559554Z",
          "shell.execute_reply.started": "2025-01-23T19:47:09.523611Z"
        },
        "tags": [],
        "id": "hE3ROVYm7_Ed"
      },
      "outputs": [],
      "source": [
        "rules = [   {\n",
        "                \"entity\" : \"NAME\",\n",
        "                \"scopeWindow\" : [5,5],\n",
        "                \"scopeWindowLevel\"  : \"token\",\n",
        "                \"prefixPatterns\" : ['Signed', 'Unsigned', 'DISCHARGE ORDERS', 'Electronically Signed', 'Name:Page', 'Vitals'\n",
        "                                    'STAT', 'TR','yu', 'jt', 'ti', 'yz', 'OBSTETRICS SERVICE', 'Allowing', 'Denied', 'hair', 'DICTATING', 'Acknowledgments Created',\n",
        "                                    'Discharging', 'Records Coversheet', 'bmot','si', 'kxs', '/STAT', 'Purple Cap', 'BestPractice', 'Advisories', 'Acknowledgments',\n",
        "                                    'CRNED', 'LITA', 'FORD', 'Astronomer', 'AZADLPMB'\n",
        "                                   ],\n",
        "                \"replaceEntity\" : \"NAME\",\n",
        "                \"mode\" : \"exclude\"\n",
        "            },\n",
        "            {\n",
        "                \"entity\" : \"LOCATION\",\n",
        "                \"scopeWindow\" : [5,5],\n",
        "                \"scopeWindowLevel\"  : \"token\",\n",
        "                \"prefixPatterns\" : ['Portuguese', 'Spanish', 'BRIEF RESUME OF HOSPITAL', 'RESUME OF HOSPITAL', \"CSU\", \"group home\",\n",
        "                                    'None\\nHOSPITAL', '5:22 PM Visit', 'CRNP', 'eMAR', 'EclipseTool.co.uk', 'GAVE PULMONARY PARTNERS', 'MD', 'None'\n",
        "                                    'UPMC', 'DuBois', 'HH', 'BestPractice', 'CAN', 'POD', 'OHILT', 'outside', 'Closest', 'Sent\\n\\n',\n",
        "                                    'DME Supplier\\n\\nPROVIDE AUTO-CAPABLE MACHINE MASK AND SUPPLIES LINK ME TO HIS', 'eHealth', 'Other',\n",
        "                                    'Other 84-87\\n\\neHealth Technologies\\n\\n'\n",
        "                                   ],\n",
        "                \"replaceEntity\" : \"LOCATION\",\n",
        "                \"mode\" : \"exclude\"\n",
        "            },\n",
        "            {\n",
        "                \"entity\" : \"CONTACT\",\n",
        "                \"scopeWindow\" : [5,5],\n",
        "                \"scopeWindowLevel\"  : \"token\",\n",
        "                \"prefixPatterns\" : [\"74R-484\", \"EK243\", \"YO52\", \"NL67\", \"AI19\", \"1996[45\"],\n",
        "                \"replaceEntity\" : \"CONTACT\",\n",
        "                \"mode\" : \"exclude\"\n",
        "            },\n",
        "            {\n",
        "                \"entity\" : \"DATE\",\n",
        "                \"scopeWindow\" : [5,5],\n",
        "                \"scopeWindowLevel\"  : \"token\",\n",
        "                \"prefixPatterns\" : [\"winter\", \"summer\", \"fall of\", 'New Years Eve', '70/30', 'fall', 'Martin Luther King Day',\n",
        "                                    'decrescendo', 'Date', '£', 'two', 'three', 'of'\n",
        "                                   ],\n",
        "                \"replaceEntity\" : \"DATE\",\n",
        "                \"mode\" : \"exclude\"\n",
        "            },\n",
        "            {\n",
        "                \"entity\" : \"IDNUM\",\n",
        "                \"scopeWindow\" : [5,5],\n",
        "                \"scopeWindowLevel\"  : \"token\",\n",
        "                \"prefixPatterns\" : ['pacemaker', 'CPAP'],\n",
        "                \"replaceEntity\" : \"IDNUM\",\n",
        "                \"mode\" : \"exclude\"\n",
        "            }\n",
        "\n",
        "\n",
        "        ]\n",
        "\n",
        "contextual_entity_ruler_2 = ContextualEntityRuler() \\\n",
        "            .setInputCols(\"splitter\", \"token\", \"ner_chunk_raw\") \\\n",
        "            .setOutputCol(\"ner_chunk_processed\") \\\n",
        "            .setRules(rules) \\\n",
        "            .setCaseSensitive(False)\\\n",
        "            .setDropEmptyChunks(True)\\\n",
        "            .setAllowPunctuationInBetween(True)\n",
        "\n",
        "chunk_merge_final2 = ChunkMergeModel()\\\n",
        "    .setInputCols(\"ner_chunk_processed\")\\\n",
        "    .setOutputCol(\"ner_chunk\")\\\n",
        "    .setResetSentenceIndices(True)"
      ]
    },
    {
      "cell_type": "code",
      "source": [
        "light_deidentification_obfuscation = LightDeIdentification() \\\n",
        "    .setInputCols([\"ner_chunk\", \"splitter\"]) \\\n",
        "    .setOutputCol(\"obfuscated\") \\\n",
        "    .setMode(\"obfuscate\") \\\n",
        "    .setLanguage(\"en\") \\\n",
        "    .setSeed(10)\\\n",
        "    .setObfuscateDate(True)"
      ],
      "metadata": {
        "id": "WV2jdcgHV3Jp"
      },
      "execution_count": 53,
      "outputs": []
    },
    {
      "cell_type": "code",
      "execution_count": 54,
      "metadata": {
        "execution": {
          "iopub.execute_input": "2025-01-23T19:47:09.564339Z",
          "iopub.status.busy": "2025-01-23T19:47:09.563161Z",
          "iopub.status.idle": "2025-01-23T19:47:13.723307Z",
          "shell.execute_reply": "2025-01-23T19:47:13.722221Z",
          "shell.execute_reply.started": "2025-01-23T19:47:09.564303Z"
        },
        "id": "4_-g3V4GvE8j",
        "tags": []
      },
      "outputs": [],
      "source": [
        "nlpPipeline = Pipeline(\n",
        "    stages=[\n",
        "        documentAssembler,\n",
        "        splitter,\n",
        "        tokenizer,\n",
        "        word_embeddings,\n",
        "        ner_clinical_large,\n",
        "        ner_clinical_large_converter,\n",
        "        ner_deid_generic_docwise_7Label,\n",
        "        ner_deid_docwise_subentity_21Label,\n",
        "        ner_deid_generic_docwise_merged_conll,\n",
        "        ner_deid_generic_docwise_7Label_converter,\n",
        "        ner_deid_docwise_subentity_21Label_converter,\n",
        "        ner_deid_generic_docwise_merged_conll_converter,\n",
        "        chunk_merge_ner,\n",
        "        icd10_parser,\n",
        "        ssn_parser,\n",
        "        account_parser,\n",
        "        dln_parser,\n",
        "        plate_parser,\n",
        "        vin_parser,\n",
        "        license_parser,\n",
        "        country_matcher,\n",
        "        state_matcher,\n",
        "        age_parser,\n",
        "        date_parser,\n",
        "        phone_parser,\n",
        "        phone_parser2,\n",
        "        zip_parser,\n",
        "        medicalrecord_parser,\n",
        "        email_regex_matcher,\n",
        "        #url_regex_matcher,\n",
        "        ip_regex_matcher,\n",
        "        #city_matcher,\n",
        "        chunk_merge_rulebase,\n",
        "        chunk_merge_final,\n",
        "        contextual_entity_ruler_2,\n",
        "        chunk_merge_final2,\n",
        "        light_deidentification_obfuscation\n",
        "])\n",
        "\n",
        "empty_data = spark.createDataFrame([[\"\"]]).toDF(\"text\")\n",
        "\n",
        "deid_model = nlpPipeline.fit(empty_data)\n",
        "deid_light_model = LightPipeline(deid_model)"
      ]
    },
    {
      "cell_type": "code",
      "execution_count": 55,
      "metadata": {
        "colab": {
          "base_uri": "https://localhost:8080/"
        },
        "execution": {
          "iopub.execute_input": "2025-01-23T19:47:13.725010Z",
          "iopub.status.busy": "2025-01-23T19:47:13.724665Z",
          "iopub.status.idle": "2025-01-23T19:47:13.739628Z",
          "shell.execute_reply": "2025-01-23T19:47:13.738648Z",
          "shell.execute_reply.started": "2025-01-23T19:47:13.724979Z"
        },
        "id": "PbVueVqnWKD9",
        "outputId": "3d904e6f-6c34-4340-b9ea-bfee4da190a3",
        "tags": []
      },
      "outputs": [
        {
          "output_type": "execute_result",
          "data": {
            "text/plain": [
              "[DocumentAssembler_c894bfe37040,\n",
              " InternalDocumentSplitter_7b75c0c4c61e,\n",
              " REGEX_TOKENIZER_3c0b8372a95d,\n",
              " WORD_EMBEDDINGS_MODEL_9004b1d00302,\n",
              " MedicalNerModel_1a8637089929,\n",
              " NER_CONVERTER_f21d5acd9d84,\n",
              " MedicalNerModel_d92d47622e85,\n",
              " MedicalNerModel_32184c1db80b,\n",
              " MedicalNerModel_ada39ac0d359,\n",
              " NER_CONVERTER_6d806299dfa3,\n",
              " NER_CONVERTER_e92019a50579,\n",
              " NER_CONVERTER_1b9aa26d6a3b,\n",
              " ChunkMergeModel_c79a8115c6ef,\n",
              " CONTEXTUAL-PARSER_8c0f3622eb6c,\n",
              " CONTEXTUAL-PARSER_a6d805aafa96,\n",
              " CONTEXTUAL-PARSER_32e8ed56ab65,\n",
              " CONTEXTUAL-PARSER_9f2a36afd1b1,\n",
              " CONTEXTUAL-PARSER_d5ae75ea9644,\n",
              " CONTEXTUAL-PARSER_88045c307ef1,\n",
              " CONTEXTUAL-PARSER_f74f81c59361,\n",
              " ENTITY_EXTRACTOR_6792f2f6e85a,\n",
              " ENTITY_EXTRACTOR_74ace4be4f73,\n",
              " CONTEXTUAL-PARSER_93fd39669b2f,\n",
              " REGEX_MATCHER_41d477e5731e,\n",
              " CONTEXTUAL-PARSER_e34d098e093b,\n",
              " CONTEXTUAL-PARSER_0c34f578e042,\n",
              " CONTEXTUAL-PARSER_f8b8f9aafb9f,\n",
              " CONTEXTUAL-PARSER_d644bc7272a0,\n",
              " REGEX_MATCHER_26934077fe57,\n",
              " REGEX_MATCHER_5fe3de8b5a4e,\n",
              " MERGE_3fbc85992544,\n",
              " ChunkMergeModel_b31ffbb183fd,\n",
              " ContextualEntityRuler_5432c6f56c98,\n",
              " ChunkMergeModel_dc0d47950e1a,\n",
              " LightDeIdentification_74899fff467c]"
            ]
          },
          "metadata": {},
          "execution_count": 55
        }
      ],
      "source": [
        "deid_model.stages"
      ]
    },
    {
      "cell_type": "code",
      "execution_count": 63,
      "metadata": {
        "id": "6nKiAdgB7_Ee"
      },
      "outputs": [],
      "source": [
        "import pandas as pd\n",
        "\n",
        "pd.set_option(\"display.max_colwidth\", 100)\n",
        "pd.set_option(\"display.max_colwidth\",0)\n",
        "\n",
        "def get_result(_lres):\n",
        "    sentence_list = []\n",
        "    obfuscated_list = []\n",
        "    masked_list = []\n",
        "\n",
        "    for i,j in list(zip(_lres[\"splitter\"], _lres[\"obfuscated\"])):\n",
        "        sentence_list.append(i.result)\n",
        "        obfuscated_list.append(j.result)\n",
        "\n",
        "    df= pd.DataFrame({\"Sentence\": sentence_list,\n",
        "                    \"Obfuscated\": obfuscated_list,\n",
        "                    })\n",
        "\n",
        "    return df"
      ]
    },
    {
      "cell_type": "markdown",
      "metadata": {
        "id": "jSgiaVZQ7_Ef"
      },
      "source": [
        "# Save and Load Pipe"
      ]
    },
    {
      "cell_type": "code",
      "execution_count": 57,
      "metadata": {
        "id": "kgtzGpDc7_Ef"
      },
      "outputs": [],
      "source": [
        "MODEL_NAME = \"clinical_deidentification_docwise_benchmark_light\""
      ]
    },
    {
      "cell_type": "code",
      "execution_count": 58,
      "metadata": {
        "id": "ItDXHngZ7_Ef"
      },
      "outputs": [],
      "source": [
        "deid_model.write().overwrite().save(f'models/{MODEL_NAME}')"
      ]
    },
    {
      "cell_type": "code",
      "execution_count": 59,
      "metadata": {
        "id": "26ve1YWX7_Ef"
      },
      "outputs": [],
      "source": [
        "from sparknlp.pretrained import PretrainedPipeline\n",
        "\n",
        "deid_pipeline2 = PretrainedPipeline.from_disk(f\"models/{MODEL_NAME}\")"
      ]
    },
    {
      "cell_type": "code",
      "execution_count": 60,
      "metadata": {
        "id": "LQVbv45m7_Ef"
      },
      "outputs": [],
      "source": [
        "deid_res = deid_pipeline2.fullAnnotate(\"\"\"Dr. John Lee, from Royal Medical Clinic in Chicago,  attended to the patient on 11/05/2024. The patient’s medical record number is 56467890.The patient, Emma Wilson, is 50 years old,  her Contact number: 444-456-7890 .\"\"\")[0]\n"
      ]
    },
    {
      "cell_type": "code",
      "execution_count": 64,
      "metadata": {
        "colab": {
          "base_uri": "https://localhost:8080/",
          "height": 115
        },
        "id": "0n6v-MyR7_Ef",
        "outputId": "400875dc-f62b-4522-c6f6-6af3b209a215"
      },
      "outputs": [
        {
          "output_type": "execute_result",
          "data": {
            "text/plain": [
              "                                                                                                                                                                                                                     Sentence                                                                                                                                                                                                                           Obfuscated\n",
              "0  Dr. John Lee, from Royal Medical Clinic in Chicago,  attended to the patient on 11/05/2024. The patient’s medical record number is 56467890.The patient, Emma Wilson, is 50 years old,  her Contact number: 444-456-7890 .  Dr. Rennis Pucker, from 150 Medical Plaza in 1700 E 38th St,  attended to the patient on 07/06/2024. The patient’s medical record number is 07374185.Wgp patient, Quinn Dines, is 43 years old,  her Contact number: 333-307-4185 ."
            ],
            "text/html": [
              "\n",
              "  <div id=\"df-33fe9ac3-be0e-4760-bfc5-5bda72a289e8\" class=\"colab-df-container\">\n",
              "    <div>\n",
              "<style scoped>\n",
              "    .dataframe tbody tr th:only-of-type {\n",
              "        vertical-align: middle;\n",
              "    }\n",
              "\n",
              "    .dataframe tbody tr th {\n",
              "        vertical-align: top;\n",
              "    }\n",
              "\n",
              "    .dataframe thead th {\n",
              "        text-align: right;\n",
              "    }\n",
              "</style>\n",
              "<table border=\"1\" class=\"dataframe\">\n",
              "  <thead>\n",
              "    <tr style=\"text-align: right;\">\n",
              "      <th></th>\n",
              "      <th>Sentence</th>\n",
              "      <th>Obfuscated</th>\n",
              "    </tr>\n",
              "  </thead>\n",
              "  <tbody>\n",
              "    <tr>\n",
              "      <th>0</th>\n",
              "      <td>Dr. John Lee, from Royal Medical Clinic in Chicago,  attended to the patient on 11/05/2024. The patient’s medical record number is 56467890.The patient, Emma Wilson, is 50 years old,  her Contact number: 444-456-7890 .</td>\n",
              "      <td>Dr. Rennis Pucker, from 150 Medical Plaza in 1700 E 38th St,  attended to the patient on 07/06/2024. The patient’s medical record number is 07374185.Wgp patient, Quinn Dines, is 43 years old,  her Contact number: 333-307-4185 .</td>\n",
              "    </tr>\n",
              "  </tbody>\n",
              "</table>\n",
              "</div>\n",
              "    <div class=\"colab-df-buttons\">\n",
              "\n",
              "  <div class=\"colab-df-container\">\n",
              "    <button class=\"colab-df-convert\" onclick=\"convertToInteractive('df-33fe9ac3-be0e-4760-bfc5-5bda72a289e8')\"\n",
              "            title=\"Convert this dataframe to an interactive table.\"\n",
              "            style=\"display:none;\">\n",
              "\n",
              "  <svg xmlns=\"http://www.w3.org/2000/svg\" height=\"24px\" viewBox=\"0 -960 960 960\">\n",
              "    <path d=\"M120-120v-720h720v720H120Zm60-500h600v-160H180v160Zm220 220h160v-160H400v160Zm0 220h160v-160H400v160ZM180-400h160v-160H180v160Zm440 0h160v-160H620v160ZM180-180h160v-160H180v160Zm440 0h160v-160H620v160Z\"/>\n",
              "  </svg>\n",
              "    </button>\n",
              "\n",
              "  <style>\n",
              "    .colab-df-container {\n",
              "      display:flex;\n",
              "      gap: 12px;\n",
              "    }\n",
              "\n",
              "    .colab-df-convert {\n",
              "      background-color: #E8F0FE;\n",
              "      border: none;\n",
              "      border-radius: 50%;\n",
              "      cursor: pointer;\n",
              "      display: none;\n",
              "      fill: #1967D2;\n",
              "      height: 32px;\n",
              "      padding: 0 0 0 0;\n",
              "      width: 32px;\n",
              "    }\n",
              "\n",
              "    .colab-df-convert:hover {\n",
              "      background-color: #E2EBFA;\n",
              "      box-shadow: 0px 1px 2px rgba(60, 64, 67, 0.3), 0px 1px 3px 1px rgba(60, 64, 67, 0.15);\n",
              "      fill: #174EA6;\n",
              "    }\n",
              "\n",
              "    .colab-df-buttons div {\n",
              "      margin-bottom: 4px;\n",
              "    }\n",
              "\n",
              "    [theme=dark] .colab-df-convert {\n",
              "      background-color: #3B4455;\n",
              "      fill: #D2E3FC;\n",
              "    }\n",
              "\n",
              "    [theme=dark] .colab-df-convert:hover {\n",
              "      background-color: #434B5C;\n",
              "      box-shadow: 0px 1px 3px 1px rgba(0, 0, 0, 0.15);\n",
              "      filter: drop-shadow(0px 1px 2px rgba(0, 0, 0, 0.3));\n",
              "      fill: #FFFFFF;\n",
              "    }\n",
              "  </style>\n",
              "\n",
              "    <script>\n",
              "      const buttonEl =\n",
              "        document.querySelector('#df-33fe9ac3-be0e-4760-bfc5-5bda72a289e8 button.colab-df-convert');\n",
              "      buttonEl.style.display =\n",
              "        google.colab.kernel.accessAllowed ? 'block' : 'none';\n",
              "\n",
              "      async function convertToInteractive(key) {\n",
              "        const element = document.querySelector('#df-33fe9ac3-be0e-4760-bfc5-5bda72a289e8');\n",
              "        const dataTable =\n",
              "          await google.colab.kernel.invokeFunction('convertToInteractive',\n",
              "                                                    [key], {});\n",
              "        if (!dataTable) return;\n",
              "\n",
              "        const docLinkHtml = 'Like what you see? Visit the ' +\n",
              "          '<a target=\"_blank\" href=https://colab.research.google.com/notebooks/data_table.ipynb>data table notebook</a>'\n",
              "          + ' to learn more about interactive tables.';\n",
              "        element.innerHTML = '';\n",
              "        dataTable['output_type'] = 'display_data';\n",
              "        await google.colab.output.renderOutput(dataTable, element);\n",
              "        const docLink = document.createElement('div');\n",
              "        docLink.innerHTML = docLinkHtml;\n",
              "        element.appendChild(docLink);\n",
              "      }\n",
              "    </script>\n",
              "  </div>\n",
              "\n",
              "\n",
              "    </div>\n",
              "  </div>\n"
            ],
            "application/vnd.google.colaboratory.intrinsic+json": {
              "type": "dataframe",
              "summary": "{\n  \"name\": \"get_result(deid_res)\",\n  \"rows\": 1,\n  \"fields\": [\n    {\n      \"column\": \"Sentence\",\n      \"properties\": {\n        \"dtype\": \"string\",\n        \"num_unique_values\": 1,\n        \"samples\": [\n          \"Dr. John Lee, from Royal Medical Clinic in Chicago,  attended to the patient on 11/05/2024. The patient\\u2019s medical record number is 56467890.The patient, Emma Wilson, is 50 years old,  her Contact number: 444-456-7890 .\"\n        ],\n        \"semantic_type\": \"\",\n        \"description\": \"\"\n      }\n    },\n    {\n      \"column\": \"Obfuscated\",\n      \"properties\": {\n        \"dtype\": \"string\",\n        \"num_unique_values\": 1,\n        \"samples\": [\n          \"Dr. Rennis Pucker, from 150 Medical Plaza in 1700 E 38th St,  attended to the patient on 07/06/2024. The patient\\u2019s medical record number is 07374185.Wgp patient, Quinn Dines, is 43 years old,  her Contact number: 333-307-4185 .\"\n        ],\n        \"semantic_type\": \"\",\n        \"description\": \"\"\n      }\n    }\n  ]\n}"
            }
          },
          "metadata": {},
          "execution_count": 64
        }
      ],
      "source": [
        "get_result(deid_res)"
      ]
    },
    {
      "cell_type": "code",
      "source": [],
      "metadata": {
        "id": "HCgepruyb_Dr"
      },
      "execution_count": null,
      "outputs": []
    }
  ],
  "metadata": {
    "colab": {
      "machine_shape": "hm",
      "provenance": [],
      "toc_visible": true
    },
    "kernelspec": {
      "display_name": "meryem_env_1",
      "language": "python",
      "name": "meryem_env_1"
    },
    "language_info": {
      "codemirror_mode": {
        "name": "ipython",
        "version": 3
      },
      "file_extension": ".py",
      "mimetype": "text/x-python",
      "name": "python",
      "nbconvert_exporter": "python",
      "pygments_lexer": "ipython3",
      "version": "3.10.9"
    }
  },
  "nbformat": 4,
  "nbformat_minor": 0
}